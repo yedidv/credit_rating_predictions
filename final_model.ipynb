{
 "cells": [
  {
   "cell_type": "markdown",
   "id": "enabling-jones",
   "metadata": {
    "toc": true
   },
   "source": [
    "<h1>Table of Contents<span class=\"tocSkip\"></span></h1>\n",
    "<div class=\"toc\"><ul class=\"toc-item\"><li><span><a href=\"#Read-in-Data\" data-toc-modified-id=\"Read-in-Data-1\"><span class=\"toc-item-num\">1&nbsp;&nbsp;</span>Read in Data</a></span></li><li><span><a href=\"#Generate-Models\" data-toc-modified-id=\"Generate-Models-2\"><span class=\"toc-item-num\">2&nbsp;&nbsp;</span>Generate Models</a></span><ul class=\"toc-item\"><li><span><a href=\"#Support-Vector-Machines\" data-toc-modified-id=\"Support-Vector-Machines-2.1\"><span class=\"toc-item-num\">2.1&nbsp;&nbsp;</span>Support Vector Machines</a></span></li><li><span><a href=\"#Neural-Network\" data-toc-modified-id=\"Neural-Network-2.2\"><span class=\"toc-item-num\">2.2&nbsp;&nbsp;</span>Neural Network</a></span></li></ul></li><li><span><a href=\"#Run-Models\" data-toc-modified-id=\"Run-Models-3\"><span class=\"toc-item-num\">3&nbsp;&nbsp;</span>Run Models</a></span></li></ul></div>"
   ]
  },
  {
   "cell_type": "code",
   "execution_count": 1,
   "id": "heavy-yellow",
   "metadata": {
    "ExecuteTime": {
     "end_time": "2021-03-24T22:08:27.059984Z",
     "start_time": "2021-03-24T22:08:24.265884Z"
    }
   },
   "outputs": [],
   "source": [
    "import pandas as pd \n",
    "import numpy as np \n",
    "import plotly.graph_objects as go \n",
    "import seaborn as sns \n",
    "import matplotlib.pyplot as plt \n",
    "from tqdm import tqdm \n",
    "import tensorflow as tf\n"
   ]
  },
  {
   "cell_type": "markdown",
   "id": "likely-cradle",
   "metadata": {},
   "source": [
    "## Read in Data"
   ]
  },
  {
   "cell_type": "code",
   "execution_count": 2,
   "id": "bigger-diana",
   "metadata": {
    "ExecuteTime": {
     "end_time": "2021-03-24T22:08:27.089059Z",
     "start_time": "2021-03-24T22:08:27.063093Z"
    }
   },
   "outputs": [],
   "source": [
    "## Read in csv \n",
    "tot_df_clean_year = pd.read_csv('model_data.csv', \n",
    "                                index_col = ['year', 'ID']).dropna()\n",
    "\n",
    "## Test and train split for time series\n",
    "train = tot_df_clean_year.head(\n",
    "    int(tot_df_clean_year.shape[0] * 0.8 ) \n",
    ") \n",
    "\n",
    "test = tot_df_clean_year.tail(\n",
    "    int(tot_df_clean_year.shape[0] * 0.2) \n",
    ")\n",
    "\n",
    "## Split into x and y \n",
    "def SplitData(df): \n",
    "    y = df.lead_rating \n",
    "    x = df.drop('lead_rating', axis = 1) \n",
    "    \n",
    "    return x, y \n",
    "\n",
    "train_x, train_y = SplitData(train) \n",
    "test_x, test_y = SplitData(test) "
   ]
  },
  {
   "cell_type": "code",
   "execution_count": null,
   "id": "beginning-correspondence",
   "metadata": {
    "ExecuteTime": {
     "end_time": "2021-03-24T22:35:59.874377Z",
     "start_time": "2021-03-24T22:31:49.351Z"
    }
   },
   "outputs": [],
   "source": [
    "train_x.head()"
   ]
  },
  {
   "cell_type": "markdown",
   "id": "ongoing-fields",
   "metadata": {
    "ExecuteTime": {
     "end_time": "2021-03-24T00:39:18.084926Z",
     "start_time": "2021-03-24T00:39:18.074246Z"
    }
   },
   "source": [
    "## Generate Models \n",
    "### Support Vector Machines"
   ]
  },
  {
   "cell_type": "code",
   "execution_count": 3,
   "id": "instrumental-michael",
   "metadata": {
    "ExecuteTime": {
     "end_time": "2021-03-24T22:08:27.308319Z",
     "start_time": "2021-03-24T22:08:27.092155Z"
    }
   },
   "outputs": [],
   "source": [
    "from sklearn.model_selection import TimeSeriesSplit \n",
    "from sklearn.svm import SVC\n",
    "from sklearn.model_selection import GridSearchCV\n",
    "from sklearn.metrics import accuracy_score\n",
    "\n",
    "\n",
    "def SVM_Fit(train_x, train_y, kernel,\n",
    "            params = [10**x for x in np.arange(-1,3,0.9)]): \n",
    "    '''Fit the SVM Machine given the kernel type, parameters, \n",
    "    data''' \n",
    "    \n",
    "    if kernel == 'linear': \n",
    "        parameters = {'C': params} \n",
    "    else: \n",
    "        parameters = {'C': params, \n",
    "                     'gamma': params} \n",
    "    \n",
    "    cv = TimeSeriesSplit(n_splits = 5) \n",
    "    \n",
    "    model = GridSearchCV(estimator = SVC(kernel = kernel), \n",
    "                        param_grid = parameters, \n",
    "                        cv = cv, \n",
    "                        verbose = 1) \n",
    "    \n",
    "    model.fit(train_x, train_y) \n",
    "    return model"
   ]
  },
  {
   "cell_type": "code",
   "execution_count": 23,
   "id": "informational-density",
   "metadata": {
    "ExecuteTime": {
     "end_time": "2021-03-24T22:29:36.174240Z",
     "start_time": "2021-03-24T22:29:36.165894Z"
    }
   },
   "outputs": [],
   "source": [
    "from sklearn.ensemble import RandomForestClassifier\n",
    "from sklearn.model_selection import RandomizedSearchCV\n",
    "\n",
    "def RandomForestsModel(train_x, train_y): \n",
    "    '''Random Forest Model'''\n",
    "    rf = RandomForestClassifier(random_state = 200) \n",
    "    rf.get_params()\n",
    "    \n",
    "    # Number of trees in random forest\n",
    "    n_estimators = [int(x) for x in np.linspace(start = 200, stop = 2000, num = 10)]\n",
    "    # Number of features to consider at every split\n",
    "    max_features = ['auto', 'sqrt']\n",
    "    # Maximum number of levels in tree\n",
    "    max_depth = [int(x) for x in np.linspace(10, 110, num = 11)]\n",
    "    max_depth.append(None)\n",
    "    # Minimum number of samples required to split a node\n",
    "    min_samples_split = [2, 5, 10]\n",
    "    # Minimum number of samples required at each leaf node\n",
    "    min_samples_leaf = [1, 2, 4]\n",
    "    # Method of selecting samples for training each tree\n",
    "    bootstrap = [True, False]\n",
    "    # Create the random grid\n",
    "    random_grid = {'n_estimators': n_estimators,\n",
    "               'max_features': max_features,\n",
    "               'max_depth': max_depth,\n",
    "               'min_samples_split': min_samples_split,\n",
    "               'min_samples_leaf': min_samples_leaf,\n",
    "               'bootstrap': bootstrap}\n",
    "    \n",
    "    cv = TimeSeriesSplit(n_splits = 5) \n",
    "    \n",
    "    rf_random = RandomizedSearchCV(estimator = rf, \n",
    "                              param_distributions = random_grid, \n",
    "                              n_iter = 100, cv = cv, verbose = 2, n_jobs = -1)\n",
    "    \n",
    "    rf_random.fit(train_x, train_y) \n",
    "    return rf_random "
   ]
  },
  {
   "cell_type": "code",
   "execution_count": 72,
   "id": "conceptual-thickness",
   "metadata": {
    "ExecuteTime": {
     "end_time": "2021-03-24T23:12:12.104814Z",
     "start_time": "2021-03-24T23:12:12.098836Z"
    }
   },
   "outputs": [],
   "source": [
    "def Predict(fitted_model, test_x, test_y, \n",
    "           name):\n",
    "    '''Prediction Accuracy'''\n",
    "    prediction = fitted_model.predict(test_x) \n",
    "    score = accuracy_score(prediction, test_y) \n",
    "    prediction = pd.DataFrame({'prediction_{}'.format(name): prediction})\n",
    "    print('The {} Model Score is: {}'.format(name, score)) \n",
    "    return prediction, score, "
   ]
  },
  {
   "cell_type": "markdown",
   "id": "responsible-knight",
   "metadata": {},
   "source": [
    "### Neural Network"
   ]
  },
  {
   "cell_type": "code",
   "execution_count": 73,
   "id": "controversial-allowance",
   "metadata": {
    "ExecuteTime": {
     "end_time": "2021-03-24T23:12:12.915624Z",
     "start_time": "2021-03-24T23:12:12.906435Z"
    }
   },
   "outputs": [],
   "source": [
    "model = tf.keras.Sequential([\n",
    "    tf.keras.layers.Flatten(),\n",
    "    tf.keras.layers.Dense(128, activation='relu'),\n",
    "    tf.keras.layers.Dropout(0.2),\n",
    "    tf.keras.layers.Dense(3)\n",
    "])\n",
    "\n",
    "model.stop_training = True"
   ]
  },
  {
   "cell_type": "code",
   "execution_count": 74,
   "id": "promising-drawing",
   "metadata": {
    "ExecuteTime": {
     "end_time": "2021-03-24T23:12:13.586651Z",
     "start_time": "2021-03-24T23:12:13.583435Z"
    }
   },
   "outputs": [],
   "source": [
    "loss_fn = tf.keras.losses.SparseCategoricalCrossentropy(from_logits=True)\n",
    "model.compile(optimizer='adam',\n",
    "              loss=loss_fn,\n",
    "              metrics=['accuracy'])"
   ]
  },
  {
   "cell_type": "markdown",
   "id": "satisfied-roulette",
   "metadata": {},
   "source": [
    "## Run Models"
   ]
  },
  {
   "cell_type": "code",
   "execution_count": 75,
   "id": "seeing-discount",
   "metadata": {
    "ExecuteTime": {
     "end_time": "2021-03-24T23:13:40.260281Z",
     "start_time": "2021-03-24T23:12:14.925393Z"
    }
   },
   "outputs": [
    {
     "name": "stdout",
     "output_type": "stream",
     "text": [
      "Train on 1450 samples\n",
      "Epoch 1/1000\n",
      "1450/1450 [==============================] - 0s 299us/sample - loss: 1.0353 - accuracy: 0.5566\n",
      "Epoch 2/1000\n",
      "1450/1450 [==============================] - 0s 60us/sample - loss: 0.9392 - accuracy: 0.6421\n",
      "Epoch 3/1000\n",
      "1450/1450 [==============================] - 0s 60us/sample - loss: 0.8986 - accuracy: 0.6552\n",
      "Epoch 4/1000\n",
      "1450/1450 [==============================] - 0s 66us/sample - loss: 0.8834 - accuracy: 0.6524\n",
      "Epoch 5/1000\n",
      "1450/1450 [==============================] - 0s 63us/sample - loss: 0.8771 - accuracy: 0.6552\n",
      "Epoch 6/1000\n",
      "1450/1450 [==============================] - 0s 61us/sample - loss: 0.8693 - accuracy: 0.6538\n",
      "Epoch 7/1000\n",
      "1450/1450 [==============================] - 0s 66us/sample - loss: 0.8630 - accuracy: 0.6552\n",
      "Epoch 8/1000\n",
      "1450/1450 [==============================] - 0s 60us/sample - loss: 0.8624 - accuracy: 0.6524\n",
      "Epoch 9/1000\n",
      "1450/1450 [==============================] - 0s 62us/sample - loss: 0.8519 - accuracy: 0.6559\n",
      "Epoch 10/1000\n",
      "1450/1450 [==============================] - 0s 62us/sample - loss: 0.8523 - accuracy: 0.6572\n",
      "Epoch 11/1000\n",
      "1450/1450 [==============================] - 0s 66us/sample - loss: 0.8469 - accuracy: 0.6572\n",
      "Epoch 12/1000\n",
      "1450/1450 [==============================] - 0s 70us/sample - loss: 0.8503 - accuracy: 0.6559\n",
      "Epoch 13/1000\n",
      "1450/1450 [==============================] - 0s 69us/sample - loss: 0.8494 - accuracy: 0.6559\n",
      "Epoch 14/1000\n",
      "1450/1450 [==============================] - 0s 68us/sample - loss: 0.8453 - accuracy: 0.6566\n",
      "Epoch 15/1000\n",
      "1450/1450 [==============================] - 0s 69us/sample - loss: 0.8440 - accuracy: 0.6552\n",
      "Epoch 16/1000\n",
      "1450/1450 [==============================] - 0s 73us/sample - loss: 0.8448 - accuracy: 0.6572\n",
      "Epoch 17/1000\n",
      "1450/1450 [==============================] - 0s 68us/sample - loss: 0.8448 - accuracy: 0.6593\n",
      "Epoch 18/1000\n",
      "1450/1450 [==============================] - 0s 67us/sample - loss: 0.8426 - accuracy: 0.6559\n",
      "Epoch 19/1000\n",
      "1450/1450 [==============================] - 0s 72us/sample - loss: 0.8427 - accuracy: 0.6579\n",
      "Epoch 20/1000\n",
      "1450/1450 [==============================] - 0s 73us/sample - loss: 0.8398 - accuracy: 0.6586\n",
      "Epoch 21/1000\n",
      "1450/1450 [==============================] - 0s 75us/sample - loss: 0.8474 - accuracy: 0.6586\n",
      "Epoch 22/1000\n",
      "1450/1450 [==============================] - 0s 69us/sample - loss: 0.8433 - accuracy: 0.6579\n",
      "Epoch 23/1000\n",
      "1450/1450 [==============================] - 0s 69us/sample - loss: 0.8381 - accuracy: 0.6593\n",
      "Epoch 24/1000\n",
      "1450/1450 [==============================] - 0s 70us/sample - loss: 0.8393 - accuracy: 0.6586\n",
      "Epoch 25/1000\n",
      "1450/1450 [==============================] - 0s 77us/sample - loss: 0.8428 - accuracy: 0.6572\n",
      "Epoch 26/1000\n",
      "1450/1450 [==============================] - 0s 71us/sample - loss: 0.8397 - accuracy: 0.6572\n",
      "Epoch 27/1000\n",
      "1450/1450 [==============================] - 0s 77us/sample - loss: 0.8355 - accuracy: 0.6579\n",
      "Epoch 28/1000\n",
      "1450/1450 [==============================] - 0s 65us/sample - loss: 0.8345 - accuracy: 0.6614\n",
      "Epoch 29/1000\n",
      "1450/1450 [==============================] - 0s 61us/sample - loss: 0.8401 - accuracy: 0.6579\n",
      "Epoch 30/1000\n",
      "1450/1450 [==============================] - 0s 60us/sample - loss: 0.8349 - accuracy: 0.6579\n",
      "Epoch 31/1000\n",
      "1450/1450 [==============================] - 0s 62us/sample - loss: 0.8316 - accuracy: 0.6579\n",
      "Epoch 32/1000\n",
      "1450/1450 [==============================] - 0s 61us/sample - loss: 0.8294 - accuracy: 0.6600\n",
      "Epoch 33/1000\n",
      "1450/1450 [==============================] - 0s 63us/sample - loss: 0.8366 - accuracy: 0.6552\n",
      "Epoch 34/1000\n",
      "1450/1450 [==============================] - 0s 63us/sample - loss: 0.8397 - accuracy: 0.6579\n",
      "Epoch 35/1000\n",
      "1450/1450 [==============================] - 0s 62us/sample - loss: 0.8319 - accuracy: 0.6600\n",
      "Epoch 36/1000\n",
      "1450/1450 [==============================] - 0s 62us/sample - loss: 0.8353 - accuracy: 0.6586\n",
      "Epoch 37/1000\n",
      "1450/1450 [==============================] - 0s 66us/sample - loss: 0.8362 - accuracy: 0.6572\n",
      "Epoch 38/1000\n",
      "1450/1450 [==============================] - 0s 62us/sample - loss: 0.8307 - accuracy: 0.6614\n",
      "Epoch 39/1000\n",
      "1450/1450 [==============================] - 0s 60us/sample - loss: 0.8349 - accuracy: 0.6600\n",
      "Epoch 40/1000\n",
      "1450/1450 [==============================] - 0s 62us/sample - loss: 0.8278 - accuracy: 0.6628\n",
      "Epoch 41/1000\n",
      "1450/1450 [==============================] - 0s 66us/sample - loss: 0.8290 - accuracy: 0.6607\n",
      "Epoch 42/1000\n",
      "1450/1450 [==============================] - 0s 60us/sample - loss: 0.8309 - accuracy: 0.6579\n",
      "Epoch 43/1000\n",
      "1450/1450 [==============================] - 0s 61us/sample - loss: 0.8309 - accuracy: 0.6607\n",
      "Epoch 44/1000\n",
      "1450/1450 [==============================] - 0s 61us/sample - loss: 0.8323 - accuracy: 0.6614\n",
      "Epoch 45/1000\n",
      "1450/1450 [==============================] - 0s 62us/sample - loss: 0.8282 - accuracy: 0.6607\n",
      "Epoch 46/1000\n",
      "1450/1450 [==============================] - 0s 60us/sample - loss: 0.8258 - accuracy: 0.6614\n",
      "Epoch 47/1000\n",
      "1450/1450 [==============================] - 0s 61us/sample - loss: 0.8258 - accuracy: 0.6641\n",
      "Epoch 48/1000\n",
      "1450/1450 [==============================] - 0s 61us/sample - loss: 0.8313 - accuracy: 0.6607\n",
      "Epoch 49/1000\n",
      "1450/1450 [==============================] - 0s 61us/sample - loss: 0.8248 - accuracy: 0.6614\n",
      "Epoch 50/1000\n",
      "1450/1450 [==============================] - 0s 68us/sample - loss: 0.8305 - accuracy: 0.6628\n",
      "Epoch 51/1000\n",
      "1450/1450 [==============================] - 0s 62us/sample - loss: 0.8252 - accuracy: 0.6593\n",
      "Epoch 52/1000\n",
      "1450/1450 [==============================] - 0s 61us/sample - loss: 0.8241 - accuracy: 0.6621\n",
      "Epoch 53/1000\n",
      "1450/1450 [==============================] - 0s 69us/sample - loss: 0.8193 - accuracy: 0.6607\n",
      "Epoch 54/1000\n",
      "1450/1450 [==============================] - 0s 59us/sample - loss: 0.8267 - accuracy: 0.6614\n",
      "Epoch 55/1000\n",
      "1450/1450 [==============================] - 0s 59us/sample - loss: 0.8267 - accuracy: 0.6586\n",
      "Epoch 56/1000\n",
      "1450/1450 [==============================] - 0s 59us/sample - loss: 0.8310 - accuracy: 0.6621\n",
      "Epoch 57/1000\n",
      "1450/1450 [==============================] - 0s 62us/sample - loss: 0.8242 - accuracy: 0.6614\n",
      "Epoch 58/1000\n",
      "1450/1450 [==============================] - 0s 57us/sample - loss: 0.8218 - accuracy: 0.6641\n",
      "Epoch 59/1000\n",
      "1450/1450 [==============================] - 0s 60us/sample - loss: 0.8200 - accuracy: 0.6634\n",
      "Epoch 60/1000\n",
      "1450/1450 [==============================] - 0s 56us/sample - loss: 0.8246 - accuracy: 0.6628\n",
      "Epoch 61/1000\n",
      "1450/1450 [==============================] - 0s 60us/sample - loss: 0.8264 - accuracy: 0.6614\n",
      "Epoch 62/1000\n",
      "1450/1450 [==============================] - 0s 56us/sample - loss: 0.8248 - accuracy: 0.6655\n",
      "Epoch 63/1000\n",
      "1450/1450 [==============================] - 0s 59us/sample - loss: 0.8260 - accuracy: 0.6600\n",
      "Epoch 64/1000\n",
      "1450/1450 [==============================] - 0s 57us/sample - loss: 0.8235 - accuracy: 0.6703\n",
      "Epoch 65/1000\n",
      "1450/1450 [==============================] - 0s 57us/sample - loss: 0.8250 - accuracy: 0.6628\n",
      "Epoch 66/1000\n",
      "1450/1450 [==============================] - 0s 59us/sample - loss: 0.8212 - accuracy: 0.6614\n",
      "Epoch 67/1000\n",
      "1450/1450 [==============================] - 0s 59us/sample - loss: 0.8194 - accuracy: 0.6648\n",
      "Epoch 68/1000\n",
      "1450/1450 [==============================] - 0s 59us/sample - loss: 0.8183 - accuracy: 0.6628\n",
      "Epoch 69/1000\n",
      "1450/1450 [==============================] - 0s 59us/sample - loss: 0.8204 - accuracy: 0.6641\n",
      "Epoch 70/1000\n",
      "1450/1450 [==============================] - 0s 58us/sample - loss: 0.8216 - accuracy: 0.6669\n",
      "Epoch 71/1000\n",
      "1450/1450 [==============================] - 0s 58us/sample - loss: 0.8192 - accuracy: 0.6648\n",
      "Epoch 72/1000\n",
      "1450/1450 [==============================] - 0s 58us/sample - loss: 0.8126 - accuracy: 0.6690\n",
      "Epoch 73/1000\n",
      "1450/1450 [==============================] - 0s 59us/sample - loss: 0.8208 - accuracy: 0.6628\n",
      "Epoch 74/1000\n",
      "1450/1450 [==============================] - 0s 60us/sample - loss: 0.8241 - accuracy: 0.6621\n",
      "Epoch 75/1000\n",
      "1450/1450 [==============================] - 0s 58us/sample - loss: 0.8200 - accuracy: 0.6676\n",
      "Epoch 76/1000\n",
      "1450/1450 [==============================] - 0s 59us/sample - loss: 0.8207 - accuracy: 0.6634\n",
      "Epoch 77/1000\n",
      "1450/1450 [==============================] - 0s 54us/sample - loss: 0.8179 - accuracy: 0.6655\n",
      "Epoch 78/1000\n",
      "1450/1450 [==============================] - 0s 54us/sample - loss: 0.8152 - accuracy: 0.6683\n",
      "Epoch 79/1000\n",
      "1450/1450 [==============================] - 0s 55us/sample - loss: 0.8199 - accuracy: 0.6634\n",
      "Epoch 80/1000\n",
      "1450/1450 [==============================] - 0s 55us/sample - loss: 0.8159 - accuracy: 0.6648\n",
      "Epoch 81/1000\n",
      "1450/1450 [==============================] - 0s 54us/sample - loss: 0.8231 - accuracy: 0.6628\n",
      "Epoch 82/1000\n",
      "1450/1450 [==============================] - 0s 55us/sample - loss: 0.8140 - accuracy: 0.6628\n",
      "Epoch 83/1000\n",
      "1450/1450 [==============================] - 0s 54us/sample - loss: 0.8209 - accuracy: 0.6690\n",
      "Epoch 84/1000\n",
      "1450/1450 [==============================] - 0s 55us/sample - loss: 0.8159 - accuracy: 0.6669\n",
      "Epoch 85/1000\n",
      "1450/1450 [==============================] - 0s 55us/sample - loss: 0.8181 - accuracy: 0.6662\n",
      "Epoch 86/1000\n",
      "1450/1450 [==============================] - 0s 54us/sample - loss: 0.8122 - accuracy: 0.6669\n",
      "Epoch 87/1000\n",
      "1450/1450 [==============================] - 0s 55us/sample - loss: 0.8140 - accuracy: 0.6628\n",
      "Epoch 88/1000\n",
      "1450/1450 [==============================] - 0s 55us/sample - loss: 0.8154 - accuracy: 0.6662\n",
      "Epoch 89/1000\n",
      "1450/1450 [==============================] - 0s 57us/sample - loss: 0.8109 - accuracy: 0.6648\n",
      "Epoch 90/1000\n",
      "1450/1450 [==============================] - 0s 55us/sample - loss: 0.8132 - accuracy: 0.6717\n",
      "Epoch 91/1000\n",
      "1450/1450 [==============================] - 0s 55us/sample - loss: 0.8140 - accuracy: 0.6683\n",
      "Epoch 92/1000\n",
      "1450/1450 [==============================] - 0s 55us/sample - loss: 0.8171 - accuracy: 0.6697\n",
      "Epoch 93/1000\n",
      "1450/1450 [==============================] - 0s 55us/sample - loss: 0.8098 - accuracy: 0.6676\n",
      "Epoch 94/1000\n",
      "1450/1450 [==============================] - 0s 54us/sample - loss: 0.8114 - accuracy: 0.6676\n",
      "Epoch 95/1000\n",
      "1450/1450 [==============================] - 0s 55us/sample - loss: 0.8085 - accuracy: 0.6676\n",
      "Epoch 96/1000\n",
      "1450/1450 [==============================] - 0s 55us/sample - loss: 0.8098 - accuracy: 0.6669\n",
      "Epoch 97/1000\n",
      "1450/1450 [==============================] - 0s 55us/sample - loss: 0.8066 - accuracy: 0.6724\n",
      "Epoch 98/1000\n",
      "1450/1450 [==============================] - 0s 55us/sample - loss: 0.8091 - accuracy: 0.6703\n",
      "Epoch 99/1000\n",
      "1450/1450 [==============================] - 0s 55us/sample - loss: 0.8042 - accuracy: 0.6690\n",
      "Epoch 100/1000\n",
      "1450/1450 [==============================] - 0s 55us/sample - loss: 0.8078 - accuracy: 0.6690\n",
      "Epoch 101/1000\n",
      "1450/1450 [==============================] - 0s 55us/sample - loss: 0.8091 - accuracy: 0.6669\n",
      "Epoch 102/1000\n",
      "1450/1450 [==============================] - 0s 55us/sample - loss: 0.8093 - accuracy: 0.6641\n",
      "Epoch 103/1000\n",
      "1450/1450 [==============================] - 0s 54us/sample - loss: 0.8056 - accuracy: 0.6648\n",
      "Epoch 104/1000\n",
      "1450/1450 [==============================] - 0s 55us/sample - loss: 0.8103 - accuracy: 0.6683\n",
      "Epoch 105/1000\n",
      "1450/1450 [==============================] - 0s 55us/sample - loss: 0.8067 - accuracy: 0.6655\n",
      "Epoch 106/1000\n",
      "1450/1450 [==============================] - 0s 55us/sample - loss: 0.8064 - accuracy: 0.6676\n",
      "Epoch 107/1000\n",
      "1450/1450 [==============================] - 0s 56us/sample - loss: 0.8032 - accuracy: 0.6738\n",
      "Epoch 108/1000\n",
      "1450/1450 [==============================] - 0s 55us/sample - loss: 0.8094 - accuracy: 0.6655\n",
      "Epoch 109/1000\n",
      "1450/1450 [==============================] - 0s 54us/sample - loss: 0.8054 - accuracy: 0.6724\n",
      "Epoch 110/1000\n",
      "1450/1450 [==============================] - 0s 55us/sample - loss: 0.8040 - accuracy: 0.6669\n",
      "Epoch 111/1000\n",
      "1450/1450 [==============================] - 0s 57us/sample - loss: 0.8112 - accuracy: 0.6662\n",
      "Epoch 112/1000\n",
      "1450/1450 [==============================] - 0s 56us/sample - loss: 0.7995 - accuracy: 0.6717\n",
      "Epoch 113/1000\n",
      "1450/1450 [==============================] - 0s 55us/sample - loss: 0.8012 - accuracy: 0.6703\n",
      "Epoch 114/1000\n",
      "1450/1450 [==============================] - 0s 55us/sample - loss: 0.8028 - accuracy: 0.6697\n",
      "Epoch 115/1000\n",
      "1450/1450 [==============================] - 0s 54us/sample - loss: 0.8051 - accuracy: 0.6648\n",
      "Epoch 116/1000\n",
      "1450/1450 [==============================] - 0s 55us/sample - loss: 0.8027 - accuracy: 0.6683\n",
      "Epoch 117/1000\n",
      "1450/1450 [==============================] - 0s 55us/sample - loss: 0.8032 - accuracy: 0.6703\n",
      "Epoch 118/1000\n",
      "1450/1450 [==============================] - 0s 55us/sample - loss: 0.8008 - accuracy: 0.6703\n",
      "Epoch 119/1000\n",
      "1450/1450 [==============================] - 0s 55us/sample - loss: 0.7928 - accuracy: 0.6697\n",
      "Epoch 120/1000\n",
      "1450/1450 [==============================] - 0s 54us/sample - loss: 0.8015 - accuracy: 0.6738\n",
      "Epoch 121/1000\n",
      "1450/1450 [==============================] - 0s 58us/sample - loss: 0.8042 - accuracy: 0.6738\n",
      "Epoch 122/1000\n",
      "1450/1450 [==============================] - 0s 57us/sample - loss: 0.8008 - accuracy: 0.6717\n",
      "Epoch 123/1000\n",
      "1450/1450 [==============================] - 0s 55us/sample - loss: 0.8012 - accuracy: 0.6683\n",
      "Epoch 124/1000\n",
      "1450/1450 [==============================] - 0s 57us/sample - loss: 0.8001 - accuracy: 0.6683\n",
      "Epoch 125/1000\n",
      "1450/1450 [==============================] - 0s 55us/sample - loss: 0.8021 - accuracy: 0.6697\n",
      "Epoch 126/1000\n",
      "1450/1450 [==============================] - 0s 55us/sample - loss: 0.7998 - accuracy: 0.6683\n",
      "Epoch 127/1000\n",
      "1450/1450 [==============================] - 0s 55us/sample - loss: 0.7986 - accuracy: 0.6710\n",
      "Epoch 128/1000\n",
      "1450/1450 [==============================] - 0s 55us/sample - loss: 0.8032 - accuracy: 0.6710\n",
      "Epoch 129/1000\n",
      "1450/1450 [==============================] - 0s 55us/sample - loss: 0.8004 - accuracy: 0.6717\n",
      "Epoch 130/1000\n",
      "1450/1450 [==============================] - 0s 55us/sample - loss: 0.7984 - accuracy: 0.6697\n",
      "Epoch 131/1000\n",
      "1450/1450 [==============================] - 0s 55us/sample - loss: 0.7992 - accuracy: 0.6683\n",
      "Epoch 132/1000\n",
      "1450/1450 [==============================] - 0s 55us/sample - loss: 0.7977 - accuracy: 0.6703\n",
      "Epoch 133/1000\n",
      "1450/1450 [==============================] - 0s 55us/sample - loss: 0.8054 - accuracy: 0.6738\n",
      "Epoch 134/1000\n",
      "1450/1450 [==============================] - 0s 55us/sample - loss: 0.7986 - accuracy: 0.6703\n",
      "Epoch 135/1000\n",
      "1450/1450 [==============================] - 0s 79us/sample - loss: 0.7963 - accuracy: 0.6717\n",
      "Epoch 136/1000\n",
      "1450/1450 [==============================] - 0s 68us/sample - loss: 0.7942 - accuracy: 0.6703\n",
      "Epoch 137/1000\n",
      "1450/1450 [==============================] - 0s 56us/sample - loss: 0.7923 - accuracy: 0.6683\n",
      "Epoch 138/1000\n",
      "1450/1450 [==============================] - 0s 55us/sample - loss: 0.7978 - accuracy: 0.6710\n",
      "Epoch 139/1000\n",
      "1450/1450 [==============================] - 0s 57us/sample - loss: 0.7941 - accuracy: 0.6731\n",
      "Epoch 140/1000\n",
      "1450/1450 [==============================] - 0s 55us/sample - loss: 0.7984 - accuracy: 0.6662\n",
      "Epoch 141/1000\n",
      "1450/1450 [==============================] - 0s 56us/sample - loss: 0.7958 - accuracy: 0.6717\n",
      "Epoch 142/1000\n",
      "1450/1450 [==============================] - 0s 55us/sample - loss: 0.7932 - accuracy: 0.6662\n",
      "Epoch 143/1000\n",
      "1450/1450 [==============================] - 0s 54us/sample - loss: 0.7933 - accuracy: 0.6759\n",
      "Epoch 144/1000\n",
      "1450/1450 [==============================] - 0s 54us/sample - loss: 0.8001 - accuracy: 0.6703\n",
      "Epoch 145/1000\n",
      "1450/1450 [==============================] - 0s 56us/sample - loss: 0.7921 - accuracy: 0.6724\n",
      "Epoch 146/1000\n",
      "1450/1450 [==============================] - 0s 57us/sample - loss: 0.7928 - accuracy: 0.6731\n",
      "Epoch 147/1000\n",
      "1450/1450 [==============================] - 0s 55us/sample - loss: 0.7944 - accuracy: 0.6648\n",
      "Epoch 148/1000\n",
      "1450/1450 [==============================] - 0s 56us/sample - loss: 0.7921 - accuracy: 0.6738\n",
      "Epoch 149/1000\n",
      "1450/1450 [==============================] - 0s 57us/sample - loss: 0.8010 - accuracy: 0.6703\n",
      "Epoch 150/1000\n",
      "1450/1450 [==============================] - 0s 55us/sample - loss: 0.7898 - accuracy: 0.6738\n",
      "Epoch 151/1000\n"
     ]
    },
    {
     "name": "stdout",
     "output_type": "stream",
     "text": [
      "1450/1450 [==============================] - 0s 57us/sample - loss: 0.7904 - accuracy: 0.6745\n",
      "Epoch 152/1000\n",
      "1450/1450 [==============================] - 0s 55us/sample - loss: 0.7974 - accuracy: 0.6752\n",
      "Epoch 153/1000\n",
      "1450/1450 [==============================] - 0s 56us/sample - loss: 0.7959 - accuracy: 0.6676\n",
      "Epoch 154/1000\n",
      "1450/1450 [==============================] - 0s 55us/sample - loss: 0.7915 - accuracy: 0.6759\n",
      "Epoch 155/1000\n",
      "1450/1450 [==============================] - 0s 55us/sample - loss: 0.7960 - accuracy: 0.6752\n",
      "Epoch 156/1000\n",
      "1450/1450 [==============================] - 0s 55us/sample - loss: 0.7917 - accuracy: 0.6724\n",
      "Epoch 157/1000\n",
      "1450/1450 [==============================] - 0s 53us/sample - loss: 0.7926 - accuracy: 0.6710\n",
      "Epoch 158/1000\n",
      "1450/1450 [==============================] - 0s 55us/sample - loss: 0.7897 - accuracy: 0.6731\n",
      "Epoch 159/1000\n",
      "1450/1450 [==============================] - 0s 55us/sample - loss: 0.7923 - accuracy: 0.6724\n",
      "Epoch 160/1000\n",
      "1450/1450 [==============================] - 0s 56us/sample - loss: 0.7918 - accuracy: 0.6772\n",
      "Epoch 161/1000\n",
      "1450/1450 [==============================] - 0s 54us/sample - loss: 0.7865 - accuracy: 0.6766\n",
      "Epoch 162/1000\n",
      "1450/1450 [==============================] - 0s 54us/sample - loss: 0.7977 - accuracy: 0.6676\n",
      "Epoch 163/1000\n",
      "1450/1450 [==============================] - 0s 54us/sample - loss: 0.7924 - accuracy: 0.6759\n",
      "Epoch 164/1000\n",
      "1450/1450 [==============================] - 0s 55us/sample - loss: 0.7926 - accuracy: 0.6752\n",
      "Epoch 165/1000\n",
      "1450/1450 [==============================] - 0s 55us/sample - loss: 0.7910 - accuracy: 0.6690\n",
      "Epoch 166/1000\n",
      "1450/1450 [==============================] - 0s 55us/sample - loss: 0.7917 - accuracy: 0.6710\n",
      "Epoch 167/1000\n",
      "1450/1450 [==============================] - 0s 55us/sample - loss: 0.7867 - accuracy: 0.6731\n",
      "Epoch 168/1000\n",
      "1450/1450 [==============================] - 0s 55us/sample - loss: 0.7903 - accuracy: 0.6703\n",
      "Epoch 169/1000\n",
      "1450/1450 [==============================] - 0s 54us/sample - loss: 0.7854 - accuracy: 0.6759\n",
      "Epoch 170/1000\n",
      "1450/1450 [==============================] - 0s 55us/sample - loss: 0.7868 - accuracy: 0.6772\n",
      "Epoch 171/1000\n",
      "1450/1450 [==============================] - 0s 55us/sample - loss: 0.7858 - accuracy: 0.6738\n",
      "Epoch 172/1000\n",
      "1450/1450 [==============================] - 0s 55us/sample - loss: 0.7902 - accuracy: 0.6738\n",
      "Epoch 173/1000\n",
      "1450/1450 [==============================] - 0s 55us/sample - loss: 0.7870 - accuracy: 0.6710\n",
      "Epoch 174/1000\n",
      "1450/1450 [==============================] - 0s 56us/sample - loss: 0.7888 - accuracy: 0.6676\n",
      "Epoch 175/1000\n",
      "1450/1450 [==============================] - 0s 58us/sample - loss: 0.7857 - accuracy: 0.6724\n",
      "Epoch 176/1000\n",
      "1450/1450 [==============================] - 0s 55us/sample - loss: 0.7842 - accuracy: 0.6717\n",
      "Epoch 177/1000\n",
      "1450/1450 [==============================] - 0s 55us/sample - loss: 0.7922 - accuracy: 0.6683\n",
      "Epoch 178/1000\n",
      "1450/1450 [==============================] - 0s 57us/sample - loss: 0.7838 - accuracy: 0.6779\n",
      "Epoch 179/1000\n",
      "1450/1450 [==============================] - 0s 55us/sample - loss: 0.7863 - accuracy: 0.6766\n",
      "Epoch 180/1000\n",
      "1450/1450 [==============================] - 0s 54us/sample - loss: 0.7877 - accuracy: 0.6793\n",
      "Epoch 181/1000\n",
      "1450/1450 [==============================] - 0s 54us/sample - loss: 0.7854 - accuracy: 0.6738\n",
      "Epoch 182/1000\n",
      "1450/1450 [==============================] - 0s 55us/sample - loss: 0.7867 - accuracy: 0.6690\n",
      "Epoch 183/1000\n",
      "1450/1450 [==============================] - 0s 56us/sample - loss: 0.7844 - accuracy: 0.6766\n",
      "Epoch 184/1000\n",
      "1450/1450 [==============================] - 0s 55us/sample - loss: 0.7810 - accuracy: 0.6772\n",
      "Epoch 185/1000\n",
      "1450/1450 [==============================] - 0s 56us/sample - loss: 0.7913 - accuracy: 0.6793\n",
      "Epoch 186/1000\n",
      "1450/1450 [==============================] - 0s 54us/sample - loss: 0.7814 - accuracy: 0.6772\n",
      "Epoch 187/1000\n",
      "1450/1450 [==============================] - 0s 55us/sample - loss: 0.7891 - accuracy: 0.6731\n",
      "Epoch 188/1000\n",
      "1450/1450 [==============================] - 0s 55us/sample - loss: 0.7831 - accuracy: 0.6800\n",
      "Epoch 189/1000\n",
      "1450/1450 [==============================] - 0s 55us/sample - loss: 0.7855 - accuracy: 0.6745\n",
      "Epoch 190/1000\n",
      "1450/1450 [==============================] - 0s 55us/sample - loss: 0.7810 - accuracy: 0.6807\n",
      "Epoch 191/1000\n",
      "1450/1450 [==============================] - 0s 55us/sample - loss: 0.7792 - accuracy: 0.6772\n",
      "Epoch 192/1000\n",
      "1450/1450 [==============================] - 0s 55us/sample - loss: 0.7880 - accuracy: 0.6766\n",
      "Epoch 193/1000\n",
      "1450/1450 [==============================] - 0s 55us/sample - loss: 0.7771 - accuracy: 0.6745\n",
      "Epoch 194/1000\n",
      "1450/1450 [==============================] - 0s 55us/sample - loss: 0.7948 - accuracy: 0.6717\n",
      "Epoch 195/1000\n",
      "1450/1450 [==============================] - 0s 56us/sample - loss: 0.7816 - accuracy: 0.6759\n",
      "Epoch 196/1000\n",
      "1450/1450 [==============================] - 0s 56us/sample - loss: 0.7851 - accuracy: 0.6772\n",
      "Epoch 197/1000\n",
      "1450/1450 [==============================] - 0s 55us/sample - loss: 0.7800 - accuracy: 0.6807\n",
      "Epoch 198/1000\n",
      "1450/1450 [==============================] - 0s 57us/sample - loss: 0.7797 - accuracy: 0.6779\n",
      "Epoch 199/1000\n",
      "1450/1450 [==============================] - 0s 56us/sample - loss: 0.7784 - accuracy: 0.6786\n",
      "Epoch 200/1000\n",
      "1450/1450 [==============================] - 0s 55us/sample - loss: 0.7796 - accuracy: 0.6717\n",
      "Epoch 201/1000\n",
      "1450/1450 [==============================] - 0s 55us/sample - loss: 0.7799 - accuracy: 0.6786\n",
      "Epoch 202/1000\n",
      "1450/1450 [==============================] - 0s 59us/sample - loss: 0.7756 - accuracy: 0.6779\n",
      "Epoch 203/1000\n",
      "1450/1450 [==============================] - 0s 56us/sample - loss: 0.7864 - accuracy: 0.6779\n",
      "Epoch 204/1000\n",
      "1450/1450 [==============================] - 0s 55us/sample - loss: 0.7782 - accuracy: 0.6738\n",
      "Epoch 205/1000\n",
      "1450/1450 [==============================] - 0s 56us/sample - loss: 0.7849 - accuracy: 0.6697\n",
      "Epoch 206/1000\n",
      "1450/1450 [==============================] - 0s 55us/sample - loss: 0.7782 - accuracy: 0.6807\n",
      "Epoch 207/1000\n",
      "1450/1450 [==============================] - 0s 54us/sample - loss: 0.7817 - accuracy: 0.6772\n",
      "Epoch 208/1000\n",
      "1450/1450 [==============================] - 0s 55us/sample - loss: 0.7746 - accuracy: 0.6745\n",
      "Epoch 209/1000\n",
      "1450/1450 [==============================] - 0s 55us/sample - loss: 0.7779 - accuracy: 0.6731\n",
      "Epoch 210/1000\n",
      "1450/1450 [==============================] - 0s 55us/sample - loss: 0.7830 - accuracy: 0.6779\n",
      "Epoch 211/1000\n",
      "1450/1450 [==============================] - 0s 56us/sample - loss: 0.7746 - accuracy: 0.6793\n",
      "Epoch 212/1000\n",
      "1450/1450 [==============================] - 0s 55us/sample - loss: 0.7726 - accuracy: 0.6800\n",
      "Epoch 213/1000\n",
      "1450/1450 [==============================] - 0s 55us/sample - loss: 0.7784 - accuracy: 0.6800\n",
      "Epoch 214/1000\n",
      "1450/1450 [==============================] - 0s 57us/sample - loss: 0.7745 - accuracy: 0.6772\n",
      "Epoch 215/1000\n",
      "1450/1450 [==============================] - 0s 57us/sample - loss: 0.7800 - accuracy: 0.6731\n",
      "Epoch 216/1000\n",
      "1450/1450 [==============================] - 0s 56us/sample - loss: 0.7822 - accuracy: 0.6745\n",
      "Epoch 217/1000\n",
      "1450/1450 [==============================] - 0s 55us/sample - loss: 0.7797 - accuracy: 0.6766\n",
      "Epoch 218/1000\n",
      "1450/1450 [==============================] - 0s 57us/sample - loss: 0.7784 - accuracy: 0.6752\n",
      "Epoch 219/1000\n",
      "1450/1450 [==============================] - 0s 55us/sample - loss: 0.7779 - accuracy: 0.6731\n",
      "Epoch 220/1000\n",
      "1450/1450 [==============================] - 0s 55us/sample - loss: 0.7762 - accuracy: 0.6759\n",
      "Epoch 221/1000\n",
      "1450/1450 [==============================] - 0s 56us/sample - loss: 0.7729 - accuracy: 0.6759\n",
      "Epoch 222/1000\n",
      "1450/1450 [==============================] - 0s 56us/sample - loss: 0.7818 - accuracy: 0.6759\n",
      "Epoch 223/1000\n",
      "1450/1450 [==============================] - 0s 54us/sample - loss: 0.7759 - accuracy: 0.6759\n",
      "Epoch 224/1000\n",
      "1450/1450 [==============================] - 0s 55us/sample - loss: 0.7743 - accuracy: 0.6752\n",
      "Epoch 225/1000\n",
      "1450/1450 [==============================] - 0s 55us/sample - loss: 0.7757 - accuracy: 0.6779\n",
      "Epoch 226/1000\n",
      "1450/1450 [==============================] - 0s 55us/sample - loss: 0.7736 - accuracy: 0.6786\n",
      "Epoch 227/1000\n",
      "1450/1450 [==============================] - 0s 57us/sample - loss: 0.7773 - accuracy: 0.6786\n",
      "Epoch 228/1000\n",
      "1450/1450 [==============================] - 0s 56us/sample - loss: 0.7754 - accuracy: 0.6766\n",
      "Epoch 229/1000\n",
      "1450/1450 [==============================] - 0s 55us/sample - loss: 0.7808 - accuracy: 0.6772\n",
      "Epoch 230/1000\n",
      "1450/1450 [==============================] - 0s 54us/sample - loss: 0.7763 - accuracy: 0.6772\n",
      "Epoch 231/1000\n",
      "1450/1450 [==============================] - 0s 54us/sample - loss: 0.7735 - accuracy: 0.6759\n",
      "Epoch 232/1000\n",
      "1450/1450 [==============================] - 0s 55us/sample - loss: 0.7742 - accuracy: 0.6772\n",
      "Epoch 233/1000\n",
      "1450/1450 [==============================] - 0s 54us/sample - loss: 0.7774 - accuracy: 0.6745\n",
      "Epoch 234/1000\n",
      "1450/1450 [==============================] - 0s 55us/sample - loss: 0.7774 - accuracy: 0.6793\n",
      "Epoch 235/1000\n",
      "1450/1450 [==============================] - 0s 54us/sample - loss: 0.7757 - accuracy: 0.6793\n",
      "Epoch 236/1000\n",
      "1450/1450 [==============================] - 0s 56us/sample - loss: 0.7736 - accuracy: 0.6800\n",
      "Epoch 237/1000\n",
      "1450/1450 [==============================] - 0s 55us/sample - loss: 0.7793 - accuracy: 0.6766\n",
      "Epoch 238/1000\n",
      "1450/1450 [==============================] - 0s 54us/sample - loss: 0.7716 - accuracy: 0.6772\n",
      "Epoch 239/1000\n",
      "1450/1450 [==============================] - 0s 55us/sample - loss: 0.7743 - accuracy: 0.6800\n",
      "Epoch 240/1000\n",
      "1450/1450 [==============================] - 0s 55us/sample - loss: 0.7758 - accuracy: 0.6772\n",
      "Epoch 241/1000\n",
      "1450/1450 [==============================] - 0s 56us/sample - loss: 0.7707 - accuracy: 0.6807\n",
      "Epoch 242/1000\n",
      "1450/1450 [==============================] - 0s 55us/sample - loss: 0.7692 - accuracy: 0.6772\n",
      "Epoch 243/1000\n",
      "1450/1450 [==============================] - 0s 55us/sample - loss: 0.7726 - accuracy: 0.6786\n",
      "Epoch 244/1000\n",
      "1450/1450 [==============================] - 0s 56us/sample - loss: 0.7733 - accuracy: 0.6759\n",
      "Epoch 245/1000\n",
      "1450/1450 [==============================] - 0s 55us/sample - loss: 0.7672 - accuracy: 0.6821\n",
      "Epoch 246/1000\n",
      "1450/1450 [==============================] - 0s 65us/sample - loss: 0.7735 - accuracy: 0.6814\n",
      "Epoch 247/1000\n",
      "1450/1450 [==============================] - 0s 54us/sample - loss: 0.7742 - accuracy: 0.6766\n",
      "Epoch 248/1000\n",
      "1450/1450 [==============================] - 0s 55us/sample - loss: 0.7689 - accuracy: 0.6821\n",
      "Epoch 249/1000\n",
      "1450/1450 [==============================] - 0s 55us/sample - loss: 0.7695 - accuracy: 0.6834\n",
      "Epoch 250/1000\n",
      "1450/1450 [==============================] - 0s 54us/sample - loss: 0.7692 - accuracy: 0.6814\n",
      "Epoch 251/1000\n",
      "1450/1450 [==============================] - 0s 55us/sample - loss: 0.7698 - accuracy: 0.6821\n",
      "Epoch 252/1000\n",
      "1450/1450 [==============================] - 0s 56us/sample - loss: 0.7711 - accuracy: 0.6779\n",
      "Epoch 253/1000\n",
      "1450/1450 [==============================] - 0s 55us/sample - loss: 0.7725 - accuracy: 0.6807\n",
      "Epoch 254/1000\n",
      "1450/1450 [==============================] - 0s 55us/sample - loss: 0.7697 - accuracy: 0.6786\n",
      "Epoch 255/1000\n",
      "1450/1450 [==============================] - 0s 55us/sample - loss: 0.7747 - accuracy: 0.6752\n",
      "Epoch 256/1000\n",
      "1450/1450 [==============================] - 0s 55us/sample - loss: 0.7717 - accuracy: 0.6738\n",
      "Epoch 257/1000\n",
      "1450/1450 [==============================] - 0s 55us/sample - loss: 0.7779 - accuracy: 0.6772\n",
      "Epoch 258/1000\n",
      "1450/1450 [==============================] - 0s 57us/sample - loss: 0.7721 - accuracy: 0.6766\n",
      "Epoch 259/1000\n",
      "1450/1450 [==============================] - 0s 55us/sample - loss: 0.7656 - accuracy: 0.6731\n",
      "Epoch 260/1000\n",
      "1450/1450 [==============================] - 0s 56us/sample - loss: 0.7717 - accuracy: 0.6855\n",
      "Epoch 261/1000\n",
      "1450/1450 [==============================] - 0s 55us/sample - loss: 0.7666 - accuracy: 0.6793\n",
      "Epoch 262/1000\n",
      "1450/1450 [==============================] - 0s 56us/sample - loss: 0.7691 - accuracy: 0.6745\n",
      "Epoch 263/1000\n",
      "1450/1450 [==============================] - 0s 55us/sample - loss: 0.7772 - accuracy: 0.6772\n",
      "Epoch 264/1000\n",
      "1450/1450 [==============================] - 0s 56us/sample - loss: 0.7691 - accuracy: 0.6800\n",
      "Epoch 265/1000\n",
      "1450/1450 [==============================] - 0s 55us/sample - loss: 0.7671 - accuracy: 0.6793\n",
      "Epoch 266/1000\n",
      "1450/1450 [==============================] - 0s 56us/sample - loss: 0.7741 - accuracy: 0.6710\n",
      "Epoch 267/1000\n",
      "1450/1450 [==============================] - 0s 55us/sample - loss: 0.7658 - accuracy: 0.6807\n",
      "Epoch 268/1000\n",
      "1450/1450 [==============================] - 0s 56us/sample - loss: 0.7712 - accuracy: 0.6814\n",
      "Epoch 269/1000\n",
      "1450/1450 [==============================] - 0s 55us/sample - loss: 0.7785 - accuracy: 0.6779\n",
      "Epoch 270/1000\n",
      "1450/1450 [==============================] - 0s 54us/sample - loss: 0.7771 - accuracy: 0.6724\n",
      "Epoch 271/1000\n",
      "1450/1450 [==============================] - 0s 56us/sample - loss: 0.7681 - accuracy: 0.6766\n",
      "Epoch 272/1000\n",
      "1450/1450 [==============================] - 0s 55us/sample - loss: 0.7676 - accuracy: 0.6807\n",
      "Epoch 273/1000\n",
      "1450/1450 [==============================] - 0s 57us/sample - loss: 0.7620 - accuracy: 0.6807\n",
      "Epoch 274/1000\n",
      "1450/1450 [==============================] - 0s 57us/sample - loss: 0.7678 - accuracy: 0.6772\n",
      "Epoch 275/1000\n",
      "1450/1450 [==============================] - 0s 54us/sample - loss: 0.7699 - accuracy: 0.6731\n",
      "Epoch 276/1000\n",
      "1450/1450 [==============================] - 0s 55us/sample - loss: 0.7699 - accuracy: 0.6759\n",
      "Epoch 277/1000\n",
      "1450/1450 [==============================] - 0s 55us/sample - loss: 0.7713 - accuracy: 0.6779\n",
      "Epoch 278/1000\n",
      "1450/1450 [==============================] - 0s 55us/sample - loss: 0.7664 - accuracy: 0.6814\n",
      "Epoch 279/1000\n",
      "1450/1450 [==============================] - 0s 55us/sample - loss: 0.7624 - accuracy: 0.6869\n",
      "Epoch 280/1000\n",
      "1450/1450 [==============================] - 0s 56us/sample - loss: 0.7694 - accuracy: 0.6759\n",
      "Epoch 281/1000\n",
      "1450/1450 [==============================] - 0s 56us/sample - loss: 0.7706 - accuracy: 0.6821\n",
      "Epoch 282/1000\n",
      "1450/1450 [==============================] - 0s 54us/sample - loss: 0.7625 - accuracy: 0.6848\n",
      "Epoch 283/1000\n",
      "1450/1450 [==============================] - 0s 55us/sample - loss: 0.7697 - accuracy: 0.6834\n",
      "Epoch 284/1000\n",
      "1450/1450 [==============================] - 0s 54us/sample - loss: 0.7603 - accuracy: 0.6828\n",
      "Epoch 285/1000\n",
      "1450/1450 [==============================] - 0s 55us/sample - loss: 0.7657 - accuracy: 0.6821\n",
      "Epoch 286/1000\n",
      "1450/1450 [==============================] - 0s 55us/sample - loss: 0.7696 - accuracy: 0.6821\n",
      "Epoch 287/1000\n",
      "1450/1450 [==============================] - 0s 56us/sample - loss: 0.7613 - accuracy: 0.6752\n",
      "Epoch 288/1000\n",
      "1450/1450 [==============================] - 0s 56us/sample - loss: 0.7715 - accuracy: 0.6807\n",
      "Epoch 289/1000\n",
      "1450/1450 [==============================] - 0s 55us/sample - loss: 0.7723 - accuracy: 0.6766\n",
      "Epoch 290/1000\n",
      "1450/1450 [==============================] - 0s 54us/sample - loss: 0.7668 - accuracy: 0.6800\n",
      "Epoch 291/1000\n",
      "1450/1450 [==============================] - 0s 55us/sample - loss: 0.7658 - accuracy: 0.6848\n",
      "Epoch 292/1000\n",
      "1450/1450 [==============================] - 0s 55us/sample - loss: 0.7671 - accuracy: 0.6766\n",
      "Epoch 293/1000\n",
      "1450/1450 [==============================] - 0s 55us/sample - loss: 0.7629 - accuracy: 0.6786\n",
      "Epoch 294/1000\n",
      "1450/1450 [==============================] - 0s 55us/sample - loss: 0.7621 - accuracy: 0.6841\n",
      "Epoch 295/1000\n",
      "1450/1450 [==============================] - 0s 55us/sample - loss: 0.7658 - accuracy: 0.6821\n",
      "Epoch 296/1000\n",
      "1450/1450 [==============================] - 0s 55us/sample - loss: 0.7609 - accuracy: 0.6800\n",
      "Epoch 297/1000\n",
      "1450/1450 [==============================] - 0s 54us/sample - loss: 0.7548 - accuracy: 0.6793\n",
      "Epoch 298/1000\n",
      "1450/1450 [==============================] - 0s 55us/sample - loss: 0.7580 - accuracy: 0.6841\n",
      "Epoch 299/1000\n",
      "1450/1450 [==============================] - 0s 55us/sample - loss: 0.7533 - accuracy: 0.6841\n",
      "Epoch 300/1000\n",
      "1450/1450 [==============================] - 0s 55us/sample - loss: 0.7637 - accuracy: 0.6772\n",
      "Epoch 301/1000\n"
     ]
    },
    {
     "name": "stdout",
     "output_type": "stream",
     "text": [
      "1450/1450 [==============================] - 0s 56us/sample - loss: 0.7681 - accuracy: 0.6766\n",
      "Epoch 302/1000\n",
      "1450/1450 [==============================] - 0s 58us/sample - loss: 0.7724 - accuracy: 0.6786\n",
      "Epoch 303/1000\n",
      "1450/1450 [==============================] - 0s 55us/sample - loss: 0.7668 - accuracy: 0.6772\n",
      "Epoch 304/1000\n",
      "1450/1450 [==============================] - 0s 55us/sample - loss: 0.7639 - accuracy: 0.6800\n",
      "Epoch 305/1000\n",
      "1450/1450 [==============================] - 0s 54us/sample - loss: 0.7632 - accuracy: 0.6745\n",
      "Epoch 306/1000\n",
      "1450/1450 [==============================] - 0s 54us/sample - loss: 0.7649 - accuracy: 0.6793\n",
      "Epoch 307/1000\n",
      "1450/1450 [==============================] - 0s 55us/sample - loss: 0.7670 - accuracy: 0.6821\n",
      "Epoch 308/1000\n",
      "1450/1450 [==============================] - 0s 54us/sample - loss: 0.7701 - accuracy: 0.6779\n",
      "Epoch 309/1000\n",
      "1450/1450 [==============================] - 0s 55us/sample - loss: 0.7652 - accuracy: 0.6821\n",
      "Epoch 310/1000\n",
      "1450/1450 [==============================] - 0s 55us/sample - loss: 0.7686 - accuracy: 0.6800\n",
      "Epoch 311/1000\n",
      "1450/1450 [==============================] - 0s 54us/sample - loss: 0.7700 - accuracy: 0.6800\n",
      "Epoch 312/1000\n",
      "1450/1450 [==============================] - 0s 55us/sample - loss: 0.7638 - accuracy: 0.6745\n",
      "Epoch 313/1000\n",
      "1450/1450 [==============================] - 0s 55us/sample - loss: 0.7667 - accuracy: 0.6828\n",
      "Epoch 314/1000\n",
      "1450/1450 [==============================] - 0s 54us/sample - loss: 0.7638 - accuracy: 0.6821\n",
      "Epoch 315/1000\n",
      "1450/1450 [==============================] - 0s 55us/sample - loss: 0.7636 - accuracy: 0.6772\n",
      "Epoch 316/1000\n",
      "1450/1450 [==============================] - 0s 55us/sample - loss: 0.7621 - accuracy: 0.6841\n",
      "Epoch 317/1000\n",
      "1450/1450 [==============================] - 0s 55us/sample - loss: 0.7659 - accuracy: 0.6786\n",
      "Epoch 318/1000\n",
      "1450/1450 [==============================] - 0s 56us/sample - loss: 0.7673 - accuracy: 0.6759\n",
      "Epoch 319/1000\n",
      "1450/1450 [==============================] - 0s 54us/sample - loss: 0.7571 - accuracy: 0.6828\n",
      "Epoch 320/1000\n",
      "1450/1450 [==============================] - 0s 55us/sample - loss: 0.7752 - accuracy: 0.6814\n",
      "Epoch 321/1000\n",
      "1450/1450 [==============================] - 0s 54us/sample - loss: 0.7622 - accuracy: 0.6786\n",
      "Epoch 322/1000\n",
      "1450/1450 [==============================] - 0s 57us/sample - loss: 0.7571 - accuracy: 0.6848\n",
      "Epoch 323/1000\n",
      "1450/1450 [==============================] - 0s 55us/sample - loss: 0.7623 - accuracy: 0.6821\n",
      "Epoch 324/1000\n",
      "1450/1450 [==============================] - 0s 55us/sample - loss: 0.7572 - accuracy: 0.6834\n",
      "Epoch 325/1000\n",
      "1450/1450 [==============================] - 0s 54us/sample - loss: 0.7596 - accuracy: 0.6855\n",
      "Epoch 326/1000\n",
      "1450/1450 [==============================] - 0s 55us/sample - loss: 0.7613 - accuracy: 0.6855\n",
      "Epoch 327/1000\n",
      "1450/1450 [==============================] - 0s 55us/sample - loss: 0.7625 - accuracy: 0.6772\n",
      "Epoch 328/1000\n",
      "1450/1450 [==============================] - 0s 54us/sample - loss: 0.7609 - accuracy: 0.6779\n",
      "Epoch 329/1000\n",
      "1450/1450 [==============================] - 0s 55us/sample - loss: 0.7605 - accuracy: 0.6800\n",
      "Epoch 330/1000\n",
      "1450/1450 [==============================] - 0s 54us/sample - loss: 0.7565 - accuracy: 0.6807\n",
      "Epoch 331/1000\n",
      "1450/1450 [==============================] - 0s 55us/sample - loss: 0.7508 - accuracy: 0.6828\n",
      "Epoch 332/1000\n",
      "1450/1450 [==============================] - 0s 56us/sample - loss: 0.7555 - accuracy: 0.6834\n",
      "Epoch 333/1000\n",
      "1450/1450 [==============================] - 0s 55us/sample - loss: 0.7625 - accuracy: 0.6834\n",
      "Epoch 334/1000\n",
      "1450/1450 [==============================] - 0s 55us/sample - loss: 0.7607 - accuracy: 0.6807\n",
      "Epoch 335/1000\n",
      "1450/1450 [==============================] - 0s 55us/sample - loss: 0.7629 - accuracy: 0.6793\n",
      "Epoch 336/1000\n",
      "1450/1450 [==============================] - 0s 54us/sample - loss: 0.7547 - accuracy: 0.6800\n",
      "Epoch 337/1000\n",
      "1450/1450 [==============================] - 0s 55us/sample - loss: 0.7561 - accuracy: 0.6745\n",
      "Epoch 338/1000\n",
      "1450/1450 [==============================] - 0s 55us/sample - loss: 0.7547 - accuracy: 0.6869\n",
      "Epoch 339/1000\n",
      "1450/1450 [==============================] - 0s 57us/sample - loss: 0.7594 - accuracy: 0.6800\n",
      "Epoch 340/1000\n",
      "1450/1450 [==============================] - 0s 55us/sample - loss: 0.7638 - accuracy: 0.6745\n",
      "Epoch 341/1000\n",
      "1450/1450 [==============================] - 0s 55us/sample - loss: 0.7596 - accuracy: 0.6848\n",
      "Epoch 342/1000\n",
      "1450/1450 [==============================] - 0s 54us/sample - loss: 0.7597 - accuracy: 0.6834\n",
      "Epoch 343/1000\n",
      "1450/1450 [==============================] - 0s 58us/sample - loss: 0.7612 - accuracy: 0.6793\n",
      "Epoch 344/1000\n",
      "1450/1450 [==============================] - 0s 55us/sample - loss: 0.7591 - accuracy: 0.6793\n",
      "Epoch 345/1000\n",
      "1450/1450 [==============================] - 0s 55us/sample - loss: 0.7558 - accuracy: 0.6766\n",
      "Epoch 346/1000\n",
      "1450/1450 [==============================] - 0s 56us/sample - loss: 0.7473 - accuracy: 0.6862\n",
      "Epoch 347/1000\n",
      "1450/1450 [==============================] - 0s 55us/sample - loss: 0.7556 - accuracy: 0.6834\n",
      "Epoch 348/1000\n",
      "1450/1450 [==============================] - 0s 55us/sample - loss: 0.7663 - accuracy: 0.6876\n",
      "Epoch 349/1000\n",
      "1450/1450 [==============================] - 0s 55us/sample - loss: 0.7557 - accuracy: 0.6814\n",
      "Epoch 350/1000\n",
      "1450/1450 [==============================] - 0s 55us/sample - loss: 0.7576 - accuracy: 0.6793\n",
      "Epoch 351/1000\n",
      "1450/1450 [==============================] - 0s 55us/sample - loss: 0.7523 - accuracy: 0.6786\n",
      "Epoch 352/1000\n",
      "1450/1450 [==============================] - 0s 55us/sample - loss: 0.7647 - accuracy: 0.6814\n",
      "Epoch 353/1000\n",
      "1450/1450 [==============================] - 0s 54us/sample - loss: 0.7602 - accuracy: 0.6821\n",
      "Epoch 354/1000\n",
      "1450/1450 [==============================] - 0s 54us/sample - loss: 0.7564 - accuracy: 0.6848\n",
      "Epoch 355/1000\n",
      "1450/1450 [==============================] - 0s 55us/sample - loss: 0.7642 - accuracy: 0.6869\n",
      "Epoch 356/1000\n",
      "1450/1450 [==============================] - 0s 55us/sample - loss: 0.7548 - accuracy: 0.6814\n",
      "Epoch 357/1000\n",
      "1450/1450 [==============================] - 0s 55us/sample - loss: 0.7586 - accuracy: 0.6869\n",
      "Epoch 358/1000\n",
      "1450/1450 [==============================] - 0s 55us/sample - loss: 0.7617 - accuracy: 0.6800\n",
      "Epoch 359/1000\n",
      "1450/1450 [==============================] - 0s 56us/sample - loss: 0.7532 - accuracy: 0.6800\n",
      "Epoch 360/1000\n",
      "1450/1450 [==============================] - 0s 55us/sample - loss: 0.7534 - accuracy: 0.6848\n",
      "Epoch 361/1000\n",
      "1450/1450 [==============================] - 0s 55us/sample - loss: 0.7533 - accuracy: 0.6828\n",
      "Epoch 362/1000\n",
      "1450/1450 [==============================] - 0s 55us/sample - loss: 0.7586 - accuracy: 0.6821\n",
      "Epoch 363/1000\n",
      "1450/1450 [==============================] - 0s 55us/sample - loss: 0.7536 - accuracy: 0.6841\n",
      "Epoch 364/1000\n",
      "1450/1450 [==============================] - 0s 54us/sample - loss: 0.7568 - accuracy: 0.6828\n",
      "Epoch 365/1000\n",
      "1450/1450 [==============================] - 0s 55us/sample - loss: 0.7622 - accuracy: 0.6855\n",
      "Epoch 366/1000\n",
      "1450/1450 [==============================] - 0s 55us/sample - loss: 0.7453 - accuracy: 0.6883\n",
      "Epoch 367/1000\n",
      "1450/1450 [==============================] - 0s 55us/sample - loss: 0.7652 - accuracy: 0.6834\n",
      "Epoch 368/1000\n",
      "1450/1450 [==============================] - 0s 55us/sample - loss: 0.7614 - accuracy: 0.6828\n",
      "Epoch 369/1000\n",
      "1450/1450 [==============================] - 0s 55us/sample - loss: 0.7580 - accuracy: 0.6834\n",
      "Epoch 370/1000\n",
      "1450/1450 [==============================] - 0s 54us/sample - loss: 0.7571 - accuracy: 0.6883\n",
      "Epoch 371/1000\n",
      "1450/1450 [==============================] - 0s 55us/sample - loss: 0.7496 - accuracy: 0.6869\n",
      "Epoch 372/1000\n",
      "1450/1450 [==============================] - 0s 56us/sample - loss: 0.7571 - accuracy: 0.6828\n",
      "Epoch 373/1000\n",
      "1450/1450 [==============================] - 0s 55us/sample - loss: 0.7601 - accuracy: 0.6772\n",
      "Epoch 374/1000\n",
      "1450/1450 [==============================] - 0s 55us/sample - loss: 0.7566 - accuracy: 0.6841\n",
      "Epoch 375/1000\n",
      "1450/1450 [==============================] - 0s 55us/sample - loss: 0.7522 - accuracy: 0.6821\n",
      "Epoch 376/1000\n",
      "1450/1450 [==============================] - 0s 57us/sample - loss: 0.7525 - accuracy: 0.6828\n",
      "Epoch 377/1000\n",
      "1450/1450 [==============================] - 0s 56us/sample - loss: 0.7568 - accuracy: 0.6821\n",
      "Epoch 378/1000\n",
      "1450/1450 [==============================] - 0s 54us/sample - loss: 0.7517 - accuracy: 0.6793\n",
      "Epoch 379/1000\n",
      "1450/1450 [==============================] - 0s 54us/sample - loss: 0.7540 - accuracy: 0.6848\n",
      "Epoch 380/1000\n",
      "1450/1450 [==============================] - 0s 54us/sample - loss: 0.7543 - accuracy: 0.6807\n",
      "Epoch 381/1000\n",
      "1450/1450 [==============================] - 0s 54us/sample - loss: 0.7517 - accuracy: 0.6834\n",
      "Epoch 382/1000\n",
      "1450/1450 [==============================] - 0s 55us/sample - loss: 0.7512 - accuracy: 0.6862\n",
      "Epoch 383/1000\n",
      "1450/1450 [==============================] - 0s 55us/sample - loss: 0.7546 - accuracy: 0.6848\n",
      "Epoch 384/1000\n",
      "1450/1450 [==============================] - 0s 54us/sample - loss: 0.7540 - accuracy: 0.6876\n",
      "Epoch 385/1000\n",
      "1450/1450 [==============================] - 0s 57us/sample - loss: 0.7493 - accuracy: 0.6931\n",
      "Epoch 386/1000\n",
      "1450/1450 [==============================] - 0s 54us/sample - loss: 0.7524 - accuracy: 0.6834\n",
      "Epoch 387/1000\n",
      "1450/1450 [==============================] - 0s 54us/sample - loss: 0.7564 - accuracy: 0.6800\n",
      "Epoch 388/1000\n",
      "1450/1450 [==============================] - 0s 54us/sample - loss: 0.7542 - accuracy: 0.6869\n",
      "Epoch 389/1000\n",
      "1450/1450 [==============================] - 0s 54us/sample - loss: 0.7513 - accuracy: 0.6800\n",
      "Epoch 390/1000\n",
      "1450/1450 [==============================] - 0s 55us/sample - loss: 0.7474 - accuracy: 0.6883\n",
      "Epoch 391/1000\n",
      "1450/1450 [==============================] - 0s 55us/sample - loss: 0.7568 - accuracy: 0.6814\n",
      "Epoch 392/1000\n",
      "1450/1450 [==============================] - 0s 55us/sample - loss: 0.7569 - accuracy: 0.6876\n",
      "Epoch 393/1000\n",
      "1450/1450 [==============================] - 0s 55us/sample - loss: 0.7545 - accuracy: 0.6855\n",
      "Epoch 394/1000\n",
      "1450/1450 [==============================] - 0s 54us/sample - loss: 0.7559 - accuracy: 0.6883\n",
      "Epoch 395/1000\n",
      "1450/1450 [==============================] - 0s 55us/sample - loss: 0.7535 - accuracy: 0.6848\n",
      "Epoch 396/1000\n",
      "1450/1450 [==============================] - 0s 54us/sample - loss: 0.7527 - accuracy: 0.6779\n",
      "Epoch 397/1000\n",
      "1450/1450 [==============================] - 0s 55us/sample - loss: 0.7583 - accuracy: 0.6883\n",
      "Epoch 398/1000\n",
      "1450/1450 [==============================] - 0s 54us/sample - loss: 0.7521 - accuracy: 0.6841\n",
      "Epoch 399/1000\n",
      "1450/1450 [==============================] - 0s 55us/sample - loss: 0.7563 - accuracy: 0.6779\n",
      "Epoch 400/1000\n",
      "1450/1450 [==============================] - 0s 56us/sample - loss: 0.7532 - accuracy: 0.6834\n",
      "Epoch 401/1000\n",
      "1450/1450 [==============================] - 0s 54us/sample - loss: 0.7543 - accuracy: 0.6862\n",
      "Epoch 402/1000\n",
      "1450/1450 [==============================] - 0s 54us/sample - loss: 0.7435 - accuracy: 0.6834\n",
      "Epoch 403/1000\n",
      "1450/1450 [==============================] - 0s 55us/sample - loss: 0.7493 - accuracy: 0.6834\n",
      "Epoch 404/1000\n",
      "1450/1450 [==============================] - 0s 55us/sample - loss: 0.7463 - accuracy: 0.6862\n",
      "Epoch 405/1000\n",
      "1450/1450 [==============================] - 0s 55us/sample - loss: 0.7432 - accuracy: 0.6841\n",
      "Epoch 406/1000\n",
      "1450/1450 [==============================] - 0s 54us/sample - loss: 0.7495 - accuracy: 0.6897\n",
      "Epoch 407/1000\n",
      "1450/1450 [==============================] - 0s 55us/sample - loss: 0.7509 - accuracy: 0.6883\n",
      "Epoch 408/1000\n",
      "1450/1450 [==============================] - 0s 55us/sample - loss: 0.7550 - accuracy: 0.6821\n",
      "Epoch 409/1000\n",
      "1450/1450 [==============================] - 0s 55us/sample - loss: 0.7475 - accuracy: 0.6772\n",
      "Epoch 410/1000\n",
      "1450/1450 [==============================] - 0s 55us/sample - loss: 0.7494 - accuracy: 0.6828\n",
      "Epoch 411/1000\n",
      "1450/1450 [==============================] - 0s 54us/sample - loss: 0.7475 - accuracy: 0.6917\n",
      "Epoch 412/1000\n",
      "1450/1450 [==============================] - 0s 55us/sample - loss: 0.7542 - accuracy: 0.6855\n",
      "Epoch 413/1000\n",
      "1450/1450 [==============================] - 0s 55us/sample - loss: 0.7497 - accuracy: 0.6897\n",
      "Epoch 414/1000\n",
      "1450/1450 [==============================] - 0s 55us/sample - loss: 0.7550 - accuracy: 0.6800\n",
      "Epoch 415/1000\n",
      "1450/1450 [==============================] - 0s 55us/sample - loss: 0.7526 - accuracy: 0.6862\n",
      "Epoch 416/1000\n",
      "1450/1450 [==============================] - 0s 54us/sample - loss: 0.7513 - accuracy: 0.6834\n",
      "Epoch 417/1000\n",
      "1450/1450 [==============================] - 0s 56us/sample - loss: 0.7454 - accuracy: 0.6945\n",
      "Epoch 418/1000\n",
      "1450/1450 [==============================] - 0s 56us/sample - loss: 0.7511 - accuracy: 0.6897\n",
      "Epoch 419/1000\n",
      "1450/1450 [==============================] - 0s 56us/sample - loss: 0.7557 - accuracy: 0.6772\n",
      "Epoch 420/1000\n",
      "1450/1450 [==============================] - 0s 61us/sample - loss: 0.7436 - accuracy: 0.6924\n",
      "Epoch 421/1000\n",
      "1450/1450 [==============================] - 0s 77us/sample - loss: 0.7481 - accuracy: 0.6841\n",
      "Epoch 422/1000\n",
      "1450/1450 [==============================] - 0s 56us/sample - loss: 0.7576 - accuracy: 0.6752\n",
      "Epoch 423/1000\n",
      "1450/1450 [==============================] - 0s 55us/sample - loss: 0.7416 - accuracy: 0.6931\n",
      "Epoch 424/1000\n",
      "1450/1450 [==============================] - 0s 55us/sample - loss: 0.7394 - accuracy: 0.6897\n",
      "Epoch 425/1000\n",
      "1450/1450 [==============================] - 0s 55us/sample - loss: 0.7516 - accuracy: 0.6834\n",
      "Epoch 426/1000\n",
      "1450/1450 [==============================] - 0s 54us/sample - loss: 0.7527 - accuracy: 0.6883\n",
      "Epoch 427/1000\n",
      "1450/1450 [==============================] - 0s 55us/sample - loss: 0.7438 - accuracy: 0.6897\n",
      "Epoch 428/1000\n",
      "1450/1450 [==============================] - 0s 55us/sample - loss: 0.7535 - accuracy: 0.6876\n",
      "Epoch 429/1000\n",
      "1450/1450 [==============================] - 0s 55us/sample - loss: 0.7500 - accuracy: 0.6821\n",
      "Epoch 430/1000\n",
      "1450/1450 [==============================] - 0s 54us/sample - loss: 0.7450 - accuracy: 0.6855\n",
      "Epoch 431/1000\n",
      "1450/1450 [==============================] - 0s 55us/sample - loss: 0.7479 - accuracy: 0.6897\n",
      "Epoch 432/1000\n",
      "1450/1450 [==============================] - 0s 55us/sample - loss: 0.7509 - accuracy: 0.6724\n",
      "Epoch 433/1000\n",
      "1450/1450 [==============================] - 0s 56us/sample - loss: 0.7493 - accuracy: 0.6924\n",
      "Epoch 434/1000\n",
      "1450/1450 [==============================] - 0s 55us/sample - loss: 0.7484 - accuracy: 0.6917\n",
      "Epoch 435/1000\n",
      "1450/1450 [==============================] - 0s 55us/sample - loss: 0.7413 - accuracy: 0.6986\n",
      "Epoch 436/1000\n",
      "1450/1450 [==============================] - 0s 56us/sample - loss: 0.7390 - accuracy: 0.6903\n",
      "Epoch 437/1000\n",
      "1450/1450 [==============================] - 0s 56us/sample - loss: 0.7569 - accuracy: 0.6883\n",
      "Epoch 438/1000\n",
      "1450/1450 [==============================] - 0s 55us/sample - loss: 0.7443 - accuracy: 0.6931\n",
      "Epoch 439/1000\n",
      "1450/1450 [==============================] - 0s 55us/sample - loss: 0.7496 - accuracy: 0.6910\n",
      "Epoch 440/1000\n",
      "1450/1450 [==============================] - 0s 55us/sample - loss: 0.7536 - accuracy: 0.6862\n",
      "Epoch 441/1000\n",
      "1450/1450 [==============================] - 0s 55us/sample - loss: 0.7482 - accuracy: 0.6862\n",
      "Epoch 442/1000\n",
      "1450/1450 [==============================] - 0s 54us/sample - loss: 0.7500 - accuracy: 0.6786\n",
      "Epoch 443/1000\n",
      "1450/1450 [==============================] - 0s 62us/sample - loss: 0.7445 - accuracy: 0.6924\n",
      "Epoch 444/1000\n",
      "1450/1450 [==============================] - 0s 68us/sample - loss: 0.7380 - accuracy: 0.6862\n",
      "Epoch 445/1000\n",
      "1450/1450 [==============================] - 0s 62us/sample - loss: 0.7442 - accuracy: 0.6855\n",
      "Epoch 446/1000\n",
      "1450/1450 [==============================] - 0s 56us/sample - loss: 0.7556 - accuracy: 0.6876\n",
      "Epoch 447/1000\n",
      "1450/1450 [==============================] - 0s 55us/sample - loss: 0.7553 - accuracy: 0.6841\n",
      "Epoch 448/1000\n",
      "1450/1450 [==============================] - 0s 54us/sample - loss: 0.7478 - accuracy: 0.6848\n",
      "Epoch 449/1000\n",
      "1450/1450 [==============================] - 0s 55us/sample - loss: 0.7429 - accuracy: 0.6862\n",
      "Epoch 450/1000\n",
      "1450/1450 [==============================] - 0s 56us/sample - loss: 0.7481 - accuracy: 0.6848\n",
      "Epoch 451/1000\n"
     ]
    },
    {
     "name": "stdout",
     "output_type": "stream",
     "text": [
      "1450/1450 [==============================] - 0s 58us/sample - loss: 0.7506 - accuracy: 0.6828\n",
      "Epoch 452/1000\n",
      "1450/1450 [==============================] - 0s 55us/sample - loss: 0.7489 - accuracy: 0.6869\n",
      "Epoch 453/1000\n",
      "1450/1450 [==============================] - 0s 55us/sample - loss: 0.7464 - accuracy: 0.6938\n",
      "Epoch 454/1000\n",
      "1450/1450 [==============================] - 0s 55us/sample - loss: 0.7449 - accuracy: 0.6828\n",
      "Epoch 455/1000\n",
      "1450/1450 [==============================] - 0s 55us/sample - loss: 0.7431 - accuracy: 0.6862\n",
      "Epoch 456/1000\n",
      "1450/1450 [==============================] - 0s 55us/sample - loss: 0.7484 - accuracy: 0.6807\n",
      "Epoch 457/1000\n",
      "1450/1450 [==============================] - 0s 54us/sample - loss: 0.7426 - accuracy: 0.6841\n",
      "Epoch 458/1000\n",
      "1450/1450 [==============================] - 0s 55us/sample - loss: 0.7481 - accuracy: 0.6903\n",
      "Epoch 459/1000\n",
      "1450/1450 [==============================] - 0s 55us/sample - loss: 0.7458 - accuracy: 0.6793\n",
      "Epoch 460/1000\n",
      "1450/1450 [==============================] - 0s 54us/sample - loss: 0.7470 - accuracy: 0.6814\n",
      "Epoch 461/1000\n",
      "1450/1450 [==============================] - 0s 54us/sample - loss: 0.7563 - accuracy: 0.6855\n",
      "Epoch 462/1000\n",
      "1450/1450 [==============================] - 0s 55us/sample - loss: 0.7552 - accuracy: 0.6897\n",
      "Epoch 463/1000\n",
      "1450/1450 [==============================] - 0s 55us/sample - loss: 0.7320 - accuracy: 0.6952\n",
      "Epoch 464/1000\n",
      "1450/1450 [==============================] - 0s 55us/sample - loss: 0.7413 - accuracy: 0.6869\n",
      "Epoch 465/1000\n",
      "1450/1450 [==============================] - 0s 56us/sample - loss: 0.7509 - accuracy: 0.6834\n",
      "Epoch 466/1000\n",
      "1450/1450 [==============================] - 0s 54us/sample - loss: 0.7380 - accuracy: 0.6869\n",
      "Epoch 467/1000\n",
      "1450/1450 [==============================] - 0s 55us/sample - loss: 0.7521 - accuracy: 0.6869\n",
      "Epoch 468/1000\n",
      "1450/1450 [==============================] - 0s 55us/sample - loss: 0.7432 - accuracy: 0.6924\n",
      "Epoch 469/1000\n",
      "1450/1450 [==============================] - 0s 55us/sample - loss: 0.7438 - accuracy: 0.6903\n",
      "Epoch 470/1000\n",
      "1450/1450 [==============================] - 0s 54us/sample - loss: 0.7267 - accuracy: 0.6959\n",
      "Epoch 471/1000\n",
      "1450/1450 [==============================] - 0s 55us/sample - loss: 0.7410 - accuracy: 0.6855\n",
      "Epoch 472/1000\n",
      "1450/1450 [==============================] - 0s 55us/sample - loss: 0.7468 - accuracy: 0.6890\n",
      "Epoch 473/1000\n",
      "1450/1450 [==============================] - 0s 54us/sample - loss: 0.7383 - accuracy: 0.6890\n",
      "Epoch 474/1000\n",
      "1450/1450 [==============================] - 0s 55us/sample - loss: 0.7490 - accuracy: 0.6828\n",
      "Epoch 475/1000\n",
      "1450/1450 [==============================] - 0s 54us/sample - loss: 0.7423 - accuracy: 0.6931\n",
      "Epoch 476/1000\n",
      "1450/1450 [==============================] - 0s 55us/sample - loss: 0.7395 - accuracy: 0.6890\n",
      "Epoch 477/1000\n",
      "1450/1450 [==============================] - 0s 55us/sample - loss: 0.7419 - accuracy: 0.6903\n",
      "Epoch 478/1000\n",
      "1450/1450 [==============================] - 0s 56us/sample - loss: 0.7454 - accuracy: 0.6924\n",
      "Epoch 479/1000\n",
      "1450/1450 [==============================] - 0s 56us/sample - loss: 0.7449 - accuracy: 0.6862\n",
      "Epoch 480/1000\n",
      "1450/1450 [==============================] - 0s 55us/sample - loss: 0.7476 - accuracy: 0.6848\n",
      "Epoch 481/1000\n",
      "1450/1450 [==============================] - 0s 55us/sample - loss: 0.7473 - accuracy: 0.6903\n",
      "Epoch 482/1000\n",
      "1450/1450 [==============================] - 0s 55us/sample - loss: 0.7449 - accuracy: 0.6862\n",
      "Epoch 483/1000\n",
      "1450/1450 [==============================] - 0s 55us/sample - loss: 0.7428 - accuracy: 0.6931\n",
      "Epoch 484/1000\n",
      "1450/1450 [==============================] - 0s 55us/sample - loss: 0.7388 - accuracy: 0.6876\n",
      "Epoch 485/1000\n",
      "1450/1450 [==============================] - 0s 55us/sample - loss: 0.7407 - accuracy: 0.6903\n",
      "Epoch 486/1000\n",
      "1450/1450 [==============================] - 0s 54us/sample - loss: 0.7392 - accuracy: 0.6869\n",
      "Epoch 487/1000\n",
      "1450/1450 [==============================] - 0s 54us/sample - loss: 0.7475 - accuracy: 0.6855\n",
      "Epoch 488/1000\n",
      "1450/1450 [==============================] - 0s 54us/sample - loss: 0.7396 - accuracy: 0.6855\n",
      "Epoch 489/1000\n",
      "1450/1450 [==============================] - 0s 55us/sample - loss: 0.7404 - accuracy: 0.6883\n",
      "Epoch 490/1000\n",
      "1450/1450 [==============================] - 0s 55us/sample - loss: 0.7512 - accuracy: 0.6862\n",
      "Epoch 491/1000\n",
      "1450/1450 [==============================] - 0s 56us/sample - loss: 0.7428 - accuracy: 0.6924\n",
      "Epoch 492/1000\n",
      "1450/1450 [==============================] - 0s 58us/sample - loss: 0.7498 - accuracy: 0.6759\n",
      "Epoch 493/1000\n",
      "1450/1450 [==============================] - 0s 55us/sample - loss: 0.7361 - accuracy: 0.6931\n",
      "Epoch 494/1000\n",
      "1450/1450 [==============================] - 0s 55us/sample - loss: 0.7413 - accuracy: 0.6903\n",
      "Epoch 495/1000\n",
      "1450/1450 [==============================] - 0s 55us/sample - loss: 0.7407 - accuracy: 0.6952\n",
      "Epoch 496/1000\n",
      "1450/1450 [==============================] - 0s 55us/sample - loss: 0.7504 - accuracy: 0.6883\n",
      "Epoch 497/1000\n",
      "1450/1450 [==============================] - 0s 55us/sample - loss: 0.7432 - accuracy: 0.6876\n",
      "Epoch 498/1000\n",
      "1450/1450 [==============================] - 0s 55us/sample - loss: 0.7383 - accuracy: 0.6890\n",
      "Epoch 499/1000\n",
      "1450/1450 [==============================] - 0s 55us/sample - loss: 0.7434 - accuracy: 0.6959\n",
      "Epoch 500/1000\n",
      "1450/1450 [==============================] - 0s 55us/sample - loss: 0.7326 - accuracy: 0.6855\n",
      "Epoch 501/1000\n",
      "1450/1450 [==============================] - 0s 55us/sample - loss: 0.7411 - accuracy: 0.6855\n",
      "Epoch 502/1000\n",
      "1450/1450 [==============================] - 0s 55us/sample - loss: 0.7455 - accuracy: 0.6841\n",
      "Epoch 503/1000\n",
      "1450/1450 [==============================] - 0s 55us/sample - loss: 0.7387 - accuracy: 0.6924\n",
      "Epoch 504/1000\n",
      "1450/1450 [==============================] - 0s 55us/sample - loss: 0.7428 - accuracy: 0.6903\n",
      "Epoch 505/1000\n",
      "1450/1450 [==============================] - 0s 54us/sample - loss: 0.7460 - accuracy: 0.6952\n",
      "Epoch 506/1000\n",
      "1450/1450 [==============================] - 0s 56us/sample - loss: 0.7399 - accuracy: 0.6862\n",
      "Epoch 507/1000\n",
      "1450/1450 [==============================] - 0s 55us/sample - loss: 0.7422 - accuracy: 0.6876\n",
      "Epoch 508/1000\n",
      "1450/1450 [==============================] - 0s 56us/sample - loss: 0.7412 - accuracy: 0.6972\n",
      "Epoch 509/1000\n",
      "1450/1450 [==============================] - 0s 56us/sample - loss: 0.7424 - accuracy: 0.6931\n",
      "Epoch 510/1000\n",
      "1450/1450 [==============================] - 0s 56us/sample - loss: 0.7527 - accuracy: 0.6855\n",
      "Epoch 511/1000\n",
      "1450/1450 [==============================] - 0s 56us/sample - loss: 0.7452 - accuracy: 0.6931\n",
      "Epoch 512/1000\n",
      "1450/1450 [==============================] - 0s 54us/sample - loss: 0.7474 - accuracy: 0.6876\n",
      "Epoch 513/1000\n",
      "1450/1450 [==============================] - 0s 59us/sample - loss: 0.7328 - accuracy: 0.6945\n",
      "Epoch 514/1000\n",
      "1450/1450 [==============================] - 0s 55us/sample - loss: 0.7404 - accuracy: 0.6917\n",
      "Epoch 515/1000\n",
      "1450/1450 [==============================] - 0s 55us/sample - loss: 0.7449 - accuracy: 0.6903\n",
      "Epoch 516/1000\n",
      "1450/1450 [==============================] - 0s 56us/sample - loss: 0.7394 - accuracy: 0.6924\n",
      "Epoch 517/1000\n",
      "1450/1450 [==============================] - 0s 55us/sample - loss: 0.7452 - accuracy: 0.6848\n",
      "Epoch 518/1000\n",
      "1450/1450 [==============================] - 0s 55us/sample - loss: 0.7405 - accuracy: 0.6876\n",
      "Epoch 519/1000\n",
      "1450/1450 [==============================] - 0s 55us/sample - loss: 0.7365 - accuracy: 0.6890\n",
      "Epoch 520/1000\n",
      "1450/1450 [==============================] - 0s 55us/sample - loss: 0.7399 - accuracy: 0.6972\n",
      "Epoch 521/1000\n",
      "1450/1450 [==============================] - 0s 55us/sample - loss: 0.7283 - accuracy: 0.6986\n",
      "Epoch 522/1000\n",
      "1450/1450 [==============================] - 0s 55us/sample - loss: 0.7404 - accuracy: 0.6945\n",
      "Epoch 523/1000\n",
      "1450/1450 [==============================] - 0s 56us/sample - loss: 0.7356 - accuracy: 0.6931\n",
      "Epoch 524/1000\n",
      "1450/1450 [==============================] - 0s 56us/sample - loss: 0.7407 - accuracy: 0.6883\n",
      "Epoch 525/1000\n",
      "1450/1450 [==============================] - 0s 56us/sample - loss: 0.7365 - accuracy: 0.6938\n",
      "Epoch 526/1000\n",
      "1450/1450 [==============================] - 0s 57us/sample - loss: 0.7359 - accuracy: 0.6876\n",
      "Epoch 527/1000\n",
      "1450/1450 [==============================] - 0s 55us/sample - loss: 0.7333 - accuracy: 0.6890\n",
      "Epoch 528/1000\n",
      "1450/1450 [==============================] - 0s 54us/sample - loss: 0.7443 - accuracy: 0.6828\n",
      "Epoch 529/1000\n",
      "1450/1450 [==============================] - 0s 55us/sample - loss: 0.7417 - accuracy: 0.6931\n",
      "Epoch 530/1000\n",
      "1450/1450 [==============================] - 0s 57us/sample - loss: 0.7403 - accuracy: 0.6903\n",
      "Epoch 531/1000\n",
      "1450/1450 [==============================] - 0s 66us/sample - loss: 0.7284 - accuracy: 0.6910\n",
      "Epoch 532/1000\n",
      "1450/1450 [==============================] - 0s 65us/sample - loss: 0.7376 - accuracy: 0.6924\n",
      "Epoch 533/1000\n",
      "1450/1450 [==============================] - 0s 65us/sample - loss: 0.7527 - accuracy: 0.6855\n",
      "Epoch 534/1000\n",
      "1450/1450 [==============================] - 0s 66us/sample - loss: 0.7419 - accuracy: 0.6841\n",
      "Epoch 535/1000\n",
      "1450/1450 [==============================] - 0s 75us/sample - loss: 0.7355 - accuracy: 0.6972\n",
      "Epoch 536/1000\n",
      "1450/1450 [==============================] - 0s 73us/sample - loss: 0.7348 - accuracy: 0.6910\n",
      "Epoch 537/1000\n",
      "1450/1450 [==============================] - 0s 69us/sample - loss: 0.7379 - accuracy: 0.6917\n",
      "Epoch 538/1000\n",
      "1450/1450 [==============================] - 0s 55us/sample - loss: 0.7401 - accuracy: 0.6924\n",
      "Epoch 539/1000\n",
      "1450/1450 [==============================] - 0s 57us/sample - loss: 0.7337 - accuracy: 0.6945\n",
      "Epoch 540/1000\n",
      "1450/1450 [==============================] - 0s 65us/sample - loss: 0.7425 - accuracy: 0.6931\n",
      "Epoch 541/1000\n",
      "1450/1450 [==============================] - 0s 61us/sample - loss: 0.7496 - accuracy: 0.6834\n",
      "Epoch 542/1000\n",
      "1450/1450 [==============================] - 0s 55us/sample - loss: 0.7338 - accuracy: 0.6979\n",
      "Epoch 543/1000\n",
      "1450/1450 [==============================] - 0s 55us/sample - loss: 0.7403 - accuracy: 0.6869\n",
      "Epoch 544/1000\n",
      "1450/1450 [==============================] - 0s 57us/sample - loss: 0.7346 - accuracy: 0.6876\n",
      "Epoch 545/1000\n",
      "1450/1450 [==============================] - 0s 55us/sample - loss: 0.7459 - accuracy: 0.6814\n",
      "Epoch 546/1000\n",
      "1450/1450 [==============================] - 0s 57us/sample - loss: 0.7340 - accuracy: 0.6931\n",
      "Epoch 547/1000\n",
      "1450/1450 [==============================] - 0s 67us/sample - loss: 0.7436 - accuracy: 0.6855\n",
      "Epoch 548/1000\n",
      "1450/1450 [==============================] - 0s 71us/sample - loss: 0.7292 - accuracy: 0.6938\n",
      "Epoch 549/1000\n",
      "1450/1450 [==============================] - 0s 66us/sample - loss: 0.7397 - accuracy: 0.6828\n",
      "Epoch 550/1000\n",
      "1450/1450 [==============================] - 0s 69us/sample - loss: 0.7343 - accuracy: 0.6931\n",
      "Epoch 551/1000\n",
      "1450/1450 [==============================] - 0s 67us/sample - loss: 0.7355 - accuracy: 0.6917\n",
      "Epoch 552/1000\n",
      "1450/1450 [==============================] - 0s 68us/sample - loss: 0.7380 - accuracy: 0.6876\n",
      "Epoch 553/1000\n",
      "1450/1450 [==============================] - 0s 71us/sample - loss: 0.7347 - accuracy: 0.6903\n",
      "Epoch 554/1000\n",
      "1450/1450 [==============================] - 0s 70us/sample - loss: 0.7267 - accuracy: 0.6986\n",
      "Epoch 555/1000\n",
      "1450/1450 [==============================] - 0s 65us/sample - loss: 0.7365 - accuracy: 0.6945\n",
      "Epoch 556/1000\n",
      "1450/1450 [==============================] - 0s 56us/sample - loss: 0.7347 - accuracy: 0.6959\n",
      "Epoch 557/1000\n",
      "1450/1450 [==============================] - 0s 58us/sample - loss: 0.7328 - accuracy: 0.7000\n",
      "Epoch 558/1000\n",
      "1450/1450 [==============================] - 0s 68us/sample - loss: 0.7286 - accuracy: 0.6945\n",
      "Epoch 559/1000\n",
      "1450/1450 [==============================] - 0s 70us/sample - loss: 0.7340 - accuracy: 0.7021\n",
      "Epoch 560/1000\n",
      "1450/1450 [==============================] - 0s 72us/sample - loss: 0.7316 - accuracy: 0.6938\n",
      "Epoch 561/1000\n",
      "1450/1450 [==============================] - 0s 71us/sample - loss: 0.7397 - accuracy: 0.6883\n",
      "Epoch 562/1000\n",
      "1450/1450 [==============================] - 0s 72us/sample - loss: 0.7397 - accuracy: 0.6890\n",
      "Epoch 563/1000\n",
      "1450/1450 [==============================] - 0s 71us/sample - loss: 0.7426 - accuracy: 0.6828\n",
      "Epoch 564/1000\n",
      "1450/1450 [==============================] - 0s 70us/sample - loss: 0.7463 - accuracy: 0.6807\n",
      "Epoch 565/1000\n",
      "1450/1450 [==============================] - 0s 68us/sample - loss: 0.7290 - accuracy: 0.6986\n",
      "Epoch 566/1000\n",
      "1450/1450 [==============================] - 0s 66us/sample - loss: 0.7347 - accuracy: 0.6924\n",
      "Epoch 567/1000\n",
      "1450/1450 [==============================] - 0s 82us/sample - loss: 0.7286 - accuracy: 0.6952\n",
      "Epoch 568/1000\n",
      "1450/1450 [==============================] - 0s 79us/sample - loss: 0.7334 - accuracy: 0.6966\n",
      "Epoch 569/1000\n",
      "1450/1450 [==============================] - 0s 61us/sample - loss: 0.7320 - accuracy: 0.7000\n",
      "Epoch 570/1000\n",
      "1450/1450 [==============================] - 0s 73us/sample - loss: 0.7330 - accuracy: 0.6862\n",
      "Epoch 571/1000\n",
      "1450/1450 [==============================] - 0s 65us/sample - loss: 0.7331 - accuracy: 0.6890\n",
      "Epoch 572/1000\n",
      "1450/1450 [==============================] - 0s 56us/sample - loss: 0.7338 - accuracy: 0.6828\n",
      "Epoch 573/1000\n",
      "1450/1450 [==============================] - 0s 56us/sample - loss: 0.7371 - accuracy: 0.6938\n",
      "Epoch 574/1000\n",
      "1450/1450 [==============================] - 0s 55us/sample - loss: 0.7347 - accuracy: 0.6979\n",
      "Epoch 575/1000\n",
      "1450/1450 [==============================] - 0s 55us/sample - loss: 0.7335 - accuracy: 0.6897\n",
      "Epoch 576/1000\n",
      "1450/1450 [==============================] - 0s 57us/sample - loss: 0.7376 - accuracy: 0.6931\n",
      "Epoch 577/1000\n",
      "1450/1450 [==============================] - 0s 63us/sample - loss: 0.7288 - accuracy: 0.6917\n",
      "Epoch 578/1000\n",
      "1450/1450 [==============================] - 0s 69us/sample - loss: 0.7248 - accuracy: 0.6993\n",
      "Epoch 579/1000\n",
      "1450/1450 [==============================] - 0s 67us/sample - loss: 0.7351 - accuracy: 0.6855\n",
      "Epoch 580/1000\n",
      "1450/1450 [==============================] - 0s 71us/sample - loss: 0.7368 - accuracy: 0.6897\n",
      "Epoch 581/1000\n",
      "1450/1450 [==============================] - 0s 73us/sample - loss: 0.7184 - accuracy: 0.6917\n",
      "Epoch 582/1000\n",
      "1450/1450 [==============================] - 0s 75us/sample - loss: 0.7363 - accuracy: 0.6924\n",
      "Epoch 583/1000\n",
      "1450/1450 [==============================] - 0s 74us/sample - loss: 0.7371 - accuracy: 0.6959\n",
      "Epoch 584/1000\n",
      "1450/1450 [==============================] - 0s 71us/sample - loss: 0.7261 - accuracy: 0.6972\n",
      "Epoch 585/1000\n",
      "1450/1450 [==============================] - 0s 74us/sample - loss: 0.7459 - accuracy: 0.6910\n",
      "Epoch 586/1000\n",
      "1450/1450 [==============================] - 0s 67us/sample - loss: 0.7391 - accuracy: 0.6938\n",
      "Epoch 587/1000\n",
      "1450/1450 [==============================] - 0s 71us/sample - loss: 0.7402 - accuracy: 0.6910\n",
      "Epoch 588/1000\n",
      "1450/1450 [==============================] - 0s 75us/sample - loss: 0.7239 - accuracy: 0.6945\n",
      "Epoch 589/1000\n",
      "1450/1450 [==============================] - 0s 73us/sample - loss: 0.7327 - accuracy: 0.6966\n",
      "Epoch 590/1000\n",
      "1450/1450 [==============================] - 0s 64us/sample - loss: 0.7308 - accuracy: 0.7000\n",
      "Epoch 591/1000\n",
      "1450/1450 [==============================] - 0s 57us/sample - loss: 0.7277 - accuracy: 0.6972\n",
      "Epoch 592/1000\n",
      "1450/1450 [==============================] - 0s 56us/sample - loss: 0.7284 - accuracy: 0.6897\n",
      "Epoch 593/1000\n",
      "1450/1450 [==============================] - 0s 61us/sample - loss: 0.7301 - accuracy: 0.6869\n",
      "Epoch 594/1000\n",
      "1450/1450 [==============================] - 0s 73us/sample - loss: 0.7376 - accuracy: 0.6910\n",
      "Epoch 595/1000\n",
      "1450/1450 [==============================] - 0s 57us/sample - loss: 0.7279 - accuracy: 0.6945\n",
      "Epoch 596/1000\n",
      "1450/1450 [==============================] - 0s 63us/sample - loss: 0.7369 - accuracy: 0.6890\n",
      "Epoch 597/1000\n",
      "1450/1450 [==============================] - 0s 71us/sample - loss: 0.7326 - accuracy: 0.6917\n",
      "Epoch 598/1000\n",
      "1450/1450 [==============================] - 0s 69us/sample - loss: 0.7326 - accuracy: 0.6910\n",
      "Epoch 599/1000\n",
      "1450/1450 [==============================] - 0s 71us/sample - loss: 0.7180 - accuracy: 0.6931\n",
      "Epoch 600/1000\n",
      "1450/1450 [==============================] - 0s 69us/sample - loss: 0.7355 - accuracy: 0.6931\n",
      "Epoch 601/1000\n"
     ]
    },
    {
     "name": "stdout",
     "output_type": "stream",
     "text": [
      "1450/1450 [==============================] - 0s 71us/sample - loss: 0.7394 - accuracy: 0.6807\n",
      "Epoch 602/1000\n",
      "1450/1450 [==============================] - 0s 69us/sample - loss: 0.7381 - accuracy: 0.6903\n",
      "Epoch 603/1000\n",
      "1450/1450 [==============================] - 0s 69us/sample - loss: 0.7388 - accuracy: 0.6883\n",
      "Epoch 604/1000\n",
      "1450/1450 [==============================] - 0s 58us/sample - loss: 0.7264 - accuracy: 0.6869\n",
      "Epoch 605/1000\n",
      "1450/1450 [==============================] - 0s 71us/sample - loss: 0.7282 - accuracy: 0.6952\n",
      "Epoch 606/1000\n",
      "1450/1450 [==============================] - 0s 71us/sample - loss: 0.7322 - accuracy: 0.6910\n",
      "Epoch 607/1000\n",
      "1450/1450 [==============================] - 0s 69us/sample - loss: 0.7360 - accuracy: 0.6883\n",
      "Epoch 608/1000\n",
      "1450/1450 [==============================] - 0s 69us/sample - loss: 0.7312 - accuracy: 0.6883\n",
      "Epoch 609/1000\n",
      "1450/1450 [==============================] - 0s 69us/sample - loss: 0.7279 - accuracy: 0.6966\n",
      "Epoch 610/1000\n",
      "1450/1450 [==============================] - 0s 69us/sample - loss: 0.7286 - accuracy: 0.6931\n",
      "Epoch 611/1000\n",
      "1450/1450 [==============================] - 0s 68us/sample - loss: 0.7379 - accuracy: 0.6931\n",
      "Epoch 612/1000\n",
      "1450/1450 [==============================] - 0s 68us/sample - loss: 0.7312 - accuracy: 0.6972\n",
      "Epoch 613/1000\n",
      "1450/1450 [==============================] - 0s 67us/sample - loss: 0.7236 - accuracy: 0.6993\n",
      "Epoch 614/1000\n",
      "1450/1450 [==============================] - 0s 67us/sample - loss: 0.7304 - accuracy: 0.6931\n",
      "Epoch 615/1000\n",
      "1450/1450 [==============================] - 0s 60us/sample - loss: 0.7271 - accuracy: 0.6959\n",
      "Epoch 616/1000\n",
      "1450/1450 [==============================] - 0s 62us/sample - loss: 0.7415 - accuracy: 0.6938\n",
      "Epoch 617/1000\n",
      "1450/1450 [==============================] - 0s 65us/sample - loss: 0.7339 - accuracy: 0.6910\n",
      "Epoch 618/1000\n",
      "1450/1450 [==============================] - 0s 75us/sample - loss: 0.7253 - accuracy: 0.6972\n",
      "Epoch 619/1000\n",
      "1450/1450 [==============================] - 0s 70us/sample - loss: 0.7450 - accuracy: 0.6917\n",
      "Epoch 620/1000\n",
      "1450/1450 [==============================] - 0s 70us/sample - loss: 0.7364 - accuracy: 0.6897\n",
      "Epoch 621/1000\n",
      "1450/1450 [==============================] - 0s 69us/sample - loss: 0.7298 - accuracy: 0.6938\n",
      "Epoch 622/1000\n",
      "1450/1450 [==============================] - 0s 69us/sample - loss: 0.7271 - accuracy: 0.7007\n",
      "Epoch 623/1000\n",
      "1450/1450 [==============================] - 0s 65us/sample - loss: 0.7332 - accuracy: 0.6952\n",
      "Epoch 624/1000\n",
      "1450/1450 [==============================] - 0s 70us/sample - loss: 0.7355 - accuracy: 0.6952\n",
      "Epoch 625/1000\n",
      "1450/1450 [==============================] - 0s 71us/sample - loss: 0.7381 - accuracy: 0.6876\n",
      "Epoch 626/1000\n",
      "1450/1450 [==============================] - 0s 72us/sample - loss: 0.7235 - accuracy: 0.6931\n",
      "Epoch 627/1000\n",
      "1450/1450 [==============================] - 0s 71us/sample - loss: 0.7301 - accuracy: 0.6883\n",
      "Epoch 628/1000\n",
      "1450/1450 [==============================] - 0s 71us/sample - loss: 0.7224 - accuracy: 0.6993\n",
      "Epoch 629/1000\n",
      "1450/1450 [==============================] - 0s 73us/sample - loss: 0.7321 - accuracy: 0.6910\n",
      "Epoch 630/1000\n",
      "1450/1450 [==============================] - 0s 72us/sample - loss: 0.7419 - accuracy: 0.6883\n",
      "Epoch 631/1000\n",
      "1450/1450 [==============================] - 0s 71us/sample - loss: 0.7317 - accuracy: 0.6959\n",
      "Epoch 632/1000\n",
      "1450/1450 [==============================] - 0s 70us/sample - loss: 0.7244 - accuracy: 0.6931\n",
      "Epoch 633/1000\n",
      "1450/1450 [==============================] - 0s 71us/sample - loss: 0.7207 - accuracy: 0.7028\n",
      "Epoch 634/1000\n",
      "1450/1450 [==============================] - 0s 64us/sample - loss: 0.7309 - accuracy: 0.6966\n",
      "Epoch 635/1000\n",
      "1450/1450 [==============================] - 0s 77us/sample - loss: 0.7243 - accuracy: 0.6966\n",
      "Epoch 636/1000\n",
      "1450/1450 [==============================] - 0s 73us/sample - loss: 0.7308 - accuracy: 0.6938\n",
      "Epoch 637/1000\n",
      "1450/1450 [==============================] - 0s 70us/sample - loss: 0.7278 - accuracy: 0.6890\n",
      "Epoch 638/1000\n",
      "1450/1450 [==============================] - 0s 70us/sample - loss: 0.7293 - accuracy: 0.6903\n",
      "Epoch 639/1000\n",
      "1450/1450 [==============================] - 0s 72us/sample - loss: 0.7408 - accuracy: 0.6910\n",
      "Epoch 640/1000\n",
      "1450/1450 [==============================] - 0s 72us/sample - loss: 0.7300 - accuracy: 0.6931\n",
      "Epoch 641/1000\n",
      "1450/1450 [==============================] - 0s 71us/sample - loss: 0.7320 - accuracy: 0.6952\n",
      "Epoch 642/1000\n",
      "1450/1450 [==============================] - 0s 74us/sample - loss: 0.7425 - accuracy: 0.6862\n",
      "Epoch 643/1000\n",
      "1450/1450 [==============================] - 0s 74us/sample - loss: 0.7286 - accuracy: 0.7048\n",
      "Epoch 644/1000\n",
      "1450/1450 [==============================] - 0s 76us/sample - loss: 0.7200 - accuracy: 0.6966\n",
      "Epoch 645/1000\n",
      "1450/1450 [==============================] - 0s 71us/sample - loss: 0.7316 - accuracy: 0.6959\n",
      "Epoch 646/1000\n",
      "1450/1450 [==============================] - 0s 67us/sample - loss: 0.7313 - accuracy: 0.6862\n",
      "Epoch 647/1000\n",
      "1450/1450 [==============================] - 0s 72us/sample - loss: 0.7266 - accuracy: 0.6890\n",
      "Epoch 648/1000\n",
      "1450/1450 [==============================] - 0s 111us/sample - loss: 0.7326 - accuracy: 0.6945\n",
      "Epoch 649/1000\n",
      "1450/1450 [==============================] - 0s 72us/sample - loss: 0.7444 - accuracy: 0.6834\n",
      "Epoch 650/1000\n",
      "1450/1450 [==============================] - 0s 70us/sample - loss: 0.7425 - accuracy: 0.6917\n",
      "Epoch 651/1000\n",
      "1450/1450 [==============================] - 0s 70us/sample - loss: 0.7302 - accuracy: 0.6897\n",
      "Epoch 652/1000\n",
      "1450/1450 [==============================] - 0s 63us/sample - loss: 0.7240 - accuracy: 0.6938\n",
      "Epoch 653/1000\n",
      "1450/1450 [==============================] - 0s 73us/sample - loss: 0.7242 - accuracy: 0.6931\n",
      "Epoch 654/1000\n",
      "1450/1450 [==============================] - 0s 71us/sample - loss: 0.7262 - accuracy: 0.6986\n",
      "Epoch 655/1000\n",
      "1450/1450 [==============================] - 0s 71us/sample - loss: 0.7346 - accuracy: 0.6903\n",
      "Epoch 656/1000\n",
      "1450/1450 [==============================] - 0s 70us/sample - loss: 0.7167 - accuracy: 0.6966\n",
      "Epoch 657/1000\n",
      "1450/1450 [==============================] - 0s 71us/sample - loss: 0.7271 - accuracy: 0.6986\n",
      "Epoch 658/1000\n",
      "1450/1450 [==============================] - 0s 71us/sample - loss: 0.7231 - accuracy: 0.6952\n",
      "Epoch 659/1000\n",
      "1450/1450 [==============================] - 0s 73us/sample - loss: 0.7240 - accuracy: 0.6952\n",
      "Epoch 660/1000\n",
      "1450/1450 [==============================] - 0s 72us/sample - loss: 0.7276 - accuracy: 0.6869\n",
      "Epoch 661/1000\n",
      "1450/1450 [==============================] - 0s 64us/sample - loss: 0.7345 - accuracy: 0.7021\n",
      "Epoch 662/1000\n",
      "1450/1450 [==============================] - 0s 57us/sample - loss: 0.7418 - accuracy: 0.6931\n",
      "Epoch 663/1000\n",
      "1450/1450 [==============================] - 0s 56us/sample - loss: 0.7286 - accuracy: 0.6945\n",
      "Epoch 664/1000\n",
      "1450/1450 [==============================] - 0s 56us/sample - loss: 0.7244 - accuracy: 0.6959\n",
      "Epoch 665/1000\n",
      "1450/1450 [==============================] - 0s 57us/sample - loss: 0.7247 - accuracy: 0.6993\n",
      "Epoch 666/1000\n",
      "1450/1450 [==============================] - 0s 55us/sample - loss: 0.7308 - accuracy: 0.6945\n",
      "Epoch 667/1000\n",
      "1450/1450 [==============================] - 0s 56us/sample - loss: 0.7231 - accuracy: 0.6959\n",
      "Epoch 668/1000\n",
      "1450/1450 [==============================] - 0s 56us/sample - loss: 0.7337 - accuracy: 0.6910\n",
      "Epoch 669/1000\n",
      "1450/1450 [==============================] - 0s 55us/sample - loss: 0.7247 - accuracy: 0.6931\n",
      "Epoch 670/1000\n",
      "1450/1450 [==============================] - 0s 55us/sample - loss: 0.7215 - accuracy: 0.6952\n",
      "Epoch 671/1000\n",
      "1450/1450 [==============================] - 0s 55us/sample - loss: 0.7230 - accuracy: 0.6876\n",
      "Epoch 672/1000\n",
      "1450/1450 [==============================] - 0s 56us/sample - loss: 0.7286 - accuracy: 0.6952\n",
      "Epoch 673/1000\n",
      "1450/1450 [==============================] - 0s 58us/sample - loss: 0.7248 - accuracy: 0.6986\n",
      "Epoch 674/1000\n",
      "1450/1450 [==============================] - 0s 55us/sample - loss: 0.7248 - accuracy: 0.6924\n",
      "Epoch 675/1000\n",
      "1450/1450 [==============================] - 0s 56us/sample - loss: 0.7229 - accuracy: 0.6917\n",
      "Epoch 676/1000\n",
      "1450/1450 [==============================] - 0s 56us/sample - loss: 0.7194 - accuracy: 0.6993\n",
      "Epoch 677/1000\n",
      "1450/1450 [==============================] - 0s 55us/sample - loss: 0.7284 - accuracy: 0.7041\n",
      "Epoch 678/1000\n",
      "1450/1450 [==============================] - 0s 54us/sample - loss: 0.7347 - accuracy: 0.6917\n",
      "Epoch 679/1000\n",
      "1450/1450 [==============================] - 0s 55us/sample - loss: 0.7286 - accuracy: 0.6883\n",
      "Epoch 680/1000\n",
      "1450/1450 [==============================] - 0s 55us/sample - loss: 0.7271 - accuracy: 0.6883\n",
      "Epoch 681/1000\n",
      "1450/1450 [==============================] - 0s 54us/sample - loss: 0.7336 - accuracy: 0.6945\n",
      "Epoch 682/1000\n",
      "1450/1450 [==============================] - 0s 55us/sample - loss: 0.7208 - accuracy: 0.6931\n",
      "Epoch 683/1000\n",
      "1450/1450 [==============================] - 0s 54us/sample - loss: 0.7188 - accuracy: 0.6959\n",
      "Epoch 684/1000\n",
      "1450/1450 [==============================] - 0s 55us/sample - loss: 0.7230 - accuracy: 0.7000\n",
      "Epoch 685/1000\n",
      "1450/1450 [==============================] - 0s 55us/sample - loss: 0.7162 - accuracy: 0.6966\n",
      "Epoch 686/1000\n",
      "1450/1450 [==============================] - 0s 55us/sample - loss: 0.7245 - accuracy: 0.6966\n",
      "Epoch 687/1000\n",
      "1450/1450 [==============================] - 0s 56us/sample - loss: 0.7321 - accuracy: 0.6945\n",
      "Epoch 688/1000\n",
      "1450/1450 [==============================] - 0s 54us/sample - loss: 0.7374 - accuracy: 0.6931\n",
      "Epoch 689/1000\n",
      "1450/1450 [==============================] - 0s 54us/sample - loss: 0.7281 - accuracy: 0.6979\n",
      "Epoch 690/1000\n",
      "1450/1450 [==============================] - 0s 55us/sample - loss: 0.7246 - accuracy: 0.6890\n",
      "Epoch 691/1000\n",
      "1450/1450 [==============================] - 0s 54us/sample - loss: 0.7325 - accuracy: 0.6959\n",
      "Epoch 692/1000\n",
      "1450/1450 [==============================] - 0s 55us/sample - loss: 0.7248 - accuracy: 0.7034\n",
      "Epoch 693/1000\n",
      "1450/1450 [==============================] - 0s 54us/sample - loss: 0.7150 - accuracy: 0.6986\n",
      "Epoch 694/1000\n",
      "1450/1450 [==============================] - 0s 54us/sample - loss: 0.7181 - accuracy: 0.6986\n",
      "Epoch 695/1000\n",
      "1450/1450 [==============================] - 0s 55us/sample - loss: 0.7247 - accuracy: 0.7000\n",
      "Epoch 696/1000\n",
      "1450/1450 [==============================] - 0s 55us/sample - loss: 0.7189 - accuracy: 0.6910\n",
      "Epoch 697/1000\n",
      "1450/1450 [==============================] - 0s 54us/sample - loss: 0.7185 - accuracy: 0.6848\n",
      "Epoch 698/1000\n",
      "1450/1450 [==============================] - 0s 55us/sample - loss: 0.7245 - accuracy: 0.6952\n",
      "Epoch 699/1000\n",
      "1450/1450 [==============================] - 0s 54us/sample - loss: 0.7269 - accuracy: 0.6952\n",
      "Epoch 700/1000\n",
      "1450/1450 [==============================] - 0s 55us/sample - loss: 0.7301 - accuracy: 0.6986\n",
      "Epoch 701/1000\n",
      "1450/1450 [==============================] - 0s 57us/sample - loss: 0.7299 - accuracy: 0.6910\n",
      "Epoch 702/1000\n",
      "1450/1450 [==============================] - 0s 55us/sample - loss: 0.7263 - accuracy: 0.6979\n",
      "Epoch 703/1000\n",
      "1450/1450 [==============================] - 0s 54us/sample - loss: 0.7235 - accuracy: 0.6993\n",
      "Epoch 704/1000\n",
      "1450/1450 [==============================] - 0s 55us/sample - loss: 0.7284 - accuracy: 0.6952\n",
      "Epoch 705/1000\n",
      "1450/1450 [==============================] - 0s 54us/sample - loss: 0.7305 - accuracy: 0.6931\n",
      "Epoch 706/1000\n",
      "1450/1450 [==============================] - 0s 54us/sample - loss: 0.7215 - accuracy: 0.7014\n",
      "Epoch 707/1000\n",
      "1450/1450 [==============================] - 0s 55us/sample - loss: 0.7291 - accuracy: 0.6910\n",
      "Epoch 708/1000\n",
      "1450/1450 [==============================] - 0s 55us/sample - loss: 0.7268 - accuracy: 0.6903\n",
      "Epoch 709/1000\n",
      "1450/1450 [==============================] - 0s 55us/sample - loss: 0.7276 - accuracy: 0.6972\n",
      "Epoch 710/1000\n",
      "1450/1450 [==============================] - 0s 55us/sample - loss: 0.7227 - accuracy: 0.6959\n",
      "Epoch 711/1000\n",
      "1450/1450 [==============================] - 0s 54us/sample - loss: 0.7192 - accuracy: 0.7048\n",
      "Epoch 712/1000\n",
      "1450/1450 [==============================] - 0s 76us/sample - loss: 0.7147 - accuracy: 0.7014\n",
      "Epoch 713/1000\n",
      "1450/1450 [==============================] - 0s 56us/sample - loss: 0.7160 - accuracy: 0.6959\n",
      "Epoch 714/1000\n",
      "1450/1450 [==============================] - 0s 55us/sample - loss: 0.7173 - accuracy: 0.6945\n",
      "Epoch 715/1000\n",
      "1450/1450 [==============================] - 0s 56us/sample - loss: 0.7191 - accuracy: 0.6986\n",
      "Epoch 716/1000\n",
      "1450/1450 [==============================] - 0s 55us/sample - loss: 0.7261 - accuracy: 0.6966\n",
      "Epoch 717/1000\n",
      "1450/1450 [==============================] - 0s 55us/sample - loss: 0.7172 - accuracy: 0.6979\n",
      "Epoch 718/1000\n",
      "1450/1450 [==============================] - 0s 54us/sample - loss: 0.7204 - accuracy: 0.7014\n",
      "Epoch 719/1000\n",
      "1450/1450 [==============================] - 0s 55us/sample - loss: 0.7253 - accuracy: 0.6979\n",
      "Epoch 720/1000\n",
      "1450/1450 [==============================] - 0s 54us/sample - loss: 0.7209 - accuracy: 0.6938\n",
      "Epoch 721/1000\n",
      "1450/1450 [==============================] - 0s 54us/sample - loss: 0.7229 - accuracy: 0.7007\n",
      "Epoch 722/1000\n",
      "1450/1450 [==============================] - 0s 54us/sample - loss: 0.7249 - accuracy: 0.7048\n",
      "Epoch 723/1000\n",
      "1450/1450 [==============================] - 0s 55us/sample - loss: 0.7256 - accuracy: 0.6966\n",
      "Epoch 724/1000\n",
      "1450/1450 [==============================] - 0s 55us/sample - loss: 0.7212 - accuracy: 0.7041\n",
      "Epoch 725/1000\n",
      "1450/1450 [==============================] - 0s 58us/sample - loss: 0.7218 - accuracy: 0.6952\n",
      "Epoch 726/1000\n",
      "1450/1450 [==============================] - 0s 56us/sample - loss: 0.7156 - accuracy: 0.7000\n",
      "Epoch 727/1000\n",
      "1450/1450 [==============================] - 0s 55us/sample - loss: 0.7367 - accuracy: 0.6993\n",
      "Epoch 728/1000\n",
      "1450/1450 [==============================] - 0s 55us/sample - loss: 0.7183 - accuracy: 0.6972\n",
      "Epoch 729/1000\n",
      "1450/1450 [==============================] - 0s 55us/sample - loss: 0.7248 - accuracy: 0.7007\n",
      "Epoch 730/1000\n",
      "1450/1450 [==============================] - 0s 57us/sample - loss: 0.7269 - accuracy: 0.6986\n",
      "Epoch 731/1000\n",
      "1450/1450 [==============================] - 0s 55us/sample - loss: 0.7195 - accuracy: 0.6910\n",
      "Epoch 732/1000\n",
      "1450/1450 [==============================] - 0s 55us/sample - loss: 0.7245 - accuracy: 0.6979\n",
      "Epoch 733/1000\n",
      "1450/1450 [==============================] - 0s 55us/sample - loss: 0.7298 - accuracy: 0.6924\n",
      "Epoch 734/1000\n",
      "1450/1450 [==============================] - 0s 55us/sample - loss: 0.7251 - accuracy: 0.7028\n",
      "Epoch 735/1000\n",
      "1450/1450 [==============================] - 0s 55us/sample - loss: 0.7219 - accuracy: 0.6979\n",
      "Epoch 736/1000\n",
      "1450/1450 [==============================] - 0s 55us/sample - loss: 0.7237 - accuracy: 0.6966\n",
      "Epoch 737/1000\n",
      "1450/1450 [==============================] - 0s 55us/sample - loss: 0.7248 - accuracy: 0.6917\n",
      "Epoch 738/1000\n",
      "1450/1450 [==============================] - 0s 55us/sample - loss: 0.7115 - accuracy: 0.6993\n",
      "Epoch 739/1000\n",
      "1450/1450 [==============================] - 0s 55us/sample - loss: 0.7219 - accuracy: 0.6993\n",
      "Epoch 740/1000\n",
      "1450/1450 [==============================] - 0s 55us/sample - loss: 0.7206 - accuracy: 0.7007\n",
      "Epoch 741/1000\n",
      "1450/1450 [==============================] - 0s 54us/sample - loss: 0.7237 - accuracy: 0.6979\n",
      "Epoch 742/1000\n",
      "1450/1450 [==============================] - 0s 55us/sample - loss: 0.7320 - accuracy: 0.6883\n",
      "Epoch 743/1000\n",
      "1450/1450 [==============================] - 0s 55us/sample - loss: 0.7230 - accuracy: 0.7048\n",
      "Epoch 744/1000\n",
      "1450/1450 [==============================] - 0s 55us/sample - loss: 0.7236 - accuracy: 0.6959\n",
      "Epoch 745/1000\n",
      "1450/1450 [==============================] - 0s 66us/sample - loss: 0.7204 - accuracy: 0.7041\n",
      "Epoch 746/1000\n",
      "1450/1450 [==============================] - 0s 58us/sample - loss: 0.7206 - accuracy: 0.6972\n",
      "Epoch 747/1000\n",
      "1450/1450 [==============================] - 0s 55us/sample - loss: 0.7129 - accuracy: 0.7076\n",
      "Epoch 748/1000\n",
      "1450/1450 [==============================] - 0s 55us/sample - loss: 0.7221 - accuracy: 0.6972\n",
      "Epoch 749/1000\n",
      "1450/1450 [==============================] - 0s 55us/sample - loss: 0.7239 - accuracy: 0.7034\n",
      "Epoch 750/1000\n",
      "1450/1450 [==============================] - 0s 55us/sample - loss: 0.7280 - accuracy: 0.7000\n",
      "Epoch 751/1000\n"
     ]
    },
    {
     "name": "stdout",
     "output_type": "stream",
     "text": [
      "1450/1450 [==============================] - 0s 57us/sample - loss: 0.7168 - accuracy: 0.7007\n",
      "Epoch 752/1000\n",
      "1450/1450 [==============================] - 0s 55us/sample - loss: 0.7281 - accuracy: 0.6910\n",
      "Epoch 753/1000\n",
      "1450/1450 [==============================] - 0s 58us/sample - loss: 0.7197 - accuracy: 0.6966\n",
      "Epoch 754/1000\n",
      "1450/1450 [==============================] - 0s 54us/sample - loss: 0.7185 - accuracy: 0.7021\n",
      "Epoch 755/1000\n",
      "1450/1450 [==============================] - 0s 54us/sample - loss: 0.7273 - accuracy: 0.6945\n",
      "Epoch 756/1000\n",
      "1450/1450 [==============================] - 0s 54us/sample - loss: 0.7169 - accuracy: 0.6938\n",
      "Epoch 757/1000\n",
      "1450/1450 [==============================] - 0s 55us/sample - loss: 0.7272 - accuracy: 0.7000\n",
      "Epoch 758/1000\n",
      "1450/1450 [==============================] - 0s 55us/sample - loss: 0.7223 - accuracy: 0.6897\n",
      "Epoch 759/1000\n",
      "1450/1450 [==============================] - 0s 59us/sample - loss: 0.7289 - accuracy: 0.6897\n",
      "Epoch 760/1000\n",
      "1450/1450 [==============================] - 0s 62us/sample - loss: 0.7148 - accuracy: 0.7000\n",
      "Epoch 761/1000\n",
      "1450/1450 [==============================] - 0s 55us/sample - loss: 0.7189 - accuracy: 0.6979\n",
      "Epoch 762/1000\n",
      "1450/1450 [==============================] - 0s 55us/sample - loss: 0.7237 - accuracy: 0.6924\n",
      "Epoch 763/1000\n",
      "1450/1450 [==============================] - 0s 55us/sample - loss: 0.7174 - accuracy: 0.7007\n",
      "Epoch 764/1000\n",
      "1450/1450 [==============================] - 0s 55us/sample - loss: 0.7188 - accuracy: 0.6972\n",
      "Epoch 765/1000\n",
      "1450/1450 [==============================] - 0s 54us/sample - loss: 0.7198 - accuracy: 0.6972\n",
      "Epoch 766/1000\n",
      "1450/1450 [==============================] - 0s 54us/sample - loss: 0.7014 - accuracy: 0.7048\n",
      "Epoch 767/1000\n",
      "1450/1450 [==============================] - 0s 59us/sample - loss: 0.7243 - accuracy: 0.6890\n",
      "Epoch 768/1000\n",
      "1450/1450 [==============================] - 0s 55us/sample - loss: 0.7279 - accuracy: 0.6986\n",
      "Epoch 769/1000\n",
      "1450/1450 [==============================] - 0s 55us/sample - loss: 0.7121 - accuracy: 0.6959\n",
      "Epoch 770/1000\n",
      "1450/1450 [==============================] - 0s 57us/sample - loss: 0.7167 - accuracy: 0.7083\n",
      "Epoch 771/1000\n",
      "1450/1450 [==============================] - 0s 55us/sample - loss: 0.7206 - accuracy: 0.6924\n",
      "Epoch 772/1000\n",
      "1450/1450 [==============================] - 0s 54us/sample - loss: 0.7165 - accuracy: 0.7055\n",
      "Epoch 773/1000\n",
      "1450/1450 [==============================] - 0s 55us/sample - loss: 0.7230 - accuracy: 0.7021\n",
      "Epoch 774/1000\n",
      "1450/1450 [==============================] - 0s 56us/sample - loss: 0.7079 - accuracy: 0.7014\n",
      "Epoch 775/1000\n",
      "1450/1450 [==============================] - 0s 55us/sample - loss: 0.7256 - accuracy: 0.7007\n",
      "Epoch 776/1000\n",
      "1450/1450 [==============================] - 0s 55us/sample - loss: 0.7186 - accuracy: 0.6966\n",
      "Epoch 777/1000\n",
      "1450/1450 [==============================] - 0s 55us/sample - loss: 0.7271 - accuracy: 0.6979\n",
      "Epoch 778/1000\n",
      "1450/1450 [==============================] - 0s 54us/sample - loss: 0.7119 - accuracy: 0.6931\n",
      "Epoch 779/1000\n",
      "1450/1450 [==============================] - 0s 54us/sample - loss: 0.7188 - accuracy: 0.7000\n",
      "Epoch 780/1000\n",
      "1450/1450 [==============================] - 0s 54us/sample - loss: 0.7113 - accuracy: 0.6959\n",
      "Epoch 781/1000\n",
      "1450/1450 [==============================] - 0s 59us/sample - loss: 0.7235 - accuracy: 0.6972\n",
      "Epoch 782/1000\n",
      "1450/1450 [==============================] - 0s 56us/sample - loss: 0.7113 - accuracy: 0.6972\n",
      "Epoch 783/1000\n",
      "1450/1450 [==============================] - 0s 55us/sample - loss: 0.7208 - accuracy: 0.6972\n",
      "Epoch 784/1000\n",
      "1450/1450 [==============================] - 0s 56us/sample - loss: 0.7140 - accuracy: 0.7069\n",
      "Epoch 785/1000\n",
      "1450/1450 [==============================] - 0s 57us/sample - loss: 0.7250 - accuracy: 0.6952\n",
      "Epoch 786/1000\n",
      "1450/1450 [==============================] - 0s 56us/sample - loss: 0.7245 - accuracy: 0.6966\n",
      "Epoch 787/1000\n",
      "1450/1450 [==============================] - 0s 55us/sample - loss: 0.7085 - accuracy: 0.7007\n",
      "Epoch 788/1000\n",
      "1450/1450 [==============================] - 0s 55us/sample - loss: 0.7099 - accuracy: 0.6986\n",
      "Epoch 789/1000\n",
      "1450/1450 [==============================] - 0s 55us/sample - loss: 0.7266 - accuracy: 0.6972\n",
      "Epoch 790/1000\n",
      "1450/1450 [==============================] - 0s 55us/sample - loss: 0.7235 - accuracy: 0.6945\n",
      "Epoch 791/1000\n",
      "1450/1450 [==============================] - 0s 56us/sample - loss: 0.7190 - accuracy: 0.6952\n",
      "Epoch 792/1000\n",
      "1450/1450 [==============================] - 0s 55us/sample - loss: 0.7244 - accuracy: 0.7007\n",
      "Epoch 793/1000\n",
      "1450/1450 [==============================] - 0s 55us/sample - loss: 0.7135 - accuracy: 0.6986\n",
      "Epoch 794/1000\n",
      "1450/1450 [==============================] - 0s 54us/sample - loss: 0.7124 - accuracy: 0.7131\n",
      "Epoch 795/1000\n",
      "1450/1450 [==============================] - 0s 55us/sample - loss: 0.7177 - accuracy: 0.7007\n",
      "Epoch 796/1000\n",
      "1450/1450 [==============================] - 0s 54us/sample - loss: 0.7257 - accuracy: 0.6952\n",
      "Epoch 797/1000\n",
      "1450/1450 [==============================] - 0s 55us/sample - loss: 0.7116 - accuracy: 0.7069\n",
      "Epoch 798/1000\n",
      "1450/1450 [==============================] - 0s 55us/sample - loss: 0.7156 - accuracy: 0.7021\n",
      "Epoch 799/1000\n",
      "1450/1450 [==============================] - 0s 55us/sample - loss: 0.7281 - accuracy: 0.6986\n",
      "Epoch 800/1000\n",
      "1450/1450 [==============================] - 0s 56us/sample - loss: 0.7172 - accuracy: 0.7069\n",
      "Epoch 801/1000\n",
      "1450/1450 [==============================] - 0s 54us/sample - loss: 0.7128 - accuracy: 0.6993\n",
      "Epoch 802/1000\n",
      "1450/1450 [==============================] - 0s 55us/sample - loss: 0.7204 - accuracy: 0.7007\n",
      "Epoch 803/1000\n",
      "1450/1450 [==============================] - 0s 56us/sample - loss: 0.7188 - accuracy: 0.7021\n",
      "Epoch 804/1000\n",
      "1450/1450 [==============================] - 0s 66us/sample - loss: 0.7224 - accuracy: 0.6972\n",
      "Epoch 805/1000\n",
      "1450/1450 [==============================] - 0s 57us/sample - loss: 0.7244 - accuracy: 0.6959\n",
      "Epoch 806/1000\n",
      "1450/1450 [==============================] - 0s 55us/sample - loss: 0.7245 - accuracy: 0.6972\n",
      "Epoch 807/1000\n",
      "1450/1450 [==============================] - 0s 55us/sample - loss: 0.7215 - accuracy: 0.6966\n",
      "Epoch 808/1000\n",
      "1450/1450 [==============================] - 0s 54us/sample - loss: 0.7246 - accuracy: 0.7021\n",
      "Epoch 809/1000\n",
      "1450/1450 [==============================] - 0s 55us/sample - loss: 0.7130 - accuracy: 0.6986\n",
      "Epoch 810/1000\n",
      "1450/1450 [==============================] - 0s 54us/sample - loss: 0.7125 - accuracy: 0.6924\n",
      "Epoch 811/1000\n",
      "1450/1450 [==============================] - 0s 55us/sample - loss: 0.7169 - accuracy: 0.7048\n",
      "Epoch 812/1000\n",
      "1450/1450 [==============================] - 0s 55us/sample - loss: 0.7072 - accuracy: 0.7090\n",
      "Epoch 813/1000\n",
      "1450/1450 [==============================] - 0s 55us/sample - loss: 0.7280 - accuracy: 0.7014\n",
      "Epoch 814/1000\n",
      "1450/1450 [==============================] - 0s 55us/sample - loss: 0.7118 - accuracy: 0.7014\n",
      "Epoch 815/1000\n",
      "1450/1450 [==============================] - 0s 55us/sample - loss: 0.7298 - accuracy: 0.6979\n",
      "Epoch 816/1000\n",
      "1450/1450 [==============================] - 0s 56us/sample - loss: 0.7141 - accuracy: 0.6972\n",
      "Epoch 817/1000\n",
      "1450/1450 [==============================] - 0s 55us/sample - loss: 0.7233 - accuracy: 0.6917\n",
      "Epoch 818/1000\n",
      "1450/1450 [==============================] - 0s 55us/sample - loss: 0.7163 - accuracy: 0.6972\n",
      "Epoch 819/1000\n",
      "1450/1450 [==============================] - 0s 56us/sample - loss: 0.7288 - accuracy: 0.6959\n",
      "Epoch 820/1000\n",
      "1450/1450 [==============================] - 0s 55us/sample - loss: 0.7151 - accuracy: 0.7055\n",
      "Epoch 821/1000\n",
      "1450/1450 [==============================] - 0s 55us/sample - loss: 0.7207 - accuracy: 0.6959\n",
      "Epoch 822/1000\n",
      "1450/1450 [==============================] - 0s 55us/sample - loss: 0.7164 - accuracy: 0.6959\n",
      "Epoch 823/1000\n",
      "1450/1450 [==============================] - 0s 55us/sample - loss: 0.7154 - accuracy: 0.6972\n",
      "Epoch 824/1000\n",
      "1450/1450 [==============================] - 0s 55us/sample - loss: 0.7219 - accuracy: 0.6972\n",
      "Epoch 825/1000\n",
      "1450/1450 [==============================] - 0s 54us/sample - loss: 0.7136 - accuracy: 0.7048\n",
      "Epoch 826/1000\n",
      "1450/1450 [==============================] - 0s 56us/sample - loss: 0.7143 - accuracy: 0.7034\n",
      "Epoch 827/1000\n",
      "1450/1450 [==============================] - 0s 54us/sample - loss: 0.7239 - accuracy: 0.6986\n",
      "Epoch 828/1000\n",
      "1450/1450 [==============================] - 0s 54us/sample - loss: 0.7130 - accuracy: 0.7117\n",
      "Epoch 829/1000\n",
      "1450/1450 [==============================] - 0s 54us/sample - loss: 0.7234 - accuracy: 0.6972\n",
      "Epoch 830/1000\n",
      "1450/1450 [==============================] - 0s 55us/sample - loss: 0.7206 - accuracy: 0.7000\n",
      "Epoch 831/1000\n",
      "1450/1450 [==============================] - 0s 55us/sample - loss: 0.7186 - accuracy: 0.7007\n",
      "Epoch 832/1000\n",
      "1450/1450 [==============================] - 0s 55us/sample - loss: 0.7137 - accuracy: 0.6966\n",
      "Epoch 833/1000\n",
      "1450/1450 [==============================] - 0s 56us/sample - loss: 0.7116 - accuracy: 0.7048\n",
      "Epoch 834/1000\n",
      "1450/1450 [==============================] - 0s 54us/sample - loss: 0.7151 - accuracy: 0.7055\n",
      "Epoch 835/1000\n",
      "1450/1450 [==============================] - 0s 55us/sample - loss: 0.7260 - accuracy: 0.6979\n",
      "Epoch 836/1000\n",
      "1450/1450 [==============================] - 0s 55us/sample - loss: 0.7215 - accuracy: 0.6924\n",
      "Epoch 837/1000\n",
      "1450/1450 [==============================] - 0s 54us/sample - loss: 0.7229 - accuracy: 0.6979\n",
      "Epoch 838/1000\n",
      "1450/1450 [==============================] - 0s 54us/sample - loss: 0.7224 - accuracy: 0.6938\n",
      "Epoch 839/1000\n",
      "1450/1450 [==============================] - 0s 54us/sample - loss: 0.7205 - accuracy: 0.7083\n",
      "Epoch 840/1000\n",
      "1450/1450 [==============================] - 0s 55us/sample - loss: 0.7148 - accuracy: 0.6931\n",
      "Epoch 841/1000\n",
      "1450/1450 [==============================] - 0s 54us/sample - loss: 0.7171 - accuracy: 0.6945\n",
      "Epoch 842/1000\n",
      "1450/1450 [==============================] - 0s 55us/sample - loss: 0.7130 - accuracy: 0.7007\n",
      "Epoch 843/1000\n",
      "1450/1450 [==============================] - 0s 54us/sample - loss: 0.7193 - accuracy: 0.6986\n",
      "Epoch 844/1000\n",
      "1450/1450 [==============================] - 0s 54us/sample - loss: 0.7101 - accuracy: 0.7014\n",
      "Epoch 845/1000\n",
      "1450/1450 [==============================] - 0s 54us/sample - loss: 0.7151 - accuracy: 0.7007\n",
      "Epoch 846/1000\n",
      "1450/1450 [==============================] - 0s 55us/sample - loss: 0.7221 - accuracy: 0.7034\n",
      "Epoch 847/1000\n",
      "1450/1450 [==============================] - 0s 56us/sample - loss: 0.7216 - accuracy: 0.7028\n",
      "Epoch 848/1000\n",
      "1450/1450 [==============================] - 0s 54us/sample - loss: 0.7154 - accuracy: 0.7007\n",
      "Epoch 849/1000\n",
      "1450/1450 [==============================] - 0s 55us/sample - loss: 0.7094 - accuracy: 0.7048\n",
      "Epoch 850/1000\n",
      "1450/1450 [==============================] - 0s 54us/sample - loss: 0.7163 - accuracy: 0.6959\n",
      "Epoch 851/1000\n",
      "1450/1450 [==============================] - 0s 55us/sample - loss: 0.7016 - accuracy: 0.7000\n",
      "Epoch 852/1000\n",
      "1450/1450 [==============================] - 0s 55us/sample - loss: 0.7141 - accuracy: 0.6966\n",
      "Epoch 853/1000\n",
      "1450/1450 [==============================] - 0s 54us/sample - loss: 0.7225 - accuracy: 0.7055\n",
      "Epoch 854/1000\n",
      "1450/1450 [==============================] - 0s 55us/sample - loss: 0.7050 - accuracy: 0.7048\n",
      "Epoch 855/1000\n",
      "1450/1450 [==============================] - 0s 54us/sample - loss: 0.7111 - accuracy: 0.7000\n",
      "Epoch 856/1000\n",
      "1450/1450 [==============================] - 0s 55us/sample - loss: 0.7182 - accuracy: 0.7076\n",
      "Epoch 857/1000\n",
      "1450/1450 [==============================] - 0s 55us/sample - loss: 0.7107 - accuracy: 0.6959\n",
      "Epoch 858/1000\n",
      "1450/1450 [==============================] - 0s 55us/sample - loss: 0.7192 - accuracy: 0.6890\n",
      "Epoch 859/1000\n",
      "1450/1450 [==============================] - 0s 55us/sample - loss: 0.7218 - accuracy: 0.6986\n",
      "Epoch 860/1000\n",
      "1450/1450 [==============================] - 0s 55us/sample - loss: 0.7107 - accuracy: 0.7014\n",
      "Epoch 861/1000\n",
      "1450/1450 [==============================] - 0s 56us/sample - loss: 0.7094 - accuracy: 0.6945\n",
      "Epoch 862/1000\n",
      "1450/1450 [==============================] - 0s 56us/sample - loss: 0.7131 - accuracy: 0.6993\n",
      "Epoch 863/1000\n",
      "1450/1450 [==============================] - 0s 60us/sample - loss: 0.7054 - accuracy: 0.7041\n",
      "Epoch 864/1000\n",
      "1450/1450 [==============================] - 0s 54us/sample - loss: 0.7232 - accuracy: 0.6993\n",
      "Epoch 865/1000\n",
      "1450/1450 [==============================] - 0s 55us/sample - loss: 0.7178 - accuracy: 0.7007\n",
      "Epoch 866/1000\n",
      "1450/1450 [==============================] - 0s 55us/sample - loss: 0.7280 - accuracy: 0.6972\n",
      "Epoch 867/1000\n",
      "1450/1450 [==============================] - 0s 54us/sample - loss: 0.7191 - accuracy: 0.6986\n",
      "Epoch 868/1000\n",
      "1450/1450 [==============================] - 0s 57us/sample - loss: 0.7105 - accuracy: 0.7069\n",
      "Epoch 869/1000\n",
      "1450/1450 [==============================] - 0s 55us/sample - loss: 0.7152 - accuracy: 0.7083\n",
      "Epoch 870/1000\n",
      "1450/1450 [==============================] - 0s 55us/sample - loss: 0.7201 - accuracy: 0.6931\n",
      "Epoch 871/1000\n",
      "1450/1450 [==============================] - 0s 55us/sample - loss: 0.7042 - accuracy: 0.7048\n",
      "Epoch 872/1000\n",
      "1450/1450 [==============================] - 0s 54us/sample - loss: 0.7051 - accuracy: 0.7131\n",
      "Epoch 873/1000\n",
      "1450/1450 [==============================] - 0s 55us/sample - loss: 0.7060 - accuracy: 0.6993\n",
      "Epoch 874/1000\n",
      "1450/1450 [==============================] - 0s 55us/sample - loss: 0.7121 - accuracy: 0.7021\n",
      "Epoch 875/1000\n",
      "1450/1450 [==============================] - 0s 55us/sample - loss: 0.7217 - accuracy: 0.6959\n",
      "Epoch 876/1000\n",
      "1450/1450 [==============================] - 0s 55us/sample - loss: 0.7218 - accuracy: 0.7021\n",
      "Epoch 877/1000\n",
      "1450/1450 [==============================] - 0s 56us/sample - loss: 0.7045 - accuracy: 0.7028\n",
      "Epoch 878/1000\n",
      "1450/1450 [==============================] - 0s 55us/sample - loss: 0.7222 - accuracy: 0.6931\n",
      "Epoch 879/1000\n",
      "1450/1450 [==============================] - 0s 56us/sample - loss: 0.7180 - accuracy: 0.7014\n",
      "Epoch 880/1000\n",
      "1450/1450 [==============================] - 0s 54us/sample - loss: 0.7191 - accuracy: 0.7028\n",
      "Epoch 881/1000\n",
      "1450/1450 [==============================] - 0s 55us/sample - loss: 0.7241 - accuracy: 0.7007\n",
      "Epoch 882/1000\n",
      "1450/1450 [==============================] - 0s 56us/sample - loss: 0.7145 - accuracy: 0.7041\n",
      "Epoch 883/1000\n",
      "1450/1450 [==============================] - 0s 56us/sample - loss: 0.7180 - accuracy: 0.6959\n",
      "Epoch 884/1000\n",
      "1450/1450 [==============================] - 0s 54us/sample - loss: 0.7019 - accuracy: 0.7041\n",
      "Epoch 885/1000\n",
      "1450/1450 [==============================] - 0s 55us/sample - loss: 0.7139 - accuracy: 0.7007\n",
      "Epoch 886/1000\n",
      "1450/1450 [==============================] - 0s 55us/sample - loss: 0.7092 - accuracy: 0.7007\n",
      "Epoch 887/1000\n",
      "1450/1450 [==============================] - 0s 55us/sample - loss: 0.7163 - accuracy: 0.6959\n",
      "Epoch 888/1000\n",
      "1450/1450 [==============================] - 0s 56us/sample - loss: 0.7053 - accuracy: 0.7083\n",
      "Epoch 889/1000\n",
      "1450/1450 [==============================] - 0s 54us/sample - loss: 0.7177 - accuracy: 0.7041\n",
      "Epoch 890/1000\n",
      "1450/1450 [==============================] - 0s 57us/sample - loss: 0.7108 - accuracy: 0.7028\n",
      "Epoch 891/1000\n",
      "1450/1450 [==============================] - 0s 55us/sample - loss: 0.7285 - accuracy: 0.6952\n",
      "Epoch 892/1000\n",
      "1450/1450 [==============================] - 0s 55us/sample - loss: 0.7092 - accuracy: 0.6979\n",
      "Epoch 893/1000\n",
      "1450/1450 [==============================] - 0s 57us/sample - loss: 0.7274 - accuracy: 0.7000\n",
      "Epoch 894/1000\n",
      "1450/1450 [==============================] - 0s 55us/sample - loss: 0.7144 - accuracy: 0.7055\n",
      "Epoch 895/1000\n",
      "1450/1450 [==============================] - 0s 55us/sample - loss: 0.7074 - accuracy: 0.7110\n",
      "Epoch 896/1000\n",
      "1450/1450 [==============================] - 0s 54us/sample - loss: 0.7081 - accuracy: 0.7041\n",
      "Epoch 897/1000\n",
      "1450/1450 [==============================] - 0s 55us/sample - loss: 0.7249 - accuracy: 0.6966\n",
      "Epoch 898/1000\n",
      "1450/1450 [==============================] - 0s 55us/sample - loss: 0.7157 - accuracy: 0.7014\n",
      "Epoch 899/1000\n",
      "1450/1450 [==============================] - 0s 55us/sample - loss: 0.7037 - accuracy: 0.7090\n",
      "Epoch 900/1000\n",
      "1450/1450 [==============================] - 0s 55us/sample - loss: 0.7113 - accuracy: 0.7048\n",
      "Epoch 901/1000\n"
     ]
    },
    {
     "name": "stdout",
     "output_type": "stream",
     "text": [
      "1450/1450 [==============================] - 0s 56us/sample - loss: 0.7161 - accuracy: 0.6931\n",
      "Epoch 902/1000\n",
      "1450/1450 [==============================] - 0s 55us/sample - loss: 0.7188 - accuracy: 0.7076\n",
      "Epoch 903/1000\n",
      "1450/1450 [==============================] - 0s 54us/sample - loss: 0.7079 - accuracy: 0.7124\n",
      "Epoch 904/1000\n",
      "1450/1450 [==============================] - 0s 54us/sample - loss: 0.7098 - accuracy: 0.7110\n",
      "Epoch 905/1000\n",
      "1450/1450 [==============================] - 0s 54us/sample - loss: 0.7208 - accuracy: 0.7007\n",
      "Epoch 906/1000\n",
      "1450/1450 [==============================] - 0s 54us/sample - loss: 0.6989 - accuracy: 0.7131\n",
      "Epoch 907/1000\n",
      "1450/1450 [==============================] - 0s 55us/sample - loss: 0.7132 - accuracy: 0.7007\n",
      "Epoch 908/1000\n",
      "1450/1450 [==============================] - 0s 55us/sample - loss: 0.7055 - accuracy: 0.6993\n",
      "Epoch 909/1000\n",
      "1450/1450 [==============================] - 0s 56us/sample - loss: 0.7027 - accuracy: 0.7048\n",
      "Epoch 910/1000\n",
      "1450/1450 [==============================] - 0s 55us/sample - loss: 0.7114 - accuracy: 0.7055\n",
      "Epoch 911/1000\n",
      "1450/1450 [==============================] - 0s 55us/sample - loss: 0.7236 - accuracy: 0.6938\n",
      "Epoch 912/1000\n",
      "1450/1450 [==============================] - 0s 55us/sample - loss: 0.7153 - accuracy: 0.7007\n",
      "Epoch 913/1000\n",
      "1450/1450 [==============================] - 0s 54us/sample - loss: 0.7021 - accuracy: 0.7062\n",
      "Epoch 914/1000\n",
      "1450/1450 [==============================] - 0s 59us/sample - loss: 0.7005 - accuracy: 0.7021\n",
      "Epoch 915/1000\n",
      "1450/1450 [==============================] - 0s 55us/sample - loss: 0.7001 - accuracy: 0.7062\n",
      "Epoch 916/1000\n",
      "1450/1450 [==============================] - 0s 55us/sample - loss: 0.7092 - accuracy: 0.7055\n",
      "Epoch 917/1000\n",
      "1450/1450 [==============================] - 0s 54us/sample - loss: 0.7054 - accuracy: 0.6979\n",
      "Epoch 918/1000\n",
      "1450/1450 [==============================] - 0s 55us/sample - loss: 0.7217 - accuracy: 0.7048\n",
      "Epoch 919/1000\n",
      "1450/1450 [==============================] - 0s 55us/sample - loss: 0.7213 - accuracy: 0.6972\n",
      "Epoch 920/1000\n",
      "1450/1450 [==============================] - 0s 55us/sample - loss: 0.7142 - accuracy: 0.7097\n",
      "Epoch 921/1000\n",
      "1450/1450 [==============================] - 0s 55us/sample - loss: 0.7123 - accuracy: 0.7000\n",
      "Epoch 922/1000\n",
      "1450/1450 [==============================] - 0s 54us/sample - loss: 0.7187 - accuracy: 0.6993\n",
      "Epoch 923/1000\n",
      "1450/1450 [==============================] - 0s 54us/sample - loss: 0.7185 - accuracy: 0.7014\n",
      "Epoch 924/1000\n",
      "1450/1450 [==============================] - 0s 56us/sample - loss: 0.7077 - accuracy: 0.6876\n",
      "Epoch 925/1000\n",
      "1450/1450 [==============================] - 0s 56us/sample - loss: 0.7168 - accuracy: 0.7048\n",
      "Epoch 926/1000\n",
      "1450/1450 [==============================] - 0s 55us/sample - loss: 0.7057 - accuracy: 0.7048\n",
      "Epoch 927/1000\n",
      "1450/1450 [==============================] - 0s 55us/sample - loss: 0.7129 - accuracy: 0.7034\n",
      "Epoch 928/1000\n",
      "1450/1450 [==============================] - 0s 56us/sample - loss: 0.7013 - accuracy: 0.7069\n",
      "Epoch 929/1000\n",
      "1450/1450 [==============================] - 0s 54us/sample - loss: 0.7080 - accuracy: 0.7034\n",
      "Epoch 930/1000\n",
      "1450/1450 [==============================] - 0s 55us/sample - loss: 0.7069 - accuracy: 0.7000\n",
      "Epoch 931/1000\n",
      "1450/1450 [==============================] - 0s 55us/sample - loss: 0.7132 - accuracy: 0.6952\n",
      "Epoch 932/1000\n",
      "1450/1450 [==============================] - 0s 56us/sample - loss: 0.7035 - accuracy: 0.7097\n",
      "Epoch 933/1000\n",
      "1450/1450 [==============================] - 0s 55us/sample - loss: 0.7137 - accuracy: 0.6993\n",
      "Epoch 934/1000\n",
      "1450/1450 [==============================] - 0s 54us/sample - loss: 0.7121 - accuracy: 0.7069\n",
      "Epoch 935/1000\n",
      "1450/1450 [==============================] - 0s 56us/sample - loss: 0.7055 - accuracy: 0.7062\n",
      "Epoch 936/1000\n",
      "1450/1450 [==============================] - 0s 55us/sample - loss: 0.7108 - accuracy: 0.7110\n",
      "Epoch 937/1000\n",
      "1450/1450 [==============================] - 0s 54us/sample - loss: 0.7165 - accuracy: 0.7000\n",
      "Epoch 938/1000\n",
      "1450/1450 [==============================] - 0s 56us/sample - loss: 0.7290 - accuracy: 0.7021\n",
      "Epoch 939/1000\n",
      "1450/1450 [==============================] - 0s 57us/sample - loss: 0.7086 - accuracy: 0.7103\n",
      "Epoch 940/1000\n",
      "1450/1450 [==============================] - 0s 55us/sample - loss: 0.7038 - accuracy: 0.6986\n",
      "Epoch 941/1000\n",
      "1450/1450 [==============================] - 0s 55us/sample - loss: 0.7119 - accuracy: 0.6979\n",
      "Epoch 942/1000\n",
      "1450/1450 [==============================] - 0s 54us/sample - loss: 0.7074 - accuracy: 0.7000\n",
      "Epoch 943/1000\n",
      "1450/1450 [==============================] - 0s 55us/sample - loss: 0.7177 - accuracy: 0.7041\n",
      "Epoch 944/1000\n",
      "1450/1450 [==============================] - 0s 55us/sample - loss: 0.7203 - accuracy: 0.6972\n",
      "Epoch 945/1000\n",
      "1450/1450 [==============================] - 0s 54us/sample - loss: 0.7013 - accuracy: 0.7103\n",
      "Epoch 946/1000\n",
      "1450/1450 [==============================] - 0s 55us/sample - loss: 0.7156 - accuracy: 0.6959\n",
      "Epoch 947/1000\n",
      "1450/1450 [==============================] - 0s 55us/sample - loss: 0.7044 - accuracy: 0.7000\n",
      "Epoch 948/1000\n",
      "1450/1450 [==============================] - 0s 55us/sample - loss: 0.7090 - accuracy: 0.7000\n",
      "Epoch 949/1000\n",
      "1450/1450 [==============================] - 0s 54us/sample - loss: 0.7098 - accuracy: 0.7021\n",
      "Epoch 950/1000\n",
      "1450/1450 [==============================] - 0s 55us/sample - loss: 0.7187 - accuracy: 0.6945\n",
      "Epoch 951/1000\n",
      "1450/1450 [==============================] - 0s 54us/sample - loss: 0.7126 - accuracy: 0.7000\n",
      "Epoch 952/1000\n",
      "1450/1450 [==============================] - 0s 56us/sample - loss: 0.7095 - accuracy: 0.7007\n",
      "Epoch 953/1000\n",
      "1450/1450 [==============================] - 0s 57us/sample - loss: 0.7058 - accuracy: 0.7069\n",
      "Epoch 954/1000\n",
      "1450/1450 [==============================] - 0s 55us/sample - loss: 0.7173 - accuracy: 0.6938\n",
      "Epoch 955/1000\n",
      "1450/1450 [==============================] - 0s 55us/sample - loss: 0.7129 - accuracy: 0.7014\n",
      "Epoch 956/1000\n",
      "1450/1450 [==============================] - 0s 55us/sample - loss: 0.6973 - accuracy: 0.7041\n",
      "Epoch 957/1000\n",
      "1450/1450 [==============================] - 0s 55us/sample - loss: 0.7082 - accuracy: 0.7048\n",
      "Epoch 958/1000\n",
      "1450/1450 [==============================] - 0s 55us/sample - loss: 0.7053 - accuracy: 0.6986\n",
      "Epoch 959/1000\n",
      "1450/1450 [==============================] - 0s 55us/sample - loss: 0.7271 - accuracy: 0.6993\n",
      "Epoch 960/1000\n",
      "1450/1450 [==============================] - 0s 55us/sample - loss: 0.7028 - accuracy: 0.7110\n",
      "Epoch 961/1000\n",
      "1450/1450 [==============================] - 0s 55us/sample - loss: 0.7104 - accuracy: 0.7055\n",
      "Epoch 962/1000\n",
      "1450/1450 [==============================] - 0s 55us/sample - loss: 0.7087 - accuracy: 0.7007\n",
      "Epoch 963/1000\n",
      "1450/1450 [==============================] - 0s 54us/sample - loss: 0.7055 - accuracy: 0.6986\n",
      "Epoch 964/1000\n",
      "1450/1450 [==============================] - 0s 55us/sample - loss: 0.7212 - accuracy: 0.6972\n",
      "Epoch 965/1000\n",
      "1450/1450 [==============================] - 0s 54us/sample - loss: 0.6963 - accuracy: 0.7062\n",
      "Epoch 966/1000\n",
      "1450/1450 [==============================] - 0s 55us/sample - loss: 0.7027 - accuracy: 0.7097\n",
      "Epoch 967/1000\n",
      "1450/1450 [==============================] - 0s 55us/sample - loss: 0.7171 - accuracy: 0.7028\n",
      "Epoch 968/1000\n",
      "1450/1450 [==============================] - 0s 56us/sample - loss: 0.7053 - accuracy: 0.7090\n",
      "Epoch 969/1000\n",
      "1450/1450 [==============================] - 0s 55us/sample - loss: 0.7026 - accuracy: 0.7048\n",
      "Epoch 970/1000\n",
      "1450/1450 [==============================] - 0s 55us/sample - loss: 0.7157 - accuracy: 0.6986\n",
      "Epoch 971/1000\n",
      "1450/1450 [==============================] - 0s 58us/sample - loss: 0.7108 - accuracy: 0.7041\n",
      "Epoch 972/1000\n",
      "1450/1450 [==============================] - 0s 55us/sample - loss: 0.7194 - accuracy: 0.7014\n",
      "Epoch 973/1000\n",
      "1450/1450 [==============================] - 0s 66us/sample - loss: 0.7052 - accuracy: 0.7110\n",
      "Epoch 974/1000\n",
      "1450/1450 [==============================] - 0s 82us/sample - loss: 0.7064 - accuracy: 0.7021\n",
      "Epoch 975/1000\n",
      "1450/1450 [==============================] - 0s 85us/sample - loss: 0.7072 - accuracy: 0.7062\n",
      "Epoch 976/1000\n",
      "1450/1450 [==============================] - 0s 71us/sample - loss: 0.7097 - accuracy: 0.7021\n",
      "Epoch 977/1000\n",
      "1450/1450 [==============================] - 0s 70us/sample - loss: 0.7037 - accuracy: 0.7014\n",
      "Epoch 978/1000\n",
      "1450/1450 [==============================] - 0s 66us/sample - loss: 0.7170 - accuracy: 0.6993\n",
      "Epoch 979/1000\n",
      "1450/1450 [==============================] - 0s 59us/sample - loss: 0.7060 - accuracy: 0.6972\n",
      "Epoch 980/1000\n",
      "1450/1450 [==============================] - 0s 64us/sample - loss: 0.7159 - accuracy: 0.7055\n",
      "Epoch 981/1000\n",
      "1450/1450 [==============================] - 0s 64us/sample - loss: 0.7139 - accuracy: 0.6979\n",
      "Epoch 982/1000\n",
      "1450/1450 [==============================] - 0s 64us/sample - loss: 0.7050 - accuracy: 0.7041\n",
      "Epoch 983/1000\n",
      "1450/1450 [==============================] - 0s 64us/sample - loss: 0.7047 - accuracy: 0.7028\n",
      "Epoch 984/1000\n",
      "1450/1450 [==============================] - 0s 71us/sample - loss: 0.7047 - accuracy: 0.7000\n",
      "Epoch 985/1000\n",
      "1450/1450 [==============================] - 0s 76us/sample - loss: 0.7100 - accuracy: 0.6986\n",
      "Epoch 986/1000\n",
      "1450/1450 [==============================] - 0s 76us/sample - loss: 0.7130 - accuracy: 0.7014\n",
      "Epoch 987/1000\n",
      "1450/1450 [==============================] - 0s 75us/sample - loss: 0.7045 - accuracy: 0.6986\n",
      "Epoch 988/1000\n",
      "1450/1450 [==============================] - 0s 75us/sample - loss: 0.7012 - accuracy: 0.7110\n",
      "Epoch 989/1000\n",
      "1450/1450 [==============================] - 0s 73us/sample - loss: 0.7074 - accuracy: 0.7034\n",
      "Epoch 990/1000\n",
      "1450/1450 [==============================] - 0s 75us/sample - loss: 0.7065 - accuracy: 0.7055\n",
      "Epoch 991/1000\n",
      "1450/1450 [==============================] - 0s 77us/sample - loss: 0.7090 - accuracy: 0.6979\n",
      "Epoch 992/1000\n",
      "1450/1450 [==============================] - 0s 76us/sample - loss: 0.7073 - accuracy: 0.7090\n",
      "Epoch 993/1000\n",
      "1450/1450 [==============================] - 0s 73us/sample - loss: 0.7022 - accuracy: 0.7131\n",
      "Epoch 994/1000\n",
      "1450/1450 [==============================] - 0s 78us/sample - loss: 0.7022 - accuracy: 0.7076\n",
      "Epoch 995/1000\n",
      "1450/1450 [==============================] - 0s 99us/sample - loss: 0.7259 - accuracy: 0.7014\n",
      "Epoch 996/1000\n",
      "1450/1450 [==============================] - 0s 77us/sample - loss: 0.7054 - accuracy: 0.6986\n",
      "Epoch 997/1000\n",
      "1450/1450 [==============================] - 0s 71us/sample - loss: 0.7110 - accuracy: 0.7000\n",
      "Epoch 998/1000\n",
      "1450/1450 [==============================] - 0s 71us/sample - loss: 0.7067 - accuracy: 0.7000\n",
      "Epoch 999/1000\n",
      "1450/1450 [==============================] - 0s 84us/sample - loss: 0.7034 - accuracy: 0.7110\n",
      "Epoch 1000/1000\n",
      "1450/1450 [==============================] - 0s 52us/sample - loss: 0.6983 - accuracy: 0.7152\n"
     ]
    },
    {
     "data": {
      "text/plain": [
       "<tensorflow.python.keras.callbacks.History at 0x7fe13fed9b38>"
      ]
     },
     "execution_count": 75,
     "metadata": {},
     "output_type": "execute_result"
    }
   ],
   "source": [
    "# Category range must go from 0 to 5 instead of -2 to 2\n",
    "y_train = train_y +1\n",
    "y_test = test_y +1\n",
    "\n",
    "model.fit(train_x.to_numpy(), \n",
    "          y_train.to_numpy(),\n",
    "          epochs=1000)\n"
   ]
  },
  {
   "cell_type": "code",
   "execution_count": 78,
   "id": "specialized-kingdom",
   "metadata": {
    "ExecuteTime": {
     "end_time": "2021-03-24T23:24:20.427732Z",
     "start_time": "2021-03-24T23:24:20.208401Z"
    }
   },
   "outputs": [
    {
     "name": "stdout",
     "output_type": "stream",
     "text": [
      "362/1 - 0s - loss: 0.8250 - accuracy: 0.6740\n",
      "Tensorflow\n",
      "[[ 33  17   7]\n",
      " [ 11  97  17]\n",
      " [  8  58 114]]\n"
     ]
    }
   ],
   "source": [
    "results = model.evaluate(test_x.to_numpy(),  y_test.to_numpy(), verbose=2)\n",
    "probability_model = tf.keras.Sequential([model, \n",
    "                                         tf.keras.layers.Softmax()])\n",
    "tf_predictions = np.argmax(probability_model.predict(test_x.to_numpy()),axis=1)\n",
    "confusion_matrix = tf.math.confusion_matrix(y_test, tf_predictions)\n",
    "# np.argmax(predictions,axis=1)\n",
    "print(\"Tensorflow\",confusion_matrix.numpy(),sep=\"\\n\")"
   ]
  },
  {
   "cell_type": "code",
   "execution_count": 29,
   "id": "senior-packing",
   "metadata": {
    "ExecuteTime": {
     "end_time": "2021-03-24T22:35:59.006684Z",
     "start_time": "2021-03-24T22:31:02.476499Z"
    }
   },
   "outputs": [
    {
     "name": "stdout",
     "output_type": "stream",
     "text": [
      "Fitting 5 folds for each of 25 candidates, totalling 125 fits\n",
      "Fitting 5 folds for each of 25 candidates, totalling 125 fits\n",
      "Fitting 5 folds for each of 5 candidates, totalling 25 fits\n",
      "Fitting 5 folds for each of 100 candidates, totalling 500 fits\n"
     ]
    }
   ],
   "source": [
    "## Make predictions\n",
    "sigmoid = SVM_Fit(train_x, train_y, 'sigmoid') \n",
    "rbf = SVM_Fit(train_x, train_y, 'rbf') \n",
    "linear = SVM_Fit(train_x, train_y,'linear')\n",
    "poly = SVM_Fit(train_x, train_y, 'poly')\n",
    "rf = RandomForestsModel(train_x, train_y) "
   ]
  },
  {
   "cell_type": "code",
   "execution_count": 79,
   "id": "sealed-delaware",
   "metadata": {
    "ExecuteTime": {
     "end_time": "2021-03-24T23:24:29.583220Z",
     "start_time": "2021-03-24T23:24:29.373652Z"
    }
   },
   "outputs": [
    {
     "name": "stdout",
     "output_type": "stream",
     "text": [
      "The sigmoid Model Score is: 0.6906077348066298\n",
      "The linear Model Score is: 0.6961325966850829\n",
      "The poly Model Score is: 0.6933701657458563\n",
      "The radial Model Score is: 0.6988950276243094\n",
      "The Neural Network Score is: 0.19060773480662985\n",
      "The Random Forest Model Score is: 0.6961325966850829\n"
     ]
    }
   ],
   "source": [
    "## SVM Score\n",
    "sigmoid_predict, sigmoid_score = Predict(sigmoid, test_x, test_y, 'sigmoid') \n",
    "lin_predict, lin_score = Predict(linear, test_x, test_y, 'linear') \n",
    "poly_predict, poly_score = Predict(poly, test_x, test_y, 'poly') \n",
    "rbf_predict, rbf_score = Predict(rbf, test_x, test_y, 'radial')\n",
    "\n",
    "## TF Score \n",
    "tf_score = accuracy_score(predictions, y_test.to_numpy()) \n",
    "print('The Neural Network Score is: {}'.format(tf_score)) \n",
    "\n",
    "## Random Forest Score\n",
    "random_predict, random_score = Predict(rf, test_x, test_y, \n",
    "                                      'Random Forest')"
   ]
  },
  {
   "cell_type": "code",
   "execution_count": 88,
   "id": "dressed-marks",
   "metadata": {
    "ExecuteTime": {
     "end_time": "2021-03-24T23:38:36.401846Z",
     "start_time": "2021-03-24T23:38:35.110337Z"
    }
   },
   "outputs": [
    {
     "name": "stderr",
     "output_type": "stream",
     "text": [
      "/Users/vijayyedidi/opt/anaconda3/envs/credit/lib/python3.6/site-packages/ipykernel_launcher.py:24: UserWarning:\n",
      "\n",
      "Matplotlib is currently using module://ipykernel.pylab.backend_inline, which is a non-GUI backend, so cannot show the figure.\n",
      "\n"
     ]
    },
    {
     "data": {
      "image/png": "[encoded data removed]",
      "text/plain": [
       "<Figure size 720x720 with 12 Axes>"
      ]
     },
     "metadata": {
      "needs_background": "light"
     },
     "output_type": "display_data"
    }
   ],
   "source": [
    "from sklearn.metrics import confusion_matrix\n",
    "\n",
    "sig_confusion = confusion_matrix(test_y,sigmoid_predict,normalize=\"true\")\n",
    "lin_confusion = confusion_matrix(test_y,lin_predict,normalize=\"true\")\n",
    "rbf_confusion = confusion_matrix(test_y,rbf_predict,normalize=\"true\")\n",
    "random_confusion = confusion_matrix(test_y,random_predict,normalize=\"true\")\n",
    "tf_confusion = confusion_matrix(y_test, tf_predictions, normalize = 'true')\n",
    "poly_confusion = confusion_matrix(test_y, poly_predict, normalize = 'true') \n",
    "\n",
    "fig, ax = plt.subplots(3, 2, figsize = (10,10)) \n",
    "fig.suptitle('Confusion Matrices') \n",
    "\n",
    "heatmap = lambda confusion, ax, model_name: sns.heatmap(confusion, ax = ax, annot = True, \n",
    "                               xticklabels = [-1,0,1], \n",
    "                               yticklabels = [-1,0,1] ).set_title(model_name)  \n",
    "\n",
    "heatmap(sig_confusion, ax[0,0], 'Sigmoid')\n",
    "heatmap(lin_confusion, ax[0,1], 'Linear') \n",
    "heatmap(rbf_confusion, ax[1,0], 'Radial') \n",
    "heatmap(poly_confusion, ax[1,1], 'Polynomial') \n",
    "heatmap(random_confusion, ax[2,0], 'Random Forests')\n",
    "heatmap(tf_confusion, ax[2,1], 'Neural Network') \n",
    "\n",
    "fig.show()\n",
    "\n"
   ]
  },
  {
   "cell_type": "code",
   "execution_count": 42,
   "id": "pressed-bulgaria",
   "metadata": {
    "ExecuteTime": {
     "end_time": "2021-03-24T22:39:09.089715Z",
     "start_time": "2021-03-24T22:39:09.076008Z"
    }
   },
   "outputs": [
    {
     "data": {
      "application/vnd.plotly.v1+json": {
       "config": {
        "plotlyServerURL": "https://plot.ly"
       },
       "data": [
        {
         "text": [
          "0.6906077348066298",
          "0.6988950276243094",
          "0.6961325966850829",
          "0.6933701657458563",
          "0.6823204419889503"
         ],
         "textposition": "auto",
         "type": "bar",
         "x": [
          "Sigmoid SVM",
          "Radial SVM",
          "Linear SVM",
          "Polynomial SVM",
          "Neural Network"
         ],
         "y": [
          0.6906077348066298,
          0.6988950276243094,
          0.6961325966850829,
          0.6933701657458563,
          0.6823204419889503
         ]
        }
       ],
       "layout": {
        "template": {
         "data": {
          "bar": [
           {
            "error_x": {
             "color": "#2a3f5f"
            },
            "error_y": {
             "color": "#2a3f5f"
            },
            "marker": {
             "line": {
              "color": "#E5ECF6",
              "width": 0.5
             }
            },
            "type": "bar"
           }
          ],
          "barpolar": [
           {
            "marker": {
             "line": {
              "color": "#E5ECF6",
              "width": 0.5
             }
            },
            "type": "barpolar"
           }
          ],
          "carpet": [
           {
            "aaxis": {
             "endlinecolor": "#2a3f5f",
             "gridcolor": "white",
             "linecolor": "white",
             "minorgridcolor": "white",
             "startlinecolor": "#2a3f5f"
            },
            "baxis": {
             "endlinecolor": "#2a3f5f",
             "gridcolor": "white",
             "linecolor": "white",
             "minorgridcolor": "white",
             "startlinecolor": "#2a3f5f"
            },
            "type": "carpet"
           }
          ],
          "choropleth": [
           {
            "colorbar": {
             "outlinewidth": 0,
             "ticks": ""
            },
            "type": "choropleth"
           }
          ],
          "contour": [
           {
            "colorbar": {
             "outlinewidth": 0,
             "ticks": ""
            },
            "colorscale": [
             [
              0,
              "#0d0887"
             ],
             [
              0.1111111111111111,
              "#46039f"
             ],
             [
              0.2222222222222222,
              "#7201a8"
             ],
             [
              0.3333333333333333,
              "#9c179e"
             ],
             [
              0.4444444444444444,
              "#bd3786"
             ],
             [
              0.5555555555555556,
              "#d8576b"
             ],
             [
              0.6666666666666666,
              "#ed7953"
             ],
             [
              0.7777777777777778,
              "#fb9f3a"
             ],
             [
              0.8888888888888888,
              "#fdca26"
             ],
             [
              1,
              "#f0f921"
             ]
            ],
            "type": "contour"
           }
          ],
          "contourcarpet": [
           {
            "colorbar": {
             "outlinewidth": 0,
             "ticks": ""
            },
            "type": "contourcarpet"
           }
          ],
          "heatmap": [
           {
            "colorbar": {
             "outlinewidth": 0,
             "ticks": ""
            },
            "colorscale": [
             [
              0,
              "#0d0887"
             ],
             [
              0.1111111111111111,
              "#46039f"
             ],
             [
              0.2222222222222222,
              "#7201a8"
             ],
             [
              0.3333333333333333,
              "#9c179e"
             ],
             [
              0.4444444444444444,
              "#bd3786"
             ],
             [
              0.5555555555555556,
              "#d8576b"
             ],
             [
              0.6666666666666666,
              "#ed7953"
             ],
             [
              0.7777777777777778,
              "#fb9f3a"
             ],
             [
              0.8888888888888888,
              "#fdca26"
             ],
             [
              1,
              "#f0f921"
             ]
            ],
            "type": "heatmap"
           }
          ],
          "heatmapgl": [
           {
            "colorbar": {
             "outlinewidth": 0,
             "ticks": ""
            },
            "colorscale": [
             [
              0,
              "#0d0887"
             ],
             [
              0.1111111111111111,
              "#46039f"
             ],
             [
              0.2222222222222222,
              "#7201a8"
             ],
             [
              0.3333333333333333,
              "#9c179e"
             ],
             [
              0.4444444444444444,
              "#bd3786"
             ],
             [
              0.5555555555555556,
              "#d8576b"
             ],
             [
              0.6666666666666666,
              "#ed7953"
             ],
             [
              0.7777777777777778,
              "#fb9f3a"
             ],
             [
              0.8888888888888888,
              "#fdca26"
             ],
             [
              1,
              "#f0f921"
             ]
            ],
            "type": "heatmapgl"
           }
          ],
          "histogram": [
           {
            "marker": {
             "colorbar": {
              "outlinewidth": 0,
              "ticks": ""
             }
            },
            "type": "histogram"
           }
          ],
          "histogram2d": [
           {
            "colorbar": {
             "outlinewidth": 0,
             "ticks": ""
            },
            "colorscale": [
             [
              0,
              "#0d0887"
             ],
             [
              0.1111111111111111,
              "#46039f"
             ],
             [
              0.2222222222222222,
              "#7201a8"
             ],
             [
              0.3333333333333333,
              "#9c179e"
             ],
             [
              0.4444444444444444,
              "#bd3786"
             ],
             [
              0.5555555555555556,
              "#d8576b"
             ],
             [
              0.6666666666666666,
              "#ed7953"
             ],
             [
              0.7777777777777778,
              "#fb9f3a"
             ],
             [
              0.8888888888888888,
              "#fdca26"
             ],
             [
              1,
              "#f0f921"
             ]
            ],
            "type": "histogram2d"
           }
          ],
          "histogram2dcontour": [
           {
            "colorbar": {
             "outlinewidth": 0,
             "ticks": ""
            },
            "colorscale": [
             [
              0,
              "#0d0887"
             ],
             [
              0.1111111111111111,
              "#46039f"
             ],
             [
              0.2222222222222222,
              "#7201a8"
             ],
             [
              0.3333333333333333,
              "#9c179e"
             ],
             [
              0.4444444444444444,
              "#bd3786"
             ],
             [
              0.5555555555555556,
              "#d8576b"
             ],
             [
              0.6666666666666666,
              "#ed7953"
             ],
             [
              0.7777777777777778,
              "#fb9f3a"
             ],
             [
              0.8888888888888888,
              "#fdca26"
             ],
             [
              1,
              "#f0f921"
             ]
            ],
            "type": "histogram2dcontour"
           }
          ],
          "mesh3d": [
           {
            "colorbar": {
             "outlinewidth": 0,
             "ticks": ""
            },
            "type": "mesh3d"
           }
          ],
          "parcoords": [
           {
            "line": {
             "colorbar": {
              "outlinewidth": 0,
              "ticks": ""
             }
            },
            "type": "parcoords"
           }
          ],
          "pie": [
           {
            "automargin": true,
            "type": "pie"
           }
          ],
          "scatter": [
           {
            "marker": {
             "colorbar": {
              "outlinewidth": 0,
              "ticks": ""
             }
            },
            "type": "scatter"
           }
          ],
          "scatter3d": [
           {
            "line": {
             "colorbar": {
              "outlinewidth": 0,
              "ticks": ""
             }
            },
            "marker": {
             "colorbar": {
              "outlinewidth": 0,
              "ticks": ""
             }
            },
            "type": "scatter3d"
           }
          ],
          "scattercarpet": [
           {
            "marker": {
             "colorbar": {
              "outlinewidth": 0,
              "ticks": ""
             }
            },
            "type": "scattercarpet"
           }
          ],
          "scattergeo": [
           {
            "marker": {
             "colorbar": {
              "outlinewidth": 0,
              "ticks": ""
             }
            },
            "type": "scattergeo"
           }
          ],
          "scattergl": [
           {
            "marker": {
             "colorbar": {
              "outlinewidth": 0,
              "ticks": ""
             }
            },
            "type": "scattergl"
           }
          ],
          "scattermapbox": [
           {
            "marker": {
             "colorbar": {
              "outlinewidth": 0,
              "ticks": ""
             }
            },
            "type": "scattermapbox"
           }
          ],
          "scatterpolar": [
           {
            "marker": {
             "colorbar": {
              "outlinewidth": 0,
              "ticks": ""
             }
            },
            "type": "scatterpolar"
           }
          ],
          "scatterpolargl": [
           {
            "marker": {
             "colorbar": {
              "outlinewidth": 0,
              "ticks": ""
             }
            },
            "type": "scatterpolargl"
           }
          ],
          "scatterternary": [
           {
            "marker": {
             "colorbar": {
              "outlinewidth": 0,
              "ticks": ""
             }
            },
            "type": "scatterternary"
           }
          ],
          "surface": [
           {
            "colorbar": {
             "outlinewidth": 0,
             "ticks": ""
            },
            "colorscale": [
             [
              0,
              "#0d0887"
             ],
             [
              0.1111111111111111,
              "#46039f"
             ],
             [
              0.2222222222222222,
              "#7201a8"
             ],
             [
              0.3333333333333333,
              "#9c179e"
             ],
             [
              0.4444444444444444,
              "#bd3786"
             ],
             [
              0.5555555555555556,
              "#d8576b"
             ],
             [
              0.6666666666666666,
              "#ed7953"
             ],
             [
              0.7777777777777778,
              "#fb9f3a"
             ],
             [
              0.8888888888888888,
              "#fdca26"
             ],
             [
              1,
              "#f0f921"
             ]
            ],
            "type": "surface"
           }
          ],
          "table": [
           {
            "cells": {
             "fill": {
              "color": "#EBF0F8"
             },
             "line": {
              "color": "white"
             }
            },
            "header": {
             "fill": {
              "color": "#C8D4E3"
             },
             "line": {
              "color": "white"
             }
            },
            "type": "table"
           }
          ]
         },
         "layout": {
          "annotationdefaults": {
           "arrowcolor": "#2a3f5f",
           "arrowhead": 0,
           "arrowwidth": 1
          },
          "autotypenumbers": "strict",
          "coloraxis": {
           "colorbar": {
            "outlinewidth": 0,
            "ticks": ""
           }
          },
          "colorscale": {
           "diverging": [
            [
             0,
             "#8e0152"
            ],
            [
             0.1,
             "#c51b7d"
            ],
            [
             0.2,
             "#de77ae"
            ],
            [
             0.3,
             "#f1b6da"
            ],
            [
             0.4,
             "#fde0ef"
            ],
            [
             0.5,
             "#f7f7f7"
            ],
            [
             0.6,
             "#e6f5d0"
            ],
            [
             0.7,
             "#b8e186"
            ],
            [
             0.8,
             "#7fbc41"
            ],
            [
             0.9,
             "#4d9221"
            ],
            [
             1,
             "#276419"
            ]
           ],
           "sequential": [
            [
             0,
             "#0d0887"
            ],
            [
             0.1111111111111111,
             "#46039f"
            ],
            [
             0.2222222222222222,
             "#7201a8"
            ],
            [
             0.3333333333333333,
             "#9c179e"
            ],
            [
             0.4444444444444444,
             "#bd3786"
            ],
            [
             0.5555555555555556,
             "#d8576b"
            ],
            [
             0.6666666666666666,
             "#ed7953"
            ],
            [
             0.7777777777777778,
             "#fb9f3a"
            ],
            [
             0.8888888888888888,
             "#fdca26"
            ],
            [
             1,
             "#f0f921"
            ]
           ],
           "sequentialminus": [
            [
             0,
             "#0d0887"
            ],
            [
             0.1111111111111111,
             "#46039f"
            ],
            [
             0.2222222222222222,
             "#7201a8"
            ],
            [
             0.3333333333333333,
             "#9c179e"
            ],
            [
             0.4444444444444444,
             "#bd3786"
            ],
            [
             0.5555555555555556,
             "#d8576b"
            ],
            [
             0.6666666666666666,
             "#ed7953"
            ],
            [
             0.7777777777777778,
             "#fb9f3a"
            ],
            [
             0.8888888888888888,
             "#fdca26"
            ],
            [
             1,
             "#f0f921"
            ]
           ]
          },
          "colorway": [
           "#636efa",
           "#EF553B",
           "#00cc96",
           "#ab63fa",
           "#FFA15A",
           "#19d3f3",
           "#FF6692",
           "#B6E880",
           "#FF97FF",
           "#FECB52"
          ],
          "font": {
           "color": "#2a3f5f"
          },
          "geo": {
           "bgcolor": "white",
           "lakecolor": "white",
           "landcolor": "#E5ECF6",
           "showlakes": true,
           "showland": true,
           "subunitcolor": "white"
          },
          "hoverlabel": {
           "align": "left"
          },
          "hovermode": "closest",
          "mapbox": {
           "style": "light"
          },
          "paper_bgcolor": "white",
          "plot_bgcolor": "#E5ECF6",
          "polar": {
           "angularaxis": {
            "gridcolor": "white",
            "linecolor": "white",
            "ticks": ""
           },
           "bgcolor": "#E5ECF6",
           "radialaxis": {
            "gridcolor": "white",
            "linecolor": "white",
            "ticks": ""
           }
          },
          "scene": {
           "xaxis": {
            "backgroundcolor": "#E5ECF6",
            "gridcolor": "white",
            "gridwidth": 2,
            "linecolor": "white",
            "showbackground": true,
            "ticks": "",
            "zerolinecolor": "white"
           },
           "yaxis": {
            "backgroundcolor": "#E5ECF6",
            "gridcolor": "white",
            "gridwidth": 2,
            "linecolor": "white",
            "showbackground": true,
            "ticks": "",
            "zerolinecolor": "white"
           },
           "zaxis": {
            "backgroundcolor": "#E5ECF6",
            "gridcolor": "white",
            "gridwidth": 2,
            "linecolor": "white",
            "showbackground": true,
            "ticks": "",
            "zerolinecolor": "white"
           }
          },
          "shapedefaults": {
           "line": {
            "color": "#2a3f5f"
           }
          },
          "ternary": {
           "aaxis": {
            "gridcolor": "white",
            "linecolor": "white",
            "ticks": ""
           },
           "baxis": {
            "gridcolor": "white",
            "linecolor": "white",
            "ticks": ""
           },
           "bgcolor": "#E5ECF6",
           "caxis": {
            "gridcolor": "white",
            "linecolor": "white",
            "ticks": ""
           }
          },
          "title": {
           "x": 0.05
          },
          "xaxis": {
           "automargin": true,
           "gridcolor": "white",
           "linecolor": "white",
           "ticks": "",
           "title": {
            "standoff": 15
           },
           "zerolinecolor": "white",
           "zerolinewidth": 2
          },
          "yaxis": {
           "automargin": true,
           "gridcolor": "white",
           "linecolor": "white",
           "ticks": "",
           "title": {
            "standoff": 15
           },
           "zerolinecolor": "white",
           "zerolinewidth": 2
          }
         }
        },
        "title": {
         "text": "Model Accuracy Scores Numeric Prediction"
        },
        "xaxis": {
         "title": {
          "text": "Model"
         }
        },
        "yaxis": {
         "title": {
          "text": "Accuracy Score"
         }
        }
       }
      },
      "text/html": [
       "<div>                            <div id=\"206a2a0d-b4f6-44b6-98c4-68394ef89473\" class=\"plotly-graph-div\" style=\"height:525px; width:100%;\"></div>            <script type=\"text/javascript\">                require([\"plotly\"], function(Plotly) {                    window.PLOTLYENV=window.PLOTLYENV || {};                                    if (document.getElementById(\"206a2a0d-b4f6-44b6-98c4-68394ef89473\")) {                    Plotly.newPlot(                        \"206a2a0d-b4f6-44b6-98c4-68394ef89473\",                        [{\"text\": [\"0.6906077348066298\", \"0.6988950276243094\", \"0.6961325966850829\", \"0.6933701657458563\", \"0.6823204419889503\"], \"textposition\": \"auto\", \"type\": \"bar\", \"x\": [\"Sigmoid SVM\", \"Radial SVM\", \"Linear SVM\", \"Polynomial SVM\", \"Neural Network\"], \"y\": [0.6906077348066298, 0.6988950276243094, 0.6961325966850829, 0.6933701657458563, 0.6823204419889503]}],                        {\"template\": {\"data\": {\"bar\": [{\"error_x\": {\"color\": \"#2a3f5f\"}, \"error_y\": {\"color\": \"#2a3f5f\"}, \"marker\": {\"line\": {\"color\": \"#E5ECF6\", \"width\": 0.5}}, \"type\": \"bar\"}], \"barpolar\": [{\"marker\": {\"line\": {\"color\": \"#E5ECF6\", \"width\": 0.5}}, \"type\": \"barpolar\"}], \"carpet\": [{\"aaxis\": {\"endlinecolor\": \"#2a3f5f\", \"gridcolor\": \"white\", \"linecolor\": \"white\", \"minorgridcolor\": \"white\", \"startlinecolor\": \"#2a3f5f\"}, \"baxis\": {\"endlinecolor\": \"#2a3f5f\", \"gridcolor\": \"white\", \"linecolor\": \"white\", \"minorgridcolor\": \"white\", \"startlinecolor\": \"#2a3f5f\"}, \"type\": \"carpet\"}], \"choropleth\": [{\"colorbar\": {\"outlinewidth\": 0, \"ticks\": \"\"}, \"type\": \"choropleth\"}], \"contour\": [{\"colorbar\": {\"outlinewidth\": 0, \"ticks\": \"\"}, \"colorscale\": [[0.0, \"#0d0887\"], [0.1111111111111111, \"#46039f\"], [0.2222222222222222, \"#7201a8\"], [0.3333333333333333, \"#9c179e\"], [0.4444444444444444, \"#bd3786\"], [0.5555555555555556, \"#d8576b\"], [0.6666666666666666, \"#ed7953\"], [0.7777777777777778, \"#fb9f3a\"], [0.8888888888888888, \"#fdca26\"], [1.0, \"#f0f921\"]], \"type\": \"contour\"}], \"contourcarpet\": [{\"colorbar\": {\"outlinewidth\": 0, \"ticks\": \"\"}, \"type\": \"contourcarpet\"}], \"heatmap\": [{\"colorbar\": {\"outlinewidth\": 0, \"ticks\": \"\"}, \"colorscale\": [[0.0, \"#0d0887\"], [0.1111111111111111, \"#46039f\"], [0.2222222222222222, \"#7201a8\"], [0.3333333333333333, \"#9c179e\"], [0.4444444444444444, \"#bd3786\"], [0.5555555555555556, \"#d8576b\"], [0.6666666666666666, \"#ed7953\"], [0.7777777777777778, \"#fb9f3a\"], [0.8888888888888888, \"#fdca26\"], [1.0, \"#f0f921\"]], \"type\": \"heatmap\"}], \"heatmapgl\": [{\"colorbar\": {\"outlinewidth\": 0, \"ticks\": \"\"}, \"colorscale\": [[0.0, \"#0d0887\"], [0.1111111111111111, \"#46039f\"], [0.2222222222222222, \"#7201a8\"], [0.3333333333333333, \"#9c179e\"], [0.4444444444444444, \"#bd3786\"], [0.5555555555555556, \"#d8576b\"], [0.6666666666666666, \"#ed7953\"], [0.7777777777777778, \"#fb9f3a\"], [0.8888888888888888, \"#fdca26\"], [1.0, \"#f0f921\"]], \"type\": \"heatmapgl\"}], \"histogram\": [{\"marker\": {\"colorbar\": {\"outlinewidth\": 0, \"ticks\": \"\"}}, \"type\": \"histogram\"}], \"histogram2d\": [{\"colorbar\": {\"outlinewidth\": 0, \"ticks\": \"\"}, \"colorscale\": [[0.0, \"#0d0887\"], [0.1111111111111111, \"#46039f\"], [0.2222222222222222, \"#7201a8\"], [0.3333333333333333, \"#9c179e\"], [0.4444444444444444, \"#bd3786\"], [0.5555555555555556, \"#d8576b\"], [0.6666666666666666, \"#ed7953\"], [0.7777777777777778, \"#fb9f3a\"], [0.8888888888888888, \"#fdca26\"], [1.0, \"#f0f921\"]], \"type\": \"histogram2d\"}], \"histogram2dcontour\": [{\"colorbar\": {\"outlinewidth\": 0, \"ticks\": \"\"}, \"colorscale\": [[0.0, \"#0d0887\"], [0.1111111111111111, \"#46039f\"], [0.2222222222222222, \"#7201a8\"], [0.3333333333333333, \"#9c179e\"], [0.4444444444444444, \"#bd3786\"], [0.5555555555555556, \"#d8576b\"], [0.6666666666666666, \"#ed7953\"], [0.7777777777777778, \"#fb9f3a\"], [0.8888888888888888, \"#fdca26\"], [1.0, \"#f0f921\"]], \"type\": \"histogram2dcontour\"}], \"mesh3d\": [{\"colorbar\": {\"outlinewidth\": 0, \"ticks\": \"\"}, \"type\": \"mesh3d\"}], \"parcoords\": [{\"line\": {\"colorbar\": {\"outlinewidth\": 0, \"ticks\": \"\"}}, \"type\": \"parcoords\"}], \"pie\": [{\"automargin\": true, \"type\": \"pie\"}], \"scatter\": [{\"marker\": {\"colorbar\": {\"outlinewidth\": 0, \"ticks\": \"\"}}, \"type\": \"scatter\"}], \"scatter3d\": [{\"line\": {\"colorbar\": {\"outlinewidth\": 0, \"ticks\": \"\"}}, \"marker\": {\"colorbar\": {\"outlinewidth\": 0, \"ticks\": \"\"}}, \"type\": \"scatter3d\"}], \"scattercarpet\": [{\"marker\": {\"colorbar\": {\"outlinewidth\": 0, \"ticks\": \"\"}}, \"type\": \"scattercarpet\"}], \"scattergeo\": [{\"marker\": {\"colorbar\": {\"outlinewidth\": 0, \"ticks\": \"\"}}, \"type\": \"scattergeo\"}], \"scattergl\": [{\"marker\": {\"colorbar\": {\"outlinewidth\": 0, \"ticks\": \"\"}}, \"type\": \"scattergl\"}], \"scattermapbox\": [{\"marker\": {\"colorbar\": {\"outlinewidth\": 0, \"ticks\": \"\"}}, \"type\": \"scattermapbox\"}], \"scatterpolar\": [{\"marker\": {\"colorbar\": {\"outlinewidth\": 0, \"ticks\": \"\"}}, \"type\": \"scatterpolar\"}], \"scatterpolargl\": [{\"marker\": {\"colorbar\": {\"outlinewidth\": 0, \"ticks\": \"\"}}, \"type\": \"scatterpolargl\"}], \"scatterternary\": [{\"marker\": {\"colorbar\": {\"outlinewidth\": 0, \"ticks\": \"\"}}, \"type\": \"scatterternary\"}], \"surface\": [{\"colorbar\": {\"outlinewidth\": 0, \"ticks\": \"\"}, \"colorscale\": [[0.0, \"#0d0887\"], [0.1111111111111111, \"#46039f\"], [0.2222222222222222, \"#7201a8\"], [0.3333333333333333, \"#9c179e\"], [0.4444444444444444, \"#bd3786\"], [0.5555555555555556, \"#d8576b\"], [0.6666666666666666, \"#ed7953\"], [0.7777777777777778, \"#fb9f3a\"], [0.8888888888888888, \"#fdca26\"], [1.0, \"#f0f921\"]], \"type\": \"surface\"}], \"table\": [{\"cells\": {\"fill\": {\"color\": \"#EBF0F8\"}, \"line\": {\"color\": \"white\"}}, \"header\": {\"fill\": {\"color\": \"#C8D4E3\"}, \"line\": {\"color\": \"white\"}}, \"type\": \"table\"}]}, \"layout\": {\"annotationdefaults\": {\"arrowcolor\": \"#2a3f5f\", \"arrowhead\": 0, \"arrowwidth\": 1}, \"autotypenumbers\": \"strict\", \"coloraxis\": {\"colorbar\": {\"outlinewidth\": 0, \"ticks\": \"\"}}, \"colorscale\": {\"diverging\": [[0, \"#8e0152\"], [0.1, \"#c51b7d\"], [0.2, \"#de77ae\"], [0.3, \"#f1b6da\"], [0.4, \"#fde0ef\"], [0.5, \"#f7f7f7\"], [0.6, \"#e6f5d0\"], [0.7, \"#b8e186\"], [0.8, \"#7fbc41\"], [0.9, \"#4d9221\"], [1, \"#276419\"]], \"sequential\": [[0.0, \"#0d0887\"], [0.1111111111111111, \"#46039f\"], [0.2222222222222222, \"#7201a8\"], [0.3333333333333333, \"#9c179e\"], [0.4444444444444444, \"#bd3786\"], [0.5555555555555556, \"#d8576b\"], [0.6666666666666666, \"#ed7953\"], [0.7777777777777778, \"#fb9f3a\"], [0.8888888888888888, \"#fdca26\"], [1.0, \"#f0f921\"]], \"sequentialminus\": [[0.0, \"#0d0887\"], [0.1111111111111111, \"#46039f\"], [0.2222222222222222, \"#7201a8\"], [0.3333333333333333, \"#9c179e\"], [0.4444444444444444, \"#bd3786\"], [0.5555555555555556, \"#d8576b\"], [0.6666666666666666, \"#ed7953\"], [0.7777777777777778, \"#fb9f3a\"], [0.8888888888888888, \"#fdca26\"], [1.0, \"#f0f921\"]]}, \"colorway\": [\"#636efa\", \"#EF553B\", \"#00cc96\", \"#ab63fa\", \"#FFA15A\", \"#19d3f3\", \"#FF6692\", \"#B6E880\", \"#FF97FF\", \"#FECB52\"], \"font\": {\"color\": \"#2a3f5f\"}, \"geo\": {\"bgcolor\": \"white\", \"lakecolor\": \"white\", \"landcolor\": \"#E5ECF6\", \"showlakes\": true, \"showland\": true, \"subunitcolor\": \"white\"}, \"hoverlabel\": {\"align\": \"left\"}, \"hovermode\": \"closest\", \"mapbox\": {\"style\": \"light\"}, \"paper_bgcolor\": \"white\", \"plot_bgcolor\": \"#E5ECF6\", \"polar\": {\"angularaxis\": {\"gridcolor\": \"white\", \"linecolor\": \"white\", \"ticks\": \"\"}, \"bgcolor\": \"#E5ECF6\", \"radialaxis\": {\"gridcolor\": \"white\", \"linecolor\": \"white\", \"ticks\": \"\"}}, \"scene\": {\"xaxis\": {\"backgroundcolor\": \"#E5ECF6\", \"gridcolor\": \"white\", \"gridwidth\": 2, \"linecolor\": \"white\", \"showbackground\": true, \"ticks\": \"\", \"zerolinecolor\": \"white\"}, \"yaxis\": {\"backgroundcolor\": \"#E5ECF6\", \"gridcolor\": \"white\", \"gridwidth\": 2, \"linecolor\": \"white\", \"showbackground\": true, \"ticks\": \"\", \"zerolinecolor\": \"white\"}, \"zaxis\": {\"backgroundcolor\": \"#E5ECF6\", \"gridcolor\": \"white\", \"gridwidth\": 2, \"linecolor\": \"white\", \"showbackground\": true, \"ticks\": \"\", \"zerolinecolor\": \"white\"}}, \"shapedefaults\": {\"line\": {\"color\": \"#2a3f5f\"}}, \"ternary\": {\"aaxis\": {\"gridcolor\": \"white\", \"linecolor\": \"white\", \"ticks\": \"\"}, \"baxis\": {\"gridcolor\": \"white\", \"linecolor\": \"white\", \"ticks\": \"\"}, \"bgcolor\": \"#E5ECF6\", \"caxis\": {\"gridcolor\": \"white\", \"linecolor\": \"white\", \"ticks\": \"\"}}, \"title\": {\"x\": 0.05}, \"xaxis\": {\"automargin\": true, \"gridcolor\": \"white\", \"linecolor\": \"white\", \"ticks\": \"\", \"title\": {\"standoff\": 15}, \"zerolinecolor\": \"white\", \"zerolinewidth\": 2}, \"yaxis\": {\"automargin\": true, \"gridcolor\": \"white\", \"linecolor\": \"white\", \"ticks\": \"\", \"title\": {\"standoff\": 15}, \"zerolinecolor\": \"white\", \"zerolinewidth\": 2}}}, \"title\": {\"text\": \"Model Accuracy Scores Numeric Prediction\"}, \"xaxis\": {\"title\": {\"text\": \"Model\"}}, \"yaxis\": {\"title\": {\"text\": \"Accuracy Score\"}}},                        {\"responsive\": true}                    ).then(function(){\n",
       "                            \n",
       "var gd = document.getElementById('206a2a0d-b4f6-44b6-98c4-68394ef89473');\n",
       "var x = new MutationObserver(function (mutations, observer) {{\n",
       "        var display = window.getComputedStyle(gd).display;\n",
       "        if (!display || display === 'none') {{\n",
       "            console.log([gd, 'removed!']);\n",
       "            Plotly.purge(gd);\n",
       "            observer.disconnect();\n",
       "        }}\n",
       "}});\n",
       "\n",
       "// Listen for the removal of the full notebook cells\n",
       "var notebookContainer = gd.closest('#notebook-container');\n",
       "if (notebookContainer) {{\n",
       "    x.observe(notebookContainer, {childList: true});\n",
       "}}\n",
       "\n",
       "// Listen for the clearing of the current output cell\n",
       "var outputEl = gd.closest('.output');\n",
       "if (outputEl) {{\n",
       "    x.observe(outputEl, {childList: true});\n",
       "}}\n",
       "\n",
       "                        })                };                });            </script>        </div>"
      ]
     },
     "metadata": {},
     "output_type": "display_data"
    }
   ],
   "source": [
    "fig = go.Figure() \n",
    "model_names = ['Sigmoid SVM', 'Radial SVM', 'Linear SVM', 'Polynomial SVM', 'Neural Network']\n",
    "\n",
    "model_accuracy = [sigmoid_score, rbf_score, lin_score, poly_score, tf_score]\n",
    "\n",
    "fig.add_trace(go.Bar(x = model_names, \n",
    "                    y = model_accuracy, \n",
    "                    text = model_accuracy, \n",
    "                    textposition = 'auto'))\n",
    "fig.update_layout(title = 'Model Accuracy Scores Numeric Prediction')\n",
    "\n",
    "fig.update_yaxes(title_text = 'Accuracy Score') \n",
    "fig.update_xaxes(title_text = \"Model\")\n",
    "fig.show()"
   ]
  },
  {
   "cell_type": "code",
   "execution_count": null,
   "id": "logical-bermuda",
   "metadata": {},
   "outputs": [],
   "source": []
  }
 ],
 "metadata": {
  "hide_input": false,
  "kernelspec": {
   "display_name": "Python 3",
   "language": "python",
   "name": "python3"
  },
  "language_info": {
   "codemirror_mode": {
    "name": "ipython",
    "version": 3
   },
   "file_extension": ".py",
   "mimetype": "text/x-python",
   "name": "python",
   "nbconvert_exporter": "python",
   "pygments_lexer": "ipython3",
   "version": "3.6.13"
  },
  "latex_envs": {
   "LaTeX_envs_menu_present": true,
   "autoclose": false,
   "autocomplete": true,
   "bibliofile": "biblio.bib",
   "cite_by": "apalike",
   "current_citInitial": 1,
   "eqLabelWithNumbers": true,
   "eqNumInitial": 1,
   "hotkeys": {
    "equation": "Ctrl-E",
    "itemize": "Ctrl-I"
   },
   "labels_anchors": false,
   "latex_user_defs": false,
   "report_style_numbering": false,
   "user_envs_cfg": false
  },
  "toc": {
   "base_numbering": 1,
   "nav_menu": {},
   "number_sections": true,
   "sideBar": true,
   "skip_h1_title": true,
   "title_cell": "Table of Contents",
   "title_sidebar": "Contents",
   "toc_cell": true,
   "toc_position": {},
   "toc_section_display": true,
   "toc_window_display": true
  },
  "varInspector": {
   "cols": {
    "lenName": 16,
    "lenType": 16,
    "lenVar": 40
   },
   "kernels_config": {
    "python": {
     "delete_cmd_postfix": "",
     "delete_cmd_prefix": "del ",
     "library": "var_list.py",
     "varRefreshCmd": "print(var_dic_list())"
    },
    "r": {
     "delete_cmd_postfix": ") ",
     "delete_cmd_prefix": "rm(",
     "library": "var_list.r",
     "varRefreshCmd": "cat(var_dic_list()) "
    }
   },
   "types_to_exclude": [
    "module",
    "function",
    "builtin_function_or_method",
    "instance",
    "_Feature"
   ],
   "window_display": false
  }
 },
 "nbformat": 4,
 "nbformat_minor": 5
}
