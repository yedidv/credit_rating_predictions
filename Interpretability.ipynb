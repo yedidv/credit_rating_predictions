{
 "cells": [
  {
   "cell_type": "code",
   "execution_count": 36,
   "id": "9db1d5ce-6185-4cb3-b73b-17aae31212c6",
   "metadata": {},
   "outputs": [],
   "source": [
    "import pandas as pd \n",
    "import numpy as np \n",
    "import pickle \n",
    "from sklearn.metrics import accuracy_score \n",
    "from pdpbox import pdp, info_plots \n",
    "from matplotlib import pyplot as plt "
   ]
  },
  {
   "cell_type": "code",
   "execution_count": 31,
   "id": "4cb8f6f4-6c50-4cd8-a3af-5d64926c04e4",
   "metadata": {},
   "outputs": [
    {
     "name": "stdout",
     "output_type": "stream",
     "text": [
      "0.6906077348066298\n",
      "(1813, 13)\n",
      "['lead_rating', 'rating', 'IQ_TOTAL_ASSETS', 'IQ_TOTAL_REV', 'IQ_NI_CF', 'IQ_AR', 'IQ_GP ', 'IQ_AP', 'IQ_TOTAL_LIAB', 'IQ_TOTAL_DEBT', 'IQ_CASH_FINAN', 'IQ_TOTAL_EQUITY', 'IQ_CASH_EQUIV']\n"
     ]
    },
    {
     "data": {
      "text/plain": [
       "'rating'"
      ]
     },
     "execution_count": 31,
     "metadata": {},
     "output_type": "execute_result"
    }
   ],
   "source": [
    "## Load the sigmoid model \n",
    "sigmoid = pickle.load(open('sigmoid_model.sav', 'rb')) \n",
    "\n",
    "## Load in the data \n",
    "## Read in csv \n",
    "df = pd.read_csv('model_data.csv', \n",
    "                                index_col = ['year', 'ID']).dropna()\n",
    "\n",
    "## Test and train split for time series\n",
    "train = df.head(\n",
    "    int(df.shape[0] * 0.8 ) \n",
    ") \n",
    "\n",
    "test = df.tail(\n",
    "    int(df.shape[0] * 0.2) \n",
    ")\n",
    "\n",
    "## Split into x and y \n",
    "def SplitData(df): \n",
    "    y = df.lead_rating \n",
    "    x = df.drop('lead_rating', axis = 1) \n",
    "    \n",
    "    return x, y \n",
    "\n",
    "train_x, train_y = SplitData(train) \n",
    "test_x, test_y = SplitData(test) \n",
    "\n",
    "## Look at the initial model accuracy \n",
    "print(\n",
    "    accuracy_score(sigmoid.predict(test_x), test_y) \n",
    ")\n",
    "print(df.shape) \n",
    "cols = df.columns.tolist()\n",
    "print(cols) \n",
    "cols[1]"
   ]
  },
  {
   "cell_type": "markdown",
   "id": "6e484bdc-0f04-4253-a6f8-fdf58e7a5589",
   "metadata": {},
   "source": [
    "We can see there are 13 columns "
   ]
  },
  {
   "cell_type": "code",
   "execution_count": 40,
   "id": "d55c5d98-7e62-445f-9f5c-207fc8166819",
   "metadata": {},
   "outputs": [],
   "source": [
    "## PDP Plots \n",
    "def PDP_Plot_Graphs(test_x, cols): \n",
    "    '''Create PDP Plots'''\n",
    "    \n",
    "    pdp_plot = [] \n",
    "    for i in cols[1:]: \n",
    "        '''Create Graph for pdp plots'''\n",
    "        \n",
    "        pdp_rating = pdp.pdp_isolate(model = sigmoid, \n",
    "                            dataset = test_x, \n",
    "                            model_features = cols[1:], \n",
    "                            feature = i) \n",
    "        \n",
    "        pdp_plot.append(\n",
    "        pdp.pdp_plot(pdp_rating, i) \n",
    "        )\n",
    "    return pdp_plot \n",
    "\n",
    "#pdp_plots = PDP_Plot_Graphs(test_x, cols) "
   ]
  },
  {
   "cell_type": "code",
   "execution_count": null,
   "id": "8540c32f-5936-421a-830a-9e87b76e3cff",
   "metadata": {},
   "outputs": [],
   "source": []
  }
 ],
 "metadata": {
  "kernelspec": {
   "display_name": "Python 3",
   "language": "python",
   "name": "python3"
  },
  "language_info": {
   "codemirror_mode": {
    "name": "ipython",
    "version": 3
   },
   "file_extension": ".py",
   "mimetype": "text/x-python",
   "name": "python",
   "nbconvert_exporter": "python",
   "pygments_lexer": "ipython3",
   "version": "3.8.2"
  }
 },
 "nbformat": 4,
 "nbformat_minor": 5
}
