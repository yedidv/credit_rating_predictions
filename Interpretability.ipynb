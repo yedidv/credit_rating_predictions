{
 "cells": [
  {
   "cell_type": "code",
   "execution_count": 1,
   "id": "9db1d5ce-6185-4cb3-b73b-17aae31212c6",
   "metadata": {},
   "outputs": [],
   "source": [
    "import pandas as pd \n",
    "import numpy as np \n",
    "import pickle \n",
    "from sklearn.metrics import accuracy_score "
   ]
  },
  {
   "cell_type": "code",
   "execution_count": 6,
   "id": "4cb8f6f4-6c50-4cd8-a3af-5d64926c04e4",
   "metadata": {},
   "outputs": [
    {
     "name": "stdout",
     "output_type": "stream",
     "text": [
      "0.6906077348066298\n",
      "(1813, 13)\n",
      "Index(['lead_rating', 'rating', 'IQ_TOTAL_ASSETS', 'IQ_TOTAL_REV', 'IQ_NI_CF',\n",
      "       'IQ_AR', 'IQ_GP ', 'IQ_AP', 'IQ_TOTAL_LIAB', 'IQ_TOTAL_DEBT',\n",
      "       'IQ_CASH_FINAN', 'IQ_TOTAL_EQUITY', 'IQ_CASH_EQUIV'],\n",
      "      dtype='object')\n"
     ]
    }
   ],
   "source": [
    "## Load the sigmoid model \n",
    "sigmoid = pickle.load(open('sigmoid_model.sav', 'rb')) \n",
    "\n",
    "## Load in the data \n",
    "## Read in csv \n",
    "df = pd.read_csv('model_data.csv', \n",
    "                                index_col = ['year', 'ID']).dropna()\n",
    "\n",
    "## Test and train split for time series\n",
    "train = df.head(\n",
    "    int(df.shape[0] * 0.8 ) \n",
    ") \n",
    "\n",
    "test = df.tail(\n",
    "    int(df.shape[0] * 0.2) \n",
    ")\n",
    "\n",
    "## Split into x and y \n",
    "def SplitData(df): \n",
    "    y = df.lead_rating \n",
    "    x = df.drop('lead_rating', axis = 1) \n",
    "    \n",
    "    return x, y \n",
    "\n",
    "train_x, train_y = SplitData(train) \n",
    "test_x, test_y = SplitData(test) \n",
    "\n",
    "## Look at the initial model accuracy \n",
    "print(\n",
    "    accuracy_score(sigmoid.predict(test_x), test_y) \n",
    ")\n",
    "print(df.shape) \n",
    "print(df.columns) "
   ]
  },
  {
   "cell_type": "markdown",
   "id": "6e484bdc-0f04-4253-a6f8-fdf58e7a5589",
   "metadata": {},
   "source": [
    "We can see there are 13 columns "
   ]
  },
  {
   "cell_type": "code",
   "execution_count": 8,
   "id": "e44b8a5d-497b-4248-9ebe-6f67f6fbc080",
   "metadata": {},
   "outputs": [
    {
     "data": {
      "text/plain": [
       "<sklearn.inspection._plot.partial_dependence.PartialDependenceDisplay at 0x7ffb717b0bb0>"
      ]
     },
     "execution_count": 8,
     "metadata": {},
     "output_type": "execute_result"
    },
    {
     "data": {
      "image/png": "[encoded data removed]",
      "text/plain": [
       "<Figure size 432x288 with 13 Axes>"
      ]
     },
     "metadata": {
      "needs_background": "light"
     },
     "output_type": "display_data"
    }
   ],
   "source": [
    "from sklearn.inspection import plot_partial_dependence \n",
    "plot_partial_dependence(sigmoid, test_x, test_x.columns, target = 0) "
   ]
  },
  {
   "cell_type": "code",
   "execution_count": 9,
   "id": "2594ba4e-95df-415d-999f-c91691a00665",
   "metadata": {},
   "outputs": [
    {
     "data": {
      "text/plain": [
       "Index(['rating', 'IQ_TOTAL_ASSETS', 'IQ_TOTAL_REV', 'IQ_NI_CF', 'IQ_AR',\n",
       "       'IQ_GP ', 'IQ_AP', 'IQ_TOTAL_LIAB', 'IQ_TOTAL_DEBT', 'IQ_CASH_FINAN',\n",
       "       'IQ_TOTAL_EQUITY', 'IQ_CASH_EQUIV'],\n",
       "      dtype='object')"
      ]
     },
     "execution_count": 9,
     "metadata": {},
     "output_type": "execute_result"
    }
   ],
   "source": [
    "plot_partial_dependence(sigmoid, test_x, test_x.columns, target = 0) "
   ]
  },
  {
   "cell_type": "code",
   "execution_count": null,
   "id": "500d06a0-1358-4c69-85a4-7e73aa547d0c",
   "metadata": {},
   "outputs": [],
   "source": []
  }
 ],
 "metadata": {
  "kernelspec": {
   "display_name": "Python 3",
   "language": "python",
   "name": "python3"
  },
  "language_info": {
   "codemirror_mode": {
    "name": "ipython",
    "version": 3
   },
   "file_extension": ".py",
   "mimetype": "text/x-python",
   "name": "python",
   "nbconvert_exporter": "python",
   "pygments_lexer": "ipython3",
   "version": "3.8.2"
  }
 },
 "nbformat": 4,
 "nbformat_minor": 5
}
