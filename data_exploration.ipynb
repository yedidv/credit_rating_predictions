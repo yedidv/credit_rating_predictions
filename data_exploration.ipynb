{
 "cells": [
  {
   "cell_type": "markdown",
   "id": "blank-contamination",
   "metadata": {
    "toc": true
   },
   "source": [
    "<h1>Table of Contents<span class=\"tocSkip\"></span></h1>\n",
    "<div class=\"toc\"><ul class=\"toc-item\"><li><span><a href=\"#Read-in-Data\" data-toc-modified-id=\"Read-in-Data-1\"><span class=\"toc-item-num\">1&nbsp;&nbsp;</span>Read in Data</a></span></li><li><span><a href=\"#Final-Formatting\" data-toc-modified-id=\"Final-Formatting-2\"><span class=\"toc-item-num\">2&nbsp;&nbsp;</span>Final Formatting</a></span></li><li><span><a href=\"#Read-in-Independent-Variables,-Join-tickers\" data-toc-modified-id=\"Read-in-Independent-Variables,-Join-tickers-3\"><span class=\"toc-item-num\">3&nbsp;&nbsp;</span>Read in Independent Variables, Join tickers</a></span></li><li><span><a href=\"#Join-in-the-credit-rating-data\" data-toc-modified-id=\"Join-in-the-credit-rating-data-4\"><span class=\"toc-item-num\">4&nbsp;&nbsp;</span>Join in the credit rating data</a></span></li><li><span><a href=\"#Generate-Model-Data\" data-toc-modified-id=\"Generate-Model-Data-5\"><span class=\"toc-item-num\">5&nbsp;&nbsp;</span>Generate Model Data</a></span></li><li><span><a href=\"#Data-Exploration\" data-toc-modified-id=\"Data-Exploration-6\"><span class=\"toc-item-num\">6&nbsp;&nbsp;</span>Data Exploration</a></span></li></ul></div>"
   ]
  },
  {
   "cell_type": "code",
   "execution_count": 1,
   "id": "pediatric-circuit",
   "metadata": {
    "ExecuteTime": {
     "end_time": "2021-03-24T21:32:58.107082Z",
     "start_time": "2021-03-24T21:32:56.889392Z"
    }
   },
   "outputs": [],
   "source": [
    "import pandas as pd \n",
    "import numpy as np \n",
    "import os \n",
    "import plotly.graph_objects as go\n",
    "import seaborn as sns \n",
    "import matplotlib.pyplot as plt \n",
    "from tqdm import tqdm \n",
    "pd.set_option('display.max_rows', 500) "
   ]
  },
  {
   "cell_type": "markdown",
   "id": "improving-preserve",
   "metadata": {},
   "source": [
    "## Read in Data"
   ]
  },
  {
   "cell_type": "code",
   "execution_count": 2,
   "id": "false-letter",
   "metadata": {
    "ExecuteTime": {
     "end_time": "2021-03-24T21:32:58.250127Z",
     "start_time": "2021-03-24T21:32:58.108922Z"
    }
   },
   "outputs": [],
   "source": [
    "## Read in data and ids \n",
    "\n",
    "data = pd.read_csv('capiq_data/capiq data.csv') \n",
    "ids = pd.read_csv('capiq_data/capiq ids.csv') "
   ]
  },
  {
   "cell_type": "code",
   "execution_count": 3,
   "id": "least-cable",
   "metadata": {
    "ExecuteTime": {
     "end_time": "2021-03-24T21:32:59.248411Z",
     "start_time": "2021-03-24T21:32:58.252465Z"
    }
   },
   "outputs": [
    {
     "data": {
      "text/html": [
       "<div>\n",
       "<style scoped>\n",
       "    .dataframe tbody tr th:only-of-type {\n",
       "        vertical-align: middle;\n",
       "    }\n",
       "\n",
       "    .dataframe tbody tr th {\n",
       "        vertical-align: top;\n",
       "    }\n",
       "\n",
       "    .dataframe thead th {\n",
       "        text-align: right;\n",
       "    }\n",
       "</style>\n",
       "<table border=\"1\" class=\"dataframe\">\n",
       "  <thead>\n",
       "    <tr style=\"text-align: right;\">\n",
       "      <th></th>\n",
       "      <th>Date</th>\n",
       "      <th>Fiscal Quarter</th>\n",
       "      <th>IQ_NI_CF</th>\n",
       "      <th>IQ_TOTAL_REV</th>\n",
       "      <th>IQ_AR</th>\n",
       "      <th>IQ_GP</th>\n",
       "      <th>IQ_TOTAL_CA</th>\n",
       "      <th>IQ_TOTAL_ASSETS</th>\n",
       "      <th>IQ_AP</th>\n",
       "      <th>IQ_LT_DEBT</th>\n",
       "      <th>...</th>\n",
       "      <th>IQ_CASH_EQUIV</th>\n",
       "      <th>IQ_CASH_OPER</th>\n",
       "      <th>IQ_TOTAL_DIV_PAID_CF</th>\n",
       "      <th>IQ_CASH_FINAN</th>\n",
       "      <th>IQ_CAPITAL_LEASES</th>\n",
       "      <th>IQ_INVEST_SECURITY_CF</th>\n",
       "      <th>IQ_NI</th>\n",
       "      <th>CQID</th>\n",
       "      <th>IQID</th>\n",
       "      <th>IQ Name</th>\n",
       "    </tr>\n",
       "  </thead>\n",
       "  <tbody>\n",
       "    <tr>\n",
       "      <th>0</th>\n",
       "      <td>2010-12-31</td>\n",
       "      <td>FQ42010</td>\n",
       "      <td>0.0</td>\n",
       "      <td>0.0</td>\n",
       "      <td>889.6</td>\n",
       "      <td>0.0</td>\n",
       "      <td>1673.0</td>\n",
       "      <td>14176.3</td>\n",
       "      <td>119.0</td>\n",
       "      <td>4953.5</td>\n",
       "      <td>...</td>\n",
       "      <td>338.0</td>\n",
       "      <td>0.0</td>\n",
       "      <td>0.0</td>\n",
       "      <td>0.0</td>\n",
       "      <td>0.0</td>\n",
       "      <td>0.0</td>\n",
       "      <td>0.0</td>\n",
       "      <td>IQ10081196</td>\n",
       "      <td>IQ10081196</td>\n",
       "      <td>Fidelity National Information Services, Inc.</td>\n",
       "    </tr>\n",
       "    <tr>\n",
       "      <th>1</th>\n",
       "      <td>2011-03-31</td>\n",
       "      <td>FQ12011</td>\n",
       "      <td>92.8</td>\n",
       "      <td>1352.8</td>\n",
       "      <td>897.6</td>\n",
       "      <td>376.5</td>\n",
       "      <td>1644.7</td>\n",
       "      <td>14114.3</td>\n",
       "      <td>577.2</td>\n",
       "      <td>4478.2</td>\n",
       "      <td>...</td>\n",
       "      <td>384.1</td>\n",
       "      <td>260.2</td>\n",
       "      <td>-15.2</td>\n",
       "      <td>-140.1</td>\n",
       "      <td>0.0</td>\n",
       "      <td>0.0</td>\n",
       "      <td>92.8</td>\n",
       "      <td>IQ10081196</td>\n",
       "      <td>IQ10081196</td>\n",
       "      <td>Fidelity National Information Services, Inc.</td>\n",
       "    </tr>\n",
       "    <tr>\n",
       "      <th>2</th>\n",
       "      <td>2011-06-30</td>\n",
       "      <td>FQ22011</td>\n",
       "      <td>123.5</td>\n",
       "      <td>1413.3</td>\n",
       "      <td>895.8</td>\n",
       "      <td>423.9</td>\n",
       "      <td>1705.6</td>\n",
       "      <td>14161.6</td>\n",
       "      <td>553.2</td>\n",
       "      <td>4322.3</td>\n",
       "      <td>...</td>\n",
       "      <td>427.3</td>\n",
       "      <td>263.3</td>\n",
       "      <td>-16.9</td>\n",
       "      <td>-157.3</td>\n",
       "      <td>0.0</td>\n",
       "      <td>0.0</td>\n",
       "      <td>123.5</td>\n",
       "      <td>IQ10081196</td>\n",
       "      <td>IQ10081196</td>\n",
       "      <td>Fidelity National Information Services, Inc.</td>\n",
       "    </tr>\n",
       "    <tr>\n",
       "      <th>3</th>\n",
       "      <td>2011-09-30</td>\n",
       "      <td>FQ32011</td>\n",
       "      <td>0.0</td>\n",
       "      <td>1398.2</td>\n",
       "      <td>860.1</td>\n",
       "      <td>432.9</td>\n",
       "      <td>1604.2</td>\n",
       "      <td>13885.5</td>\n",
       "      <td>515.5</td>\n",
       "      <td>4332.9</td>\n",
       "      <td>...</td>\n",
       "      <td>386.8</td>\n",
       "      <td>0.0</td>\n",
       "      <td>0.0</td>\n",
       "      <td>0.0</td>\n",
       "      <td>0.0</td>\n",
       "      <td>0.0</td>\n",
       "      <td>136.3</td>\n",
       "      <td>IQ10081196</td>\n",
       "      <td>IQ10081196</td>\n",
       "      <td>Fidelity National Information Services, Inc.</td>\n",
       "    </tr>\n",
       "    <tr>\n",
       "      <th>4</th>\n",
       "      <td>2011-12-31</td>\n",
       "      <td>FQ42011</td>\n",
       "      <td>117.0</td>\n",
       "      <td>1461.3</td>\n",
       "      <td>915.4</td>\n",
       "      <td>473.2</td>\n",
       "      <td>1674.0</td>\n",
       "      <td>13873.2</td>\n",
       "      <td>100.6</td>\n",
       "      <td>4554.6</td>\n",
       "      <td>...</td>\n",
       "      <td>415.5</td>\n",
       "      <td>372.4</td>\n",
       "      <td>-12.4</td>\n",
       "      <td>-271.3</td>\n",
       "      <td>0.0</td>\n",
       "      <td>0.0</td>\n",
       "      <td>117.0</td>\n",
       "      <td>IQ10081196</td>\n",
       "      <td>IQ10081196</td>\n",
       "      <td>Fidelity National Information Services, Inc.</td>\n",
       "    </tr>\n",
       "  </tbody>\n",
       "</table>\n",
       "<p>5 rows × 30 columns</p>\n",
       "</div>"
      ],
      "text/plain": [
       "         Date Fiscal Quarter  IQ_NI_CF  IQ_TOTAL_REV  IQ_AR  IQ_GP   \\\n",
       "0  2010-12-31        FQ42010       0.0           0.0  889.6     0.0   \n",
       "1  2011-03-31        FQ12011      92.8        1352.8  897.6   376.5   \n",
       "2  2011-06-30        FQ22011     123.5        1413.3  895.8   423.9   \n",
       "3  2011-09-30        FQ32011       0.0        1398.2  860.1   432.9   \n",
       "4  2011-12-31        FQ42011     117.0        1461.3  915.4   473.2   \n",
       "\n",
       "   IQ_TOTAL_CA  IQ_TOTAL_ASSETS  IQ_AP  IQ_LT_DEBT  ...  IQ_CASH_EQUIV  \\\n",
       "0       1673.0          14176.3  119.0      4953.5  ...          338.0   \n",
       "1       1644.7          14114.3  577.2      4478.2  ...          384.1   \n",
       "2       1705.6          14161.6  553.2      4322.3  ...          427.3   \n",
       "3       1604.2          13885.5  515.5      4332.9  ...          386.8   \n",
       "4       1674.0          13873.2  100.6      4554.6  ...          415.5   \n",
       "\n",
       "   IQ_CASH_OPER  IQ_TOTAL_DIV_PAID_CF  IQ_CASH_FINAN  IQ_CAPITAL_LEASES  \\\n",
       "0           0.0                   0.0            0.0                0.0   \n",
       "1         260.2                 -15.2         -140.1                0.0   \n",
       "2         263.3                 -16.9         -157.3                0.0   \n",
       "3           0.0                   0.0            0.0                0.0   \n",
       "4         372.4                 -12.4         -271.3                0.0   \n",
       "\n",
       "   IQ_INVEST_SECURITY_CF  IQ_NI        CQID        IQID  \\\n",
       "0                    0.0    0.0  IQ10081196  IQ10081196   \n",
       "1                    0.0   92.8  IQ10081196  IQ10081196   \n",
       "2                    0.0  123.5  IQ10081196  IQ10081196   \n",
       "3                    0.0  136.3  IQ10081196  IQ10081196   \n",
       "4                    0.0  117.0  IQ10081196  IQ10081196   \n",
       "\n",
       "                                        IQ Name  \n",
       "0  Fidelity National Information Services, Inc.  \n",
       "1  Fidelity National Information Services, Inc.  \n",
       "2  Fidelity National Information Services, Inc.  \n",
       "3  Fidelity National Information Services, Inc.  \n",
       "4  Fidelity National Information Services, Inc.  \n",
       "\n",
       "[5 rows x 30 columns]"
      ]
     },
     "execution_count": 3,
     "metadata": {},
     "output_type": "execute_result"
    }
   ],
   "source": [
    "## Merge them together so we can determine the \n",
    "## company names with the data\n",
    "\n",
    "data = data.merge(ids, how = 'outer', \n",
    "           left_on = ['CQID'], \n",
    "           right_on = ['IQID']).dropna()\n",
    "data.to_csv('capiq_data/capiq_data_names.csv') \n",
    "data.head() "
   ]
  },
  {
   "cell_type": "code",
   "execution_count": 4,
   "id": "solid-trader",
   "metadata": {
    "ExecuteTime": {
     "end_time": "2021-03-24T21:32:59.341196Z",
     "start_time": "2021-03-24T21:32:59.250458Z"
    }
   },
   "outputs": [
    {
     "name": "stderr",
     "output_type": "stream",
     "text": [
      "/Users/vijayyedidi/opt/anaconda3/envs/credit/lib/python3.6/site-packages/ipykernel_launcher.py:14: SettingWithCopyWarning:\n",
      "\n",
      "\n",
      "A value is trying to be set on a copy of a slice from a DataFrame.\n",
      "Try using .loc[row_indexer,col_indexer] = value instead\n",
      "\n",
      "See the caveats in the documentation: https://pandas.pydata.org/pandas-docs/stable/user_guide/indexing.html#returning-a-view-versus-a-copy\n",
      "\n",
      "/Users/vijayyedidi/opt/anaconda3/envs/credit/lib/python3.6/site-packages/ipykernel_launcher.py:15: SettingWithCopyWarning:\n",
      "\n",
      "\n",
      "A value is trying to be set on a copy of a slice from a DataFrame.\n",
      "Try using .loc[row_indexer,col_indexer] = value instead\n",
      "\n",
      "See the caveats in the documentation: https://pandas.pydata.org/pandas-docs/stable/user_guide/indexing.html#returning-a-view-versus-a-copy\n",
      "\n",
      "/Users/vijayyedidi/opt/anaconda3/envs/credit/lib/python3.6/site-packages/pandas/core/frame.py:4170: SettingWithCopyWarning:\n",
      "\n",
      "\n",
      "A value is trying to be set on a copy of a slice from a DataFrame\n",
      "\n",
      "See the caveats in the documentation: https://pandas.pydata.org/pandas-docs/stable/user_guide/indexing.html#returning-a-view-versus-a-copy\n",
      "\n",
      "/Users/vijayyedidi/opt/anaconda3/envs/credit/lib/python3.6/site-packages/ipykernel_launcher.py:17: SettingWithCopyWarning:\n",
      "\n",
      "\n",
      "A value is trying to be set on a copy of a slice from a DataFrame\n",
      "\n",
      "See the caveats in the documentation: https://pandas.pydata.org/pandas-docs/stable/user_guide/indexing.html#returning-a-view-versus-a-copy\n",
      "\n"
     ]
    },
    {
     "data": {
      "text/html": [
       "<div>\n",
       "<style scoped>\n",
       "    .dataframe tbody tr th:only-of-type {\n",
       "        vertical-align: middle;\n",
       "    }\n",
       "\n",
       "    .dataframe tbody tr th {\n",
       "        vertical-align: top;\n",
       "    }\n",
       "\n",
       "    .dataframe thead th {\n",
       "        text-align: right;\n",
       "    }\n",
       "</style>\n",
       "<table border=\"1\" class=\"dataframe\">\n",
       "  <thead>\n",
       "    <tr style=\"text-align: right;\">\n",
       "      <th></th>\n",
       "      <th>IQ Name</th>\n",
       "      <th>IQID</th>\n",
       "      <th>IQ_TOTAL_REV</th>\n",
       "      <th>IQ_NI_CF</th>\n",
       "      <th>IQ_AR</th>\n",
       "      <th>IQ_GP</th>\n",
       "      <th>IQ_TOTAL_ASSETS</th>\n",
       "      <th>IQ_AP</th>\n",
       "      <th>IQ_TOTAL_LIAB</th>\n",
       "      <th>IQ_TOTAL_DEBT</th>\n",
       "      <th>IQ_CASH_FINAN</th>\n",
       "      <th>IQ_TOTAL_EQUITY</th>\n",
       "      <th>IQ_CASH_EQUIV</th>\n",
       "      <th>year</th>\n",
       "      <th>quarter</th>\n",
       "    </tr>\n",
       "  </thead>\n",
       "  <tbody>\n",
       "    <tr>\n",
       "      <th>0</th>\n",
       "      <td>Fidelity National Information Services, Inc.</td>\n",
       "      <td>IQ10081196</td>\n",
       "      <td>0.0</td>\n",
       "      <td>0.0</td>\n",
       "      <td>889.6</td>\n",
       "      <td>0.0</td>\n",
       "      <td>14176.3</td>\n",
       "      <td>119.0</td>\n",
       "      <td>7614.7</td>\n",
       "      <td>5210.4</td>\n",
       "      <td>0.0</td>\n",
       "      <td>6561.6</td>\n",
       "      <td>338.0</td>\n",
       "      <td>2010</td>\n",
       "      <td>4</td>\n",
       "    </tr>\n",
       "    <tr>\n",
       "      <th>1</th>\n",
       "      <td>Fidelity National Information Services, Inc.</td>\n",
       "      <td>IQ10081196</td>\n",
       "      <td>1352.8</td>\n",
       "      <td>92.8</td>\n",
       "      <td>897.6</td>\n",
       "      <td>376.5</td>\n",
       "      <td>14114.3</td>\n",
       "      <td>577.2</td>\n",
       "      <td>7383.8</td>\n",
       "      <td>5069.6</td>\n",
       "      <td>-140.1</td>\n",
       "      <td>6730.5</td>\n",
       "      <td>384.1</td>\n",
       "      <td>2011</td>\n",
       "      <td>1</td>\n",
       "    </tr>\n",
       "    <tr>\n",
       "      <th>2</th>\n",
       "      <td>Fidelity National Information Services, Inc.</td>\n",
       "      <td>IQ10081196</td>\n",
       "      <td>1413.3</td>\n",
       "      <td>123.5</td>\n",
       "      <td>895.8</td>\n",
       "      <td>423.9</td>\n",
       "      <td>14161.6</td>\n",
       "      <td>553.2</td>\n",
       "      <td>7267.2</td>\n",
       "      <td>4939.3</td>\n",
       "      <td>-157.3</td>\n",
       "      <td>6894.4</td>\n",
       "      <td>427.3</td>\n",
       "      <td>2011</td>\n",
       "      <td>2</td>\n",
       "    </tr>\n",
       "    <tr>\n",
       "      <th>3</th>\n",
       "      <td>Fidelity National Information Services, Inc.</td>\n",
       "      <td>IQ10081196</td>\n",
       "      <td>1398.2</td>\n",
       "      <td>0.0</td>\n",
       "      <td>860.1</td>\n",
       "      <td>432.9</td>\n",
       "      <td>13885.5</td>\n",
       "      <td>515.5</td>\n",
       "      <td>7134.6</td>\n",
       "      <td>4917.5</td>\n",
       "      <td>0.0</td>\n",
       "      <td>6750.9</td>\n",
       "      <td>386.8</td>\n",
       "      <td>2011</td>\n",
       "      <td>3</td>\n",
       "    </tr>\n",
       "    <tr>\n",
       "      <th>4</th>\n",
       "      <td>Fidelity National Information Services, Inc.</td>\n",
       "      <td>IQ10081196</td>\n",
       "      <td>1461.3</td>\n",
       "      <td>117.0</td>\n",
       "      <td>915.4</td>\n",
       "      <td>473.2</td>\n",
       "      <td>13873.2</td>\n",
       "      <td>100.6</td>\n",
       "      <td>7222.0</td>\n",
       "      <td>4813.8</td>\n",
       "      <td>-271.3</td>\n",
       "      <td>6651.2</td>\n",
       "      <td>415.5</td>\n",
       "      <td>2011</td>\n",
       "      <td>4</td>\n",
       "    </tr>\n",
       "  </tbody>\n",
       "</table>\n",
       "</div>"
      ],
      "text/plain": [
       "                                        IQ Name        IQID  IQ_TOTAL_REV  \\\n",
       "0  Fidelity National Information Services, Inc.  IQ10081196           0.0   \n",
       "1  Fidelity National Information Services, Inc.  IQ10081196        1352.8   \n",
       "2  Fidelity National Information Services, Inc.  IQ10081196        1413.3   \n",
       "3  Fidelity National Information Services, Inc.  IQ10081196        1398.2   \n",
       "4  Fidelity National Information Services, Inc.  IQ10081196        1461.3   \n",
       "\n",
       "   IQ_NI_CF  IQ_AR  IQ_GP   IQ_TOTAL_ASSETS  IQ_AP  IQ_TOTAL_LIAB  \\\n",
       "0       0.0  889.6     0.0          14176.3  119.0         7614.7   \n",
       "1      92.8  897.6   376.5          14114.3  577.2         7383.8   \n",
       "2     123.5  895.8   423.9          14161.6  553.2         7267.2   \n",
       "3       0.0  860.1   432.9          13885.5  515.5         7134.6   \n",
       "4     117.0  915.4   473.2          13873.2  100.6         7222.0   \n",
       "\n",
       "   IQ_TOTAL_DEBT  IQ_CASH_FINAN  IQ_TOTAL_EQUITY  IQ_CASH_EQUIV  year  quarter  \n",
       "0         5210.4            0.0           6561.6          338.0  2010        4  \n",
       "1         5069.6         -140.1           6730.5          384.1  2011        1  \n",
       "2         4939.3         -157.3           6894.4          427.3  2011        2  \n",
       "3         4917.5            0.0           6750.9          386.8  2011        3  \n",
       "4         4813.8         -271.3           6651.2          415.5  2011        4  "
      ]
     },
     "execution_count": 4,
     "metadata": {},
     "output_type": "execute_result"
    }
   ],
   "source": [
    "## Reduce to only the variables we really want. \n",
    "small_df = data[['IQ Name', 'IQID', 'Fiscal Quarter',\n",
    "                 'IQ_TOTAL_REV', 'IQ_NI_CF',\n",
    "                 'IQ_AR', \n",
    "                 'IQ_GP ', \n",
    "                 'IQ_TOTAL_ASSETS', \n",
    "                 'IQ_AP', \n",
    "                 'IQ_TOTAL_LIAB', \n",
    "                 'IQ_TOTAL_DEBT', \n",
    "                 'IQ_CASH_FINAN', \n",
    "                 'IQ_TOTAL_EQUITY', \n",
    "                 'IQ_CASH_EQUIV' \n",
    "                 ]]\n",
    "small_df['year'] = pd.to_numeric(small_df['Fiscal Quarter'].str[-4:])\n",
    "small_df['quarter'] = pd.to_numeric(small_df['Fiscal Quarter'].str[-5] )\n",
    "small_df.drop(columns = ['Fiscal Quarter'], inplace = True)\n",
    "small_df.drop_duplicates(subset = ['year', 'quarter', 'IQID'], keep = 'first', inplace = True)  \n",
    "small_df.head()"
   ]
  },
  {
   "cell_type": "code",
   "execution_count": 5,
   "id": "opponent-parcel",
   "metadata": {
    "ExecuteTime": {
     "end_time": "2021-03-24T21:32:59.386965Z",
     "start_time": "2021-03-24T21:32:59.342600Z"
    }
   },
   "outputs": [
    {
     "name": "stdout",
     "output_type": "stream",
     "text": [
      "For IQ_TOTAL_REV we have 0 \n",
      "For IQ_NI_CF we have 0 \n",
      "For IQ_AR we have 24 \n",
      "For IQ_GP  we have 0 \n",
      "For IQ_TOTAL_ASSETS we have 0 \n",
      "For IQ_AP we have 7 \n",
      "For IQ_TOTAL_LIAB we have 0 \n",
      "For IQ_TOTAL_DEBT we have 10 \n",
      "For IQ_CASH_FINAN we have 0 \n",
      "For IQ_TOTAL_EQUITY we have 0 \n",
      "For IQ_CASH_EQUIV we have 0 \n",
      "(30170, 15)\n"
     ]
    }
   ],
   "source": [
    "## See any zero variables \n",
    "Zeros = lambda df, col: df[df[col] == 0][['IQ Name', 'year', 'quarter', col]]\n",
    "check_zeros = {}\n",
    "for col in small_df.columns[2:-2]: \n",
    "    '''Looking at zero values. If there are more than 5 zeros in a column we're going\n",
    "    to have to take a closer look''' \n",
    "\n",
    "    \n",
    "    df = Zeros(small_df, col).groupby(['IQ Name']).count() \n",
    "    df = df[df[col] > 50]\n",
    "    check_zeros[col] = df\n",
    "    print('For {} we have {} '.format(col, df.shape[0]))\n",
    "\n",
    "print(small_df.shape) "
   ]
  },
  {
   "cell_type": "code",
   "execution_count": 6,
   "id": "suitable-child",
   "metadata": {
    "ExecuteTime": {
     "end_time": "2021-03-24T21:32:59.692980Z",
     "start_time": "2021-03-24T21:32:59.388756Z"
    }
   },
   "outputs": [],
   "source": [
    "small_df.to_csv('small_df.csv') "
   ]
  },
  {
   "cell_type": "markdown",
   "id": "likely-cradle",
   "metadata": {},
   "source": [
    "## Final Formatting"
   ]
  },
  {
   "cell_type": "code",
   "execution_count": 7,
   "id": "worse-class",
   "metadata": {
    "ExecuteTime": {
     "end_time": "2021-03-24T21:32:59.917374Z",
     "start_time": "2021-03-24T21:32:59.694523Z"
    }
   },
   "outputs": [
    {
     "name": "stdout",
     "output_type": "stream",
     "text": [
      "0\n",
      "ID         0\n",
      "IQID       0\n",
      "IQ Name    0\n",
      "dtype: int64\n"
     ]
    },
    {
     "data": {
      "text/html": [
       "<div>\n",
       "<style scoped>\n",
       "    .dataframe tbody tr th:only-of-type {\n",
       "        vertical-align: middle;\n",
       "    }\n",
       "\n",
       "    .dataframe tbody tr th {\n",
       "        vertical-align: top;\n",
       "    }\n",
       "\n",
       "    .dataframe thead th {\n",
       "        text-align: right;\n",
       "    }\n",
       "</style>\n",
       "<table border=\"1\" class=\"dataframe\">\n",
       "  <thead>\n",
       "    <tr style=\"text-align: right;\">\n",
       "      <th></th>\n",
       "      <th>ID</th>\n",
       "      <th>IQID</th>\n",
       "      <th>IQ Name</th>\n",
       "    </tr>\n",
       "  </thead>\n",
       "  <tbody>\n",
       "    <tr>\n",
       "      <th>0</th>\n",
       "      <td>MMM</td>\n",
       "      <td>IQ289194</td>\n",
       "      <td>3M Company</td>\n",
       "    </tr>\n",
       "    <tr>\n",
       "      <th>1</th>\n",
       "      <td>ABT</td>\n",
       "      <td>IQ247483</td>\n",
       "      <td>Abbott Laboratories</td>\n",
       "    </tr>\n",
       "    <tr>\n",
       "      <th>2</th>\n",
       "      <td>ABBV</td>\n",
       "      <td>IQ141885706</td>\n",
       "      <td>AbbVie Inc.</td>\n",
       "    </tr>\n",
       "    <tr>\n",
       "      <th>3</th>\n",
       "      <td>ABMD</td>\n",
       "      <td>IQ247589</td>\n",
       "      <td>Abiomed, Inc.</td>\n",
       "    </tr>\n",
       "    <tr>\n",
       "      <th>4</th>\n",
       "      <td>ACN</td>\n",
       "      <td>IQ972190</td>\n",
       "      <td>Accenture plc</td>\n",
       "    </tr>\n",
       "  </tbody>\n",
       "</table>\n",
       "</div>"
      ],
      "text/plain": [
       "     ID         IQID              IQ Name\n",
       "0   MMM     IQ289194           3M Company\n",
       "1   ABT     IQ247483  Abbott Laboratories\n",
       "2  ABBV  IQ141885706          AbbVie Inc.\n",
       "3  ABMD     IQ247589        Abiomed, Inc.\n",
       "4   ACN     IQ972190        Accenture plc"
      ]
     },
     "execution_count": 7,
     "metadata": {},
     "output_type": "execute_result"
    }
   ],
   "source": [
    "## Read in Data\n",
    "\n",
    "ids= pd.DataFrame() \n",
    "## Read in ticker symbols\n",
    "for i in range(1, 6): \n",
    "    df = pd.read_excel('capiq_data/in_process_ids/ids {}.xlsx'.format(i),\n",
    "                       engine='openpyxl')[['ID', 'IQID', 'IQ Name']]\n",
    "    ids = pd.concat([ids, df]) \n",
    "\n",
    "## See if there are any duplicates \n",
    "print(ids.duplicated().sum()) \n",
    "## See if there are any nulls \n",
    "print(ids.isna().sum()) \n",
    "ids.head() "
   ]
  },
  {
   "cell_type": "markdown",
   "id": "consistent-merchandise",
   "metadata": {},
   "source": [
    "## Read in Independent Variables, Join tickers"
   ]
  },
  {
   "cell_type": "code",
   "execution_count": 8,
   "id": "graduate-russian",
   "metadata": {
    "ExecuteTime": {
     "end_time": "2021-03-24T21:32:59.951979Z",
     "start_time": "2021-03-24T21:32:59.920566Z"
    }
   },
   "outputs": [
    {
     "data": {
      "text/html": [
       "<div>\n",
       "<style scoped>\n",
       "    .dataframe tbody tr th:only-of-type {\n",
       "        vertical-align: middle;\n",
       "    }\n",
       "\n",
       "    .dataframe tbody tr th {\n",
       "        vertical-align: top;\n",
       "    }\n",
       "\n",
       "    .dataframe thead th {\n",
       "        text-align: right;\n",
       "    }\n",
       "</style>\n",
       "<table border=\"1\" class=\"dataframe\">\n",
       "  <thead>\n",
       "    <tr style=\"text-align: right;\">\n",
       "      <th></th>\n",
       "      <th>year</th>\n",
       "      <th>ID</th>\n",
       "      <th>IQ_TOTAL_REV</th>\n",
       "      <th>IQ_NI_CF</th>\n",
       "      <th>IQ_AR</th>\n",
       "      <th>IQ_GP</th>\n",
       "      <th>IQ_TOTAL_ASSETS</th>\n",
       "      <th>IQ_AP</th>\n",
       "      <th>IQ_TOTAL_LIAB</th>\n",
       "      <th>IQ_TOTAL_DEBT</th>\n",
       "      <th>IQ_CASH_FINAN</th>\n",
       "      <th>IQ_TOTAL_EQUITY</th>\n",
       "      <th>IQ_CASH_EQUIV</th>\n",
       "    </tr>\n",
       "  </thead>\n",
       "  <tbody>\n",
       "    <tr>\n",
       "      <th>0</th>\n",
       "      <td>1995</td>\n",
       "      <td>CZR</td>\n",
       "      <td>36.380500</td>\n",
       "      <td>5.98350</td>\n",
       "      <td>0.962750</td>\n",
       "      <td>16.722000</td>\n",
       "      <td>53.898</td>\n",
       "      <td>0.819750</td>\n",
       "      <td>34.04225</td>\n",
       "      <td>30.907500</td>\n",
       "      <td>6.802000</td>\n",
       "      <td>19.85575</td>\n",
       "      <td>1.5305</td>\n",
       "    </tr>\n",
       "    <tr>\n",
       "      <th>1</th>\n",
       "      <td>1995</td>\n",
       "      <td>HII</td>\n",
       "      <td>455.500000</td>\n",
       "      <td>7.50000</td>\n",
       "      <td>165.000000</td>\n",
       "      <td>33.500000</td>\n",
       "      <td>690.000</td>\n",
       "      <td>83.000000</td>\n",
       "      <td>554.00000</td>\n",
       "      <td>180.000000</td>\n",
       "      <td>-13.500000</td>\n",
       "      <td>136.00000</td>\n",
       "      <td>1.0000</td>\n",
       "    </tr>\n",
       "    <tr>\n",
       "      <th>2</th>\n",
       "      <td>1996</td>\n",
       "      <td>CZR</td>\n",
       "      <td>37.662500</td>\n",
       "      <td>4.61575</td>\n",
       "      <td>3.078750</td>\n",
       "      <td>17.350750</td>\n",
       "      <td>171.045</td>\n",
       "      <td>2.952000</td>\n",
       "      <td>104.33325</td>\n",
       "      <td>124.623250</td>\n",
       "      <td>-2.300500</td>\n",
       "      <td>86.56750</td>\n",
       "      <td>4.1460</td>\n",
       "    </tr>\n",
       "    <tr>\n",
       "      <th>3</th>\n",
       "      <td>1996</td>\n",
       "      <td>HII</td>\n",
       "      <td>467.500000</td>\n",
       "      <td>13.75000</td>\n",
       "      <td>210.750000</td>\n",
       "      <td>35.250000</td>\n",
       "      <td>740.500</td>\n",
       "      <td>64.000000</td>\n",
       "      <td>599.00000</td>\n",
       "      <td>352.750000</td>\n",
       "      <td>43.250000</td>\n",
       "      <td>209.50000</td>\n",
       "      <td>0.5000</td>\n",
       "    </tr>\n",
       "    <tr>\n",
       "      <th>4</th>\n",
       "      <td>1996</td>\n",
       "      <td>HLT</td>\n",
       "      <td>994.333333</td>\n",
       "      <td>15.00000</td>\n",
       "      <td>133.333333</td>\n",
       "      <td>255.666667</td>\n",
       "      <td>4543.300</td>\n",
       "      <td>270.466667</td>\n",
       "      <td>2559.00000</td>\n",
       "      <td>1655.966667</td>\n",
       "      <td>65.333333</td>\n",
       "      <td>1984.30000</td>\n",
       "      <td>296.6000</td>\n",
       "    </tr>\n",
       "  </tbody>\n",
       "</table>\n",
       "</div>"
      ],
      "text/plain": [
       "   year   ID  IQ_TOTAL_REV  IQ_NI_CF       IQ_AR      IQ_GP   IQ_TOTAL_ASSETS  \\\n",
       "0  1995  CZR     36.380500   5.98350    0.962750   16.722000           53.898   \n",
       "1  1995  HII    455.500000   7.50000  165.000000   33.500000          690.000   \n",
       "2  1996  CZR     37.662500   4.61575    3.078750   17.350750          171.045   \n",
       "3  1996  HII    467.500000  13.75000  210.750000   35.250000          740.500   \n",
       "4  1996  HLT    994.333333  15.00000  133.333333  255.666667         4543.300   \n",
       "\n",
       "        IQ_AP  IQ_TOTAL_LIAB  IQ_TOTAL_DEBT  IQ_CASH_FINAN  IQ_TOTAL_EQUITY  \\\n",
       "0    0.819750       34.04225      30.907500       6.802000         19.85575   \n",
       "1   83.000000      554.00000     180.000000     -13.500000        136.00000   \n",
       "2    2.952000      104.33325     124.623250      -2.300500         86.56750   \n",
       "3   64.000000      599.00000     352.750000      43.250000        209.50000   \n",
       "4  270.466667     2559.00000    1655.966667      65.333333       1984.30000   \n",
       "\n",
       "   IQ_CASH_EQUIV  \n",
       "0         1.5305  \n",
       "1         1.0000  \n",
       "2         4.1460  \n",
       "3         0.5000  \n",
       "4       296.6000  "
      ]
     },
     "execution_count": 8,
     "metadata": {},
     "output_type": "execute_result"
    }
   ],
   "source": [
    "## Join IQID for inds so we can see the Ticker and the name \n",
    "\n",
    "ind_df = small_df\n",
    "\n",
    "ind_df = ind_df.merge(ids, on = ['IQID', 'IQ Name']) \n",
    "ind_df.drop([ 'IQ Name', 'IQID', \n",
    "            'quarter'], axis = 1, inplace = True) \n",
    "\n",
    "## The data is quarterly, but we need to lok at it annually. \n",
    "## This means we have to take the mean of the data for all the quarters \n",
    "ind_df = ind_df.groupby(['year', 'ID']).mean().reset_index()\n",
    "                      \n",
    "ind_df.head() "
   ]
  },
  {
   "cell_type": "markdown",
   "id": "reliable-ethernet",
   "metadata": {},
   "source": [
    "## Join in the credit rating data \n",
    "we want an inner join so we can only keep the company we have the credit rating for"
   ]
  },
  {
   "cell_type": "code",
   "execution_count": 9,
   "id": "spatial-ensemble",
   "metadata": {
    "ExecuteTime": {
     "end_time": "2021-03-24T21:33:00.006713Z",
     "start_time": "2021-03-24T21:32:59.955087Z"
    }
   },
   "outputs": [
    {
     "data": {
      "text/html": [
       "<div>\n",
       "<style scoped>\n",
       "    .dataframe tbody tr th:only-of-type {\n",
       "        vertical-align: middle;\n",
       "    }\n",
       "\n",
       "    .dataframe tbody tr th {\n",
       "        vertical-align: top;\n",
       "    }\n",
       "\n",
       "    .dataframe thead th {\n",
       "        text-align: right;\n",
       "    }\n",
       "</style>\n",
       "<table border=\"1\" class=\"dataframe\">\n",
       "  <thead>\n",
       "    <tr style=\"text-align: right;\">\n",
       "      <th></th>\n",
       "      <th>rating</th>\n",
       "      <th>year</th>\n",
       "      <th>ID</th>\n",
       "      <th>IQ_TOTAL_ASSETS</th>\n",
       "      <th>IQ_TOTAL_REV</th>\n",
       "      <th>IQ_NI_CF</th>\n",
       "      <th>IQ_AR</th>\n",
       "      <th>IQ_GP</th>\n",
       "      <th>IQ_AP</th>\n",
       "      <th>IQ_TOTAL_LIAB</th>\n",
       "      <th>IQ_TOTAL_DEBT</th>\n",
       "      <th>IQ_CASH_FINAN</th>\n",
       "      <th>IQ_TOTAL_EQUITY</th>\n",
       "      <th>IQ_CASH_EQUIV</th>\n",
       "    </tr>\n",
       "  </thead>\n",
       "  <tbody>\n",
       "    <tr>\n",
       "      <th>0</th>\n",
       "      <td>12.000000</td>\n",
       "      <td>2000</td>\n",
       "      <td>AAL</td>\n",
       "      <td>26213.00</td>\n",
       "      <td>0.185366</td>\n",
       "      <td>0.001793</td>\n",
       "      <td>0.049708</td>\n",
       "      <td>0.056804</td>\n",
       "      <td>0.048335</td>\n",
       "      <td>0.726243</td>\n",
       "      <td>0.239194</td>\n",
       "      <td>0.014687</td>\n",
       "      <td>0.273757</td>\n",
       "      <td>0.003395</td>\n",
       "    </tr>\n",
       "    <tr>\n",
       "      <th>1</th>\n",
       "      <td>12.666667</td>\n",
       "      <td>2001</td>\n",
       "      <td>AAL</td>\n",
       "      <td>30054.25</td>\n",
       "      <td>0.157740</td>\n",
       "      <td>-0.014657</td>\n",
       "      <td>0.050276</td>\n",
       "      <td>0.033889</td>\n",
       "      <td>0.051191</td>\n",
       "      <td>0.787243</td>\n",
       "      <td>0.281433</td>\n",
       "      <td>0.035028</td>\n",
       "      <td>0.212757</td>\n",
       "      <td>0.005058</td>\n",
       "    </tr>\n",
       "    <tr>\n",
       "      <th>2</th>\n",
       "      <td>14.583333</td>\n",
       "      <td>2002</td>\n",
       "      <td>AAL</td>\n",
       "      <td>31230.25</td>\n",
       "      <td>0.139448</td>\n",
       "      <td>-0.028106</td>\n",
       "      <td>0.047118</td>\n",
       "      <td>0.037640</td>\n",
       "      <td>0.044660</td>\n",
       "      <td>0.913826</td>\n",
       "      <td>0.382025</td>\n",
       "      <td>0.020061</td>\n",
       "      <td>0.086174</td>\n",
       "      <td>0.004451</td>\n",
       "    </tr>\n",
       "    <tr>\n",
       "      <th>3</th>\n",
       "      <td>18.250000</td>\n",
       "      <td>2003</td>\n",
       "      <td>AAL</td>\n",
       "      <td>29394.75</td>\n",
       "      <td>0.148326</td>\n",
       "      <td>-0.010444</td>\n",
       "      <td>0.029146</td>\n",
       "      <td>0.034641</td>\n",
       "      <td>0.035670</td>\n",
       "      <td>1.009177</td>\n",
       "      <td>0.461341</td>\n",
       "      <td>0.000510</td>\n",
       "      <td>-0.009177</td>\n",
       "      <td>0.005035</td>\n",
       "    </tr>\n",
       "    <tr>\n",
       "      <th>4</th>\n",
       "      <td>18.000000</td>\n",
       "      <td>2004</td>\n",
       "      <td>AAL</td>\n",
       "      <td>29496.25</td>\n",
       "      <td>0.158029</td>\n",
       "      <td>-0.006450</td>\n",
       "      <td>0.030707</td>\n",
       "      <td>0.039259</td>\n",
       "      <td>0.035606</td>\n",
       "      <td>1.009764</td>\n",
       "      <td>0.487706</td>\n",
       "      <td>0.002805</td>\n",
       "      <td>-0.009764</td>\n",
       "      <td>0.004958</td>\n",
       "    </tr>\n",
       "  </tbody>\n",
       "</table>\n",
       "</div>"
      ],
      "text/plain": [
       "      rating  year   ID  IQ_TOTAL_ASSETS  IQ_TOTAL_REV  IQ_NI_CF     IQ_AR  \\\n",
       "0  12.000000  2000  AAL         26213.00      0.185366  0.001793  0.049708   \n",
       "1  12.666667  2001  AAL         30054.25      0.157740 -0.014657  0.050276   \n",
       "2  14.583333  2002  AAL         31230.25      0.139448 -0.028106  0.047118   \n",
       "3  18.250000  2003  AAL         29394.75      0.148326 -0.010444  0.029146   \n",
       "4  18.000000  2004  AAL         29496.25      0.158029 -0.006450  0.030707   \n",
       "\n",
       "     IQ_GP      IQ_AP  IQ_TOTAL_LIAB  IQ_TOTAL_DEBT  IQ_CASH_FINAN  \\\n",
       "0  0.056804  0.048335       0.726243       0.239194       0.014687   \n",
       "1  0.033889  0.051191       0.787243       0.281433       0.035028   \n",
       "2  0.037640  0.044660       0.913826       0.382025       0.020061   \n",
       "3  0.034641  0.035670       1.009177       0.461341       0.000510   \n",
       "4  0.039259  0.035606       1.009764       0.487706       0.002805   \n",
       "\n",
       "   IQ_TOTAL_EQUITY  IQ_CASH_EQUIV  \n",
       "0         0.273757       0.003395  \n",
       "1         0.212757       0.005058  \n",
       "2         0.086174       0.004451  \n",
       "3        -0.009177       0.005035  \n",
       "4        -0.009764       0.004958  "
      ]
     },
     "execution_count": 9,
     "metadata": {},
     "output_type": "execute_result"
    }
   ],
   "source": [
    "## Join in the credit Ratings Data\n",
    "credit_ratings = pd.read_csv('credit.csv')[['Year', 'TickerSymbol',\n",
    "                                            'DomesticLTICRSPMthlyAvg']]\n",
    "credit_ratings.rename({'DomesticLTICRSPMthlyAvg': 'rating'}, inplace = True, axis = 1)  \n",
    "\n",
    "## Add credit ratings to df  \n",
    "tot_df = credit_ratings.merge(ind_df, how = 'inner', \n",
    "                             left_on = ['Year', 'TickerSymbol'], \n",
    "                             right_on = ['year', 'ID'])\n",
    "tot_df.drop(['Year', 'TickerSymbol'], axis = 1, inplace = True) \n",
    "\n",
    "\n",
    "## Normalize by Assets by Company\n",
    "tot_df.head()\n",
    "norm_tot_df = tot_df.drop(['rating', 'year', 'ID', 'IQ_TOTAL_ASSETS'], axis = 1) \n",
    "norm_tot_df = norm_tot_df.div(tot_df['IQ_TOTAL_ASSETS'], axis = 0)\n",
    "tot_df = pd.concat([tot_df[['rating', 'year', 'ID', 'IQ_TOTAL_ASSETS']], \n",
    "                        norm_tot_df], axis = 1) \n",
    "\n",
    "tot_df.head() "
   ]
  },
  {
   "cell_type": "code",
   "execution_count": 10,
   "id": "entire-trailer",
   "metadata": {
    "ExecuteTime": {
     "end_time": "2021-03-24T21:33:01.657221Z",
     "start_time": "2021-03-24T21:33:00.008676Z"
    }
   },
   "outputs": [
    {
     "name": "stderr",
     "output_type": "stream",
     "text": [
      "100%|██████████| 312/312 [00:01<00:00, 191.39it/s]\n"
     ]
    },
    {
     "data": {
      "text/html": [
       "<div>\n",
       "<style scoped>\n",
       "    .dataframe tbody tr th:only-of-type {\n",
       "        vertical-align: middle;\n",
       "    }\n",
       "\n",
       "    .dataframe tbody tr th {\n",
       "        vertical-align: top;\n",
       "    }\n",
       "\n",
       "    .dataframe thead th {\n",
       "        text-align: right;\n",
       "    }\n",
       "</style>\n",
       "<table border=\"1\" class=\"dataframe\">\n",
       "  <thead>\n",
       "    <tr style=\"text-align: right;\">\n",
       "      <th></th>\n",
       "      <th></th>\n",
       "      <th>lead_rating</th>\n",
       "      <th>rating</th>\n",
       "      <th>IQ_TOTAL_ASSETS</th>\n",
       "      <th>IQ_TOTAL_REV</th>\n",
       "      <th>IQ_NI_CF</th>\n",
       "      <th>IQ_AR</th>\n",
       "      <th>IQ_GP</th>\n",
       "      <th>IQ_AP</th>\n",
       "      <th>IQ_TOTAL_LIAB</th>\n",
       "      <th>IQ_TOTAL_DEBT</th>\n",
       "      <th>IQ_CASH_FINAN</th>\n",
       "      <th>IQ_TOTAL_EQUITY</th>\n",
       "      <th>IQ_CASH_EQUIV</th>\n",
       "    </tr>\n",
       "    <tr>\n",
       "      <th>year</th>\n",
       "      <th>ID</th>\n",
       "      <th></th>\n",
       "      <th></th>\n",
       "      <th></th>\n",
       "      <th></th>\n",
       "      <th></th>\n",
       "      <th></th>\n",
       "      <th></th>\n",
       "      <th></th>\n",
       "      <th></th>\n",
       "      <th></th>\n",
       "      <th></th>\n",
       "      <th></th>\n",
       "      <th></th>\n",
       "    </tr>\n",
       "  </thead>\n",
       "  <tbody>\n",
       "    <tr>\n",
       "      <th>2001</th>\n",
       "      <th>AAL</th>\n",
       "      <td>1.916667</td>\n",
       "      <td>0.666667</td>\n",
       "      <td>1.555216</td>\n",
       "      <td>-0.027626</td>\n",
       "      <td>-0.016450</td>\n",
       "      <td>0.000568</td>\n",
       "      <td>-0.022915</td>\n",
       "      <td>0.002856</td>\n",
       "      <td>0.061000</td>\n",
       "      <td>0.042238</td>\n",
       "      <td>0.020341</td>\n",
       "      <td>-0.061000</td>\n",
       "      <td>0.001662</td>\n",
       "    </tr>\n",
       "    <tr>\n",
       "      <th>2002</th>\n",
       "      <th>AAL</th>\n",
       "      <td>3.666667</td>\n",
       "      <td>1.916667</td>\n",
       "      <td>0.393082</td>\n",
       "      <td>-0.018292</td>\n",
       "      <td>-0.013449</td>\n",
       "      <td>-0.003158</td>\n",
       "      <td>0.003751</td>\n",
       "      <td>-0.006531</td>\n",
       "      <td>0.126582</td>\n",
       "      <td>0.100593</td>\n",
       "      <td>-0.014968</td>\n",
       "      <td>-0.126582</td>\n",
       "      <td>-0.000607</td>\n",
       "    </tr>\n",
       "    <tr>\n",
       "      <th>2003</th>\n",
       "      <th>AAL</th>\n",
       "      <td>-0.250000</td>\n",
       "      <td>3.666667</td>\n",
       "      <td>-0.920027</td>\n",
       "      <td>0.008878</td>\n",
       "      <td>0.017662</td>\n",
       "      <td>-0.017971</td>\n",
       "      <td>-0.002999</td>\n",
       "      <td>-0.008991</td>\n",
       "      <td>0.095351</td>\n",
       "      <td>0.079315</td>\n",
       "      <td>-0.019550</td>\n",
       "      <td>-0.095351</td>\n",
       "      <td>0.000584</td>\n",
       "    </tr>\n",
       "    <tr>\n",
       "      <th>2004</th>\n",
       "      <th>AAL</th>\n",
       "      <td>0.000000</td>\n",
       "      <td>-0.250000</td>\n",
       "      <td>-0.075433</td>\n",
       "      <td>0.009703</td>\n",
       "      <td>0.003994</td>\n",
       "      <td>0.001561</td>\n",
       "      <td>0.004619</td>\n",
       "      <td>-0.000063</td>\n",
       "      <td>0.000587</td>\n",
       "      <td>0.026365</td>\n",
       "      <td>0.002295</td>\n",
       "      <td>-0.000587</td>\n",
       "      <td>-0.000077</td>\n",
       "    </tr>\n",
       "    <tr>\n",
       "      <th>2005</th>\n",
       "      <th>AAL</th>\n",
       "      <td>-0.583333</td>\n",
       "      <td>0.000000</td>\n",
       "      <td>-0.162531</td>\n",
       "      <td>0.018106</td>\n",
       "      <td>-0.000838</td>\n",
       "      <td>0.004899</td>\n",
       "      <td>0.003405</td>\n",
       "      <td>0.002764</td>\n",
       "      <td>0.019753</td>\n",
       "      <td>0.000184</td>\n",
       "      <td>0.001727</td>\n",
       "      <td>-0.019753</td>\n",
       "      <td>-0.000034</td>\n",
       "    </tr>\n",
       "  </tbody>\n",
       "</table>\n",
       "</div>"
      ],
      "text/plain": [
       "          lead_rating    rating  IQ_TOTAL_ASSETS  IQ_TOTAL_REV  IQ_NI_CF  \\\n",
       "year ID                                                                    \n",
       "2001 AAL     1.916667  0.666667         1.555216     -0.027626 -0.016450   \n",
       "2002 AAL     3.666667  1.916667         0.393082     -0.018292 -0.013449   \n",
       "2003 AAL    -0.250000  3.666667        -0.920027      0.008878  0.017662   \n",
       "2004 AAL     0.000000 -0.250000        -0.075433      0.009703  0.003994   \n",
       "2005 AAL    -0.583333  0.000000        -0.162531      0.018106 -0.000838   \n",
       "\n",
       "             IQ_AR    IQ_GP      IQ_AP  IQ_TOTAL_LIAB  IQ_TOTAL_DEBT  \\\n",
       "year ID                                                                \n",
       "2001 AAL  0.000568 -0.022915  0.002856       0.061000       0.042238   \n",
       "2002 AAL -0.003158  0.003751 -0.006531       0.126582       0.100593   \n",
       "2003 AAL -0.017971 -0.002999 -0.008991       0.095351       0.079315   \n",
       "2004 AAL  0.001561  0.004619 -0.000063       0.000587       0.026365   \n",
       "2005 AAL  0.004899  0.003405  0.002764       0.019753       0.000184   \n",
       "\n",
       "          IQ_CASH_FINAN  IQ_TOTAL_EQUITY  IQ_CASH_EQUIV  \n",
       "year ID                                                  \n",
       "2001 AAL       0.020341        -0.061000       0.001662  \n",
       "2002 AAL      -0.014968        -0.126582      -0.000607  \n",
       "2003 AAL      -0.019550        -0.095351       0.000584  \n",
       "2004 AAL       0.002295        -0.000587      -0.000077  \n",
       "2005 AAL       0.001727        -0.019753      -0.000034  "
      ]
     },
     "execution_count": 10,
     "metadata": {},
     "output_type": "execute_result"
    }
   ],
   "source": [
    "tot_df_clean = pd.DataFrame() \n",
    "\n",
    "\n",
    "\n",
    "for ticker in tqdm(tot_df['ID'].unique()): \n",
    "    \n",
    "    \n",
    "    ## small df is all the rows with the ticker, sort by year \n",
    "    small_df = tot_df[tot_df['ID'] == ticker].sort_values(by = 'year',\n",
    "                                                             ascending = True)\n",
    "    \n",
    "    \n",
    "    ## Insert a lead rating column. This is the predictor column, \n",
    "    ## as we are trying to predict the credit rating for the next year\n",
    "    small_df.insert(loc = 0, column = 'lead_rating', \n",
    "               value = small_df.rating.shift(-1)) \n",
    "    \n",
    "    \n",
    "    ## Set the index as the year and the ticker. \n",
    "    small_df.set_index(['year', 'ID'], inplace = True) \n",
    "    \n",
    "    ## Take the difference between rows. We are looking to find \n",
    "    ## differences in credit rating, so we are going to compare it to \n",
    "    ## differences in dependent variables. \n",
    "    ## We can then drop the nulls. \n",
    "    small_df = small_df.diff().dropna()  \n",
    "    \n",
    "    ## Normalize total assets \n",
    "    assets = small_df['IQ_TOTAL_ASSETS']\n",
    "    small_df['IQ_TOTAL_ASSETS'] = (assets - assets.mean()) / assets.std() \n",
    "    \n",
    "    tot_df_clean = pd.concat([tot_df_clean, small_df], axis = 0) \n",
    "\n",
    "tot_df_clean.head() "
   ]
  },
  {
   "cell_type": "markdown",
   "id": "sharing-consolidation",
   "metadata": {},
   "source": [
    "## Generate Model Data "
   ]
  },
  {
   "cell_type": "code",
   "execution_count": 11,
   "id": "answering-white",
   "metadata": {
    "ExecuteTime": {
     "end_time": "2021-03-24T21:33:01.857507Z",
     "start_time": "2021-03-24T21:33:01.659078Z"
    }
   },
   "outputs": [
    {
     "data": {
      "text/plain": [
       "<AxesSubplot:title={'center':'Before Down-Sampling'}, ylabel='classification label'>"
      ]
     },
     "execution_count": 11,
     "metadata": {},
     "output_type": "execute_result"
    },
    {
     "data": {
      "image/png": "[encoded data removed]",
      "text/plain": [
       "<Figure size 432x288 with 1 Axes>"
      ]
     },
     "metadata": {
      "needs_background": "light"
     },
     "output_type": "display_data"
    }
   ],
   "source": [
    "def LabelRating(df_np): \n",
    "    ## Convert Rating to categoritcal value \n",
    "    lead_rating = df_np.copy() \n",
    "    \n",
    "    lead_rating[lead_rating == 0] = 0\n",
    "    lead_rating[(lead_rating > 0) ] = 1 \n",
    "    lead_rating[(lead_rating < 0) ] = -1 \n",
    "    lead_rating = -lead_rating\n",
    "\n",
    "    \n",
    "    return lead_rating \n",
    "\n",
    "\n",
    "## Apply the ratings categorical values \n",
    "tot_df_clean[['lead_rating', \n",
    "              'rating']] = tot_df_clean[['lead_rating',\n",
    "                                                        'rating']].apply(LabelRating)\n",
    "\n",
    "orig_data = tot_df_clean \n",
    "\n",
    "## See value counts in graph form\n",
    "tot_df_clean.lead_rating.value_counts().plot(kind = 'barh', ylabel = 'value counts', \n",
    "                                            xlabel = 'classification label', \n",
    "                                            title = 'Before Down-Sampling')  \n"
   ]
  },
  {
   "cell_type": "code",
   "execution_count": 12,
   "id": "allied-eclipse",
   "metadata": {
    "ExecuteTime": {
     "end_time": "2021-03-24T21:33:02.074190Z",
     "start_time": "2021-03-24T21:33:01.858991Z"
    }
   },
   "outputs": [
    {
     "data": {
      "text/plain": [
       "<AxesSubplot:title={'center':'After Down-Sampling'}, ylabel='classification label'>"
      ]
     },
     "execution_count": 12,
     "metadata": {},
     "output_type": "execute_result"
    },
    {
     "data": {
      "image/png": "[encoded data removed]",
      "text/plain": [
       "<Figure size 432x288 with 1 Axes>"
      ]
     },
     "metadata": {
      "needs_background": "light"
     },
     "output_type": "display_data"
    }
   ],
   "source": [
    "from sklearn.utils import resample \n",
    "\n",
    "## Resample the data\n",
    "\n",
    "rating_0 = tot_df_clean[tot_df_clean.lead_rating ==0 ]\n",
    "tot_df_clean_sampled = tot_df_clean[tot_df_clean.lead_rating !=0 ]\n",
    "rating_0 = resample(rating_0, \n",
    "                   replace = True, \n",
    "                   n_samples = 650,\n",
    "                    random_state = 123) \n",
    "\n",
    "tot_df_clean = pd.concat([rating_0, \n",
    "                          tot_df_clean_sampled], axis = 0) \n",
    "\n",
    "\n",
    "\n",
    "\n",
    "tot_df_clean.lead_rating.value_counts().plot(kind = 'barh', ylabel = 'value counts', \n",
    "                                            xlabel = 'classification label', \n",
    "                                            title = 'After Down-Sampling')  "
   ]
  },
  {
   "cell_type": "code",
   "execution_count": 13,
   "id": "interracial-expense",
   "metadata": {
    "ExecuteTime": {
     "end_time": "2021-03-24T21:33:02.128700Z",
     "start_time": "2021-03-24T21:33:02.076501Z"
    }
   },
   "outputs": [
    {
     "data": {
      "text/html": [
       "<div>\n",
       "<style scoped>\n",
       "    .dataframe tbody tr th:only-of-type {\n",
       "        vertical-align: middle;\n",
       "    }\n",
       "\n",
       "    .dataframe tbody tr th {\n",
       "        vertical-align: top;\n",
       "    }\n",
       "\n",
       "    .dataframe thead th {\n",
       "        text-align: right;\n",
       "    }\n",
       "</style>\n",
       "<table border=\"1\" class=\"dataframe\">\n",
       "  <thead>\n",
       "    <tr style=\"text-align: right;\">\n",
       "      <th></th>\n",
       "      <th></th>\n",
       "      <th>lead_rating</th>\n",
       "      <th>rating</th>\n",
       "      <th>IQ_TOTAL_ASSETS</th>\n",
       "      <th>IQ_TOTAL_REV</th>\n",
       "      <th>IQ_NI_CF</th>\n",
       "      <th>IQ_AR</th>\n",
       "      <th>IQ_GP</th>\n",
       "      <th>IQ_AP</th>\n",
       "      <th>IQ_TOTAL_LIAB</th>\n",
       "      <th>IQ_TOTAL_DEBT</th>\n",
       "      <th>IQ_CASH_FINAN</th>\n",
       "      <th>IQ_TOTAL_EQUITY</th>\n",
       "      <th>IQ_CASH_EQUIV</th>\n",
       "    </tr>\n",
       "    <tr>\n",
       "      <th>year</th>\n",
       "      <th>ID</th>\n",
       "      <th></th>\n",
       "      <th></th>\n",
       "      <th></th>\n",
       "      <th></th>\n",
       "      <th></th>\n",
       "      <th></th>\n",
       "      <th></th>\n",
       "      <th></th>\n",
       "      <th></th>\n",
       "      <th></th>\n",
       "      <th></th>\n",
       "      <th></th>\n",
       "      <th></th>\n",
       "    </tr>\n",
       "  </thead>\n",
       "  <tbody>\n",
       "    <tr>\n",
       "      <th rowspan=\"5\" valign=\"top\">2001</th>\n",
       "      <th>JPM</th>\n",
       "      <td>-1.0</td>\n",
       "      <td>1.0</td>\n",
       "      <td>-0.945447</td>\n",
       "      <td>-0.002409</td>\n",
       "      <td>-0.000409</td>\n",
       "      <td>0.000000</td>\n",
       "      <td>-0.002409</td>\n",
       "      <td>0.004809</td>\n",
       "      <td>0.001093</td>\n",
       "      <td>-0.005029</td>\n",
       "      <td>-0.009855</td>\n",
       "      <td>-0.001093</td>\n",
       "      <td>-0.026098</td>\n",
       "    </tr>\n",
       "    <tr>\n",
       "      <th>F</th>\n",
       "      <td>-1.0</td>\n",
       "      <td>-1.0</td>\n",
       "      <td>0.143388</td>\n",
       "      <td>-0.042495</td>\n",
       "      <td>-0.004145</td>\n",
       "      <td>-0.005853</td>\n",
       "      <td>-0.008635</td>\n",
       "      <td>0.002457</td>\n",
       "      <td>0.020101</td>\n",
       "      <td>0.018932</td>\n",
       "      <td>-0.015464</td>\n",
       "      <td>-0.020101</td>\n",
       "      <td>0.004941</td>\n",
       "    </tr>\n",
       "    <tr>\n",
       "      <th>AKAM</th>\n",
       "      <td>-1.0</td>\n",
       "      <td>-0.0</td>\n",
       "      <td>NaN</td>\n",
       "      <td>0.068819</td>\n",
       "      <td>-1.117473</td>\n",
       "      <td>0.036566</td>\n",
       "      <td>0.020109</td>\n",
       "      <td>0.061503</td>\n",
       "      <td>0.660347</td>\n",
       "      <td>0.497948</td>\n",
       "      <td>0.001225</td>\n",
       "      <td>-0.660347</td>\n",
       "      <td>0.164600</td>\n",
       "    </tr>\n",
       "    <tr>\n",
       "      <th>CHTR</th>\n",
       "      <td>-1.0</td>\n",
       "      <td>-0.0</td>\n",
       "      <td>1.445774</td>\n",
       "      <td>-0.000547</td>\n",
       "      <td>-0.001261</td>\n",
       "      <td>0.000173</td>\n",
       "      <td>0.003984</td>\n",
       "      <td>0.023845</td>\n",
       "      <td>0.007280</td>\n",
       "      <td>0.048779</td>\n",
       "      <td>0.004572</td>\n",
       "      <td>-0.007280</td>\n",
       "      <td>0.000449</td>\n",
       "    </tr>\n",
       "    <tr>\n",
       "      <th>DOV</th>\n",
       "      <td>-0.0</td>\n",
       "      <td>-0.0</td>\n",
       "      <td>-0.958897</td>\n",
       "      <td>-0.013956</td>\n",
       "      <td>-0.014696</td>\n",
       "      <td>-0.019740</td>\n",
       "      <td>-0.014525</td>\n",
       "      <td>-0.008472</td>\n",
       "      <td>-0.020854</td>\n",
       "      <td>-0.027863</td>\n",
       "      <td>-0.015357</td>\n",
       "      <td>0.020854</td>\n",
       "      <td>0.010926</td>\n",
       "    </tr>\n",
       "  </tbody>\n",
       "</table>\n",
       "</div>"
      ],
      "text/plain": [
       "           lead_rating  rating  IQ_TOTAL_ASSETS  IQ_TOTAL_REV  IQ_NI_CF  \\\n",
       "year ID                                                                   \n",
       "2001 JPM          -1.0     1.0        -0.945447     -0.002409 -0.000409   \n",
       "     F            -1.0    -1.0         0.143388     -0.042495 -0.004145   \n",
       "     AKAM         -1.0    -0.0              NaN      0.068819 -1.117473   \n",
       "     CHTR         -1.0    -0.0         1.445774     -0.000547 -0.001261   \n",
       "     DOV          -0.0    -0.0        -0.958897     -0.013956 -0.014696   \n",
       "\n",
       "              IQ_AR    IQ_GP      IQ_AP  IQ_TOTAL_LIAB  IQ_TOTAL_DEBT  \\\n",
       "year ID                                                                 \n",
       "2001 JPM   0.000000 -0.002409  0.004809       0.001093      -0.005029   \n",
       "     F    -0.005853 -0.008635  0.002457       0.020101       0.018932   \n",
       "     AKAM  0.036566  0.020109  0.061503       0.660347       0.497948   \n",
       "     CHTR  0.000173  0.003984  0.023845       0.007280       0.048779   \n",
       "     DOV  -0.019740 -0.014525 -0.008472      -0.020854      -0.027863   \n",
       "\n",
       "           IQ_CASH_FINAN  IQ_TOTAL_EQUITY  IQ_CASH_EQUIV  \n",
       "year ID                                                   \n",
       "2001 JPM       -0.009855        -0.001093      -0.026098  \n",
       "     F         -0.015464        -0.020101       0.004941  \n",
       "     AKAM       0.001225        -0.660347       0.164600  \n",
       "     CHTR       0.004572        -0.007280       0.000449  \n",
       "     DOV       -0.015357         0.020854       0.010926  "
      ]
     },
     "execution_count": 13,
     "metadata": {},
     "output_type": "execute_result"
    }
   ],
   "source": [
    "## Order by Year \n",
    "tot_df_clean_year = tot_df_clean.reset_index() \n",
    "tot_df_clean_year.sort_values(by = 'year',\n",
    "                              axis = 0, \n",
    "                             inplace = True) \n",
    "tot_df_clean_year.set_index(['year', 'ID'],\n",
    "                            inplace = True) \n",
    "tot_df_clean_year.dropna().to_csv('model_data.csv') \n",
    "tot_df_clean_year.head() "
   ]
  },
  {
   "cell_type": "markdown",
   "id": "rising-fabric",
   "metadata": {},
   "source": [
    "## Data Exploration"
   ]
  },
  {
   "cell_type": "code",
   "execution_count": 14,
   "id": "future-geology",
   "metadata": {
    "ExecuteTime": {
     "end_time": "2021-03-24T21:33:03.251265Z",
     "start_time": "2021-03-24T21:33:02.131197Z"
    }
   },
   "outputs": [
    {
     "data": {
      "text/plain": [
       "Text(0.5, 1.0, 'Autocorrelation Matrix Between Variables')"
      ]
     },
     "execution_count": 14,
     "metadata": {},
     "output_type": "execute_result"
    },
    {
     "data": {
      "image/png": "[encoded data removed]",
      "text/plain": [
       "<Figure size 720x720 with 2 Axes>"
      ]
     },
     "metadata": {
      "needs_background": "light"
     },
     "output_type": "display_data"
    }
   ],
   "source": [
    "fig, ax = plt.subplots(figsize = (10,10)) \n",
    "fig = sns.heatmap(tot_df_clean.corr(), annot = True, \n",
    "                 ax = ax) \n",
    "fig.set_title('Autocorrelation Matrix Between Variables') "
   ]
  },
  {
   "cell_type": "code",
   "execution_count": 15,
   "id": "regional-juice",
   "metadata": {
    "ExecuteTime": {
     "end_time": "2021-03-24T21:33:03.288419Z",
     "start_time": "2021-03-24T21:33:03.252763Z"
    }
   },
   "outputs": [
    {
     "data": {
      "text/html": [
       "<div>\n",
       "<style scoped>\n",
       "    .dataframe tbody tr th:only-of-type {\n",
       "        vertical-align: middle;\n",
       "    }\n",
       "\n",
       "    .dataframe tbody tr th {\n",
       "        vertical-align: top;\n",
       "    }\n",
       "\n",
       "    .dataframe thead th {\n",
       "        text-align: right;\n",
       "    }\n",
       "</style>\n",
       "<table border=\"1\" class=\"dataframe\">\n",
       "  <thead>\n",
       "    <tr style=\"text-align: right;\">\n",
       "      <th></th>\n",
       "      <th>lead_rating</th>\n",
       "      <th>rating</th>\n",
       "      <th>IQ_TOTAL_ASSETS</th>\n",
       "      <th>IQ_TOTAL_REV</th>\n",
       "      <th>IQ_NI_CF</th>\n",
       "      <th>IQ_AR</th>\n",
       "      <th>IQ_GP</th>\n",
       "      <th>IQ_AP</th>\n",
       "    </tr>\n",
       "  </thead>\n",
       "  <tbody>\n",
       "    <tr>\n",
       "      <th>mean</th>\n",
       "      <td>0.064978</td>\n",
       "      <td>0.029736</td>\n",
       "      <td>0.010192</td>\n",
       "      <td>-0.003715</td>\n",
       "      <td>0.000167</td>\n",
       "      <td>-0.001168</td>\n",
       "      <td>-0.001198</td>\n",
       "      <td>-0.000198</td>\n",
       "    </tr>\n",
       "    <tr>\n",
       "      <th>std</th>\n",
       "      <td>0.798874</td>\n",
       "      <td>0.697257</td>\n",
       "      <td>0.982677</td>\n",
       "      <td>0.061370</td>\n",
       "      <td>0.035069</td>\n",
       "      <td>0.016698</td>\n",
       "      <td>0.022240</td>\n",
       "      <td>0.018990</td>\n",
       "    </tr>\n",
       "    <tr>\n",
       "      <th>min</th>\n",
       "      <td>-1.000000</td>\n",
       "      <td>-1.000000</td>\n",
       "      <td>-2.956809</td>\n",
       "      <td>-0.990056</td>\n",
       "      <td>-1.117473</td>\n",
       "      <td>-0.143688</td>\n",
       "      <td>-0.362231</td>\n",
       "      <td>-0.161055</td>\n",
       "    </tr>\n",
       "    <tr>\n",
       "      <th>25%</th>\n",
       "      <td>-1.000000</td>\n",
       "      <td>-0.000000</td>\n",
       "      <td>-0.585629</td>\n",
       "      <td>-0.011889</td>\n",
       "      <td>-0.002810</td>\n",
       "      <td>-0.005165</td>\n",
       "      <td>-0.004679</td>\n",
       "      <td>-0.004515</td>\n",
       "    </tr>\n",
       "    <tr>\n",
       "      <th>50%</th>\n",
       "      <td>-0.000000</td>\n",
       "      <td>-0.000000</td>\n",
       "      <td>-0.112337</td>\n",
       "      <td>-0.000107</td>\n",
       "      <td>0.000530</td>\n",
       "      <td>0.000000</td>\n",
       "      <td>0.000423</td>\n",
       "      <td>0.000060</td>\n",
       "    </tr>\n",
       "    <tr>\n",
       "      <th>75%</th>\n",
       "      <td>1.000000</td>\n",
       "      <td>1.000000</td>\n",
       "      <td>0.583309</td>\n",
       "      <td>0.010129</td>\n",
       "      <td>0.004295</td>\n",
       "      <td>0.004341</td>\n",
       "      <td>0.004604</td>\n",
       "      <td>0.004867</td>\n",
       "    </tr>\n",
       "    <tr>\n",
       "      <th>max</th>\n",
       "      <td>1.000000</td>\n",
       "      <td>1.000000</td>\n",
       "      <td>3.174330</td>\n",
       "      <td>0.824944</td>\n",
       "      <td>0.480325</td>\n",
       "      <td>0.146496</td>\n",
       "      <td>0.291518</td>\n",
       "      <td>0.130401</td>\n",
       "    </tr>\n",
       "  </tbody>\n",
       "</table>\n",
       "</div>"
      ],
      "text/plain": [
       "      lead_rating    rating  IQ_TOTAL_ASSETS  IQ_TOTAL_REV  IQ_NI_CF  \\\n",
       "mean     0.064978  0.029736         0.010192     -0.003715  0.000167   \n",
       "std      0.798874  0.697257         0.982677      0.061370  0.035069   \n",
       "min     -1.000000 -1.000000        -2.956809     -0.990056 -1.117473   \n",
       "25%     -1.000000 -0.000000        -0.585629     -0.011889 -0.002810   \n",
       "50%     -0.000000 -0.000000        -0.112337     -0.000107  0.000530   \n",
       "75%      1.000000  1.000000         0.583309      0.010129  0.004295   \n",
       "max      1.000000  1.000000         3.174330      0.824944  0.480325   \n",
       "\n",
       "         IQ_AR    IQ_GP      IQ_AP  \n",
       "mean -0.001168 -0.001198 -0.000198  \n",
       "std   0.016698  0.022240  0.018990  \n",
       "min  -0.143688 -0.362231 -0.161055  \n",
       "25%  -0.005165 -0.004679 -0.004515  \n",
       "50%   0.000000  0.000423  0.000060  \n",
       "75%   0.004341  0.004604  0.004867  \n",
       "max   0.146496  0.291518  0.130401  "
      ]
     },
     "execution_count": 15,
     "metadata": {},
     "output_type": "execute_result"
    }
   ],
   "source": [
    "tot_df_clean[tot_df_clean.columns[:8]].describe().iloc[1:]"
   ]
  },
  {
   "cell_type": "code",
   "execution_count": 16,
   "id": "structured-spoke",
   "metadata": {
    "ExecuteTime": {
     "end_time": "2021-03-24T21:33:03.315002Z",
     "start_time": "2021-03-24T21:33:03.291061Z"
    }
   },
   "outputs": [
    {
     "data": {
      "text/html": [
       "<div>\n",
       "<style scoped>\n",
       "    .dataframe tbody tr th:only-of-type {\n",
       "        vertical-align: middle;\n",
       "    }\n",
       "\n",
       "    .dataframe tbody tr th {\n",
       "        vertical-align: top;\n",
       "    }\n",
       "\n",
       "    .dataframe thead th {\n",
       "        text-align: right;\n",
       "    }\n",
       "</style>\n",
       "<table border=\"1\" class=\"dataframe\">\n",
       "  <thead>\n",
       "    <tr style=\"text-align: right;\">\n",
       "      <th></th>\n",
       "      <th>IQ_TOTAL_LIAB</th>\n",
       "      <th>IQ_TOTAL_DEBT</th>\n",
       "      <th>IQ_CASH_FINAN</th>\n",
       "      <th>IQ_TOTAL_EQUITY</th>\n",
       "      <th>IQ_CASH_EQUIV</th>\n",
       "    </tr>\n",
       "  </thead>\n",
       "  <tbody>\n",
       "    <tr>\n",
       "      <th>mean</th>\n",
       "      <td>-0.003039</td>\n",
       "      <td>-0.003848</td>\n",
       "      <td>-0.000588</td>\n",
       "      <td>0.002327</td>\n",
       "      <td>0.001046</td>\n",
       "    </tr>\n",
       "    <tr>\n",
       "      <th>std</th>\n",
       "      <td>0.088881</td>\n",
       "      <td>0.070476</td>\n",
       "      <td>0.033532</td>\n",
       "      <td>0.085804</td>\n",
       "      <td>0.037808</td>\n",
       "    </tr>\n",
       "    <tr>\n",
       "      <th>min</th>\n",
       "      <td>-2.414229</td>\n",
       "      <td>-0.876631</td>\n",
       "      <td>-0.330005</td>\n",
       "      <td>-0.728663</td>\n",
       "      <td>-0.322301</td>\n",
       "    </tr>\n",
       "    <tr>\n",
       "      <th>25%</th>\n",
       "      <td>-0.024940</td>\n",
       "      <td>-0.026185</td>\n",
       "      <td>-0.010570</td>\n",
       "      <td>-0.019244</td>\n",
       "      <td>-0.010895</td>\n",
       "    </tr>\n",
       "    <tr>\n",
       "      <th>50%</th>\n",
       "      <td>-0.001530</td>\n",
       "      <td>-0.003744</td>\n",
       "      <td>-0.000148</td>\n",
       "      <td>0.001459</td>\n",
       "      <td>0.000910</td>\n",
       "    </tr>\n",
       "    <tr>\n",
       "      <th>75%</th>\n",
       "      <td>0.018767</td>\n",
       "      <td>0.017680</td>\n",
       "      <td>0.009485</td>\n",
       "      <td>0.024917</td>\n",
       "      <td>0.012633</td>\n",
       "    </tr>\n",
       "    <tr>\n",
       "      <th>max</th>\n",
       "      <td>0.660347</td>\n",
       "      <td>1.005794</td>\n",
       "      <td>0.336646</td>\n",
       "      <td>2.077350</td>\n",
       "      <td>0.435819</td>\n",
       "    </tr>\n",
       "  </tbody>\n",
       "</table>\n",
       "</div>"
      ],
      "text/plain": [
       "      IQ_TOTAL_LIAB  IQ_TOTAL_DEBT  IQ_CASH_FINAN  IQ_TOTAL_EQUITY  \\\n",
       "mean      -0.003039      -0.003848      -0.000588         0.002327   \n",
       "std        0.088881       0.070476       0.033532         0.085804   \n",
       "min       -2.414229      -0.876631      -0.330005        -0.728663   \n",
       "25%       -0.024940      -0.026185      -0.010570        -0.019244   \n",
       "50%       -0.001530      -0.003744      -0.000148         0.001459   \n",
       "75%        0.018767       0.017680       0.009485         0.024917   \n",
       "max        0.660347       1.005794       0.336646         2.077350   \n",
       "\n",
       "      IQ_CASH_EQUIV  \n",
       "mean       0.001046  \n",
       "std        0.037808  \n",
       "min       -0.322301  \n",
       "25%       -0.010895  \n",
       "50%        0.000910  \n",
       "75%        0.012633  \n",
       "max        0.435819  "
      ]
     },
     "execution_count": 16,
     "metadata": {},
     "output_type": "execute_result"
    }
   ],
   "source": [
    "tot_df_clean[tot_df_clean.columns[8:]].describe().iloc[1:]"
   ]
  },
  {
   "cell_type": "code",
   "execution_count": 21,
   "id": "bridal-grove",
   "metadata": {
    "ExecuteTime": {
     "end_time": "2021-03-24T21:39:49.142909Z",
     "start_time": "2021-03-24T21:39:49.065878Z"
    }
   },
   "outputs": [
    {
     "data": {
      "application/vnd.plotly.v1+json": {
       "config": {
        "plotlyServerURL": "https://plot.ly"
       },
       "data": [
        {
         "name": "mean",
         "text": [
          0.06497797356828194,
          0.02973568281938326,
          0.010191663945483072,
          -0.003714882874671694,
          0.00016698106178822256,
          -0.0011680234420750682,
          -0.0011984082976232429,
          -0.0001979453533754261,
          -0.003038741285580239,
          -0.003848272927502748,
          -0.0005876733268846217,
          0.002326757096594066,
          0.001045978383241921
         ],
         "textposition": "auto",
         "type": "bar",
         "x": [
          "lead_rating",
          "rating",
          "IQ_TOTAL_ASSETS",
          "IQ_TOTAL_REV",
          "IQ_NI_CF",
          "IQ_AR",
          "IQ_GP ",
          "IQ_AP",
          "IQ_TOTAL_LIAB",
          "IQ_TOTAL_DEBT",
          "IQ_CASH_FINAN",
          "IQ_TOTAL_EQUITY",
          "IQ_CASH_EQUIV"
         ],
         "y": [
          0.06497797356828194,
          0.02973568281938326,
          0.010191663945483072,
          -0.003714882874671694,
          0.00016698106178822256,
          -0.0011680234420750682,
          -0.0011984082976232429,
          -0.0001979453533754261,
          -0.003038741285580239,
          -0.003848272927502748,
          -0.0005876733268846217,
          0.002326757096594066,
          0.001045978383241921
         ]
        },
        {
         "name": "std",
         "text": [
          0.7988740696310616,
          0.697257229146144,
          0.9826768897505607,
          0.061370028099966445,
          0.03506908526908946,
          0.016697510011112585,
          0.02223960225863747,
          0.018989648444837217,
          0.08888054478141262,
          0.07047603691399354,
          0.03353177404771483,
          0.08580399760786728,
          0.03780790423774672
         ],
         "textposition": "auto",
         "type": "bar",
         "x": [
          "lead_rating",
          "rating",
          "IQ_TOTAL_ASSETS",
          "IQ_TOTAL_REV",
          "IQ_NI_CF",
          "IQ_AR",
          "IQ_GP ",
          "IQ_AP",
          "IQ_TOTAL_LIAB",
          "IQ_TOTAL_DEBT",
          "IQ_CASH_FINAN",
          "IQ_TOTAL_EQUITY",
          "IQ_CASH_EQUIV"
         ],
         "y": [
          0.7988740696310616,
          0.697257229146144,
          0.9826768897505607,
          0.061370028099966445,
          0.03506908526908946,
          0.016697510011112585,
          0.02223960225863747,
          0.018989648444837217,
          0.08888054478141262,
          0.07047603691399354,
          0.03353177404771483,
          0.08580399760786728,
          0.03780790423774672
         ]
        },
        {
         "name": "min",
         "text": [
          -1,
          -1,
          -2.956809385894083,
          -0.9900559624103049,
          -1.117472944698701,
          -0.1436878769143926,
          -0.36223078649969287,
          -0.16105496985161943,
          -2.4142288234990636,
          -0.8766313906917823,
          -0.330005433835431,
          -0.7286631726858182,
          -0.3223010787008095
         ],
         "textposition": "auto",
         "type": "bar",
         "x": [
          "lead_rating",
          "rating",
          "IQ_TOTAL_ASSETS",
          "IQ_TOTAL_REV",
          "IQ_NI_CF",
          "IQ_AR",
          "IQ_GP ",
          "IQ_AP",
          "IQ_TOTAL_LIAB",
          "IQ_TOTAL_DEBT",
          "IQ_CASH_FINAN",
          "IQ_TOTAL_EQUITY",
          "IQ_CASH_EQUIV"
         ],
         "y": [
          -1,
          -1,
          -2.956809385894083,
          -0.9900559624103049,
          -1.117472944698701,
          -0.1436878769143926,
          -0.36223078649969287,
          -0.16105496985161943,
          -2.4142288234990636,
          -0.8766313906917823,
          -0.330005433835431,
          -0.7286631726858182,
          -0.3223010787008095
         ]
        },
        {
         "name": "25%",
         "text": [
          -1,
          0,
          -0.5856289395539304,
          -0.011888782105005054,
          -0.0028102958481965703,
          -0.005164520561349237,
          -0.004678769789344343,
          -0.004515253210892585,
          -0.0249395615796731,
          -0.02618522425881,
          -0.01057018495067788,
          -0.01924358481038603,
          -0.010894628596636188
         ],
         "textposition": "auto",
         "type": "bar",
         "x": [
          "lead_rating",
          "rating",
          "IQ_TOTAL_ASSETS",
          "IQ_TOTAL_REV",
          "IQ_NI_CF",
          "IQ_AR",
          "IQ_GP ",
          "IQ_AP",
          "IQ_TOTAL_LIAB",
          "IQ_TOTAL_DEBT",
          "IQ_CASH_FINAN",
          "IQ_TOTAL_EQUITY",
          "IQ_CASH_EQUIV"
         ],
         "y": [
          -1,
          0,
          -0.5856289395539304,
          -0.011888782105005054,
          -0.0028102958481965703,
          -0.005164520561349237,
          -0.004678769789344343,
          -0.004515253210892585,
          -0.0249395615796731,
          -0.02618522425881,
          -0.01057018495067788,
          -0.01924358481038603,
          -0.010894628596636188
         ]
        },
        {
         "name": "50%",
         "text": [
          0,
          0,
          -0.11233650001337583,
          -0.00010744514794575749,
          0.0005299051050846024,
          0,
          0.00042329914723037397,
          5.97565057394835e-05,
          -0.001530380244995494,
          -0.0037439361348863,
          -0.00014782606302345081,
          0.0014590206565177621,
          0.0009098615975883589
         ],
         "textposition": "auto",
         "type": "bar",
         "x": [
          "lead_rating",
          "rating",
          "IQ_TOTAL_ASSETS",
          "IQ_TOTAL_REV",
          "IQ_NI_CF",
          "IQ_AR",
          "IQ_GP ",
          "IQ_AP",
          "IQ_TOTAL_LIAB",
          "IQ_TOTAL_DEBT",
          "IQ_CASH_FINAN",
          "IQ_TOTAL_EQUITY",
          "IQ_CASH_EQUIV"
         ],
         "y": [
          0,
          0,
          -0.11233650001337583,
          -0.00010744514794575749,
          0.0005299051050846024,
          0,
          0.00042329914723037397,
          5.97565057394835e-05,
          -0.001530380244995494,
          -0.0037439361348863,
          -0.00014782606302345081,
          0.0014590206565177621,
          0.0009098615975883589
         ]
        },
        {
         "name": "75%",
         "text": [
          1,
          1,
          0.5833090452146427,
          0.010128685745711331,
          0.004295299015995292,
          0.004341412001842057,
          0.004603607643534203,
          0.00486660767968656,
          0.01876728019108266,
          0.017679984146104957,
          0.009485188399013002,
          0.024916817538630523,
          0.012632796778741599
         ],
         "textposition": "auto",
         "type": "bar",
         "x": [
          "lead_rating",
          "rating",
          "IQ_TOTAL_ASSETS",
          "IQ_TOTAL_REV",
          "IQ_NI_CF",
          "IQ_AR",
          "IQ_GP ",
          "IQ_AP",
          "IQ_TOTAL_LIAB",
          "IQ_TOTAL_DEBT",
          "IQ_CASH_FINAN",
          "IQ_TOTAL_EQUITY",
          "IQ_CASH_EQUIV"
         ],
         "y": [
          1,
          1,
          0.5833090452146427,
          0.010128685745711331,
          0.004295299015995292,
          0.004341412001842057,
          0.004603607643534203,
          0.00486660767968656,
          0.01876728019108266,
          0.017679984146104957,
          0.009485188399013002,
          0.024916817538630523,
          0.012632796778741599
         ]
        }
       ],
       "layout": {
        "template": {
         "data": {
          "bar": [
           {
            "error_x": {
             "color": "#2a3f5f"
            },
            "error_y": {
             "color": "#2a3f5f"
            },
            "marker": {
             "line": {
              "color": "#E5ECF6",
              "width": 0.5
             }
            },
            "type": "bar"
           }
          ],
          "barpolar": [
           {
            "marker": {
             "line": {
              "color": "#E5ECF6",
              "width": 0.5
             }
            },
            "type": "barpolar"
           }
          ],
          "carpet": [
           {
            "aaxis": {
             "endlinecolor": "#2a3f5f",
             "gridcolor": "white",
             "linecolor": "white",
             "minorgridcolor": "white",
             "startlinecolor": "#2a3f5f"
            },
            "baxis": {
             "endlinecolor": "#2a3f5f",
             "gridcolor": "white",
             "linecolor": "white",
             "minorgridcolor": "white",
             "startlinecolor": "#2a3f5f"
            },
            "type": "carpet"
           }
          ],
          "choropleth": [
           {
            "colorbar": {
             "outlinewidth": 0,
             "ticks": ""
            },
            "type": "choropleth"
           }
          ],
          "contour": [
           {
            "colorbar": {
             "outlinewidth": 0,
             "ticks": ""
            },
            "colorscale": [
             [
              0,
              "#0d0887"
             ],
             [
              0.1111111111111111,
              "#46039f"
             ],
             [
              0.2222222222222222,
              "#7201a8"
             ],
             [
              0.3333333333333333,
              "#9c179e"
             ],
             [
              0.4444444444444444,
              "#bd3786"
             ],
             [
              0.5555555555555556,
              "#d8576b"
             ],
             [
              0.6666666666666666,
              "#ed7953"
             ],
             [
              0.7777777777777778,
              "#fb9f3a"
             ],
             [
              0.8888888888888888,
              "#fdca26"
             ],
             [
              1,
              "#f0f921"
             ]
            ],
            "type": "contour"
           }
          ],
          "contourcarpet": [
           {
            "colorbar": {
             "outlinewidth": 0,
             "ticks": ""
            },
            "type": "contourcarpet"
           }
          ],
          "heatmap": [
           {
            "colorbar": {
             "outlinewidth": 0,
             "ticks": ""
            },
            "colorscale": [
             [
              0,
              "#0d0887"
             ],
             [
              0.1111111111111111,
              "#46039f"
             ],
             [
              0.2222222222222222,
              "#7201a8"
             ],
             [
              0.3333333333333333,
              "#9c179e"
             ],
             [
              0.4444444444444444,
              "#bd3786"
             ],
             [
              0.5555555555555556,
              "#d8576b"
             ],
             [
              0.6666666666666666,
              "#ed7953"
             ],
             [
              0.7777777777777778,
              "#fb9f3a"
             ],
             [
              0.8888888888888888,
              "#fdca26"
             ],
             [
              1,
              "#f0f921"
             ]
            ],
            "type": "heatmap"
           }
          ],
          "heatmapgl": [
           {
            "colorbar": {
             "outlinewidth": 0,
             "ticks": ""
            },
            "colorscale": [
             [
              0,
              "#0d0887"
             ],
             [
              0.1111111111111111,
              "#46039f"
             ],
             [
              0.2222222222222222,
              "#7201a8"
             ],
             [
              0.3333333333333333,
              "#9c179e"
             ],
             [
              0.4444444444444444,
              "#bd3786"
             ],
             [
              0.5555555555555556,
              "#d8576b"
             ],
             [
              0.6666666666666666,
              "#ed7953"
             ],
             [
              0.7777777777777778,
              "#fb9f3a"
             ],
             [
              0.8888888888888888,
              "#fdca26"
             ],
             [
              1,
              "#f0f921"
             ]
            ],
            "type": "heatmapgl"
           }
          ],
          "histogram": [
           {
            "marker": {
             "colorbar": {
              "outlinewidth": 0,
              "ticks": ""
             }
            },
            "type": "histogram"
           }
          ],
          "histogram2d": [
           {
            "colorbar": {
             "outlinewidth": 0,
             "ticks": ""
            },
            "colorscale": [
             [
              0,
              "#0d0887"
             ],
             [
              0.1111111111111111,
              "#46039f"
             ],
             [
              0.2222222222222222,
              "#7201a8"
             ],
             [
              0.3333333333333333,
              "#9c179e"
             ],
             [
              0.4444444444444444,
              "#bd3786"
             ],
             [
              0.5555555555555556,
              "#d8576b"
             ],
             [
              0.6666666666666666,
              "#ed7953"
             ],
             [
              0.7777777777777778,
              "#fb9f3a"
             ],
             [
              0.8888888888888888,
              "#fdca26"
             ],
             [
              1,
              "#f0f921"
             ]
            ],
            "type": "histogram2d"
           }
          ],
          "histogram2dcontour": [
           {
            "colorbar": {
             "outlinewidth": 0,
             "ticks": ""
            },
            "colorscale": [
             [
              0,
              "#0d0887"
             ],
             [
              0.1111111111111111,
              "#46039f"
             ],
             [
              0.2222222222222222,
              "#7201a8"
             ],
             [
              0.3333333333333333,
              "#9c179e"
             ],
             [
              0.4444444444444444,
              "#bd3786"
             ],
             [
              0.5555555555555556,
              "#d8576b"
             ],
             [
              0.6666666666666666,
              "#ed7953"
             ],
             [
              0.7777777777777778,
              "#fb9f3a"
             ],
             [
              0.8888888888888888,
              "#fdca26"
             ],
             [
              1,
              "#f0f921"
             ]
            ],
            "type": "histogram2dcontour"
           }
          ],
          "mesh3d": [
           {
            "colorbar": {
             "outlinewidth": 0,
             "ticks": ""
            },
            "type": "mesh3d"
           }
          ],
          "parcoords": [
           {
            "line": {
             "colorbar": {
              "outlinewidth": 0,
              "ticks": ""
             }
            },
            "type": "parcoords"
           }
          ],
          "pie": [
           {
            "automargin": true,
            "type": "pie"
           }
          ],
          "scatter": [
           {
            "marker": {
             "colorbar": {
              "outlinewidth": 0,
              "ticks": ""
             }
            },
            "type": "scatter"
           }
          ],
          "scatter3d": [
           {
            "line": {
             "colorbar": {
              "outlinewidth": 0,
              "ticks": ""
             }
            },
            "marker": {
             "colorbar": {
              "outlinewidth": 0,
              "ticks": ""
             }
            },
            "type": "scatter3d"
           }
          ],
          "scattercarpet": [
           {
            "marker": {
             "colorbar": {
              "outlinewidth": 0,
              "ticks": ""
             }
            },
            "type": "scattercarpet"
           }
          ],
          "scattergeo": [
           {
            "marker": {
             "colorbar": {
              "outlinewidth": 0,
              "ticks": ""
             }
            },
            "type": "scattergeo"
           }
          ],
          "scattergl": [
           {
            "marker": {
             "colorbar": {
              "outlinewidth": 0,
              "ticks": ""
             }
            },
            "type": "scattergl"
           }
          ],
          "scattermapbox": [
           {
            "marker": {
             "colorbar": {
              "outlinewidth": 0,
              "ticks": ""
             }
            },
            "type": "scattermapbox"
           }
          ],
          "scatterpolar": [
           {
            "marker": {
             "colorbar": {
              "outlinewidth": 0,
              "ticks": ""
             }
            },
            "type": "scatterpolar"
           }
          ],
          "scatterpolargl": [
           {
            "marker": {
             "colorbar": {
              "outlinewidth": 0,
              "ticks": ""
             }
            },
            "type": "scatterpolargl"
           }
          ],
          "scatterternary": [
           {
            "marker": {
             "colorbar": {
              "outlinewidth": 0,
              "ticks": ""
             }
            },
            "type": "scatterternary"
           }
          ],
          "surface": [
           {
            "colorbar": {
             "outlinewidth": 0,
             "ticks": ""
            },
            "colorscale": [
             [
              0,
              "#0d0887"
             ],
             [
              0.1111111111111111,
              "#46039f"
             ],
             [
              0.2222222222222222,
              "#7201a8"
             ],
             [
              0.3333333333333333,
              "#9c179e"
             ],
             [
              0.4444444444444444,
              "#bd3786"
             ],
             [
              0.5555555555555556,
              "#d8576b"
             ],
             [
              0.6666666666666666,
              "#ed7953"
             ],
             [
              0.7777777777777778,
              "#fb9f3a"
             ],
             [
              0.8888888888888888,
              "#fdca26"
             ],
             [
              1,
              "#f0f921"
             ]
            ],
            "type": "surface"
           }
          ],
          "table": [
           {
            "cells": {
             "fill": {
              "color": "#EBF0F8"
             },
             "line": {
              "color": "white"
             }
            },
            "header": {
             "fill": {
              "color": "#C8D4E3"
             },
             "line": {
              "color": "white"
             }
            },
            "type": "table"
           }
          ]
         },
         "layout": {
          "annotationdefaults": {
           "arrowcolor": "#2a3f5f",
           "arrowhead": 0,
           "arrowwidth": 1
          },
          "autotypenumbers": "strict",
          "coloraxis": {
           "colorbar": {
            "outlinewidth": 0,
            "ticks": ""
           }
          },
          "colorscale": {
           "diverging": [
            [
             0,
             "#8e0152"
            ],
            [
             0.1,
             "#c51b7d"
            ],
            [
             0.2,
             "#de77ae"
            ],
            [
             0.3,
             "#f1b6da"
            ],
            [
             0.4,
             "#fde0ef"
            ],
            [
             0.5,
             "#f7f7f7"
            ],
            [
             0.6,
             "#e6f5d0"
            ],
            [
             0.7,
             "#b8e186"
            ],
            [
             0.8,
             "#7fbc41"
            ],
            [
             0.9,
             "#4d9221"
            ],
            [
             1,
             "#276419"
            ]
           ],
           "sequential": [
            [
             0,
             "#0d0887"
            ],
            [
             0.1111111111111111,
             "#46039f"
            ],
            [
             0.2222222222222222,
             "#7201a8"
            ],
            [
             0.3333333333333333,
             "#9c179e"
            ],
            [
             0.4444444444444444,
             "#bd3786"
            ],
            [
             0.5555555555555556,
             "#d8576b"
            ],
            [
             0.6666666666666666,
             "#ed7953"
            ],
            [
             0.7777777777777778,
             "#fb9f3a"
            ],
            [
             0.8888888888888888,
             "#fdca26"
            ],
            [
             1,
             "#f0f921"
            ]
           ],
           "sequentialminus": [
            [
             0,
             "#0d0887"
            ],
            [
             0.1111111111111111,
             "#46039f"
            ],
            [
             0.2222222222222222,
             "#7201a8"
            ],
            [
             0.3333333333333333,
             "#9c179e"
            ],
            [
             0.4444444444444444,
             "#bd3786"
            ],
            [
             0.5555555555555556,
             "#d8576b"
            ],
            [
             0.6666666666666666,
             "#ed7953"
            ],
            [
             0.7777777777777778,
             "#fb9f3a"
            ],
            [
             0.8888888888888888,
             "#fdca26"
            ],
            [
             1,
             "#f0f921"
            ]
           ]
          },
          "colorway": [
           "#636efa",
           "#EF553B",
           "#00cc96",
           "#ab63fa",
           "#FFA15A",
           "#19d3f3",
           "#FF6692",
           "#B6E880",
           "#FF97FF",
           "#FECB52"
          ],
          "font": {
           "color": "#2a3f5f"
          },
          "geo": {
           "bgcolor": "white",
           "lakecolor": "white",
           "landcolor": "#E5ECF6",
           "showlakes": true,
           "showland": true,
           "subunitcolor": "white"
          },
          "hoverlabel": {
           "align": "left"
          },
          "hovermode": "closest",
          "mapbox": {
           "style": "light"
          },
          "paper_bgcolor": "white",
          "plot_bgcolor": "#E5ECF6",
          "polar": {
           "angularaxis": {
            "gridcolor": "white",
            "linecolor": "white",
            "ticks": ""
           },
           "bgcolor": "#E5ECF6",
           "radialaxis": {
            "gridcolor": "white",
            "linecolor": "white",
            "ticks": ""
           }
          },
          "scene": {
           "xaxis": {
            "backgroundcolor": "#E5ECF6",
            "gridcolor": "white",
            "gridwidth": 2,
            "linecolor": "white",
            "showbackground": true,
            "ticks": "",
            "zerolinecolor": "white"
           },
           "yaxis": {
            "backgroundcolor": "#E5ECF6",
            "gridcolor": "white",
            "gridwidth": 2,
            "linecolor": "white",
            "showbackground": true,
            "ticks": "",
            "zerolinecolor": "white"
           },
           "zaxis": {
            "backgroundcolor": "#E5ECF6",
            "gridcolor": "white",
            "gridwidth": 2,
            "linecolor": "white",
            "showbackground": true,
            "ticks": "",
            "zerolinecolor": "white"
           }
          },
          "shapedefaults": {
           "line": {
            "color": "#2a3f5f"
           }
          },
          "ternary": {
           "aaxis": {
            "gridcolor": "white",
            "linecolor": "white",
            "ticks": ""
           },
           "baxis": {
            "gridcolor": "white",
            "linecolor": "white",
            "ticks": ""
           },
           "bgcolor": "#E5ECF6",
           "caxis": {
            "gridcolor": "white",
            "linecolor": "white",
            "ticks": ""
           }
          },
          "title": {
           "x": 0.05
          },
          "xaxis": {
           "automargin": true,
           "gridcolor": "white",
           "linecolor": "white",
           "ticks": "",
           "title": {
            "standoff": 15
           },
           "zerolinecolor": "white",
           "zerolinewidth": 2
          },
          "yaxis": {
           "automargin": true,
           "gridcolor": "white",
           "linecolor": "white",
           "ticks": "",
           "title": {
            "standoff": 15
           },
           "zerolinecolor": "white",
           "zerolinewidth": 2
          }
         }
        },
        "title": {
         "text": "Descriptive Stats"
        }
       }
      },
      "text/html": [
       "<div>                            <div id=\"f015e5d4-120f-4415-bbdd-846cee7eaae9\" class=\"plotly-graph-div\" style=\"height:525px; width:100%;\"></div>            <script type=\"text/javascript\">                require([\"plotly\"], function(Plotly) {                    window.PLOTLYENV=window.PLOTLYENV || {};                                    if (document.getElementById(\"f015e5d4-120f-4415-bbdd-846cee7eaae9\")) {                    Plotly.newPlot(                        \"f015e5d4-120f-4415-bbdd-846cee7eaae9\",                        [{\"name\": \"mean\", \"text\": [0.06497797356828194, 0.02973568281938326, 0.010191663945483072, -0.003714882874671694, 0.00016698106178822256, -0.0011680234420750682, -0.0011984082976232429, -0.0001979453533754261, -0.003038741285580239, -0.003848272927502748, -0.0005876733268846217, 0.002326757096594066, 0.001045978383241921], \"textposition\": \"auto\", \"type\": \"bar\", \"x\": [\"lead_rating\", \"rating\", \"IQ_TOTAL_ASSETS\", \"IQ_TOTAL_REV\", \"IQ_NI_CF\", \"IQ_AR\", \"IQ_GP \", \"IQ_AP\", \"IQ_TOTAL_LIAB\", \"IQ_TOTAL_DEBT\", \"IQ_CASH_FINAN\", \"IQ_TOTAL_EQUITY\", \"IQ_CASH_EQUIV\"], \"y\": [0.06497797356828194, 0.02973568281938326, 0.010191663945483072, -0.003714882874671694, 0.00016698106178822256, -0.0011680234420750682, -0.0011984082976232429, -0.0001979453533754261, -0.003038741285580239, -0.003848272927502748, -0.0005876733268846217, 0.002326757096594066, 0.001045978383241921]}, {\"name\": \"std\", \"text\": [0.7988740696310616, 0.697257229146144, 0.9826768897505607, 0.061370028099966445, 0.03506908526908946, 0.016697510011112585, 0.02223960225863747, 0.018989648444837217, 0.08888054478141262, 0.07047603691399354, 0.03353177404771483, 0.08580399760786728, 0.03780790423774672], \"textposition\": \"auto\", \"type\": \"bar\", \"x\": [\"lead_rating\", \"rating\", \"IQ_TOTAL_ASSETS\", \"IQ_TOTAL_REV\", \"IQ_NI_CF\", \"IQ_AR\", \"IQ_GP \", \"IQ_AP\", \"IQ_TOTAL_LIAB\", \"IQ_TOTAL_DEBT\", \"IQ_CASH_FINAN\", \"IQ_TOTAL_EQUITY\", \"IQ_CASH_EQUIV\"], \"y\": [0.7988740696310616, 0.697257229146144, 0.9826768897505607, 0.061370028099966445, 0.03506908526908946, 0.016697510011112585, 0.02223960225863747, 0.018989648444837217, 0.08888054478141262, 0.07047603691399354, 0.03353177404771483, 0.08580399760786728, 0.03780790423774672]}, {\"name\": \"min\", \"text\": [-1.0, -1.0, -2.956809385894083, -0.9900559624103049, -1.117472944698701, -0.1436878769143926, -0.36223078649969287, -0.16105496985161943, -2.4142288234990636, -0.8766313906917823, -0.330005433835431, -0.7286631726858182, -0.3223010787008095], \"textposition\": \"auto\", \"type\": \"bar\", \"x\": [\"lead_rating\", \"rating\", \"IQ_TOTAL_ASSETS\", \"IQ_TOTAL_REV\", \"IQ_NI_CF\", \"IQ_AR\", \"IQ_GP \", \"IQ_AP\", \"IQ_TOTAL_LIAB\", \"IQ_TOTAL_DEBT\", \"IQ_CASH_FINAN\", \"IQ_TOTAL_EQUITY\", \"IQ_CASH_EQUIV\"], \"y\": [-1.0, -1.0, -2.956809385894083, -0.9900559624103049, -1.117472944698701, -0.1436878769143926, -0.36223078649969287, -0.16105496985161943, -2.4142288234990636, -0.8766313906917823, -0.330005433835431, -0.7286631726858182, -0.3223010787008095]}, {\"name\": \"25%\", \"text\": [-1.0, -0.0, -0.5856289395539304, -0.011888782105005054, -0.0028102958481965703, -0.005164520561349237, -0.004678769789344343, -0.004515253210892585, -0.0249395615796731, -0.02618522425881, -0.01057018495067788, -0.01924358481038603, -0.010894628596636188], \"textposition\": \"auto\", \"type\": \"bar\", \"x\": [\"lead_rating\", \"rating\", \"IQ_TOTAL_ASSETS\", \"IQ_TOTAL_REV\", \"IQ_NI_CF\", \"IQ_AR\", \"IQ_GP \", \"IQ_AP\", \"IQ_TOTAL_LIAB\", \"IQ_TOTAL_DEBT\", \"IQ_CASH_FINAN\", \"IQ_TOTAL_EQUITY\", \"IQ_CASH_EQUIV\"], \"y\": [-1.0, -0.0, -0.5856289395539304, -0.011888782105005054, -0.0028102958481965703, -0.005164520561349237, -0.004678769789344343, -0.004515253210892585, -0.0249395615796731, -0.02618522425881, -0.01057018495067788, -0.01924358481038603, -0.010894628596636188]}, {\"name\": \"50%\", \"text\": [-0.0, -0.0, -0.11233650001337583, -0.00010744514794575749, 0.0005299051050846024, 0.0, 0.00042329914723037397, 5.97565057394835e-05, -0.001530380244995494, -0.0037439361348863, -0.00014782606302345081, 0.0014590206565177621, 0.0009098615975883589], \"textposition\": \"auto\", \"type\": \"bar\", \"x\": [\"lead_rating\", \"rating\", \"IQ_TOTAL_ASSETS\", \"IQ_TOTAL_REV\", \"IQ_NI_CF\", \"IQ_AR\", \"IQ_GP \", \"IQ_AP\", \"IQ_TOTAL_LIAB\", \"IQ_TOTAL_DEBT\", \"IQ_CASH_FINAN\", \"IQ_TOTAL_EQUITY\", \"IQ_CASH_EQUIV\"], \"y\": [-0.0, -0.0, -0.11233650001337583, -0.00010744514794575749, 0.0005299051050846024, 0.0, 0.00042329914723037397, 5.97565057394835e-05, -0.001530380244995494, -0.0037439361348863, -0.00014782606302345081, 0.0014590206565177621, 0.0009098615975883589]}, {\"name\": \"75%\", \"text\": [1.0, 1.0, 0.5833090452146427, 0.010128685745711331, 0.004295299015995292, 0.004341412001842057, 0.004603607643534203, 0.00486660767968656, 0.01876728019108266, 0.017679984146104957, 0.009485188399013002, 0.024916817538630523, 0.012632796778741599], \"textposition\": \"auto\", \"type\": \"bar\", \"x\": [\"lead_rating\", \"rating\", \"IQ_TOTAL_ASSETS\", \"IQ_TOTAL_REV\", \"IQ_NI_CF\", \"IQ_AR\", \"IQ_GP \", \"IQ_AP\", \"IQ_TOTAL_LIAB\", \"IQ_TOTAL_DEBT\", \"IQ_CASH_FINAN\", \"IQ_TOTAL_EQUITY\", \"IQ_CASH_EQUIV\"], \"y\": [1.0, 1.0, 0.5833090452146427, 0.010128685745711331, 0.004295299015995292, 0.004341412001842057, 0.004603607643534203, 0.00486660767968656, 0.01876728019108266, 0.017679984146104957, 0.009485188399013002, 0.024916817538630523, 0.012632796778741599]}],                        {\"template\": {\"data\": {\"bar\": [{\"error_x\": {\"color\": \"#2a3f5f\"}, \"error_y\": {\"color\": \"#2a3f5f\"}, \"marker\": {\"line\": {\"color\": \"#E5ECF6\", \"width\": 0.5}}, \"type\": \"bar\"}], \"barpolar\": [{\"marker\": {\"line\": {\"color\": \"#E5ECF6\", \"width\": 0.5}}, \"type\": \"barpolar\"}], \"carpet\": [{\"aaxis\": {\"endlinecolor\": \"#2a3f5f\", \"gridcolor\": \"white\", \"linecolor\": \"white\", \"minorgridcolor\": \"white\", \"startlinecolor\": \"#2a3f5f\"}, \"baxis\": {\"endlinecolor\": \"#2a3f5f\", \"gridcolor\": \"white\", \"linecolor\": \"white\", \"minorgridcolor\": \"white\", \"startlinecolor\": \"#2a3f5f\"}, \"type\": \"carpet\"}], \"choropleth\": [{\"colorbar\": {\"outlinewidth\": 0, \"ticks\": \"\"}, \"type\": \"choropleth\"}], \"contour\": [{\"colorbar\": {\"outlinewidth\": 0, \"ticks\": \"\"}, \"colorscale\": [[0.0, \"#0d0887\"], [0.1111111111111111, \"#46039f\"], [0.2222222222222222, \"#7201a8\"], [0.3333333333333333, \"#9c179e\"], [0.4444444444444444, \"#bd3786\"], [0.5555555555555556, \"#d8576b\"], [0.6666666666666666, \"#ed7953\"], [0.7777777777777778, \"#fb9f3a\"], [0.8888888888888888, \"#fdca26\"], [1.0, \"#f0f921\"]], \"type\": \"contour\"}], \"contourcarpet\": [{\"colorbar\": {\"outlinewidth\": 0, \"ticks\": \"\"}, \"type\": \"contourcarpet\"}], \"heatmap\": [{\"colorbar\": {\"outlinewidth\": 0, \"ticks\": \"\"}, \"colorscale\": [[0.0, \"#0d0887\"], [0.1111111111111111, \"#46039f\"], [0.2222222222222222, \"#7201a8\"], [0.3333333333333333, \"#9c179e\"], [0.4444444444444444, \"#bd3786\"], [0.5555555555555556, \"#d8576b\"], [0.6666666666666666, \"#ed7953\"], [0.7777777777777778, \"#fb9f3a\"], [0.8888888888888888, \"#fdca26\"], [1.0, \"#f0f921\"]], \"type\": \"heatmap\"}], \"heatmapgl\": [{\"colorbar\": {\"outlinewidth\": 0, \"ticks\": \"\"}, \"colorscale\": [[0.0, \"#0d0887\"], [0.1111111111111111, \"#46039f\"], [0.2222222222222222, \"#7201a8\"], [0.3333333333333333, \"#9c179e\"], [0.4444444444444444, \"#bd3786\"], [0.5555555555555556, \"#d8576b\"], [0.6666666666666666, \"#ed7953\"], [0.7777777777777778, \"#fb9f3a\"], [0.8888888888888888, \"#fdca26\"], [1.0, \"#f0f921\"]], \"type\": \"heatmapgl\"}], \"histogram\": [{\"marker\": {\"colorbar\": {\"outlinewidth\": 0, \"ticks\": \"\"}}, \"type\": \"histogram\"}], \"histogram2d\": [{\"colorbar\": {\"outlinewidth\": 0, \"ticks\": \"\"}, \"colorscale\": [[0.0, \"#0d0887\"], [0.1111111111111111, \"#46039f\"], [0.2222222222222222, \"#7201a8\"], [0.3333333333333333, \"#9c179e\"], [0.4444444444444444, \"#bd3786\"], [0.5555555555555556, \"#d8576b\"], [0.6666666666666666, \"#ed7953\"], [0.7777777777777778, \"#fb9f3a\"], [0.8888888888888888, \"#fdca26\"], [1.0, \"#f0f921\"]], \"type\": \"histogram2d\"}], \"histogram2dcontour\": [{\"colorbar\": {\"outlinewidth\": 0, \"ticks\": \"\"}, \"colorscale\": [[0.0, \"#0d0887\"], [0.1111111111111111, \"#46039f\"], [0.2222222222222222, \"#7201a8\"], [0.3333333333333333, \"#9c179e\"], [0.4444444444444444, \"#bd3786\"], [0.5555555555555556, \"#d8576b\"], [0.6666666666666666, \"#ed7953\"], [0.7777777777777778, \"#fb9f3a\"], [0.8888888888888888, \"#fdca26\"], [1.0, \"#f0f921\"]], \"type\": \"histogram2dcontour\"}], \"mesh3d\": [{\"colorbar\": {\"outlinewidth\": 0, \"ticks\": \"\"}, \"type\": \"mesh3d\"}], \"parcoords\": [{\"line\": {\"colorbar\": {\"outlinewidth\": 0, \"ticks\": \"\"}}, \"type\": \"parcoords\"}], \"pie\": [{\"automargin\": true, \"type\": \"pie\"}], \"scatter\": [{\"marker\": {\"colorbar\": {\"outlinewidth\": 0, \"ticks\": \"\"}}, \"type\": \"scatter\"}], \"scatter3d\": [{\"line\": {\"colorbar\": {\"outlinewidth\": 0, \"ticks\": \"\"}}, \"marker\": {\"colorbar\": {\"outlinewidth\": 0, \"ticks\": \"\"}}, \"type\": \"scatter3d\"}], \"scattercarpet\": [{\"marker\": {\"colorbar\": {\"outlinewidth\": 0, \"ticks\": \"\"}}, \"type\": \"scattercarpet\"}], \"scattergeo\": [{\"marker\": {\"colorbar\": {\"outlinewidth\": 0, \"ticks\": \"\"}}, \"type\": \"scattergeo\"}], \"scattergl\": [{\"marker\": {\"colorbar\": {\"outlinewidth\": 0, \"ticks\": \"\"}}, \"type\": \"scattergl\"}], \"scattermapbox\": [{\"marker\": {\"colorbar\": {\"outlinewidth\": 0, \"ticks\": \"\"}}, \"type\": \"scattermapbox\"}], \"scatterpolar\": [{\"marker\": {\"colorbar\": {\"outlinewidth\": 0, \"ticks\": \"\"}}, \"type\": \"scatterpolar\"}], \"scatterpolargl\": [{\"marker\": {\"colorbar\": {\"outlinewidth\": 0, \"ticks\": \"\"}}, \"type\": \"scatterpolargl\"}], \"scatterternary\": [{\"marker\": {\"colorbar\": {\"outlinewidth\": 0, \"ticks\": \"\"}}, \"type\": \"scatterternary\"}], \"surface\": [{\"colorbar\": {\"outlinewidth\": 0, \"ticks\": \"\"}, \"colorscale\": [[0.0, \"#0d0887\"], [0.1111111111111111, \"#46039f\"], [0.2222222222222222, \"#7201a8\"], [0.3333333333333333, \"#9c179e\"], [0.4444444444444444, \"#bd3786\"], [0.5555555555555556, \"#d8576b\"], [0.6666666666666666, \"#ed7953\"], [0.7777777777777778, \"#fb9f3a\"], [0.8888888888888888, \"#fdca26\"], [1.0, \"#f0f921\"]], \"type\": \"surface\"}], \"table\": [{\"cells\": {\"fill\": {\"color\": \"#EBF0F8\"}, \"line\": {\"color\": \"white\"}}, \"header\": {\"fill\": {\"color\": \"#C8D4E3\"}, \"line\": {\"color\": \"white\"}}, \"type\": \"table\"}]}, \"layout\": {\"annotationdefaults\": {\"arrowcolor\": \"#2a3f5f\", \"arrowhead\": 0, \"arrowwidth\": 1}, \"autotypenumbers\": \"strict\", \"coloraxis\": {\"colorbar\": {\"outlinewidth\": 0, \"ticks\": \"\"}}, \"colorscale\": {\"diverging\": [[0, \"#8e0152\"], [0.1, \"#c51b7d\"], [0.2, \"#de77ae\"], [0.3, \"#f1b6da\"], [0.4, \"#fde0ef\"], [0.5, \"#f7f7f7\"], [0.6, \"#e6f5d0\"], [0.7, \"#b8e186\"], [0.8, \"#7fbc41\"], [0.9, \"#4d9221\"], [1, \"#276419\"]], \"sequential\": [[0.0, \"#0d0887\"], [0.1111111111111111, \"#46039f\"], [0.2222222222222222, \"#7201a8\"], [0.3333333333333333, \"#9c179e\"], [0.4444444444444444, \"#bd3786\"], [0.5555555555555556, \"#d8576b\"], [0.6666666666666666, \"#ed7953\"], [0.7777777777777778, \"#fb9f3a\"], [0.8888888888888888, \"#fdca26\"], [1.0, \"#f0f921\"]], \"sequentialminus\": [[0.0, \"#0d0887\"], [0.1111111111111111, \"#46039f\"], [0.2222222222222222, \"#7201a8\"], [0.3333333333333333, \"#9c179e\"], [0.4444444444444444, \"#bd3786\"], [0.5555555555555556, \"#d8576b\"], [0.6666666666666666, \"#ed7953\"], [0.7777777777777778, \"#fb9f3a\"], [0.8888888888888888, \"#fdca26\"], [1.0, \"#f0f921\"]]}, \"colorway\": [\"#636efa\", \"#EF553B\", \"#00cc96\", \"#ab63fa\", \"#FFA15A\", \"#19d3f3\", \"#FF6692\", \"#B6E880\", \"#FF97FF\", \"#FECB52\"], \"font\": {\"color\": \"#2a3f5f\"}, \"geo\": {\"bgcolor\": \"white\", \"lakecolor\": \"white\", \"landcolor\": \"#E5ECF6\", \"showlakes\": true, \"showland\": true, \"subunitcolor\": \"white\"}, \"hoverlabel\": {\"align\": \"left\"}, \"hovermode\": \"closest\", \"mapbox\": {\"style\": \"light\"}, \"paper_bgcolor\": \"white\", \"plot_bgcolor\": \"#E5ECF6\", \"polar\": {\"angularaxis\": {\"gridcolor\": \"white\", \"linecolor\": \"white\", \"ticks\": \"\"}, \"bgcolor\": \"#E5ECF6\", \"radialaxis\": {\"gridcolor\": \"white\", \"linecolor\": \"white\", \"ticks\": \"\"}}, \"scene\": {\"xaxis\": {\"backgroundcolor\": \"#E5ECF6\", \"gridcolor\": \"white\", \"gridwidth\": 2, \"linecolor\": \"white\", \"showbackground\": true, \"ticks\": \"\", \"zerolinecolor\": \"white\"}, \"yaxis\": {\"backgroundcolor\": \"#E5ECF6\", \"gridcolor\": \"white\", \"gridwidth\": 2, \"linecolor\": \"white\", \"showbackground\": true, \"ticks\": \"\", \"zerolinecolor\": \"white\"}, \"zaxis\": {\"backgroundcolor\": \"#E5ECF6\", \"gridcolor\": \"white\", \"gridwidth\": 2, \"linecolor\": \"white\", \"showbackground\": true, \"ticks\": \"\", \"zerolinecolor\": \"white\"}}, \"shapedefaults\": {\"line\": {\"color\": \"#2a3f5f\"}}, \"ternary\": {\"aaxis\": {\"gridcolor\": \"white\", \"linecolor\": \"white\", \"ticks\": \"\"}, \"baxis\": {\"gridcolor\": \"white\", \"linecolor\": \"white\", \"ticks\": \"\"}, \"bgcolor\": \"#E5ECF6\", \"caxis\": {\"gridcolor\": \"white\", \"linecolor\": \"white\", \"ticks\": \"\"}}, \"title\": {\"x\": 0.05}, \"xaxis\": {\"automargin\": true, \"gridcolor\": \"white\", \"linecolor\": \"white\", \"ticks\": \"\", \"title\": {\"standoff\": 15}, \"zerolinecolor\": \"white\", \"zerolinewidth\": 2}, \"yaxis\": {\"automargin\": true, \"gridcolor\": \"white\", \"linecolor\": \"white\", \"ticks\": \"\", \"title\": {\"standoff\": 15}, \"zerolinecolor\": \"white\", \"zerolinewidth\": 2}}}, \"title\": {\"text\": \"Descriptive Stats\"}},                        {\"responsive\": true}                    ).then(function(){\n",
       "                            \n",
       "var gd = document.getElementById('f015e5d4-120f-4415-bbdd-846cee7eaae9');\n",
       "var x = new MutationObserver(function (mutations, observer) {{\n",
       "        var display = window.getComputedStyle(gd).display;\n",
       "        if (!display || display === 'none') {{\n",
       "            console.log([gd, 'removed!']);\n",
       "            Plotly.purge(gd);\n",
       "            observer.disconnect();\n",
       "        }}\n",
       "}});\n",
       "\n",
       "// Listen for the removal of the full notebook cells\n",
       "var notebookContainer = gd.closest('#notebook-container');\n",
       "if (notebookContainer) {{\n",
       "    x.observe(notebookContainer, {childList: true});\n",
       "}}\n",
       "\n",
       "// Listen for the clearing of the current output cell\n",
       "var outputEl = gd.closest('.output');\n",
       "if (outputEl) {{\n",
       "    x.observe(outputEl, {childList: true});\n",
       "}}\n",
       "\n",
       "                        })                };                });            </script>        </div>"
      ]
     },
     "metadata": {},
     "output_type": "display_data"
    }
   ],
   "source": [
    "desc_stats = tot_df_clean.describe().iloc[1:]\n",
    "fig = go.Figure() \n",
    "\n",
    "for i in range(0, 6): \n",
    "\n",
    "    fig.add_trace(go.Bar(x = desc_stats.columns, \n",
    "                    y = desc_stats.iloc[i], \n",
    "                    name = desc_stats.index[i], \n",
    "                        text = desc_stats.iloc[i], \n",
    "                        textposition = 'auto') ) \n",
    "\n",
    "fig.update_layout(title = 'Descriptive Stats') \n",
    "\n",
    "fig.show()"
   ]
  },
  {
   "cell_type": "code",
   "execution_count": null,
   "id": "prospective-series",
   "metadata": {},
   "outputs": [],
   "source": []
  }
 ],
 "metadata": {
  "hide_input": false,
  "kernelspec": {
   "display_name": "Python 3",
   "language": "python",
   "name": "python3"
  },
  "language_info": {
   "codemirror_mode": {
    "name": "ipython",
    "version": 3
   },
   "file_extension": ".py",
   "mimetype": "text/x-python",
   "name": "python",
   "nbconvert_exporter": "python",
   "pygments_lexer": "ipython3",
   "version": "3.8.2"
  },
  "latex_envs": {
   "LaTeX_envs_menu_present": true,
   "autoclose": false,
   "autocomplete": true,
   "bibliofile": "biblio.bib",
   "cite_by": "apalike",
   "current_citInitial": 1,
   "eqLabelWithNumbers": true,
   "eqNumInitial": 1,
   "hotkeys": {
    "equation": "Ctrl-E",
    "itemize": "Ctrl-I"
   },
   "labels_anchors": false,
   "latex_user_defs": false,
   "report_style_numbering": false,
   "user_envs_cfg": false
  },
  "toc": {
   "base_numbering": 1,
   "nav_menu": {},
   "number_sections": true,
   "sideBar": true,
   "skip_h1_title": true,
   "title_cell": "Table of Contents",
   "title_sidebar": "Contents",
   "toc_cell": true,
   "toc_position": {},
   "toc_section_display": true,
   "toc_window_display": true
  },
  "varInspector": {
   "cols": {
    "lenName": 16,
    "lenType": 16,
    "lenVar": 40
   },
   "kernels_config": {
    "python": {
     "delete_cmd_postfix": "",
     "delete_cmd_prefix": "del ",
     "library": "var_list.py",
     "varRefreshCmd": "print(var_dic_list())"
    },
    "r": {
     "delete_cmd_postfix": ") ",
     "delete_cmd_prefix": "rm(",
     "library": "var_list.r",
     "varRefreshCmd": "cat(var_dic_list()) "
    }
   },
   "position": {
    "height": "617px",
    "left": "-3px",
    "right": "20px",
    "top": "88px",
    "width": "338px"
   },
   "types_to_exclude": [
    "module",
    "function",
    "builtin_function_or_method",
    "instance",
    "_Feature"
   ],
   "window_display": false
  }
 },
 "nbformat": 4,
 "nbformat_minor": 5
}
