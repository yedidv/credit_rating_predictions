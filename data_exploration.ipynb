{
 "cells": [
  {
   "cell_type": "markdown",
   "id": "blank-contamination",
   "metadata": {
    "toc": true
   },
   "source": [
    "<h1>Table of Contents<span class=\"tocSkip\"></span></h1>\n",
    "<div class=\"toc\"><ul class=\"toc-item\"><li><span><a href=\"#Read-in-Data\" data-toc-modified-id=\"Read-in-Data-1\"><span class=\"toc-item-num\">1&nbsp;&nbsp;</span>Read in Data</a></span></li><li><span><a href=\"#Final-Formatting\" data-toc-modified-id=\"Final-Formatting-2\"><span class=\"toc-item-num\">2&nbsp;&nbsp;</span>Final Formatting</a></span></li><li><span><a href=\"#Read-in-Independent-Variables,-Join-tickers\" data-toc-modified-id=\"Read-in-Independent-Variables,-Join-tickers-3\"><span class=\"toc-item-num\">3&nbsp;&nbsp;</span>Read in Independent Variables, Join tickers</a></span></li><li><span><a href=\"#Join-in-the-credit-rating-data\" data-toc-modified-id=\"Join-in-the-credit-rating-data-4\"><span class=\"toc-item-num\">4&nbsp;&nbsp;</span>Join in the credit rating data</a></span></li><li><span><a href=\"#Generate-Model-Data\" data-toc-modified-id=\"Generate-Model-Data-5\"><span class=\"toc-item-num\">5&nbsp;&nbsp;</span>Generate Model Data</a></span></li><li><span><a href=\"#Data-Exploration\" data-toc-modified-id=\"Data-Exploration-6\"><span class=\"toc-item-num\">6&nbsp;&nbsp;</span>Data Exploration</a></span></li></ul></div>"
   ]
  },
  {
   "cell_type": "code",
   "execution_count": 1,
   "id": "pediatric-circuit",
   "metadata": {
    "ExecuteTime": {
     "end_time": "2021-03-24T21:32:34.010072Z",
     "start_time": "2021-03-24T21:32:32.752933Z"
    }
   },
   "outputs": [],
   "source": [
    "import pandas as pd \n",
    "import numpy as np \n",
    "import os \n",
    "import plotly.graph_objects as go\n",
    "import seaborn as sns \n",
    "import matplotlib.pyplot as plt \n",
    "from tqdm import tqdm \n",
    "pd.set_option('display.max_rows', 500) "
   ]
  },
  {
   "cell_type": "markdown",
   "id": "dominican-placement",
   "metadata": {},
   "source": [
    "## Read in Data"
   ]
  },
  {
   "cell_type": "code",
   "execution_count": 2,
   "id": "false-letter",
   "metadata": {
    "ExecuteTime": {
     "end_time": "2021-03-24T21:32:34.152317Z",
     "start_time": "2021-03-24T21:32:34.011977Z"
    }
   },
   "outputs": [],
   "source": [
    "## Read in data and ids \n",
    "\n",
    "data = pd.read_csv('capiq_data/capiq data.csv') \n",
    "ids = pd.read_csv('capiq_data/capiq ids.csv') "
   ]
  },
  {
   "cell_type": "code",
   "execution_count": 3,
   "id": "least-cable",
   "metadata": {
    "ExecuteTime": {
     "end_time": "2021-03-24T21:32:35.174559Z",
     "start_time": "2021-03-24T21:32:34.154668Z"
    }
   },
   "outputs": [
    {
     "data": {
      "text/html": [
       "<div>\n",
       "<style scoped>\n",
       "    .dataframe tbody tr th:only-of-type {\n",
       "        vertical-align: middle;\n",
       "    }\n",
       "\n",
       "    .dataframe tbody tr th {\n",
       "        vertical-align: top;\n",
       "    }\n",
       "\n",
       "    .dataframe thead th {\n",
       "        text-align: right;\n",
       "    }\n",
       "</style>\n",
       "<table border=\"1\" class=\"dataframe\">\n",
       "  <thead>\n",
       "    <tr style=\"text-align: right;\">\n",
       "      <th></th>\n",
       "      <th>Date</th>\n",
       "      <th>Fiscal Quarter</th>\n",
       "      <th>IQ_NI_CF</th>\n",
       "      <th>IQ_TOTAL_REV</th>\n",
       "      <th>IQ_AR</th>\n",
       "      <th>IQ_GP</th>\n",
       "      <th>IQ_TOTAL_CA</th>\n",
       "      <th>IQ_TOTAL_ASSETS</th>\n",
       "      <th>IQ_AP</th>\n",
       "      <th>IQ_LT_DEBT</th>\n",
       "      <th>...</th>\n",
       "      <th>IQ_CASH_EQUIV</th>\n",
       "      <th>IQ_CASH_OPER</th>\n",
       "      <th>IQ_TOTAL_DIV_PAID_CF</th>\n",
       "      <th>IQ_CASH_FINAN</th>\n",
       "      <th>IQ_CAPITAL_LEASES</th>\n",
       "      <th>IQ_INVEST_SECURITY_CF</th>\n",
       "      <th>IQ_NI</th>\n",
       "      <th>CQID</th>\n",
       "      <th>IQID</th>\n",
       "      <th>IQ Name</th>\n",
       "    </tr>\n",
       "  </thead>\n",
       "  <tbody>\n",
       "    <tr>\n",
       "      <th>0</th>\n",
       "      <td>2010-12-31</td>\n",
       "      <td>FQ42010</td>\n",
       "      <td>0.0</td>\n",
       "      <td>0.0</td>\n",
       "      <td>889.6</td>\n",
       "      <td>0.0</td>\n",
       "      <td>1673.0</td>\n",
       "      <td>14176.3</td>\n",
       "      <td>119.0</td>\n",
       "      <td>4953.5</td>\n",
       "      <td>...</td>\n",
       "      <td>338.0</td>\n",
       "      <td>0.0</td>\n",
       "      <td>0.0</td>\n",
       "      <td>0.0</td>\n",
       "      <td>0.0</td>\n",
       "      <td>0.0</td>\n",
       "      <td>0.0</td>\n",
       "      <td>IQ10081196</td>\n",
       "      <td>IQ10081196</td>\n",
       "      <td>Fidelity National Information Services, Inc.</td>\n",
       "    </tr>\n",
       "    <tr>\n",
       "      <th>1</th>\n",
       "      <td>2011-03-31</td>\n",
       "      <td>FQ12011</td>\n",
       "      <td>92.8</td>\n",
       "      <td>1352.8</td>\n",
       "      <td>897.6</td>\n",
       "      <td>376.5</td>\n",
       "      <td>1644.7</td>\n",
       "      <td>14114.3</td>\n",
       "      <td>577.2</td>\n",
       "      <td>4478.2</td>\n",
       "      <td>...</td>\n",
       "      <td>384.1</td>\n",
       "      <td>260.2</td>\n",
       "      <td>-15.2</td>\n",
       "      <td>-140.1</td>\n",
       "      <td>0.0</td>\n",
       "      <td>0.0</td>\n",
       "      <td>92.8</td>\n",
       "      <td>IQ10081196</td>\n",
       "      <td>IQ10081196</td>\n",
       "      <td>Fidelity National Information Services, Inc.</td>\n",
       "    </tr>\n",
       "    <tr>\n",
       "      <th>2</th>\n",
       "      <td>2011-06-30</td>\n",
       "      <td>FQ22011</td>\n",
       "      <td>123.5</td>\n",
       "      <td>1413.3</td>\n",
       "      <td>895.8</td>\n",
       "      <td>423.9</td>\n",
       "      <td>1705.6</td>\n",
       "      <td>14161.6</td>\n",
       "      <td>553.2</td>\n",
       "      <td>4322.3</td>\n",
       "      <td>...</td>\n",
       "      <td>427.3</td>\n",
       "      <td>263.3</td>\n",
       "      <td>-16.9</td>\n",
       "      <td>-157.3</td>\n",
       "      <td>0.0</td>\n",
       "      <td>0.0</td>\n",
       "      <td>123.5</td>\n",
       "      <td>IQ10081196</td>\n",
       "      <td>IQ10081196</td>\n",
       "      <td>Fidelity National Information Services, Inc.</td>\n",
       "    </tr>\n",
       "    <tr>\n",
       "      <th>3</th>\n",
       "      <td>2011-09-30</td>\n",
       "      <td>FQ32011</td>\n",
       "      <td>0.0</td>\n",
       "      <td>1398.2</td>\n",
       "      <td>860.1</td>\n",
       "      <td>432.9</td>\n",
       "      <td>1604.2</td>\n",
       "      <td>13885.5</td>\n",
       "      <td>515.5</td>\n",
       "      <td>4332.9</td>\n",
       "      <td>...</td>\n",
       "      <td>386.8</td>\n",
       "      <td>0.0</td>\n",
       "      <td>0.0</td>\n",
       "      <td>0.0</td>\n",
       "      <td>0.0</td>\n",
       "      <td>0.0</td>\n",
       "      <td>136.3</td>\n",
       "      <td>IQ10081196</td>\n",
       "      <td>IQ10081196</td>\n",
       "      <td>Fidelity National Information Services, Inc.</td>\n",
       "    </tr>\n",
       "    <tr>\n",
       "      <th>4</th>\n",
       "      <td>2011-12-31</td>\n",
       "      <td>FQ42011</td>\n",
       "      <td>117.0</td>\n",
       "      <td>1461.3</td>\n",
       "      <td>915.4</td>\n",
       "      <td>473.2</td>\n",
       "      <td>1674.0</td>\n",
       "      <td>13873.2</td>\n",
       "      <td>100.6</td>\n",
       "      <td>4554.6</td>\n",
       "      <td>...</td>\n",
       "      <td>415.5</td>\n",
       "      <td>372.4</td>\n",
       "      <td>-12.4</td>\n",
       "      <td>-271.3</td>\n",
       "      <td>0.0</td>\n",
       "      <td>0.0</td>\n",
       "      <td>117.0</td>\n",
       "      <td>IQ10081196</td>\n",
       "      <td>IQ10081196</td>\n",
       "      <td>Fidelity National Information Services, Inc.</td>\n",
       "    </tr>\n",
       "  </tbody>\n",
       "</table>\n",
       "<p>5 rows × 30 columns</p>\n",
       "</div>"
      ],
      "text/plain": [
       "         Date Fiscal Quarter  IQ_NI_CF  IQ_TOTAL_REV  IQ_AR  IQ_GP   \\\n",
       "0  2010-12-31        FQ42010       0.0           0.0  889.6     0.0   \n",
       "1  2011-03-31        FQ12011      92.8        1352.8  897.6   376.5   \n",
       "2  2011-06-30        FQ22011     123.5        1413.3  895.8   423.9   \n",
       "3  2011-09-30        FQ32011       0.0        1398.2  860.1   432.9   \n",
       "4  2011-12-31        FQ42011     117.0        1461.3  915.4   473.2   \n",
       "\n",
       "   IQ_TOTAL_CA  IQ_TOTAL_ASSETS  IQ_AP  IQ_LT_DEBT  ...  IQ_CASH_EQUIV  \\\n",
       "0       1673.0          14176.3  119.0      4953.5  ...          338.0   \n",
       "1       1644.7          14114.3  577.2      4478.2  ...          384.1   \n",
       "2       1705.6          14161.6  553.2      4322.3  ...          427.3   \n",
       "3       1604.2          13885.5  515.5      4332.9  ...          386.8   \n",
       "4       1674.0          13873.2  100.6      4554.6  ...          415.5   \n",
       "\n",
       "   IQ_CASH_OPER  IQ_TOTAL_DIV_PAID_CF  IQ_CASH_FINAN  IQ_CAPITAL_LEASES  \\\n",
       "0           0.0                   0.0            0.0                0.0   \n",
       "1         260.2                 -15.2         -140.1                0.0   \n",
       "2         263.3                 -16.9         -157.3                0.0   \n",
       "3           0.0                   0.0            0.0                0.0   \n",
       "4         372.4                 -12.4         -271.3                0.0   \n",
       "\n",
       "   IQ_INVEST_SECURITY_CF  IQ_NI        CQID        IQID  \\\n",
       "0                    0.0    0.0  IQ10081196  IQ10081196   \n",
       "1                    0.0   92.8  IQ10081196  IQ10081196   \n",
       "2                    0.0  123.5  IQ10081196  IQ10081196   \n",
       "3                    0.0  136.3  IQ10081196  IQ10081196   \n",
       "4                    0.0  117.0  IQ10081196  IQ10081196   \n",
       "\n",
       "                                        IQ Name  \n",
       "0  Fidelity National Information Services, Inc.  \n",
       "1  Fidelity National Information Services, Inc.  \n",
       "2  Fidelity National Information Services, Inc.  \n",
       "3  Fidelity National Information Services, Inc.  \n",
       "4  Fidelity National Information Services, Inc.  \n",
       "\n",
       "[5 rows x 30 columns]"
      ]
     },
     "execution_count": 3,
     "metadata": {},
     "output_type": "execute_result"
    }
   ],
   "source": [
    "## Merge them together so we can determine the \n",
    "## company names with the data\n",
    "\n",
    "data = data.merge(ids, how = 'outer', \n",
    "           left_on = ['CQID'], \n",
    "           right_on = ['IQID']).dropna()\n",
    "data.to_csv('capiq_data/capiq_data_names.csv') \n",
    "data.head() "
   ]
  },
  {
   "cell_type": "code",
   "execution_count": 4,
   "id": "solid-trader",
   "metadata": {
    "ExecuteTime": {
     "end_time": "2021-03-24T21:32:35.272989Z",
     "start_time": "2021-03-24T21:32:35.177338Z"
    }
   },
   "outputs": [
    {
     "name": "stderr",
     "output_type": "stream",
     "text": [
      "/Users/vijayyedidi/opt/anaconda3/envs/credit/lib/python3.6/site-packages/ipykernel_launcher.py:14: SettingWithCopyWarning:\n",
      "\n",
      "\n",
      "A value is trying to be set on a copy of a slice from a DataFrame.\n",
      "Try using .loc[row_indexer,col_indexer] = value instead\n",
      "\n",
      "See the caveats in the documentation: https://pandas.pydata.org/pandas-docs/stable/user_guide/indexing.html#returning-a-view-versus-a-copy\n",
      "\n",
      "/Users/vijayyedidi/opt/anaconda3/envs/credit/lib/python3.6/site-packages/ipykernel_launcher.py:15: SettingWithCopyWarning:\n",
      "\n",
      "\n",
      "A value is trying to be set on a copy of a slice from a DataFrame.\n",
      "Try using .loc[row_indexer,col_indexer] = value instead\n",
      "\n",
      "See the caveats in the documentation: https://pandas.pydata.org/pandas-docs/stable/user_guide/indexing.html#returning-a-view-versus-a-copy\n",
      "\n",
      "/Users/vijayyedidi/opt/anaconda3/envs/credit/lib/python3.6/site-packages/pandas/core/frame.py:4170: SettingWithCopyWarning:\n",
      "\n",
      "\n",
      "A value is trying to be set on a copy of a slice from a DataFrame\n",
      "\n",
      "See the caveats in the documentation: https://pandas.pydata.org/pandas-docs/stable/user_guide/indexing.html#returning-a-view-versus-a-copy\n",
      "\n",
      "/Users/vijayyedidi/opt/anaconda3/envs/credit/lib/python3.6/site-packages/ipykernel_launcher.py:17: SettingWithCopyWarning:\n",
      "\n",
      "\n",
      "A value is trying to be set on a copy of a slice from a DataFrame\n",
      "\n",
      "See the caveats in the documentation: https://pandas.pydata.org/pandas-docs/stable/user_guide/indexing.html#returning-a-view-versus-a-copy\n",
      "\n"
     ]
    },
    {
     "data": {
      "text/html": [
       "<div>\n",
       "<style scoped>\n",
       "    .dataframe tbody tr th:only-of-type {\n",
       "        vertical-align: middle;\n",
       "    }\n",
       "\n",
       "    .dataframe tbody tr th {\n",
       "        vertical-align: top;\n",
       "    }\n",
       "\n",
       "    .dataframe thead th {\n",
       "        text-align: right;\n",
       "    }\n",
       "</style>\n",
       "<table border=\"1\" class=\"dataframe\">\n",
       "  <thead>\n",
       "    <tr style=\"text-align: right;\">\n",
       "      <th></th>\n",
       "      <th>IQ Name</th>\n",
       "      <th>IQID</th>\n",
       "      <th>IQ_TOTAL_REV</th>\n",
       "      <th>IQ_NI_CF</th>\n",
       "      <th>IQ_AR</th>\n",
       "      <th>IQ_GP</th>\n",
       "      <th>IQ_TOTAL_ASSETS</th>\n",
       "      <th>IQ_AP</th>\n",
       "      <th>IQ_TOTAL_LIAB</th>\n",
       "      <th>IQ_TOTAL_DEBT</th>\n",
       "      <th>IQ_CASH_FINAN</th>\n",
       "      <th>IQ_TOTAL_EQUITY</th>\n",
       "      <th>IQ_CASH_EQUIV</th>\n",
       "      <th>year</th>\n",
       "      <th>quarter</th>\n",
       "    </tr>\n",
       "  </thead>\n",
       "  <tbody>\n",
       "    <tr>\n",
       "      <th>0</th>\n",
       "      <td>Fidelity National Information Services, Inc.</td>\n",
       "      <td>IQ10081196</td>\n",
       "      <td>0.0</td>\n",
       "      <td>0.0</td>\n",
       "      <td>889.6</td>\n",
       "      <td>0.0</td>\n",
       "      <td>14176.3</td>\n",
       "      <td>119.0</td>\n",
       "      <td>7614.7</td>\n",
       "      <td>5210.4</td>\n",
       "      <td>0.0</td>\n",
       "      <td>6561.6</td>\n",
       "      <td>338.0</td>\n",
       "      <td>2010</td>\n",
       "      <td>4</td>\n",
       "    </tr>\n",
       "    <tr>\n",
       "      <th>1</th>\n",
       "      <td>Fidelity National Information Services, Inc.</td>\n",
       "      <td>IQ10081196</td>\n",
       "      <td>1352.8</td>\n",
       "      <td>92.8</td>\n",
       "      <td>897.6</td>\n",
       "      <td>376.5</td>\n",
       "      <td>14114.3</td>\n",
       "      <td>577.2</td>\n",
       "      <td>7383.8</td>\n",
       "      <td>5069.6</td>\n",
       "      <td>-140.1</td>\n",
       "      <td>6730.5</td>\n",
       "      <td>384.1</td>\n",
       "      <td>2011</td>\n",
       "      <td>1</td>\n",
       "    </tr>\n",
       "    <tr>\n",
       "      <th>2</th>\n",
       "      <td>Fidelity National Information Services, Inc.</td>\n",
       "      <td>IQ10081196</td>\n",
       "      <td>1413.3</td>\n",
       "      <td>123.5</td>\n",
       "      <td>895.8</td>\n",
       "      <td>423.9</td>\n",
       "      <td>14161.6</td>\n",
       "      <td>553.2</td>\n",
       "      <td>7267.2</td>\n",
       "      <td>4939.3</td>\n",
       "      <td>-157.3</td>\n",
       "      <td>6894.4</td>\n",
       "      <td>427.3</td>\n",
       "      <td>2011</td>\n",
       "      <td>2</td>\n",
       "    </tr>\n",
       "    <tr>\n",
       "      <th>3</th>\n",
       "      <td>Fidelity National Information Services, Inc.</td>\n",
       "      <td>IQ10081196</td>\n",
       "      <td>1398.2</td>\n",
       "      <td>0.0</td>\n",
       "      <td>860.1</td>\n",
       "      <td>432.9</td>\n",
       "      <td>13885.5</td>\n",
       "      <td>515.5</td>\n",
       "      <td>7134.6</td>\n",
       "      <td>4917.5</td>\n",
       "      <td>0.0</td>\n",
       "      <td>6750.9</td>\n",
       "      <td>386.8</td>\n",
       "      <td>2011</td>\n",
       "      <td>3</td>\n",
       "    </tr>\n",
       "    <tr>\n",
       "      <th>4</th>\n",
       "      <td>Fidelity National Information Services, Inc.</td>\n",
       "      <td>IQ10081196</td>\n",
       "      <td>1461.3</td>\n",
       "      <td>117.0</td>\n",
       "      <td>915.4</td>\n",
       "      <td>473.2</td>\n",
       "      <td>13873.2</td>\n",
       "      <td>100.6</td>\n",
       "      <td>7222.0</td>\n",
       "      <td>4813.8</td>\n",
       "      <td>-271.3</td>\n",
       "      <td>6651.2</td>\n",
       "      <td>415.5</td>\n",
       "      <td>2011</td>\n",
       "      <td>4</td>\n",
       "    </tr>\n",
       "  </tbody>\n",
       "</table>\n",
       "</div>"
      ],
      "text/plain": [
       "                                        IQ Name        IQID  IQ_TOTAL_REV  \\\n",
       "0  Fidelity National Information Services, Inc.  IQ10081196           0.0   \n",
       "1  Fidelity National Information Services, Inc.  IQ10081196        1352.8   \n",
       "2  Fidelity National Information Services, Inc.  IQ10081196        1413.3   \n",
       "3  Fidelity National Information Services, Inc.  IQ10081196        1398.2   \n",
       "4  Fidelity National Information Services, Inc.  IQ10081196        1461.3   \n",
       "\n",
       "   IQ_NI_CF  IQ_AR  IQ_GP   IQ_TOTAL_ASSETS  IQ_AP  IQ_TOTAL_LIAB  \\\n",
       "0       0.0  889.6     0.0          14176.3  119.0         7614.7   \n",
       "1      92.8  897.6   376.5          14114.3  577.2         7383.8   \n",
       "2     123.5  895.8   423.9          14161.6  553.2         7267.2   \n",
       "3       0.0  860.1   432.9          13885.5  515.5         7134.6   \n",
       "4     117.0  915.4   473.2          13873.2  100.6         7222.0   \n",
       "\n",
       "   IQ_TOTAL_DEBT  IQ_CASH_FINAN  IQ_TOTAL_EQUITY  IQ_CASH_EQUIV  year  quarter  \n",
       "0         5210.4            0.0           6561.6          338.0  2010        4  \n",
       "1         5069.6         -140.1           6730.5          384.1  2011        1  \n",
       "2         4939.3         -157.3           6894.4          427.3  2011        2  \n",
       "3         4917.5            0.0           6750.9          386.8  2011        3  \n",
       "4         4813.8         -271.3           6651.2          415.5  2011        4  "
      ]
     },
     "execution_count": 4,
     "metadata": {},
     "output_type": "execute_result"
    }
   ],
   "source": [
    "## Reduce to only the variables we really want. \n",
    "small_df = data[['IQ Name', 'IQID', 'Fiscal Quarter',\n",
    "                 'IQ_TOTAL_REV', 'IQ_NI_CF',\n",
    "                 'IQ_AR', \n",
    "                 'IQ_GP ', \n",
    "                 'IQ_TOTAL_ASSETS', \n",
    "                 'IQ_AP', \n",
    "                 'IQ_TOTAL_LIAB', \n",
    "                 'IQ_TOTAL_DEBT', \n",
    "                 'IQ_CASH_FINAN', \n",
    "                 'IQ_TOTAL_EQUITY', \n",
    "                 'IQ_CASH_EQUIV' \n",
    "                 ]]\n",
    "small_df['year'] = pd.to_numeric(small_df['Fiscal Quarter'].str[-4:])\n",
    "small_df['quarter'] = pd.to_numeric(small_df['Fiscal Quarter'].str[-5] )\n",
    "small_df.drop(columns = ['Fiscal Quarter'], inplace = True)\n",
    "small_df.drop_duplicates(subset = ['year', 'quarter', 'IQID'], keep = 'first', inplace = True)  \n",
    "small_df.head()"
   ]
  },
  {
   "cell_type": "code",
   "execution_count": 5,
   "id": "opponent-parcel",
   "metadata": {
    "ExecuteTime": {
     "end_time": "2021-03-24T21:32:35.317789Z",
     "start_time": "2021-03-24T21:32:35.274494Z"
    }
   },
   "outputs": [
    {
     "name": "stdout",
     "output_type": "stream",
     "text": [
      "For IQ_TOTAL_REV we have 0 \n",
      "For IQ_NI_CF we have 0 \n",
      "For IQ_AR we have 24 \n",
      "For IQ_GP  we have 0 \n",
      "For IQ_TOTAL_ASSETS we have 0 \n",
      "For IQ_AP we have 7 \n",
      "For IQ_TOTAL_LIAB we have 0 \n",
      "For IQ_TOTAL_DEBT we have 10 \n",
      "For IQ_CASH_FINAN we have 0 \n",
      "For IQ_TOTAL_EQUITY we have 0 \n",
      "For IQ_CASH_EQUIV we have 0 \n",
      "(30170, 15)\n"
     ]
    }
   ],
   "source": [
    "## See any zero variables \n",
    "Zeros = lambda df, col: df[df[col] == 0][['IQ Name', 'year', 'quarter', col]]\n",
    "check_zeros = {}\n",
    "for col in small_df.columns[2:-2]: \n",
    "    '''Looking at zero values. If there are more than 5 zeros in a column we're going\n",
    "    to have to take a closer look''' \n",
    "\n",
    "    \n",
    "    df = Zeros(small_df, col).groupby(['IQ Name']).count() \n",
    "    df = df[df[col] > 50]\n",
    "    check_zeros[col] = df\n",
    "    print('For {} we have {} '.format(col, df.shape[0]))\n",
    "\n",
    "print(small_df.shape) "
   ]
  },
  {
   "cell_type": "code",
   "execution_count": 6,
   "id": "suitable-child",
   "metadata": {
    "ExecuteTime": {
     "end_time": "2021-03-24T21:32:35.631146Z",
     "start_time": "2021-03-24T21:32:35.319601Z"
    }
   },
   "outputs": [],
   "source": [
    "small_df.to_csv('small_df.csv') "
   ]
  },
  {
   "cell_type": "markdown",
   "id": "likely-cradle",
   "metadata": {},
   "source": [
    "## Final Formatting"
   ]
  },
  {
   "cell_type": "code",
   "execution_count": 7,
   "id": "worse-class",
   "metadata": {
    "ExecuteTime": {
     "end_time": "2021-03-24T21:32:35.857283Z",
     "start_time": "2021-03-24T21:32:35.632973Z"
    }
   },
   "outputs": [
    {
     "name": "stdout",
     "output_type": "stream",
     "text": [
      "0\n",
      "ID         0\n",
      "IQID       0\n",
      "IQ Name    0\n",
      "dtype: int64\n"
     ]
    },
    {
     "data": {
      "text/html": [
       "<div>\n",
       "<style scoped>\n",
       "    .dataframe tbody tr th:only-of-type {\n",
       "        vertical-align: middle;\n",
       "    }\n",
       "\n",
       "    .dataframe tbody tr th {\n",
       "        vertical-align: top;\n",
       "    }\n",
       "\n",
       "    .dataframe thead th {\n",
       "        text-align: right;\n",
       "    }\n",
       "</style>\n",
       "<table border=\"1\" class=\"dataframe\">\n",
       "  <thead>\n",
       "    <tr style=\"text-align: right;\">\n",
       "      <th></th>\n",
       "      <th>ID</th>\n",
       "      <th>IQID</th>\n",
       "      <th>IQ Name</th>\n",
       "    </tr>\n",
       "  </thead>\n",
       "  <tbody>\n",
       "    <tr>\n",
       "      <th>0</th>\n",
       "      <td>MMM</td>\n",
       "      <td>IQ289194</td>\n",
       "      <td>3M Company</td>\n",
       "    </tr>\n",
       "    <tr>\n",
       "      <th>1</th>\n",
       "      <td>ABT</td>\n",
       "      <td>IQ247483</td>\n",
       "      <td>Abbott Laboratories</td>\n",
       "    </tr>\n",
       "    <tr>\n",
       "      <th>2</th>\n",
       "      <td>ABBV</td>\n",
       "      <td>IQ141885706</td>\n",
       "      <td>AbbVie Inc.</td>\n",
       "    </tr>\n",
       "    <tr>\n",
       "      <th>3</th>\n",
       "      <td>ABMD</td>\n",
       "      <td>IQ247589</td>\n",
       "      <td>Abiomed, Inc.</td>\n",
       "    </tr>\n",
       "    <tr>\n",
       "      <th>4</th>\n",
       "      <td>ACN</td>\n",
       "      <td>IQ972190</td>\n",
       "      <td>Accenture plc</td>\n",
       "    </tr>\n",
       "  </tbody>\n",
       "</table>\n",
       "</div>"
      ],
      "text/plain": [
       "     ID         IQID              IQ Name\n",
       "0   MMM     IQ289194           3M Company\n",
       "1   ABT     IQ247483  Abbott Laboratories\n",
       "2  ABBV  IQ141885706          AbbVie Inc.\n",
       "3  ABMD     IQ247589        Abiomed, Inc.\n",
       "4   ACN     IQ972190        Accenture plc"
      ]
     },
     "execution_count": 7,
     "metadata": {},
     "output_type": "execute_result"
    }
   ],
   "source": [
    "## Read in Data\n",
    "\n",
    "ids= pd.DataFrame() \n",
    "## Read in ticker symbols\n",
    "for i in range(1, 6): \n",
    "    df = pd.read_excel('capiq_data/in_process_ids/ids {}.xlsx'.format(i),\n",
    "                       engine='openpyxl')[['ID', 'IQID', 'IQ Name']]\n",
    "    ids = pd.concat([ids, df]) \n",
    "\n",
    "## See if there are any duplicates \n",
    "print(ids.duplicated().sum()) \n",
    "## See if there are any nulls \n",
    "print(ids.isna().sum()) \n",
    "ids.head() "
   ]
  },
  {
   "cell_type": "markdown",
   "id": "lesbian-condition",
   "metadata": {},
   "source": [
    "## Read in Independent Variables, Join tickers"
   ]
  },
  {
   "cell_type": "code",
   "execution_count": 8,
   "id": "dress-purpose",
   "metadata": {
    "ExecuteTime": {
     "end_time": "2021-03-24T21:32:36.211615Z",
     "start_time": "2021-03-24T21:32:35.860717Z"
    }
   },
   "outputs": [
    {
     "ename": "KeyError",
     "evalue": "\"['Unnamed: 0'] not found in axis\"",
     "output_type": "error",
     "traceback": [
      "\u001b[0;31m---------------------------------------------------------------------------\u001b[0m",
      "\u001b[0;31mKeyError\u001b[0m                                  Traceback (most recent call last)",
      "\u001b[0;32m<ipython-input-8-9a0a712923b5>\u001b[0m in \u001b[0;36m<module>\u001b[0;34m\u001b[0m\n\u001b[1;32m      5\u001b[0m \u001b[0mind_df\u001b[0m \u001b[0;34m=\u001b[0m \u001b[0mind_df\u001b[0m\u001b[0;34m.\u001b[0m\u001b[0mmerge\u001b[0m\u001b[0;34m(\u001b[0m\u001b[0mids\u001b[0m\u001b[0;34m,\u001b[0m \u001b[0mon\u001b[0m \u001b[0;34m=\u001b[0m \u001b[0;34m[\u001b[0m\u001b[0;34m'IQID'\u001b[0m\u001b[0;34m,\u001b[0m \u001b[0;34m'IQ Name'\u001b[0m\u001b[0;34m]\u001b[0m\u001b[0;34m)\u001b[0m\u001b[0;34m\u001b[0m\u001b[0;34m\u001b[0m\u001b[0m\n\u001b[1;32m      6\u001b[0m ind_df.drop(['Unnamed: 0', 'IQ Name', 'IQID', \n\u001b[0;32m----> 7\u001b[0;31m             'quarter'], axis = 1, inplace = True) \n\u001b[0m\u001b[1;32m      8\u001b[0m \u001b[0;34m\u001b[0m\u001b[0m\n\u001b[1;32m      9\u001b[0m \u001b[0;31m## The data is quarterly, but we need to lok at it annually.\u001b[0m\u001b[0;34m\u001b[0m\u001b[0;34m\u001b[0m\u001b[0;34m\u001b[0m\u001b[0m\n",
      "\u001b[0;32m~/opt/anaconda3/envs/credit/lib/python3.6/site-packages/pandas/core/frame.py\u001b[0m in \u001b[0;36mdrop\u001b[0;34m(self, labels, axis, index, columns, level, inplace, errors)\u001b[0m\n\u001b[1;32m   4168\u001b[0m             \u001b[0mlevel\u001b[0m\u001b[0;34m=\u001b[0m\u001b[0mlevel\u001b[0m\u001b[0;34m,\u001b[0m\u001b[0;34m\u001b[0m\u001b[0;34m\u001b[0m\u001b[0m\n\u001b[1;32m   4169\u001b[0m             \u001b[0minplace\u001b[0m\u001b[0;34m=\u001b[0m\u001b[0minplace\u001b[0m\u001b[0;34m,\u001b[0m\u001b[0;34m\u001b[0m\u001b[0;34m\u001b[0m\u001b[0m\n\u001b[0;32m-> 4170\u001b[0;31m             \u001b[0merrors\u001b[0m\u001b[0;34m=\u001b[0m\u001b[0merrors\u001b[0m\u001b[0;34m,\u001b[0m\u001b[0;34m\u001b[0m\u001b[0;34m\u001b[0m\u001b[0m\n\u001b[0m\u001b[1;32m   4171\u001b[0m         )\n\u001b[1;32m   4172\u001b[0m \u001b[0;34m\u001b[0m\u001b[0m\n",
      "\u001b[0;32m~/opt/anaconda3/envs/credit/lib/python3.6/site-packages/pandas/core/generic.py\u001b[0m in \u001b[0;36mdrop\u001b[0;34m(self, labels, axis, index, columns, level, inplace, errors)\u001b[0m\n\u001b[1;32m   3885\u001b[0m         \u001b[0;32mfor\u001b[0m \u001b[0maxis\u001b[0m\u001b[0;34m,\u001b[0m \u001b[0mlabels\u001b[0m \u001b[0;32min\u001b[0m \u001b[0maxes\u001b[0m\u001b[0;34m.\u001b[0m\u001b[0mitems\u001b[0m\u001b[0;34m(\u001b[0m\u001b[0;34m)\u001b[0m\u001b[0;34m:\u001b[0m\u001b[0;34m\u001b[0m\u001b[0;34m\u001b[0m\u001b[0m\n\u001b[1;32m   3886\u001b[0m             \u001b[0;32mif\u001b[0m \u001b[0mlabels\u001b[0m \u001b[0;32mis\u001b[0m \u001b[0;32mnot\u001b[0m \u001b[0;32mNone\u001b[0m\u001b[0;34m:\u001b[0m\u001b[0;34m\u001b[0m\u001b[0;34m\u001b[0m\u001b[0m\n\u001b[0;32m-> 3887\u001b[0;31m                 \u001b[0mobj\u001b[0m \u001b[0;34m=\u001b[0m \u001b[0mobj\u001b[0m\u001b[0;34m.\u001b[0m\u001b[0m_drop_axis\u001b[0m\u001b[0;34m(\u001b[0m\u001b[0mlabels\u001b[0m\u001b[0;34m,\u001b[0m \u001b[0maxis\u001b[0m\u001b[0;34m,\u001b[0m \u001b[0mlevel\u001b[0m\u001b[0;34m=\u001b[0m\u001b[0mlevel\u001b[0m\u001b[0;34m,\u001b[0m \u001b[0merrors\u001b[0m\u001b[0;34m=\u001b[0m\u001b[0merrors\u001b[0m\u001b[0;34m)\u001b[0m\u001b[0;34m\u001b[0m\u001b[0;34m\u001b[0m\u001b[0m\n\u001b[0m\u001b[1;32m   3888\u001b[0m \u001b[0;34m\u001b[0m\u001b[0m\n\u001b[1;32m   3889\u001b[0m         \u001b[0;32mif\u001b[0m \u001b[0minplace\u001b[0m\u001b[0;34m:\u001b[0m\u001b[0;34m\u001b[0m\u001b[0;34m\u001b[0m\u001b[0m\n",
      "\u001b[0;32m~/opt/anaconda3/envs/credit/lib/python3.6/site-packages/pandas/core/generic.py\u001b[0m in \u001b[0;36m_drop_axis\u001b[0;34m(self, labels, axis, level, errors)\u001b[0m\n\u001b[1;32m   3919\u001b[0m                 \u001b[0mnew_axis\u001b[0m \u001b[0;34m=\u001b[0m \u001b[0maxis\u001b[0m\u001b[0;34m.\u001b[0m\u001b[0mdrop\u001b[0m\u001b[0;34m(\u001b[0m\u001b[0mlabels\u001b[0m\u001b[0;34m,\u001b[0m \u001b[0mlevel\u001b[0m\u001b[0;34m=\u001b[0m\u001b[0mlevel\u001b[0m\u001b[0;34m,\u001b[0m \u001b[0merrors\u001b[0m\u001b[0;34m=\u001b[0m\u001b[0merrors\u001b[0m\u001b[0;34m)\u001b[0m\u001b[0;34m\u001b[0m\u001b[0;34m\u001b[0m\u001b[0m\n\u001b[1;32m   3920\u001b[0m             \u001b[0;32melse\u001b[0m\u001b[0;34m:\u001b[0m\u001b[0;34m\u001b[0m\u001b[0;34m\u001b[0m\u001b[0m\n\u001b[0;32m-> 3921\u001b[0;31m                 \u001b[0mnew_axis\u001b[0m \u001b[0;34m=\u001b[0m \u001b[0maxis\u001b[0m\u001b[0;34m.\u001b[0m\u001b[0mdrop\u001b[0m\u001b[0;34m(\u001b[0m\u001b[0mlabels\u001b[0m\u001b[0;34m,\u001b[0m \u001b[0merrors\u001b[0m\u001b[0;34m=\u001b[0m\u001b[0merrors\u001b[0m\u001b[0;34m)\u001b[0m\u001b[0;34m\u001b[0m\u001b[0;34m\u001b[0m\u001b[0m\n\u001b[0m\u001b[1;32m   3922\u001b[0m             \u001b[0mresult\u001b[0m \u001b[0;34m=\u001b[0m \u001b[0mself\u001b[0m\u001b[0;34m.\u001b[0m\u001b[0mreindex\u001b[0m\u001b[0;34m(\u001b[0m\u001b[0;34m**\u001b[0m\u001b[0;34m{\u001b[0m\u001b[0maxis_name\u001b[0m\u001b[0;34m:\u001b[0m \u001b[0mnew_axis\u001b[0m\u001b[0;34m}\u001b[0m\u001b[0;34m)\u001b[0m\u001b[0;34m\u001b[0m\u001b[0;34m\u001b[0m\u001b[0m\n\u001b[1;32m   3923\u001b[0m \u001b[0;34m\u001b[0m\u001b[0m\n",
      "\u001b[0;32m~/opt/anaconda3/envs/credit/lib/python3.6/site-packages/pandas/core/indexes/base.py\u001b[0m in \u001b[0;36mdrop\u001b[0;34m(self, labels, errors)\u001b[0m\n\u001b[1;32m   5280\u001b[0m         \u001b[0;32mif\u001b[0m \u001b[0mmask\u001b[0m\u001b[0;34m.\u001b[0m\u001b[0many\u001b[0m\u001b[0;34m(\u001b[0m\u001b[0;34m)\u001b[0m\u001b[0;34m:\u001b[0m\u001b[0;34m\u001b[0m\u001b[0;34m\u001b[0m\u001b[0m\n\u001b[1;32m   5281\u001b[0m             \u001b[0;32mif\u001b[0m \u001b[0merrors\u001b[0m \u001b[0;34m!=\u001b[0m \u001b[0;34m\"ignore\"\u001b[0m\u001b[0;34m:\u001b[0m\u001b[0;34m\u001b[0m\u001b[0;34m\u001b[0m\u001b[0m\n\u001b[0;32m-> 5282\u001b[0;31m                 \u001b[0;32mraise\u001b[0m \u001b[0mKeyError\u001b[0m\u001b[0;34m(\u001b[0m\u001b[0;34mf\"{labels[mask]} not found in axis\"\u001b[0m\u001b[0;34m)\u001b[0m\u001b[0;34m\u001b[0m\u001b[0;34m\u001b[0m\u001b[0m\n\u001b[0m\u001b[1;32m   5283\u001b[0m             \u001b[0mindexer\u001b[0m \u001b[0;34m=\u001b[0m \u001b[0mindexer\u001b[0m\u001b[0;34m[\u001b[0m\u001b[0;34m~\u001b[0m\u001b[0mmask\u001b[0m\u001b[0;34m]\u001b[0m\u001b[0;34m\u001b[0m\u001b[0;34m\u001b[0m\u001b[0m\n\u001b[1;32m   5284\u001b[0m         \u001b[0;32mreturn\u001b[0m \u001b[0mself\u001b[0m\u001b[0;34m.\u001b[0m\u001b[0mdelete\u001b[0m\u001b[0;34m(\u001b[0m\u001b[0mindexer\u001b[0m\u001b[0;34m)\u001b[0m\u001b[0;34m\u001b[0m\u001b[0;34m\u001b[0m\u001b[0m\n",
      "\u001b[0;31mKeyError\u001b[0m: \"['Unnamed: 0'] not found in axis\""
     ]
    }
   ],
   "source": [
    "## Join IQID for inds so we can see the Ticker and the name \n",
    "\n",
    "ind_df = small_df\n",
    "\n",
    "ind_df = ind_df.merge(ids, on = ['IQID', 'IQ Name']) \n",
    "ind_df.drop([ 'IQ Name', 'IQID', \n",
    "            'quarter'], axis = 1, inplace = True) \n",
    "\n",
    "## The data is quarterly, but we need to lok at it annually. \n",
    "## This means we have to take the mean of the data for all the quarters \n",
    "ind_df = ind_df.groupby(['year', 'ID']).mean().reset_index()\n",
    "                      \n",
    "ind_df.head() "
   ]
  },
  {
   "cell_type": "markdown",
   "id": "married-proof",
   "metadata": {},
   "source": [
    "## Join in the credit rating data \n",
    "we want an inner join so we can only keep the company we have the credit rating for"
   ]
  },
  {
   "cell_type": "code",
   "execution_count": null,
   "id": "statutory-resolution",
   "metadata": {
    "ExecuteTime": {
     "end_time": "2021-03-24T21:32:36.219523Z",
     "start_time": "2021-03-24T21:32:33.109Z"
    }
   },
   "outputs": [],
   "source": [
    "## Join in the credit Ratings Data\n",
    "credit_ratings = pd.read_csv('credit.csv')[['Year', 'TickerSymbol',\n",
    "                                            'DomesticLTICRSPMthlyAvg']]\n",
    "credit_ratings.rename({'DomesticLTICRSPMthlyAvg': 'rating'}, inplace = True, axis = 1)  \n",
    "\n",
    "## Add credit ratings to df  \n",
    "tot_df = credit_ratings.merge(ind_df, how = 'inner', \n",
    "                             left_on = ['Year', 'TickerSymbol'], \n",
    "                             right_on = ['year', 'ID'])\n",
    "tot_df.drop(['Year', 'TickerSymbol'], axis = 1, inplace = True) \n",
    "\n",
    "\n",
    "## Normalize by Assets \n",
    "tot_df.head()\n",
    "norm_tot_df = tot_df.drop(['rating', 'year', 'ID', 'IQ_TOTAL_ASSETS'], axis = 1) \n",
    "norm_tot_df = norm_tot_df.div(tot_df['IQ_TOTAL_ASSETS'], axis = 0)\n",
    "tot_df = pd.concat([tot_df[['rating', 'year', 'ID', 'IQ_TOTAL_ASSETS']], \n",
    "                        norm_tot_df], axis = 1) \n",
    "\n",
    "tot_df.head() "
   ]
  },
  {
   "cell_type": "code",
   "execution_count": null,
   "id": "spanish-container",
   "metadata": {
    "ExecuteTime": {
     "end_time": "2021-03-24T21:32:36.220574Z",
     "start_time": "2021-03-24T21:32:33.112Z"
    }
   },
   "outputs": [],
   "source": [
    "tot_df_clean = pd.DataFrame() \n",
    "\n",
    "\n",
    "\n",
    "for ticker in tqdm(tot_df['ID'].unique()): \n",
    "    \n",
    "    \n",
    "    ## small df is all the rows with the ticker, sort by year \n",
    "    small_df = tot_df[tot_df['ID'] == ticker].sort_values(by = 'year',\n",
    "                                                             ascending = True)\n",
    "    \n",
    "    \n",
    "    ## Insert a lead rating column. This is the predictor column, \n",
    "    ## as we are trying to predict the credit rating for the next year\n",
    "    small_df.insert(loc = 0, column = 'lead_rating', \n",
    "               value = small_df.rating.shift(-1)) \n",
    "    \n",
    "    \n",
    "    ## Set the index as the year and the ticker. \n",
    "    small_df.set_index(['year', 'ID'], inplace = True) \n",
    "    \n",
    "    ## Take the difference between rows. We are looking to find \n",
    "    ## differences in credit rating, so we are going to compare it to \n",
    "    ## differences in dependent variables. \n",
    "    ## We can then drop the nulls. \n",
    "    small_df = small_df.diff().dropna()  \n",
    "    \n",
    "    ## Normalize total assets \n",
    "    assets = small_df['IQ_TOTAL_ASSETS']\n",
    "    small_df['IQ_TOTAL_ASSETS'] = (assets - assets.mean()) / assets.std() \n",
    "    \n",
    "    tot_df_clean = pd.concat([tot_df_clean, small_df], axis = 0) \n",
    "\n",
    "tot_df_clean.head() "
   ]
  },
  {
   "cell_type": "markdown",
   "id": "delayed-monitor",
   "metadata": {},
   "source": [
    "## Generate Model Data "
   ]
  },
  {
   "cell_type": "code",
   "execution_count": null,
   "id": "underlying-proof",
   "metadata": {
    "ExecuteTime": {
     "end_time": "2021-03-24T21:32:36.221676Z",
     "start_time": "2021-03-24T21:32:33.190Z"
    }
   },
   "outputs": [],
   "source": [
    "def LabelRating(df_np): \n",
    "    ## Convert Rating to categoritcal value \n",
    "    lead_rating = df_np.copy() \n",
    "    \n",
    "    lead_rating[lead_rating == 0] = 0\n",
    "    lead_rating[(lead_rating > 0) ] = 1 \n",
    "    lead_rating[(lead_rating < 0) ] = -1 \n",
    "    lead_rating = -lead_rating\n",
    "\n",
    "    \n",
    "    return lead_rating \n",
    "\n",
    "\n",
    "## Apply the ratings categorical values \n",
    "tot_df_clean[['lead_rating', \n",
    "              'rating']] = tot_df_clean[['lead_rating',\n",
    "                                                        'rating']].apply(LabelRating)\n",
    "\n",
    "orig_data = tot_df_clean \n",
    "\n",
    "## See value counts in graph form\n",
    "tot_df_clean.lead_rating.value_counts().plot(kind = 'barh', ylabel = 'value counts', \n",
    "                                            xlabel = 'classification label', \n",
    "                                            title = 'Before Down-Sampling')  \n"
   ]
  },
  {
   "cell_type": "code",
   "execution_count": null,
   "id": "under-night",
   "metadata": {
    "ExecuteTime": {
     "end_time": "2021-03-24T21:32:36.222734Z",
     "start_time": "2021-03-24T21:32:33.192Z"
    }
   },
   "outputs": [],
   "source": [
    "from sklearn.utils import resample \n",
    "\n",
    "## Resample the data\n",
    "\n",
    "rating_0 = tot_df_clean[tot_df_clean.lead_rating ==0 ]\n",
    "tot_df_clean_sampled = tot_df_clean[tot_df_clean.lead_rating !=0 ]\n",
    "rating_0 = resample(rating_0, \n",
    "                   replace = True, \n",
    "                   n_samples = 650,\n",
    "                    random_state = 123) \n",
    "\n",
    "tot_df_clean = pd.concat([rating_0, \n",
    "                          tot_df_clean_sampled], axis = 0) \n",
    "\n",
    "\n",
    "\n",
    "\n",
    "tot_df_clean.lead_rating.value_counts().plot(kind = 'barh', ylabel = 'value counts', \n",
    "                                            xlabel = 'classification label', \n",
    "                                            title = 'After Down-Sampling')  "
   ]
  },
  {
   "cell_type": "code",
   "execution_count": null,
   "id": "complimentary-maldives",
   "metadata": {
    "ExecuteTime": {
     "end_time": "2021-03-24T21:32:36.223824Z",
     "start_time": "2021-03-24T21:32:33.194Z"
    }
   },
   "outputs": [],
   "source": [
    "## Order by Year \n",
    "tot_df_clean_year = tot_df_clean.reset_index() \n",
    "tot_df_clean_year.sort_values(by = 'year',\n",
    "                              axis = 0, \n",
    "                             inplace = True) \n",
    "tot_df_clean_year.set_index(['year', 'ID'],\n",
    "                            inplace = True) \n",
    "tot_df_clean_year.dropna().to_csv('model_data.csv') \n",
    "tot_df_clean_year.head() "
   ]
  },
  {
   "cell_type": "markdown",
   "id": "positive-stopping",
   "metadata": {},
   "source": [
    "## Data Exploration"
   ]
  },
  {
   "cell_type": "code",
   "execution_count": null,
   "id": "little-stockholm",
   "metadata": {
    "ExecuteTime": {
     "end_time": "2021-03-24T21:32:36.224988Z",
     "start_time": "2021-03-24T21:32:33.270Z"
    }
   },
   "outputs": [],
   "source": [
    "fig, ax = plt.subplots(figsize = (10,10)) \n",
    "fig = sns.heatmap(tot_df_clean.corr(), annot = True, \n",
    "                 ax = ax) \n",
    "fig.set_title('Autocorrelation Matrix Between Variables') "
   ]
  },
  {
   "cell_type": "code",
   "execution_count": null,
   "id": "explicit-hazard",
   "metadata": {
    "ExecuteTime": {
     "end_time": "2021-03-24T21:32:36.225845Z",
     "start_time": "2021-03-24T21:32:33.272Z"
    }
   },
   "outputs": [],
   "source": [
    "tot_df_clean[tot_df_clean.columns[:8]].describe().iloc[1:]"
   ]
  },
  {
   "cell_type": "code",
   "execution_count": null,
   "id": "occupied-birth",
   "metadata": {
    "ExecuteTime": {
     "end_time": "2021-03-24T21:32:36.227001Z",
     "start_time": "2021-03-24T21:32:33.274Z"
    }
   },
   "outputs": [],
   "source": [
    "tot_df_clean[tot_df_clean.columns[8:]].describe().iloc[1:]"
   ]
  },
  {
   "cell_type": "code",
   "execution_count": null,
   "id": "junior-picture",
   "metadata": {
    "ExecuteTime": {
     "end_time": "2021-03-24T21:32:36.228162Z",
     "start_time": "2021-03-24T21:32:33.277Z"
    }
   },
   "outputs": [],
   "source": [
    "desc_stats = tot_df_clean.describe().iloc[1:]\n",
    "fig = go.Figure() \n",
    "\n",
    "for i in range(0, 2): \n",
    "\n",
    "    fig.add_trace(go.Bar(x = desc_stats.columns, \n",
    "                    y = desc_stats.iloc[i], \n",
    "                    name = desc_stats.index[i], \n",
    "                        text = desc_stats.iloc[i], \n",
    "                        textposition = 'auto') ) \n",
    "\n",
    "fig.update_layout(title = 'Descriptive Stats') \n",
    "\n",
    "fig.show()"
   ]
  },
  {
   "cell_type": "code",
   "execution_count": null,
   "id": "sunset-september",
   "metadata": {},
   "outputs": [],
   "source": []
  }
 ],
 "metadata": {
  "hide_input": false,
  "kernelspec": {
   "display_name": "Python 3",
   "language": "python",
   "name": "python3"
  },
  "language_info": {
   "codemirror_mode": {
    "name": "ipython",
    "version": 3
   },
   "file_extension": ".py",
   "mimetype": "text/x-python",
   "name": "python",
   "nbconvert_exporter": "python",
   "pygments_lexer": "ipython3",
   "version": "3.6.13"
  },
  "latex_envs": {
   "LaTeX_envs_menu_present": true,
   "autoclose": false,
   "autocomplete": true,
   "bibliofile": "biblio.bib",
   "cite_by": "apalike",
   "current_citInitial": 1,
   "eqLabelWithNumbers": true,
   "eqNumInitial": 1,
   "hotkeys": {
    "equation": "Ctrl-E",
    "itemize": "Ctrl-I"
   },
   "labels_anchors": false,
   "latex_user_defs": false,
   "report_style_numbering": false,
   "user_envs_cfg": false
  },
  "toc": {
   "base_numbering": 1,
   "nav_menu": {},
   "number_sections": true,
   "sideBar": true,
   "skip_h1_title": true,
   "title_cell": "Table of Contents",
   "title_sidebar": "Contents",
   "toc_cell": true,
   "toc_position": {},
   "toc_section_display": true,
   "toc_window_display": true
  },
  "varInspector": {
   "cols": {
    "lenName": 16,
    "lenType": 16,
    "lenVar": 40
   },
   "kernels_config": {
    "python": {
     "delete_cmd_postfix": "",
     "delete_cmd_prefix": "del ",
     "library": "var_list.py",
     "varRefreshCmd": "print(var_dic_list())"
    },
    "r": {
     "delete_cmd_postfix": ") ",
     "delete_cmd_prefix": "rm(",
     "library": "var_list.r",
     "varRefreshCmd": "cat(var_dic_list()) "
    }
   },
   "position": {
    "height": "617px",
    "left": "-3px",
    "right": "20px",
    "top": "88px",
    "width": "338px"
   },
   "types_to_exclude": [
    "module",
    "function",
    "builtin_function_or_method",
    "instance",
    "_Feature"
   ],
   "window_display": false
  }
 },
 "nbformat": 4,
 "nbformat_minor": 5
}
