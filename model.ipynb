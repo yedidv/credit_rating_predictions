{
 "cells": [
  {
   "cell_type": "markdown",
   "id": "excited-skirt",
   "metadata": {
    "toc": true
   },
   "source": [
    "<h1>Table of Contents<span class=\"tocSkip\"></span></h1>\n",
    "<div class=\"toc\"><ul class=\"toc-item\"><li><span><a href=\"#Read-in-Data\" data-toc-modified-id=\"Read-in-Data-1\"><span class=\"toc-item-num\">1&nbsp;&nbsp;</span>Read in Data</a></span><ul class=\"toc-item\"><li><span><a href=\"#Read-in-excel-files-combining-ticker-symbols-with-the-IQID\" data-toc-modified-id=\"Read-in-excel-files-combining-ticker-symbols-with-the-IQID-1.1\"><span class=\"toc-item-num\">1.1&nbsp;&nbsp;</span>Read in excel files combining ticker symbols with the IQID</a></span></li><li><span><a href=\"#Read-in-independent-variables,-join-tickers\" data-toc-modified-id=\"Read-in-independent-variables,-join-tickers-1.2\"><span class=\"toc-item-num\">1.2&nbsp;&nbsp;</span>Read in independent variables, join tickers</a></span></li><li><span><a href=\"#Join-in-the-credit-rating-data\" data-toc-modified-id=\"Join-in-the-credit-rating-data-1.3\"><span class=\"toc-item-num\">1.3&nbsp;&nbsp;</span>Join in the credit rating data</a></span></li></ul></li><li><span><a href=\"#SVC-Machine\" data-toc-modified-id=\"SVC-Machine-2\"><span class=\"toc-item-num\">2&nbsp;&nbsp;</span>SVC Machine</a></span></li><li><span><a href=\"#Random-Forest-Classifier\" data-toc-modified-id=\"Random-Forest-Classifier-3\"><span class=\"toc-item-num\">3&nbsp;&nbsp;</span>Random Forest Classifier</a></span></li><li><span><a href=\"#Plot-Accuracy\" data-toc-modified-id=\"Plot-Accuracy-4\"><span class=\"toc-item-num\">4&nbsp;&nbsp;</span>Plot Accuracy</a></span></li></ul></div>"
   ]
  },
  {
   "cell_type": "code",
   "execution_count": 1,
   "id": "twenty-driver",
   "metadata": {
    "ExecuteTime": {
     "end_time": "2021-03-17T20:05:26.754487Z",
     "start_time": "2021-03-17T20:05:25.940474Z"
    }
   },
   "outputs": [],
   "source": [
    "import pandas as pd \n",
    "import numpy as np \n",
    "import plotly.graph_objects as go \n",
    "import seaborn as sns \n",
    "import matplotlib.pyplot as plt \n",
    "from tqdm import tqdm "
   ]
  },
  {
   "cell_type": "markdown",
   "id": "parliamentary-university",
   "metadata": {
    "ExecuteTime": {
     "end_time": "2021-03-13T17:30:07.606588Z",
     "start_time": "2021-03-13T17:30:07.540321Z"
    }
   },
   "source": [
    "## Read in Data\n",
    "\n",
    "---\n",
    "### Read in excel files combining ticker symbols with the IQID "
   ]
  },
  {
   "cell_type": "code",
   "execution_count": 2,
   "id": "contained-reverse",
   "metadata": {
    "ExecuteTime": {
     "end_time": "2021-03-17T20:05:26.978712Z",
     "start_time": "2021-03-17T20:05:26.757412Z"
    }
   },
   "outputs": [
    {
     "name": "stdout",
     "output_type": "stream",
     "text": [
      "0\n",
      "ID         0\n",
      "IQID       0\n",
      "IQ Name    0\n",
      "dtype: int64\n"
     ]
    },
    {
     "data": {
      "text/html": [
       "<div>\n",
       "<style scoped>\n",
       "    .dataframe tbody tr th:only-of-type {\n",
       "        vertical-align: middle;\n",
       "    }\n",
       "\n",
       "    .dataframe tbody tr th {\n",
       "        vertical-align: top;\n",
       "    }\n",
       "\n",
       "    .dataframe thead th {\n",
       "        text-align: right;\n",
       "    }\n",
       "</style>\n",
       "<table border=\"1\" class=\"dataframe\">\n",
       "  <thead>\n",
       "    <tr style=\"text-align: right;\">\n",
       "      <th></th>\n",
       "      <th>ID</th>\n",
       "      <th>IQID</th>\n",
       "      <th>IQ Name</th>\n",
       "    </tr>\n",
       "  </thead>\n",
       "  <tbody>\n",
       "    <tr>\n",
       "      <th>0</th>\n",
       "      <td>MMM</td>\n",
       "      <td>IQ289194</td>\n",
       "      <td>3M Company</td>\n",
       "    </tr>\n",
       "    <tr>\n",
       "      <th>1</th>\n",
       "      <td>ABT</td>\n",
       "      <td>IQ247483</td>\n",
       "      <td>Abbott Laboratories</td>\n",
       "    </tr>\n",
       "    <tr>\n",
       "      <th>2</th>\n",
       "      <td>ABBV</td>\n",
       "      <td>IQ141885706</td>\n",
       "      <td>AbbVie Inc.</td>\n",
       "    </tr>\n",
       "    <tr>\n",
       "      <th>3</th>\n",
       "      <td>ABMD</td>\n",
       "      <td>IQ247589</td>\n",
       "      <td>Abiomed, Inc.</td>\n",
       "    </tr>\n",
       "    <tr>\n",
       "      <th>4</th>\n",
       "      <td>ACN</td>\n",
       "      <td>IQ972190</td>\n",
       "      <td>Accenture plc</td>\n",
       "    </tr>\n",
       "  </tbody>\n",
       "</table>\n",
       "</div>"
      ],
      "text/plain": [
       "     ID         IQID              IQ Name\n",
       "0   MMM     IQ289194           3M Company\n",
       "1   ABT     IQ247483  Abbott Laboratories\n",
       "2  ABBV  IQ141885706          AbbVie Inc.\n",
       "3  ABMD     IQ247589        Abiomed, Inc.\n",
       "4   ACN     IQ972190        Accenture plc"
      ]
     },
     "execution_count": 2,
     "metadata": {},
     "output_type": "execute_result"
    }
   ],
   "source": [
    "ids= pd.DataFrame() \n",
    "## Read in ticker symbols\n",
    "for i in range(1, 6): \n",
    "    df = pd.read_excel('capiq_data/in_process_ids/ids {}.xlsx'.format(i),\n",
    "                       engine='openpyxl')[['ID', 'IQID', 'IQ Name']]\n",
    "    ids = pd.concat([ids, df]) \n",
    "\n",
    "## See if there are any duplicates \n",
    "print(ids.duplicated().sum()) \n",
    "## See if there are any nulls \n",
    "print(ids.isna().sum()) \n",
    "ids.head() "
   ]
  },
  {
   "cell_type": "markdown",
   "id": "documented-circular",
   "metadata": {},
   "source": [
    "### Read in independent variables, join tickers "
   ]
  },
  {
   "cell_type": "code",
   "execution_count": 3,
   "id": "colored-partnership",
   "metadata": {
    "ExecuteTime": {
     "end_time": "2021-03-17T20:05:27.037335Z",
     "start_time": "2021-03-17T20:05:26.980683Z"
    }
   },
   "outputs": [
    {
     "data": {
      "text/html": [
       "<div>\n",
       "<style scoped>\n",
       "    .dataframe tbody tr th:only-of-type {\n",
       "        vertical-align: middle;\n",
       "    }\n",
       "\n",
       "    .dataframe tbody tr th {\n",
       "        vertical-align: top;\n",
       "    }\n",
       "\n",
       "    .dataframe thead th {\n",
       "        text-align: right;\n",
       "    }\n",
       "</style>\n",
       "<table border=\"1\" class=\"dataframe\">\n",
       "  <thead>\n",
       "    <tr style=\"text-align: right;\">\n",
       "      <th></th>\n",
       "      <th>year</th>\n",
       "      <th>ID</th>\n",
       "      <th>IQ_TOTAL_REV</th>\n",
       "      <th>IQ_NI_CF</th>\n",
       "      <th>IQ_AR</th>\n",
       "      <th>IQ_GP</th>\n",
       "      <th>IQ_TOTAL_ASSETS</th>\n",
       "      <th>IQ_AP</th>\n",
       "      <th>IQ_TOTAL_LIAB</th>\n",
       "      <th>IQ_TOTAL_DEBT</th>\n",
       "      <th>IQ_CASH_FINAN</th>\n",
       "      <th>IQ_TOTAL_EQUITY</th>\n",
       "      <th>IQ_CASH_EQUIV</th>\n",
       "    </tr>\n",
       "  </thead>\n",
       "  <tbody>\n",
       "    <tr>\n",
       "      <th>0</th>\n",
       "      <td>2000</td>\n",
       "      <td>PYPL</td>\n",
       "      <td>4.262073</td>\n",
       "      <td>-44.73064</td>\n",
       "      <td>0.0</td>\n",
       "      <td>-11.11638</td>\n",
       "      <td>77.265667</td>\n",
       "      <td>2.933000</td>\n",
       "      <td>34.536333</td>\n",
       "      <td>0.076667</td>\n",
       "      <td>25.746083</td>\n",
       "      <td>42.729333</td>\n",
       "      <td>36.093333</td>\n",
       "    </tr>\n",
       "    <tr>\n",
       "      <th>1</th>\n",
       "      <td>2001</td>\n",
       "      <td>PYPL</td>\n",
       "      <td>26.078250</td>\n",
       "      <td>-26.95056</td>\n",
       "      <td>0.0</td>\n",
       "      <td>2.38625</td>\n",
       "      <td>198.586997</td>\n",
       "      <td>5.876978</td>\n",
       "      <td>126.882032</td>\n",
       "      <td>1.314882</td>\n",
       "      <td>3.115630</td>\n",
       "      <td>103.751965</td>\n",
       "      <td>101.747015</td>\n",
       "    </tr>\n",
       "    <tr>\n",
       "      <th>2</th>\n",
       "      <td>2002</td>\n",
       "      <td>PYPL</td>\n",
       "      <td>51.266500</td>\n",
       "      <td>0.88000</td>\n",
       "      <td>0.0</td>\n",
       "      <td>16.28150</td>\n",
       "      <td>265.305500</td>\n",
       "      <td>10.945000</td>\n",
       "      <td>107.277000</td>\n",
       "      <td>5.615000</td>\n",
       "      <td>34.556500</td>\n",
       "      <td>158.028500</td>\n",
       "      <td>89.832500</td>\n",
       "    </tr>\n",
       "    <tr>\n",
       "      <th>3</th>\n",
       "      <td>2006</td>\n",
       "      <td>HLT</td>\n",
       "      <td>2219.500000</td>\n",
       "      <td>162.00000</td>\n",
       "      <td>705.0</td>\n",
       "      <td>667.00000</td>\n",
       "      <td>16737.000000</td>\n",
       "      <td>1112.000000</td>\n",
       "      <td>13195.500000</td>\n",
       "      <td>7901.000000</td>\n",
       "      <td>-771.500000</td>\n",
       "      <td>3541.500000</td>\n",
       "      <td>126.000000</td>\n",
       "    </tr>\n",
       "    <tr>\n",
       "      <th>4</th>\n",
       "      <td>2007</td>\n",
       "      <td>HLT</td>\n",
       "      <td>1974.500000</td>\n",
       "      <td>130.00000</td>\n",
       "      <td>690.0</td>\n",
       "      <td>593.50000</td>\n",
       "      <td>16127.500000</td>\n",
       "      <td>1745.000000</td>\n",
       "      <td>12126.500000</td>\n",
       "      <td>6869.500000</td>\n",
       "      <td>-666.000000</td>\n",
       "      <td>4001.000000</td>\n",
       "      <td>149.000000</td>\n",
       "    </tr>\n",
       "  </tbody>\n",
       "</table>\n",
       "</div>"
      ],
      "text/plain": [
       "   year    ID  IQ_TOTAL_REV   IQ_NI_CF  IQ_AR     IQ_GP   IQ_TOTAL_ASSETS  \\\n",
       "0  2000  PYPL      4.262073  -44.73064    0.0  -11.11638        77.265667   \n",
       "1  2001  PYPL     26.078250  -26.95056    0.0    2.38625       198.586997   \n",
       "2  2002  PYPL     51.266500    0.88000    0.0   16.28150       265.305500   \n",
       "3  2006   HLT   2219.500000  162.00000  705.0  667.00000     16737.000000   \n",
       "4  2007   HLT   1974.500000  130.00000  690.0  593.50000     16127.500000   \n",
       "\n",
       "         IQ_AP  IQ_TOTAL_LIAB  IQ_TOTAL_DEBT  IQ_CASH_FINAN  IQ_TOTAL_EQUITY  \\\n",
       "0     2.933000      34.536333       0.076667      25.746083        42.729333   \n",
       "1     5.876978     126.882032       1.314882       3.115630       103.751965   \n",
       "2    10.945000     107.277000       5.615000      34.556500       158.028500   \n",
       "3  1112.000000   13195.500000    7901.000000    -771.500000      3541.500000   \n",
       "4  1745.000000   12126.500000    6869.500000    -666.000000      4001.000000   \n",
       "\n",
       "   IQ_CASH_EQUIV  \n",
       "0      36.093333  \n",
       "1     101.747015  \n",
       "2      89.832500  \n",
       "3     126.000000  \n",
       "4     149.000000  "
      ]
     },
     "execution_count": 3,
     "metadata": {},
     "output_type": "execute_result"
    }
   ],
   "source": [
    "## Join IQID for inds so we can see the Ticker and the name \n",
    "\n",
    "ind_df = pd.read_csv('small_df.csv') \n",
    "\n",
    "ind_df = ind_df.merge(ids, on = ['IQID', 'IQ Name']) \n",
    "ind_df.drop(['Unnamed: 0', 'IQ Name', 'IQID', \n",
    "            'quarter'], axis = 1, inplace = True) \n",
    "\n",
    "## The data is quarterly, but we need to lok at it annually. \n",
    "## This means we have to take the mean of the data for all the quarters \n",
    "ind_df = ind_df.groupby(['year', 'ID']).mean().reset_index()\n",
    "                      \n",
    "ind_df.head() "
   ]
  },
  {
   "cell_type": "markdown",
   "id": "lesbian-entry",
   "metadata": {},
   "source": [
    "### Join in the credit rating data\n",
    "\n",
    "We want an inner join so we only keep the companies that we have the credit rating for"
   ]
  },
  {
   "cell_type": "code",
   "execution_count": 4,
   "id": "relevant-degree",
   "metadata": {
    "ExecuteTime": {
     "end_time": "2021-03-17T20:05:27.083894Z",
     "start_time": "2021-03-17T20:05:27.039376Z"
    }
   },
   "outputs": [
    {
     "data": {
      "text/html": [
       "<div>\n",
       "<style scoped>\n",
       "    .dataframe tbody tr th:only-of-type {\n",
       "        vertical-align: middle;\n",
       "    }\n",
       "\n",
       "    .dataframe tbody tr th {\n",
       "        vertical-align: top;\n",
       "    }\n",
       "\n",
       "    .dataframe thead th {\n",
       "        text-align: right;\n",
       "    }\n",
       "</style>\n",
       "<table border=\"1\" class=\"dataframe\">\n",
       "  <thead>\n",
       "    <tr style=\"text-align: right;\">\n",
       "      <th></th>\n",
       "      <th>rating</th>\n",
       "      <th>year</th>\n",
       "      <th>ID</th>\n",
       "      <th>IQ_TOTAL_REV</th>\n",
       "      <th>IQ_NI_CF</th>\n",
       "      <th>IQ_AR</th>\n",
       "      <th>IQ_GP</th>\n",
       "      <th>IQ_TOTAL_ASSETS</th>\n",
       "      <th>IQ_AP</th>\n",
       "      <th>IQ_TOTAL_LIAB</th>\n",
       "      <th>IQ_TOTAL_DEBT</th>\n",
       "      <th>IQ_CASH_FINAN</th>\n",
       "      <th>IQ_TOTAL_EQUITY</th>\n",
       "      <th>IQ_CASH_EQUIV</th>\n",
       "    </tr>\n",
       "  </thead>\n",
       "  <tbody>\n",
       "    <tr>\n",
       "      <th>0</th>\n",
       "      <td>18.000000</td>\n",
       "      <td>2010</td>\n",
       "      <td>AAL</td>\n",
       "      <td>5586.00</td>\n",
       "      <td>-98.00</td>\n",
       "      <td>738.00</td>\n",
       "      <td>1286.00</td>\n",
       "      <td>25088.00</td>\n",
       "      <td>1156.00</td>\n",
       "      <td>29033.00</td>\n",
       "      <td>11136.0</td>\n",
       "      <td>349.00</td>\n",
       "      <td>-3945.00</td>\n",
       "      <td>168.00</td>\n",
       "    </tr>\n",
       "    <tr>\n",
       "      <th>1</th>\n",
       "      <td>19.500000</td>\n",
       "      <td>2011</td>\n",
       "      <td>AAL</td>\n",
       "      <td>5994.75</td>\n",
       "      <td>-494.75</td>\n",
       "      <td>923.50</td>\n",
       "      <td>1181.00</td>\n",
       "      <td>25366.75</td>\n",
       "      <td>1301.00</td>\n",
       "      <td>30467.25</td>\n",
       "      <td>11580.5</td>\n",
       "      <td>181.75</td>\n",
       "      <td>-5100.50</td>\n",
       "      <td>297.75</td>\n",
       "    </tr>\n",
       "    <tr>\n",
       "      <th>2</th>\n",
       "      <td>27.000000</td>\n",
       "      <td>2012</td>\n",
       "      <td>AAL</td>\n",
       "      <td>6213.75</td>\n",
       "      <td>-469.00</td>\n",
       "      <td>1117.25</td>\n",
       "      <td>1374.25</td>\n",
       "      <td>24168.50</td>\n",
       "      <td>1697.75</td>\n",
       "      <td>32422.50</td>\n",
       "      <td>10375.0</td>\n",
       "      <td>120.75</td>\n",
       "      <td>-8254.00</td>\n",
       "      <td>433.50</td>\n",
       "    </tr>\n",
       "    <tr>\n",
       "      <th>3</th>\n",
       "      <td>26.166667</td>\n",
       "      <td>2013</td>\n",
       "      <td>AAL</td>\n",
       "      <td>6678.00</td>\n",
       "      <td>-458.50</td>\n",
       "      <td>1379.75</td>\n",
       "      <td>1729.50</td>\n",
       "      <td>29781.50</td>\n",
       "      <td>1703.25</td>\n",
       "      <td>36592.75</td>\n",
       "      <td>13172.5</td>\n",
       "      <td>949.75</td>\n",
       "      <td>-6811.25</td>\n",
       "      <td>766.75</td>\n",
       "    </tr>\n",
       "    <tr>\n",
       "      <th>4</th>\n",
       "      <td>16.833333</td>\n",
       "      <td>2014</td>\n",
       "      <td>AAL</td>\n",
       "      <td>10662.25</td>\n",
       "      <td>720.50</td>\n",
       "      <td>1930.25</td>\n",
       "      <td>3009.50</td>\n",
       "      <td>43986.50</td>\n",
       "      <td>1543.50</td>\n",
       "      <td>40943.25</td>\n",
       "      <td>17203.0</td>\n",
       "      <td>-78.75</td>\n",
       "      <td>3043.25</td>\n",
       "      <td>1160.25</td>\n",
       "    </tr>\n",
       "  </tbody>\n",
       "</table>\n",
       "</div>"
      ],
      "text/plain": [
       "      rating  year   ID  IQ_TOTAL_REV  IQ_NI_CF    IQ_AR   IQ_GP   \\\n",
       "0  18.000000  2010  AAL       5586.00    -98.00   738.00  1286.00   \n",
       "1  19.500000  2011  AAL       5994.75   -494.75   923.50  1181.00   \n",
       "2  27.000000  2012  AAL       6213.75   -469.00  1117.25  1374.25   \n",
       "3  26.166667  2013  AAL       6678.00   -458.50  1379.75  1729.50   \n",
       "4  16.833333  2014  AAL      10662.25    720.50  1930.25  3009.50   \n",
       "\n",
       "   IQ_TOTAL_ASSETS    IQ_AP  IQ_TOTAL_LIAB  IQ_TOTAL_DEBT  IQ_CASH_FINAN  \\\n",
       "0         25088.00  1156.00       29033.00        11136.0         349.00   \n",
       "1         25366.75  1301.00       30467.25        11580.5         181.75   \n",
       "2         24168.50  1697.75       32422.50        10375.0         120.75   \n",
       "3         29781.50  1703.25       36592.75        13172.5         949.75   \n",
       "4         43986.50  1543.50       40943.25        17203.0         -78.75   \n",
       "\n",
       "   IQ_TOTAL_EQUITY  IQ_CASH_EQUIV  \n",
       "0         -3945.00         168.00  \n",
       "1         -5100.50         297.75  \n",
       "2         -8254.00         433.50  \n",
       "3         -6811.25         766.75  \n",
       "4          3043.25        1160.25  "
      ]
     },
     "execution_count": 4,
     "metadata": {},
     "output_type": "execute_result"
    }
   ],
   "source": [
    "## Join in the credit Ratings Data\n",
    "credit_ratings = pd.read_csv('credit.csv')[['Year', 'TickerSymbol',\n",
    "                                            'DomesticLTICRSPMthlyAvg']]\n",
    "credit_ratings.rename({'DomesticLTICRSPMthlyAvg': 'rating'}, inplace = True, axis = 1)  \n",
    "\n",
    "## Add credit ratings to df  \n",
    "tot_df = credit_ratings.merge(ind_df, how = 'inner', \n",
    "                             left_on = ['Year', 'TickerSymbol'], \n",
    "                             right_on = ['year', 'ID'])\n",
    "tot_df.drop(['Year', 'TickerSymbol'], axis = 1, inplace = True) \n",
    "\n",
    "tot_df.head() "
   ]
  },
  {
   "cell_type": "code",
   "execution_count": 5,
   "id": "certified-shakespeare",
   "metadata": {
    "ExecuteTime": {
     "end_time": "2021-03-17T20:05:28.465020Z",
     "start_time": "2021-03-17T20:05:27.086582Z"
    }
   },
   "outputs": [
    {
     "name": "stderr",
     "output_type": "stream",
     "text": [
      "100%|██████████| 306/306 [00:01<00:00, 226.65it/s]\n"
     ]
    },
    {
     "data": {
      "text/html": [
       "<div>\n",
       "<style scoped>\n",
       "    .dataframe tbody tr th:only-of-type {\n",
       "        vertical-align: middle;\n",
       "    }\n",
       "\n",
       "    .dataframe tbody tr th {\n",
       "        vertical-align: top;\n",
       "    }\n",
       "\n",
       "    .dataframe thead th {\n",
       "        text-align: right;\n",
       "    }\n",
       "</style>\n",
       "<table border=\"1\" class=\"dataframe\">\n",
       "  <thead>\n",
       "    <tr style=\"text-align: right;\">\n",
       "      <th></th>\n",
       "      <th></th>\n",
       "      <th>lead_rating</th>\n",
       "      <th>rating</th>\n",
       "      <th>IQ_TOTAL_REV</th>\n",
       "      <th>IQ_NI_CF</th>\n",
       "      <th>IQ_AR</th>\n",
       "      <th>IQ_GP</th>\n",
       "      <th>IQ_TOTAL_ASSETS</th>\n",
       "      <th>IQ_AP</th>\n",
       "      <th>IQ_TOTAL_LIAB</th>\n",
       "      <th>IQ_TOTAL_DEBT</th>\n",
       "      <th>IQ_CASH_FINAN</th>\n",
       "      <th>IQ_TOTAL_EQUITY</th>\n",
       "      <th>IQ_CASH_EQUIV</th>\n",
       "    </tr>\n",
       "    <tr>\n",
       "      <th>year</th>\n",
       "      <th>ID</th>\n",
       "      <th></th>\n",
       "      <th></th>\n",
       "      <th></th>\n",
       "      <th></th>\n",
       "      <th></th>\n",
       "      <th></th>\n",
       "      <th></th>\n",
       "      <th></th>\n",
       "      <th></th>\n",
       "      <th></th>\n",
       "      <th></th>\n",
       "      <th></th>\n",
       "      <th></th>\n",
       "    </tr>\n",
       "  </thead>\n",
       "  <tbody>\n",
       "    <tr>\n",
       "      <th>2012</th>\n",
       "      <th>AAL</th>\n",
       "      <td>1.500000</td>\n",
       "      <td>7.500000</td>\n",
       "      <td>219.00000</td>\n",
       "      <td>25.75000</td>\n",
       "      <td>193.75000</td>\n",
       "      <td>193.25000</td>\n",
       "      <td>-1198.25000</td>\n",
       "      <td>396.7500</td>\n",
       "      <td>1955.2500</td>\n",
       "      <td>-1205.50000</td>\n",
       "      <td>-61.00000</td>\n",
       "      <td>-3153.50000</td>\n",
       "      <td>135.75000</td>\n",
       "    </tr>\n",
       "    <tr>\n",
       "      <th>2013</th>\n",
       "      <th>AAL</th>\n",
       "      <td>7.500000</td>\n",
       "      <td>-0.833333</td>\n",
       "      <td>464.25000</td>\n",
       "      <td>10.50000</td>\n",
       "      <td>262.50000</td>\n",
       "      <td>355.25000</td>\n",
       "      <td>5613.00000</td>\n",
       "      <td>5.5000</td>\n",
       "      <td>4170.2500</td>\n",
       "      <td>2797.50000</td>\n",
       "      <td>829.00000</td>\n",
       "      <td>1442.75000</td>\n",
       "      <td>333.25000</td>\n",
       "    </tr>\n",
       "    <tr>\n",
       "      <th>2014</th>\n",
       "      <th>AAL</th>\n",
       "      <td>-0.833333</td>\n",
       "      <td>-9.333333</td>\n",
       "      <td>3984.25000</td>\n",
       "      <td>1179.00000</td>\n",
       "      <td>550.50000</td>\n",
       "      <td>1280.00000</td>\n",
       "      <td>14205.00000</td>\n",
       "      <td>-159.7500</td>\n",
       "      <td>4350.5000</td>\n",
       "      <td>4030.50000</td>\n",
       "      <td>-1028.50000</td>\n",
       "      <td>9854.50000</td>\n",
       "      <td>393.50000</td>\n",
       "    </tr>\n",
       "    <tr>\n",
       "      <th>2012</th>\n",
       "      <th>PNW</th>\n",
       "      <td>-0.583333</td>\n",
       "      <td>-0.583333</td>\n",
       "      <td>15.10625</td>\n",
       "      <td>10.51725</td>\n",
       "      <td>-28.39100</td>\n",
       "      <td>23.65400</td>\n",
       "      <td>549.96775</td>\n",
       "      <td>-15.3985</td>\n",
       "      <td>382.2985</td>\n",
       "      <td>-186.43050</td>\n",
       "      <td>28.66800</td>\n",
       "      <td>167.66925</td>\n",
       "      <td>-166.78575</td>\n",
       "    </tr>\n",
       "    <tr>\n",
       "      <th>2013</th>\n",
       "      <th>PNW</th>\n",
       "      <td>-0.583333</td>\n",
       "      <td>-0.916667</td>\n",
       "      <td>38.20600</td>\n",
       "      <td>6.13300</td>\n",
       "      <td>30.82575</td>\n",
       "      <td>2.98675</td>\n",
       "      <td>239.18900</td>\n",
       "      <td>-0.1955</td>\n",
       "      <td>-19.5145</td>\n",
       "      <td>-71.94575</td>\n",
       "      <td>36.23175</td>\n",
       "      <td>258.70350</td>\n",
       "      <td>15.06900</td>\n",
       "    </tr>\n",
       "  </tbody>\n",
       "</table>\n",
       "</div>"
      ],
      "text/plain": [
       "          lead_rating    rating  IQ_TOTAL_REV    IQ_NI_CF      IQ_AR  \\\n",
       "year ID                                                                \n",
       "2012 AAL     1.500000  7.500000     219.00000    25.75000  193.75000   \n",
       "2013 AAL     7.500000 -0.833333     464.25000    10.50000  262.50000   \n",
       "2014 AAL    -0.833333 -9.333333    3984.25000  1179.00000  550.50000   \n",
       "2012 PNW    -0.583333 -0.583333      15.10625    10.51725  -28.39100   \n",
       "2013 PNW    -0.583333 -0.916667      38.20600     6.13300   30.82575   \n",
       "\n",
       "              IQ_GP   IQ_TOTAL_ASSETS     IQ_AP  IQ_TOTAL_LIAB  IQ_TOTAL_DEBT  \\\n",
       "year ID                                                                         \n",
       "2012 AAL   193.25000      -1198.25000  396.7500      1955.2500    -1205.50000   \n",
       "2013 AAL   355.25000       5613.00000    5.5000      4170.2500     2797.50000   \n",
       "2014 AAL  1280.00000      14205.00000 -159.7500      4350.5000     4030.50000   \n",
       "2012 PNW    23.65400        549.96775  -15.3985       382.2985     -186.43050   \n",
       "2013 PNW     2.98675        239.18900   -0.1955       -19.5145      -71.94575   \n",
       "\n",
       "          IQ_CASH_FINAN  IQ_TOTAL_EQUITY  IQ_CASH_EQUIV  \n",
       "year ID                                                  \n",
       "2012 AAL      -61.00000      -3153.50000      135.75000  \n",
       "2013 AAL      829.00000       1442.75000      333.25000  \n",
       "2014 AAL    -1028.50000       9854.50000      393.50000  \n",
       "2012 PNW       28.66800        167.66925     -166.78575  \n",
       "2013 PNW       36.23175        258.70350       15.06900  "
      ]
     },
     "execution_count": 5,
     "metadata": {},
     "output_type": "execute_result"
    }
   ],
   "source": [
    "tot_df_clean = pd.DataFrame() \n",
    "\n",
    "\n",
    "\n",
    "for ticker in tqdm(tot_df['ID'].unique()): \n",
    "    \n",
    "    \n",
    "    ## small df is all the rows with the ticker, sort by year \n",
    "    small_df = tot_df[tot_df['ID'] == ticker].sort_values(by = 'year',\n",
    "                                                             ascending = True)\n",
    "    \n",
    "    \n",
    "    ## Insert a lead rating column. This is the predictor column, \n",
    "    ## as we are trying to predict the credit rating for the next year\n",
    "    small_df.insert(loc = 0, column = 'lead_rating', \n",
    "               value = small_df.rating.shift(1)) \n",
    "    \n",
    "    \n",
    "    ## Set the index as the year and the ticker. \n",
    "    small_df.set_index(['year', 'ID'], inplace = True) \n",
    "    \n",
    "    ## Take the difference between rows. We are looking to find \n",
    "    ## differences in credit rating, so we are going to compare it to \n",
    "    ## differences in dependent variables. \n",
    "    ## We can then drop the nulls. \n",
    "    small_df = small_df.diff().dropna()  \n",
    "    \n",
    "    tot_df_clean = pd.concat([tot_df_clean, small_df], axis = 0) \n",
    "\n",
    "tot_df_clean.head() "
   ]
  },
  {
   "cell_type": "code",
   "execution_count": 6,
   "id": "noble-hunger",
   "metadata": {
    "ExecuteTime": {
     "end_time": "2021-03-17T20:05:28.595678Z",
     "start_time": "2021-03-17T20:05:28.466970Z"
    },
    "run_control": {
     "marked": true
    }
   },
   "outputs": [],
   "source": [
    "from sklearn.model_selection import train_test_split \n",
    "\n",
    "## Split into x and y\n",
    "x = tot_df_clean.drop(['lead_rating'], axis = 1) \n",
    "\n",
    "lead_rating = tot_df_clean['lead_rating'].to_numpy()\n",
    "\n",
    "lead_rating[lead_rating == 0] = 0\n",
    "lead_rating[(lead_rating > 0) & (lead_rating <= 1)] = 1 \n",
    "lead_rating[(lead_rating < 0) & (lead_rating >= -1)] = -1 \n",
    "lead_rating[lead_rating > 1] = 2 \n",
    "lead_rating[lead_rating < -1] = -2\n",
    "tot_df_clean['lead_rating'] = lead_rating\n",
    "\n",
    "y = tot_df_clean['lead_rating'] \n",
    "\n",
    "\n",
    "## Normalize the data, but we don't need to normalize the \n",
    "## dependent variable\n",
    "x = (x - x.mean()) / (x.std())\n",
    "\n",
    "## We'll set aside 5% of the data for testing\n",
    "train_x, test_x, train_y, test_y = train_test_split(x, y, train_size = 0.95, random_state = 5) "
   ]
  },
  {
   "cell_type": "markdown",
   "id": "pleasant-brake",
   "metadata": {},
   "source": [
    "## SVC Machine"
   ]
  },
  {
   "cell_type": "code",
   "execution_count": 24,
   "id": "labeled-contrast",
   "metadata": {
    "ExecuteTime": {
     "end_time": "2021-03-17T20:19:31.640233Z",
     "start_time": "2021-03-17T20:19:31.630669Z"
    }
   },
   "outputs": [],
   "source": [
    "from sklearn.model_selection import RepeatedStratifiedKFold \n",
    "from sklearn.svm import SVC\n",
    "from sklearn.model_selection import GridSearchCV\n",
    "from sklearn.metrics import accuracy_score\n",
    "from sklearn.metrics import confusion_matrix, plot_confusion_matrix\n",
    "\n",
    "\n",
    "parameters = [10**x for x in np.arange(-1,3,0.1)]\n",
    "\n",
    "def SVM_Fit(train_x, train_y, kernel,\n",
    "            params = [10**x for x in np.arange(-1,3,.1)]): \n",
    "    '''Fit the SVM Machine given the kernel type, parameters, \n",
    "    data''' \n",
    "    \n",
    "    if kernel == 'linear': \n",
    "        parameters = {'C': params} \n",
    "    else: \n",
    "        parameters = {'C': params, \n",
    "                     'gamma': params} \n",
    "    \n",
    "    cv = RepeatedStratifiedKFold(n_splits = 5, \n",
    "                                n_repeats = 5) \n",
    "    \n",
    "    model = GridSearchCV(estimator = SVC(kernel = kernel), \n",
    "                        param_grid = parameters, \n",
    "                        cv = 2, \n",
    "                        verbose = 1) \n",
    "    \n",
    "    model.fit(x, y) \n",
    "    return(model) \n",
    "\n",
    "\n",
    "def Predict(fitted_model, test_x, test_y, name):\n",
    "    prediction = fitted_model.predict(test_x) \n",
    "    score = accuracy_score(prediction, test_y) \n",
    "    prediction = pd.DataFrame({'prediction_{}'.format(name): prediction})\n",
    "    return prediction, score"
   ]
  },
  {
   "cell_type": "code",
   "execution_count": 25,
   "id": "psychological-entrance",
   "metadata": {
    "ExecuteTime": {
     "end_time": "2021-03-17T20:19:33.072014Z",
     "start_time": "2021-03-17T20:19:33.066194Z"
    }
   },
   "outputs": [
    {
     "name": "stdout",
     "output_type": "stream",
     "text": [
      "0.6052631578947368\n"
     ]
    }
   ],
   "source": [
    "#sigmoid = SVM_Fit(train_x, train_y,'sigmoid') \n",
    "sig_predict, sig_score = Predict(sigmoid, test_x, \n",
    "                                 test_y, 'sigmoid')  \n",
    "print(sig_score) "
   ]
  },
  {
   "cell_type": "code",
   "execution_count": 26,
   "id": "powered-division",
   "metadata": {
    "ExecuteTime": {
     "end_time": "2021-03-17T20:19:34.520653Z",
     "start_time": "2021-03-17T20:19:34.514297Z"
    }
   },
   "outputs": [
    {
     "name": "stdout",
     "output_type": "stream",
     "text": [
      "0.8157894736842105\n"
     ]
    }
   ],
   "source": [
    "#rbf = SVM_Fit(train_x, train_y,'rbf') \n",
    "rbf_predict, rbf_score = Predict(rbf, test_x, \n",
    "                                 test_y, 'rbf') \n",
    "print(rbf_score) "
   ]
  },
  {
   "cell_type": "code",
   "execution_count": 27,
   "id": "brave-assistant",
   "metadata": {
    "ExecuteTime": {
     "end_time": "2021-03-17T20:19:35.974932Z",
     "start_time": "2021-03-17T20:19:35.970263Z"
    }
   },
   "outputs": [
    {
     "name": "stdout",
     "output_type": "stream",
     "text": [
      "0.7368421052631579\n"
     ]
    }
   ],
   "source": [
    "#linear = SVM_Fit(train_x, train_y,'linear')\n",
    "#linear = SVC(kernel = 'linear').fit(train_x, train_y)\n",
    "lin_predict, lin_score = Predict(linear, test_x, \n",
    "                                 test_y, 'linear') \n",
    "print(lin_score) "
   ]
  },
  {
   "cell_type": "code",
   "execution_count": 28,
   "id": "prerequisite-actress",
   "metadata": {
    "ExecuteTime": {
     "end_time": "2021-03-17T20:19:37.517074Z",
     "start_time": "2021-03-17T20:19:37.511538Z"
    }
   },
   "outputs": [
    {
     "name": "stdout",
     "output_type": "stream",
     "text": [
      "0.7631578947368421\n"
     ]
    }
   ],
   "source": [
    "#poly = SVM_Fit(train_x, train_y,'poly') \n",
    "#poly = SVC(kernel = 'poly').fit(train_x, train_y)\n",
    "poly_predict, poly_score = Predict(poly, test_x, \n",
    "                                   test_y, 'poly')  \n",
    "print(poly_score) \n",
    "\n",
    "## Plot the Accuracies \n",
    "fig = go.Figure() \n",
    "fig.add_trace(go.Histogram(x = [lin_score, poly_score, \n",
    "                           rbf_score, sig_score]))"
   ]
  },
  {
   "cell_type": "markdown",
   "id": "corresponding-radio",
   "metadata": {},
   "source": [
    "## Random Forest Classifier"
   ]
  },
  {
   "cell_type": "code",
   "execution_count": 54,
   "id": "appointed-mileage",
   "metadata": {
    "ExecuteTime": {
     "end_time": "2021-03-17T20:47:20.736728Z",
     "start_time": "2021-03-17T20:45:55.518944Z"
    }
   },
   "outputs": [
    {
     "name": "stdout",
     "output_type": "stream",
     "text": [
      "Fitting 2 folds for each of 100 candidates, totalling 200 fits\n"
     ]
    }
   ],
   "source": [
    "## Random Forests \n",
    "from sklearn.ensemble import RandomForestClassifier\n",
    "from sklearn.model_selection import RandomizedSearchCV\n",
    "\n",
    "rf = RandomForestClassifier(random_state = 200) \n",
    "rf.get_params()\n",
    "\n",
    "\n",
    "# Number of trees in random forest\n",
    "n_estimators = [int(x) for x in np.linspace(start = 200, stop = 2000, num = 10)]\n",
    "# Number of features to consider at every split\n",
    "max_features = ['auto', 'sqrt']\n",
    "# Maximum number of levels in tree\n",
    "max_depth = [int(x) for x in np.linspace(10, 110, num = 11)]\n",
    "max_depth.append(None)\n",
    "# Minimum number of samples required to split a node\n",
    "min_samples_split = [2, 5, 10]\n",
    "# Minimum number of samples required at each leaf node\n",
    "min_samples_leaf = [1, 2, 4]\n",
    "# Method of selecting samples for training each tree\n",
    "bootstrap = [True, False]\n",
    "# Create the random grid\n",
    "random_grid = {'n_estimators': n_estimators,\n",
    "               'max_features': max_features,\n",
    "               'max_depth': max_depth,\n",
    "               'min_samples_split': min_samples_split,\n",
    "               'min_samples_leaf': min_samples_leaf,\n",
    "               'bootstrap': bootstrap}\n",
    "\n",
    "\n",
    "rf_random = RandomizedSearchCV(estimator = rf, \n",
    "                              param_distributions = random_grid, \n",
    "                              n_iter = 100, cv = 2, verbose = 2, \n",
    "                              random_state = 200, n_jobs = -1)\n",
    "rf_random.fit(train_x, train_y) \n",
    "random_predict, random_score = Predict(rf_random, test_x, test_y, \n",
    "                                      'Random Forest') "
   ]
  },
  {
   "cell_type": "markdown",
   "id": "racial-kansas",
   "metadata": {
    "ExecuteTime": {
     "end_time": "2021-03-17T20:37:45.025135Z",
     "start_time": "2021-03-17T20:37:45.019154Z"
    }
   },
   "source": [
    "## Plot Accuracy"
   ]
  },
  {
   "cell_type": "code",
   "execution_count": 60,
   "id": "published-block",
   "metadata": {
    "ExecuteTime": {
     "end_time": "2021-03-17T20:51:57.250315Z",
     "start_time": "2021-03-17T20:51:57.195751Z"
    }
   },
   "outputs": [
    {
     "data": {
      "application/vnd.plotly.v1+json": {
       "config": {
        "plotlyServerURL": "https://plot.ly"
       },
       "data": [
        {
         "type": "bar",
         "x": [
          "Sigmoid SVC",
          "Radial SVC",
          "Linear SVC",
          "Polynomial SVC",
          "Random Forests"
         ],
         "y": [
          0.6052631578947368,
          0.8157894736842105,
          0.7368421052631579,
          0.7631578947368421,
          0.7631578947368421
         ]
        }
       ],
       "layout": {
        "template": {
         "data": {
          "bar": [
           {
            "error_x": {
             "color": "#2a3f5f"
            },
            "error_y": {
             "color": "#2a3f5f"
            },
            "marker": {
             "line": {
              "color": "#E5ECF6",
              "width": 0.5
             }
            },
            "type": "bar"
           }
          ],
          "barpolar": [
           {
            "marker": {
             "line": {
              "color": "#E5ECF6",
              "width": 0.5
             }
            },
            "type": "barpolar"
           }
          ],
          "carpet": [
           {
            "aaxis": {
             "endlinecolor": "#2a3f5f",
             "gridcolor": "white",
             "linecolor": "white",
             "minorgridcolor": "white",
             "startlinecolor": "#2a3f5f"
            },
            "baxis": {
             "endlinecolor": "#2a3f5f",
             "gridcolor": "white",
             "linecolor": "white",
             "minorgridcolor": "white",
             "startlinecolor": "#2a3f5f"
            },
            "type": "carpet"
           }
          ],
          "choropleth": [
           {
            "colorbar": {
             "outlinewidth": 0,
             "ticks": ""
            },
            "type": "choropleth"
           }
          ],
          "contour": [
           {
            "colorbar": {
             "outlinewidth": 0,
             "ticks": ""
            },
            "colorscale": [
             [
              0,
              "#0d0887"
             ],
             [
              0.1111111111111111,
              "#46039f"
             ],
             [
              0.2222222222222222,
              "#7201a8"
             ],
             [
              0.3333333333333333,
              "#9c179e"
             ],
             [
              0.4444444444444444,
              "#bd3786"
             ],
             [
              0.5555555555555556,
              "#d8576b"
             ],
             [
              0.6666666666666666,
              "#ed7953"
             ],
             [
              0.7777777777777778,
              "#fb9f3a"
             ],
             [
              0.8888888888888888,
              "#fdca26"
             ],
             [
              1,
              "#f0f921"
             ]
            ],
            "type": "contour"
           }
          ],
          "contourcarpet": [
           {
            "colorbar": {
             "outlinewidth": 0,
             "ticks": ""
            },
            "type": "contourcarpet"
           }
          ],
          "heatmap": [
           {
            "colorbar": {
             "outlinewidth": 0,
             "ticks": ""
            },
            "colorscale": [
             [
              0,
              "#0d0887"
             ],
             [
              0.1111111111111111,
              "#46039f"
             ],
             [
              0.2222222222222222,
              "#7201a8"
             ],
             [
              0.3333333333333333,
              "#9c179e"
             ],
             [
              0.4444444444444444,
              "#bd3786"
             ],
             [
              0.5555555555555556,
              "#d8576b"
             ],
             [
              0.6666666666666666,
              "#ed7953"
             ],
             [
              0.7777777777777778,
              "#fb9f3a"
             ],
             [
              0.8888888888888888,
              "#fdca26"
             ],
             [
              1,
              "#f0f921"
             ]
            ],
            "type": "heatmap"
           }
          ],
          "heatmapgl": [
           {
            "colorbar": {
             "outlinewidth": 0,
             "ticks": ""
            },
            "colorscale": [
             [
              0,
              "#0d0887"
             ],
             [
              0.1111111111111111,
              "#46039f"
             ],
             [
              0.2222222222222222,
              "#7201a8"
             ],
             [
              0.3333333333333333,
              "#9c179e"
             ],
             [
              0.4444444444444444,
              "#bd3786"
             ],
             [
              0.5555555555555556,
              "#d8576b"
             ],
             [
              0.6666666666666666,
              "#ed7953"
             ],
             [
              0.7777777777777778,
              "#fb9f3a"
             ],
             [
              0.8888888888888888,
              "#fdca26"
             ],
             [
              1,
              "#f0f921"
             ]
            ],
            "type": "heatmapgl"
           }
          ],
          "histogram": [
           {
            "marker": {
             "colorbar": {
              "outlinewidth": 0,
              "ticks": ""
             }
            },
            "type": "histogram"
           }
          ],
          "histogram2d": [
           {
            "colorbar": {
             "outlinewidth": 0,
             "ticks": ""
            },
            "colorscale": [
             [
              0,
              "#0d0887"
             ],
             [
              0.1111111111111111,
              "#46039f"
             ],
             [
              0.2222222222222222,
              "#7201a8"
             ],
             [
              0.3333333333333333,
              "#9c179e"
             ],
             [
              0.4444444444444444,
              "#bd3786"
             ],
             [
              0.5555555555555556,
              "#d8576b"
             ],
             [
              0.6666666666666666,
              "#ed7953"
             ],
             [
              0.7777777777777778,
              "#fb9f3a"
             ],
             [
              0.8888888888888888,
              "#fdca26"
             ],
             [
              1,
              "#f0f921"
             ]
            ],
            "type": "histogram2d"
           }
          ],
          "histogram2dcontour": [
           {
            "colorbar": {
             "outlinewidth": 0,
             "ticks": ""
            },
            "colorscale": [
             [
              0,
              "#0d0887"
             ],
             [
              0.1111111111111111,
              "#46039f"
             ],
             [
              0.2222222222222222,
              "#7201a8"
             ],
             [
              0.3333333333333333,
              "#9c179e"
             ],
             [
              0.4444444444444444,
              "#bd3786"
             ],
             [
              0.5555555555555556,
              "#d8576b"
             ],
             [
              0.6666666666666666,
              "#ed7953"
             ],
             [
              0.7777777777777778,
              "#fb9f3a"
             ],
             [
              0.8888888888888888,
              "#fdca26"
             ],
             [
              1,
              "#f0f921"
             ]
            ],
            "type": "histogram2dcontour"
           }
          ],
          "mesh3d": [
           {
            "colorbar": {
             "outlinewidth": 0,
             "ticks": ""
            },
            "type": "mesh3d"
           }
          ],
          "parcoords": [
           {
            "line": {
             "colorbar": {
              "outlinewidth": 0,
              "ticks": ""
             }
            },
            "type": "parcoords"
           }
          ],
          "pie": [
           {
            "automargin": true,
            "type": "pie"
           }
          ],
          "scatter": [
           {
            "marker": {
             "colorbar": {
              "outlinewidth": 0,
              "ticks": ""
             }
            },
            "type": "scatter"
           }
          ],
          "scatter3d": [
           {
            "line": {
             "colorbar": {
              "outlinewidth": 0,
              "ticks": ""
             }
            },
            "marker": {
             "colorbar": {
              "outlinewidth": 0,
              "ticks": ""
             }
            },
            "type": "scatter3d"
           }
          ],
          "scattercarpet": [
           {
            "marker": {
             "colorbar": {
              "outlinewidth": 0,
              "ticks": ""
             }
            },
            "type": "scattercarpet"
           }
          ],
          "scattergeo": [
           {
            "marker": {
             "colorbar": {
              "outlinewidth": 0,
              "ticks": ""
             }
            },
            "type": "scattergeo"
           }
          ],
          "scattergl": [
           {
            "marker": {
             "colorbar": {
              "outlinewidth": 0,
              "ticks": ""
             }
            },
            "type": "scattergl"
           }
          ],
          "scattermapbox": [
           {
            "marker": {
             "colorbar": {
              "outlinewidth": 0,
              "ticks": ""
             }
            },
            "type": "scattermapbox"
           }
          ],
          "scatterpolar": [
           {
            "marker": {
             "colorbar": {
              "outlinewidth": 0,
              "ticks": ""
             }
            },
            "type": "scatterpolar"
           }
          ],
          "scatterpolargl": [
           {
            "marker": {
             "colorbar": {
              "outlinewidth": 0,
              "ticks": ""
             }
            },
            "type": "scatterpolargl"
           }
          ],
          "scatterternary": [
           {
            "marker": {
             "colorbar": {
              "outlinewidth": 0,
              "ticks": ""
             }
            },
            "type": "scatterternary"
           }
          ],
          "surface": [
           {
            "colorbar": {
             "outlinewidth": 0,
             "ticks": ""
            },
            "colorscale": [
             [
              0,
              "#0d0887"
             ],
             [
              0.1111111111111111,
              "#46039f"
             ],
             [
              0.2222222222222222,
              "#7201a8"
             ],
             [
              0.3333333333333333,
              "#9c179e"
             ],
             [
              0.4444444444444444,
              "#bd3786"
             ],
             [
              0.5555555555555556,
              "#d8576b"
             ],
             [
              0.6666666666666666,
              "#ed7953"
             ],
             [
              0.7777777777777778,
              "#fb9f3a"
             ],
             [
              0.8888888888888888,
              "#fdca26"
             ],
             [
              1,
              "#f0f921"
             ]
            ],
            "type": "surface"
           }
          ],
          "table": [
           {
            "cells": {
             "fill": {
              "color": "#EBF0F8"
             },
             "line": {
              "color": "white"
             }
            },
            "header": {
             "fill": {
              "color": "#C8D4E3"
             },
             "line": {
              "color": "white"
             }
            },
            "type": "table"
           }
          ]
         },
         "layout": {
          "annotationdefaults": {
           "arrowcolor": "#2a3f5f",
           "arrowhead": 0,
           "arrowwidth": 1
          },
          "autotypenumbers": "strict",
          "coloraxis": {
           "colorbar": {
            "outlinewidth": 0,
            "ticks": ""
           }
          },
          "colorscale": {
           "diverging": [
            [
             0,
             "#8e0152"
            ],
            [
             0.1,
             "#c51b7d"
            ],
            [
             0.2,
             "#de77ae"
            ],
            [
             0.3,
             "#f1b6da"
            ],
            [
             0.4,
             "#fde0ef"
            ],
            [
             0.5,
             "#f7f7f7"
            ],
            [
             0.6,
             "#e6f5d0"
            ],
            [
             0.7,
             "#b8e186"
            ],
            [
             0.8,
             "#7fbc41"
            ],
            [
             0.9,
             "#4d9221"
            ],
            [
             1,
             "#276419"
            ]
           ],
           "sequential": [
            [
             0,
             "#0d0887"
            ],
            [
             0.1111111111111111,
             "#46039f"
            ],
            [
             0.2222222222222222,
             "#7201a8"
            ],
            [
             0.3333333333333333,
             "#9c179e"
            ],
            [
             0.4444444444444444,
             "#bd3786"
            ],
            [
             0.5555555555555556,
             "#d8576b"
            ],
            [
             0.6666666666666666,
             "#ed7953"
            ],
            [
             0.7777777777777778,
             "#fb9f3a"
            ],
            [
             0.8888888888888888,
             "#fdca26"
            ],
            [
             1,
             "#f0f921"
            ]
           ],
           "sequentialminus": [
            [
             0,
             "#0d0887"
            ],
            [
             0.1111111111111111,
             "#46039f"
            ],
            [
             0.2222222222222222,
             "#7201a8"
            ],
            [
             0.3333333333333333,
             "#9c179e"
            ],
            [
             0.4444444444444444,
             "#bd3786"
            ],
            [
             0.5555555555555556,
             "#d8576b"
            ],
            [
             0.6666666666666666,
             "#ed7953"
            ],
            [
             0.7777777777777778,
             "#fb9f3a"
            ],
            [
             0.8888888888888888,
             "#fdca26"
            ],
            [
             1,
             "#f0f921"
            ]
           ]
          },
          "colorway": [
           "#636efa",
           "#EF553B",
           "#00cc96",
           "#ab63fa",
           "#FFA15A",
           "#19d3f3",
           "#FF6692",
           "#B6E880",
           "#FF97FF",
           "#FECB52"
          ],
          "font": {
           "color": "#2a3f5f"
          },
          "geo": {
           "bgcolor": "white",
           "lakecolor": "white",
           "landcolor": "#E5ECF6",
           "showlakes": true,
           "showland": true,
           "subunitcolor": "white"
          },
          "hoverlabel": {
           "align": "left"
          },
          "hovermode": "closest",
          "mapbox": {
           "style": "light"
          },
          "paper_bgcolor": "white",
          "plot_bgcolor": "#E5ECF6",
          "polar": {
           "angularaxis": {
            "gridcolor": "white",
            "linecolor": "white",
            "ticks": ""
           },
           "bgcolor": "#E5ECF6",
           "radialaxis": {
            "gridcolor": "white",
            "linecolor": "white",
            "ticks": ""
           }
          },
          "scene": {
           "xaxis": {
            "backgroundcolor": "#E5ECF6",
            "gridcolor": "white",
            "gridwidth": 2,
            "linecolor": "white",
            "showbackground": true,
            "ticks": "",
            "zerolinecolor": "white"
           },
           "yaxis": {
            "backgroundcolor": "#E5ECF6",
            "gridcolor": "white",
            "gridwidth": 2,
            "linecolor": "white",
            "showbackground": true,
            "ticks": "",
            "zerolinecolor": "white"
           },
           "zaxis": {
            "backgroundcolor": "#E5ECF6",
            "gridcolor": "white",
            "gridwidth": 2,
            "linecolor": "white",
            "showbackground": true,
            "ticks": "",
            "zerolinecolor": "white"
           }
          },
          "shapedefaults": {
           "line": {
            "color": "#2a3f5f"
           }
          },
          "ternary": {
           "aaxis": {
            "gridcolor": "white",
            "linecolor": "white",
            "ticks": ""
           },
           "baxis": {
            "gridcolor": "white",
            "linecolor": "white",
            "ticks": ""
           },
           "bgcolor": "#E5ECF6",
           "caxis": {
            "gridcolor": "white",
            "linecolor": "white",
            "ticks": ""
           }
          },
          "title": {
           "x": 0.05
          },
          "xaxis": {
           "automargin": true,
           "gridcolor": "white",
           "linecolor": "white",
           "ticks": "",
           "title": {
            "standoff": 15
           },
           "zerolinecolor": "white",
           "zerolinewidth": 2
          },
          "yaxis": {
           "automargin": true,
           "gridcolor": "white",
           "linecolor": "white",
           "ticks": "",
           "title": {
            "standoff": 15
           },
           "zerolinecolor": "white",
           "zerolinewidth": 2
          }
         }
        },
        "title": {
         "text": "Model Accuracy Scores"
        },
        "xaxis": {
         "title": {
          "text": "Model"
         }
        },
        "yaxis": {
         "title": {
          "text": "Accuracy Score"
         }
        }
       }
      },
      "text/html": [
       "<div>                            <div id=\"23f86e55-a458-44ee-8ec0-57289b33d74b\" class=\"plotly-graph-div\" style=\"height:525px; width:100%;\"></div>            <script type=\"text/javascript\">                require([\"plotly\"], function(Plotly) {                    window.PLOTLYENV=window.PLOTLYENV || {};                                    if (document.getElementById(\"23f86e55-a458-44ee-8ec0-57289b33d74b\")) {                    Plotly.newPlot(                        \"23f86e55-a458-44ee-8ec0-57289b33d74b\",                        [{\"type\": \"bar\", \"x\": [\"Sigmoid SVC\", \"Radial SVC\", \"Linear SVC\", \"Polynomial SVC\", \"Random Forests\"], \"y\": [0.6052631578947368, 0.8157894736842105, 0.7368421052631579, 0.7631578947368421, 0.7631578947368421]}],                        {\"template\": {\"data\": {\"bar\": [{\"error_x\": {\"color\": \"#2a3f5f\"}, \"error_y\": {\"color\": \"#2a3f5f\"}, \"marker\": {\"line\": {\"color\": \"#E5ECF6\", \"width\": 0.5}}, \"type\": \"bar\"}], \"barpolar\": [{\"marker\": {\"line\": {\"color\": \"#E5ECF6\", \"width\": 0.5}}, \"type\": \"barpolar\"}], \"carpet\": [{\"aaxis\": {\"endlinecolor\": \"#2a3f5f\", \"gridcolor\": \"white\", \"linecolor\": \"white\", \"minorgridcolor\": \"white\", \"startlinecolor\": \"#2a3f5f\"}, \"baxis\": {\"endlinecolor\": \"#2a3f5f\", \"gridcolor\": \"white\", \"linecolor\": \"white\", \"minorgridcolor\": \"white\", \"startlinecolor\": \"#2a3f5f\"}, \"type\": \"carpet\"}], \"choropleth\": [{\"colorbar\": {\"outlinewidth\": 0, \"ticks\": \"\"}, \"type\": \"choropleth\"}], \"contour\": [{\"colorbar\": {\"outlinewidth\": 0, \"ticks\": \"\"}, \"colorscale\": [[0.0, \"#0d0887\"], [0.1111111111111111, \"#46039f\"], [0.2222222222222222, \"#7201a8\"], [0.3333333333333333, \"#9c179e\"], [0.4444444444444444, \"#bd3786\"], [0.5555555555555556, \"#d8576b\"], [0.6666666666666666, \"#ed7953\"], [0.7777777777777778, \"#fb9f3a\"], [0.8888888888888888, \"#fdca26\"], [1.0, \"#f0f921\"]], \"type\": \"contour\"}], \"contourcarpet\": [{\"colorbar\": {\"outlinewidth\": 0, \"ticks\": \"\"}, \"type\": \"contourcarpet\"}], \"heatmap\": [{\"colorbar\": {\"outlinewidth\": 0, \"ticks\": \"\"}, \"colorscale\": [[0.0, \"#0d0887\"], [0.1111111111111111, \"#46039f\"], [0.2222222222222222, \"#7201a8\"], [0.3333333333333333, \"#9c179e\"], [0.4444444444444444, \"#bd3786\"], [0.5555555555555556, \"#d8576b\"], [0.6666666666666666, \"#ed7953\"], [0.7777777777777778, \"#fb9f3a\"], [0.8888888888888888, \"#fdca26\"], [1.0, \"#f0f921\"]], \"type\": \"heatmap\"}], \"heatmapgl\": [{\"colorbar\": {\"outlinewidth\": 0, \"ticks\": \"\"}, \"colorscale\": [[0.0, \"#0d0887\"], [0.1111111111111111, \"#46039f\"], [0.2222222222222222, \"#7201a8\"], [0.3333333333333333, \"#9c179e\"], [0.4444444444444444, \"#bd3786\"], [0.5555555555555556, \"#d8576b\"], [0.6666666666666666, \"#ed7953\"], [0.7777777777777778, \"#fb9f3a\"], [0.8888888888888888, \"#fdca26\"], [1.0, \"#f0f921\"]], \"type\": \"heatmapgl\"}], \"histogram\": [{\"marker\": {\"colorbar\": {\"outlinewidth\": 0, \"ticks\": \"\"}}, \"type\": \"histogram\"}], \"histogram2d\": [{\"colorbar\": {\"outlinewidth\": 0, \"ticks\": \"\"}, \"colorscale\": [[0.0, \"#0d0887\"], [0.1111111111111111, \"#46039f\"], [0.2222222222222222, \"#7201a8\"], [0.3333333333333333, \"#9c179e\"], [0.4444444444444444, \"#bd3786\"], [0.5555555555555556, \"#d8576b\"], [0.6666666666666666, \"#ed7953\"], [0.7777777777777778, \"#fb9f3a\"], [0.8888888888888888, \"#fdca26\"], [1.0, \"#f0f921\"]], \"type\": \"histogram2d\"}], \"histogram2dcontour\": [{\"colorbar\": {\"outlinewidth\": 0, \"ticks\": \"\"}, \"colorscale\": [[0.0, \"#0d0887\"], [0.1111111111111111, \"#46039f\"], [0.2222222222222222, \"#7201a8\"], [0.3333333333333333, \"#9c179e\"], [0.4444444444444444, \"#bd3786\"], [0.5555555555555556, \"#d8576b\"], [0.6666666666666666, \"#ed7953\"], [0.7777777777777778, \"#fb9f3a\"], [0.8888888888888888, \"#fdca26\"], [1.0, \"#f0f921\"]], \"type\": \"histogram2dcontour\"}], \"mesh3d\": [{\"colorbar\": {\"outlinewidth\": 0, \"ticks\": \"\"}, \"type\": \"mesh3d\"}], \"parcoords\": [{\"line\": {\"colorbar\": {\"outlinewidth\": 0, \"ticks\": \"\"}}, \"type\": \"parcoords\"}], \"pie\": [{\"automargin\": true, \"type\": \"pie\"}], \"scatter\": [{\"marker\": {\"colorbar\": {\"outlinewidth\": 0, \"ticks\": \"\"}}, \"type\": \"scatter\"}], \"scatter3d\": [{\"line\": {\"colorbar\": {\"outlinewidth\": 0, \"ticks\": \"\"}}, \"marker\": {\"colorbar\": {\"outlinewidth\": 0, \"ticks\": \"\"}}, \"type\": \"scatter3d\"}], \"scattercarpet\": [{\"marker\": {\"colorbar\": {\"outlinewidth\": 0, \"ticks\": \"\"}}, \"type\": \"scattercarpet\"}], \"scattergeo\": [{\"marker\": {\"colorbar\": {\"outlinewidth\": 0, \"ticks\": \"\"}}, \"type\": \"scattergeo\"}], \"scattergl\": [{\"marker\": {\"colorbar\": {\"outlinewidth\": 0, \"ticks\": \"\"}}, \"type\": \"scattergl\"}], \"scattermapbox\": [{\"marker\": {\"colorbar\": {\"outlinewidth\": 0, \"ticks\": \"\"}}, \"type\": \"scattermapbox\"}], \"scatterpolar\": [{\"marker\": {\"colorbar\": {\"outlinewidth\": 0, \"ticks\": \"\"}}, \"type\": \"scatterpolar\"}], \"scatterpolargl\": [{\"marker\": {\"colorbar\": {\"outlinewidth\": 0, \"ticks\": \"\"}}, \"type\": \"scatterpolargl\"}], \"scatterternary\": [{\"marker\": {\"colorbar\": {\"outlinewidth\": 0, \"ticks\": \"\"}}, \"type\": \"scatterternary\"}], \"surface\": [{\"colorbar\": {\"outlinewidth\": 0, \"ticks\": \"\"}, \"colorscale\": [[0.0, \"#0d0887\"], [0.1111111111111111, \"#46039f\"], [0.2222222222222222, \"#7201a8\"], [0.3333333333333333, \"#9c179e\"], [0.4444444444444444, \"#bd3786\"], [0.5555555555555556, \"#d8576b\"], [0.6666666666666666, \"#ed7953\"], [0.7777777777777778, \"#fb9f3a\"], [0.8888888888888888, \"#fdca26\"], [1.0, \"#f0f921\"]], \"type\": \"surface\"}], \"table\": [{\"cells\": {\"fill\": {\"color\": \"#EBF0F8\"}, \"line\": {\"color\": \"white\"}}, \"header\": {\"fill\": {\"color\": \"#C8D4E3\"}, \"line\": {\"color\": \"white\"}}, \"type\": \"table\"}]}, \"layout\": {\"annotationdefaults\": {\"arrowcolor\": \"#2a3f5f\", \"arrowhead\": 0, \"arrowwidth\": 1}, \"autotypenumbers\": \"strict\", \"coloraxis\": {\"colorbar\": {\"outlinewidth\": 0, \"ticks\": \"\"}}, \"colorscale\": {\"diverging\": [[0, \"#8e0152\"], [0.1, \"#c51b7d\"], [0.2, \"#de77ae\"], [0.3, \"#f1b6da\"], [0.4, \"#fde0ef\"], [0.5, \"#f7f7f7\"], [0.6, \"#e6f5d0\"], [0.7, \"#b8e186\"], [0.8, \"#7fbc41\"], [0.9, \"#4d9221\"], [1, \"#276419\"]], \"sequential\": [[0.0, \"#0d0887\"], [0.1111111111111111, \"#46039f\"], [0.2222222222222222, \"#7201a8\"], [0.3333333333333333, \"#9c179e\"], [0.4444444444444444, \"#bd3786\"], [0.5555555555555556, \"#d8576b\"], [0.6666666666666666, \"#ed7953\"], [0.7777777777777778, \"#fb9f3a\"], [0.8888888888888888, \"#fdca26\"], [1.0, \"#f0f921\"]], \"sequentialminus\": [[0.0, \"#0d0887\"], [0.1111111111111111, \"#46039f\"], [0.2222222222222222, \"#7201a8\"], [0.3333333333333333, \"#9c179e\"], [0.4444444444444444, \"#bd3786\"], [0.5555555555555556, \"#d8576b\"], [0.6666666666666666, \"#ed7953\"], [0.7777777777777778, \"#fb9f3a\"], [0.8888888888888888, \"#fdca26\"], [1.0, \"#f0f921\"]]}, \"colorway\": [\"#636efa\", \"#EF553B\", \"#00cc96\", \"#ab63fa\", \"#FFA15A\", \"#19d3f3\", \"#FF6692\", \"#B6E880\", \"#FF97FF\", \"#FECB52\"], \"font\": {\"color\": \"#2a3f5f\"}, \"geo\": {\"bgcolor\": \"white\", \"lakecolor\": \"white\", \"landcolor\": \"#E5ECF6\", \"showlakes\": true, \"showland\": true, \"subunitcolor\": \"white\"}, \"hoverlabel\": {\"align\": \"left\"}, \"hovermode\": \"closest\", \"mapbox\": {\"style\": \"light\"}, \"paper_bgcolor\": \"white\", \"plot_bgcolor\": \"#E5ECF6\", \"polar\": {\"angularaxis\": {\"gridcolor\": \"white\", \"linecolor\": \"white\", \"ticks\": \"\"}, \"bgcolor\": \"#E5ECF6\", \"radialaxis\": {\"gridcolor\": \"white\", \"linecolor\": \"white\", \"ticks\": \"\"}}, \"scene\": {\"xaxis\": {\"backgroundcolor\": \"#E5ECF6\", \"gridcolor\": \"white\", \"gridwidth\": 2, \"linecolor\": \"white\", \"showbackground\": true, \"ticks\": \"\", \"zerolinecolor\": \"white\"}, \"yaxis\": {\"backgroundcolor\": \"#E5ECF6\", \"gridcolor\": \"white\", \"gridwidth\": 2, \"linecolor\": \"white\", \"showbackground\": true, \"ticks\": \"\", \"zerolinecolor\": \"white\"}, \"zaxis\": {\"backgroundcolor\": \"#E5ECF6\", \"gridcolor\": \"white\", \"gridwidth\": 2, \"linecolor\": \"white\", \"showbackground\": true, \"ticks\": \"\", \"zerolinecolor\": \"white\"}}, \"shapedefaults\": {\"line\": {\"color\": \"#2a3f5f\"}}, \"ternary\": {\"aaxis\": {\"gridcolor\": \"white\", \"linecolor\": \"white\", \"ticks\": \"\"}, \"baxis\": {\"gridcolor\": \"white\", \"linecolor\": \"white\", \"ticks\": \"\"}, \"bgcolor\": \"#E5ECF6\", \"caxis\": {\"gridcolor\": \"white\", \"linecolor\": \"white\", \"ticks\": \"\"}}, \"title\": {\"x\": 0.05}, \"xaxis\": {\"automargin\": true, \"gridcolor\": \"white\", \"linecolor\": \"white\", \"ticks\": \"\", \"title\": {\"standoff\": 15}, \"zerolinecolor\": \"white\", \"zerolinewidth\": 2}, \"yaxis\": {\"automargin\": true, \"gridcolor\": \"white\", \"linecolor\": \"white\", \"ticks\": \"\", \"title\": {\"standoff\": 15}, \"zerolinecolor\": \"white\", \"zerolinewidth\": 2}}}, \"title\": {\"text\": \"Model Accuracy Scores\"}, \"xaxis\": {\"title\": {\"text\": \"Model\"}}, \"yaxis\": {\"title\": {\"text\": \"Accuracy Score\"}}},                        {\"responsive\": true}                    ).then(function(){\n",
       "                            \n",
       "var gd = document.getElementById('23f86e55-a458-44ee-8ec0-57289b33d74b');\n",
       "var x = new MutationObserver(function (mutations, observer) {{\n",
       "        var display = window.getComputedStyle(gd).display;\n",
       "        if (!display || display === 'none') {{\n",
       "            console.log([gd, 'removed!']);\n",
       "            Plotly.purge(gd);\n",
       "            observer.disconnect();\n",
       "        }}\n",
       "}});\n",
       "\n",
       "// Listen for the removal of the full notebook cells\n",
       "var notebookContainer = gd.closest('#notebook-container');\n",
       "if (notebookContainer) {{\n",
       "    x.observe(notebookContainer, {childList: true});\n",
       "}}\n",
       "\n",
       "// Listen for the clearing of the current output cell\n",
       "var outputEl = gd.closest('.output');\n",
       "if (outputEl) {{\n",
       "    x.observe(outputEl, {childList: true});\n",
       "}}\n",
       "\n",
       "                        })                };                });            </script>        </div>"
      ]
     },
     "metadata": {},
     "output_type": "display_data"
    }
   ],
   "source": [
    "fig = go.Figure() \n",
    "model_names = ['Sigmoid SVC', 'Radial SVC', 'Linear SVC', 'Polynomial SVC',\n",
    " 'Random Forests']\n",
    "\n",
    "model_accuracy = [sig_score, rbf_score, lin_score, poly_score, random_score]\n",
    "\n",
    "fig.add_trace(go.Bar(x = model_names, \n",
    "                    y = model_accuracy))\n",
    "fig.update_layout(title = 'Model Accuracy Scores')\n",
    "\n",
    "fig.update_yaxes(title_text = 'Accuracy Score') \n",
    "fig.update_xaxes(title_text = \"Model\")\n",
    "fig.show() "
   ]
  },
  {
   "cell_type": "code",
   "execution_count": null,
   "id": "serious-description",
   "metadata": {},
   "outputs": [],
   "source": []
  }
 ],
 "metadata": {
  "hide_input": false,
  "kernelspec": {
   "display_name": "Python 3",
   "language": "python",
   "name": "python3"
  },
  "language_info": {
   "codemirror_mode": {
    "name": "ipython",
    "version": 3
   },
   "file_extension": ".py",
   "mimetype": "text/x-python",
   "name": "python",
   "nbconvert_exporter": "python",
   "pygments_lexer": "ipython3",
   "version": "3.8.2"
  },
  "latex_envs": {
   "LaTeX_envs_menu_present": true,
   "autoclose": false,
   "autocomplete": true,
   "bibliofile": "biblio.bib",
   "cite_by": "apalike",
   "current_citInitial": 1,
   "eqLabelWithNumbers": true,
   "eqNumInitial": 1,
   "hotkeys": {
    "equation": "Ctrl-E",
    "itemize": "Ctrl-I"
   },
   "labels_anchors": false,
   "latex_user_defs": false,
   "report_style_numbering": false,
   "user_envs_cfg": false
  },
  "toc": {
   "base_numbering": 1,
   "nav_menu": {},
   "number_sections": true,
   "sideBar": true,
   "skip_h1_title": true,
   "title_cell": "Table of Contents",
   "title_sidebar": "Contents",
   "toc_cell": true,
   "toc_position": {
    "height": "calc(100% - 180px)",
    "left": "10px",
    "top": "150px",
    "width": "191px"
   },
   "toc_section_display": true,
   "toc_window_display": true
  },
  "varInspector": {
   "cols": {
    "lenName": 16,
    "lenType": 16,
    "lenVar": 40
   },
   "kernels_config": {
    "python": {
     "delete_cmd_postfix": "",
     "delete_cmd_prefix": "del ",
     "library": "var_list.py",
     "varRefreshCmd": "print(var_dic_list())"
    },
    "r": {
     "delete_cmd_postfix": ") ",
     "delete_cmd_prefix": "rm(",
     "library": "var_list.r",
     "varRefreshCmd": "cat(var_dic_list()) "
    }
   },
   "types_to_exclude": [
    "module",
    "function",
    "builtin_function_or_method",
    "instance",
    "_Feature"
   ],
   "window_display": false
  }
 },
 "nbformat": 4,
 "nbformat_minor": 5
}
