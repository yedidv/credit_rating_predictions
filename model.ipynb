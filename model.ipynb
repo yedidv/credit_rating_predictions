{
 "cells": [
  {
   "cell_type": "markdown",
   "id": "variable-three",
   "metadata": {
    "toc": true
   },
   "source": [
    "<h1>Table of Contents<span class=\"tocSkip\"></span></h1>\n",
    "<div class=\"toc\"><ul class=\"toc-item\"><li><span><a href=\"#Read-in-Data\" data-toc-modified-id=\"Read-in-Data-1\"><span class=\"toc-item-num\">1&nbsp;&nbsp;</span>Read in Data</a></span><ul class=\"toc-item\"><li><span><a href=\"#Read-in-excel-files-combining-ticker-symbols-with-the-IQID\" data-toc-modified-id=\"Read-in-excel-files-combining-ticker-symbols-with-the-IQID-1.1\"><span class=\"toc-item-num\">1.1&nbsp;&nbsp;</span>Read in excel files combining ticker symbols with the IQID</a></span></li><li><span><a href=\"#Read-in-independent-variables,-join-tickers\" data-toc-modified-id=\"Read-in-independent-variables,-join-tickers-1.2\"><span class=\"toc-item-num\">1.2&nbsp;&nbsp;</span>Read in independent variables, join tickers</a></span></li><li><span><a href=\"#Join-in-the-credit-rating-data\" data-toc-modified-id=\"Join-in-the-credit-rating-data-1.3\"><span class=\"toc-item-num\">1.3&nbsp;&nbsp;</span>Join in the credit rating data</a></span></li></ul></li></ul></div>"
   ]
  },
  {
   "cell_type": "code",
   "execution_count": 1,
   "id": "polar-eight",
   "metadata": {
    "ExecuteTime": {
     "end_time": "2021-03-13T19:39:14.682089Z",
     "start_time": "2021-03-13T19:39:14.333882Z"
    }
   },
   "outputs": [],
   "source": [
    "import pandas as pd \n",
    "import numpy as np \n",
    "import plotly.graph_objects as go \n",
    "from tqdm import tqdm "
   ]
  },
  {
   "cell_type": "markdown",
   "id": "american-fifteen",
   "metadata": {
    "ExecuteTime": {
     "end_time": "2021-03-13T17:30:07.606588Z",
     "start_time": "2021-03-13T17:30:07.540321Z"
    }
   },
   "source": [
    "## Read in Data\n",
    "\n",
    "---\n",
    "### Read in excel files combining ticker symbols with the IQID "
   ]
  },
  {
   "cell_type": "code",
   "execution_count": 2,
   "id": "cathedral-rough",
   "metadata": {
    "ExecuteTime": {
     "end_time": "2021-03-13T19:39:14.940386Z",
     "start_time": "2021-03-13T19:39:14.684647Z"
    }
   },
   "outputs": [
    {
     "name": "stdout",
     "output_type": "stream",
     "text": [
      "0\n",
      "ID         0\n",
      "IQID       0\n",
      "IQ Name    0\n",
      "dtype: int64\n"
     ]
    },
    {
     "data": {
      "text/html": [
       "<div>\n",
       "<style scoped>\n",
       "    .dataframe tbody tr th:only-of-type {\n",
       "        vertical-align: middle;\n",
       "    }\n",
       "\n",
       "    .dataframe tbody tr th {\n",
       "        vertical-align: top;\n",
       "    }\n",
       "\n",
       "    .dataframe thead th {\n",
       "        text-align: right;\n",
       "    }\n",
       "</style>\n",
       "<table border=\"1\" class=\"dataframe\">\n",
       "  <thead>\n",
       "    <tr style=\"text-align: right;\">\n",
       "      <th></th>\n",
       "      <th>ID</th>\n",
       "      <th>IQID</th>\n",
       "      <th>IQ Name</th>\n",
       "    </tr>\n",
       "  </thead>\n",
       "  <tbody>\n",
       "    <tr>\n",
       "      <th>0</th>\n",
       "      <td>MMM</td>\n",
       "      <td>IQ289194</td>\n",
       "      <td>3M Company</td>\n",
       "    </tr>\n",
       "    <tr>\n",
       "      <th>1</th>\n",
       "      <td>ABT</td>\n",
       "      <td>IQ247483</td>\n",
       "      <td>Abbott Laboratories</td>\n",
       "    </tr>\n",
       "    <tr>\n",
       "      <th>2</th>\n",
       "      <td>ABBV</td>\n",
       "      <td>IQ141885706</td>\n",
       "      <td>AbbVie Inc.</td>\n",
       "    </tr>\n",
       "    <tr>\n",
       "      <th>3</th>\n",
       "      <td>ABMD</td>\n",
       "      <td>IQ247589</td>\n",
       "      <td>Abiomed, Inc.</td>\n",
       "    </tr>\n",
       "    <tr>\n",
       "      <th>4</th>\n",
       "      <td>ACN</td>\n",
       "      <td>IQ972190</td>\n",
       "      <td>Accenture plc</td>\n",
       "    </tr>\n",
       "  </tbody>\n",
       "</table>\n",
       "</div>"
      ],
      "text/plain": [
       "     ID         IQID              IQ Name\n",
       "0   MMM     IQ289194           3M Company\n",
       "1   ABT     IQ247483  Abbott Laboratories\n",
       "2  ABBV  IQ141885706          AbbVie Inc.\n",
       "3  ABMD     IQ247589        Abiomed, Inc.\n",
       "4   ACN     IQ972190        Accenture plc"
      ]
     },
     "execution_count": 2,
     "metadata": {},
     "output_type": "execute_result"
    }
   ],
   "source": [
    "ids= pd.DataFrame() \n",
    "## Read in ticker symbols\n",
    "for i in range(1, 6): \n",
    "    df = pd.read_excel('capiq_data/in_process_ids/ids {}.xlsx'.format(i),\n",
    "                       engine='openpyxl')[['ID', 'IQID', 'IQ Name']]\n",
    "    ids = pd.concat([ids, df]) \n",
    "\n",
    "## See if there are any duplicates \n",
    "print(ids.duplicated().sum()) \n",
    "## See if there are any nulls \n",
    "print(ids.isna().sum()) \n",
    "ids.head() "
   ]
  },
  {
   "cell_type": "markdown",
   "id": "authentic-soundtrack",
   "metadata": {},
   "source": [
    "### Read in independent variables, join tickers "
   ]
  },
  {
   "cell_type": "code",
   "execution_count": 3,
   "id": "wireless-patch",
   "metadata": {
    "ExecuteTime": {
     "end_time": "2021-03-13T19:39:14.999229Z",
     "start_time": "2021-03-13T19:39:14.942482Z"
    }
   },
   "outputs": [
    {
     "data": {
      "text/html": [
       "<div>\n",
       "<style scoped>\n",
       "    .dataframe tbody tr th:only-of-type {\n",
       "        vertical-align: middle;\n",
       "    }\n",
       "\n",
       "    .dataframe tbody tr th {\n",
       "        vertical-align: top;\n",
       "    }\n",
       "\n",
       "    .dataframe thead th {\n",
       "        text-align: right;\n",
       "    }\n",
       "</style>\n",
       "<table border=\"1\" class=\"dataframe\">\n",
       "  <thead>\n",
       "    <tr style=\"text-align: right;\">\n",
       "      <th></th>\n",
       "      <th>year</th>\n",
       "      <th>ID</th>\n",
       "      <th>IQ_TOTAL_REV</th>\n",
       "      <th>IQ_NI_CF</th>\n",
       "      <th>IQ_AR</th>\n",
       "      <th>IQ_GP</th>\n",
       "      <th>IQ_TOTAL_ASSETS</th>\n",
       "      <th>IQ_AP</th>\n",
       "      <th>IQ_TOTAL_LIAB</th>\n",
       "      <th>IQ_TOTAL_DEBT</th>\n",
       "      <th>IQ_CASH_FINAN</th>\n",
       "      <th>IQ_TOTAL_EQUITY</th>\n",
       "      <th>IQ_CASH_EQUIV</th>\n",
       "    </tr>\n",
       "  </thead>\n",
       "  <tbody>\n",
       "    <tr>\n",
       "      <th>0</th>\n",
       "      <td>2000</td>\n",
       "      <td>PYPL</td>\n",
       "      <td>4.262073</td>\n",
       "      <td>-44.73064</td>\n",
       "      <td>0.0</td>\n",
       "      <td>-11.11638</td>\n",
       "      <td>77.265667</td>\n",
       "      <td>2.933000</td>\n",
       "      <td>34.536333</td>\n",
       "      <td>0.076667</td>\n",
       "      <td>25.746083</td>\n",
       "      <td>42.729333</td>\n",
       "      <td>36.093333</td>\n",
       "    </tr>\n",
       "    <tr>\n",
       "      <th>1</th>\n",
       "      <td>2001</td>\n",
       "      <td>PYPL</td>\n",
       "      <td>26.078250</td>\n",
       "      <td>-26.95056</td>\n",
       "      <td>0.0</td>\n",
       "      <td>2.38625</td>\n",
       "      <td>198.586997</td>\n",
       "      <td>5.876978</td>\n",
       "      <td>126.882032</td>\n",
       "      <td>1.314882</td>\n",
       "      <td>3.115630</td>\n",
       "      <td>103.751965</td>\n",
       "      <td>101.747015</td>\n",
       "    </tr>\n",
       "    <tr>\n",
       "      <th>2</th>\n",
       "      <td>2002</td>\n",
       "      <td>PYPL</td>\n",
       "      <td>51.266500</td>\n",
       "      <td>0.88000</td>\n",
       "      <td>0.0</td>\n",
       "      <td>16.28150</td>\n",
       "      <td>265.305500</td>\n",
       "      <td>10.945000</td>\n",
       "      <td>107.277000</td>\n",
       "      <td>5.615000</td>\n",
       "      <td>34.556500</td>\n",
       "      <td>158.028500</td>\n",
       "      <td>89.832500</td>\n",
       "    </tr>\n",
       "    <tr>\n",
       "      <th>3</th>\n",
       "      <td>2006</td>\n",
       "      <td>HLT</td>\n",
       "      <td>2219.500000</td>\n",
       "      <td>162.00000</td>\n",
       "      <td>705.0</td>\n",
       "      <td>667.00000</td>\n",
       "      <td>16737.000000</td>\n",
       "      <td>1112.000000</td>\n",
       "      <td>13195.500000</td>\n",
       "      <td>7901.000000</td>\n",
       "      <td>-771.500000</td>\n",
       "      <td>3541.500000</td>\n",
       "      <td>126.000000</td>\n",
       "    </tr>\n",
       "    <tr>\n",
       "      <th>4</th>\n",
       "      <td>2007</td>\n",
       "      <td>HLT</td>\n",
       "      <td>1974.500000</td>\n",
       "      <td>130.00000</td>\n",
       "      <td>690.0</td>\n",
       "      <td>593.50000</td>\n",
       "      <td>16127.500000</td>\n",
       "      <td>1745.000000</td>\n",
       "      <td>12126.500000</td>\n",
       "      <td>6869.500000</td>\n",
       "      <td>-666.000000</td>\n",
       "      <td>4001.000000</td>\n",
       "      <td>149.000000</td>\n",
       "    </tr>\n",
       "  </tbody>\n",
       "</table>\n",
       "</div>"
      ],
      "text/plain": [
       "   year    ID  IQ_TOTAL_REV   IQ_NI_CF  IQ_AR     IQ_GP   IQ_TOTAL_ASSETS  \\\n",
       "0  2000  PYPL      4.262073  -44.73064    0.0  -11.11638        77.265667   \n",
       "1  2001  PYPL     26.078250  -26.95056    0.0    2.38625       198.586997   \n",
       "2  2002  PYPL     51.266500    0.88000    0.0   16.28150       265.305500   \n",
       "3  2006   HLT   2219.500000  162.00000  705.0  667.00000     16737.000000   \n",
       "4  2007   HLT   1974.500000  130.00000  690.0  593.50000     16127.500000   \n",
       "\n",
       "         IQ_AP  IQ_TOTAL_LIAB  IQ_TOTAL_DEBT  IQ_CASH_FINAN  IQ_TOTAL_EQUITY  \\\n",
       "0     2.933000      34.536333       0.076667      25.746083        42.729333   \n",
       "1     5.876978     126.882032       1.314882       3.115630       103.751965   \n",
       "2    10.945000     107.277000       5.615000      34.556500       158.028500   \n",
       "3  1112.000000   13195.500000    7901.000000    -771.500000      3541.500000   \n",
       "4  1745.000000   12126.500000    6869.500000    -666.000000      4001.000000   \n",
       "\n",
       "   IQ_CASH_EQUIV  \n",
       "0      36.093333  \n",
       "1     101.747015  \n",
       "2      89.832500  \n",
       "3     126.000000  \n",
       "4     149.000000  "
      ]
     },
     "execution_count": 3,
     "metadata": {},
     "output_type": "execute_result"
    }
   ],
   "source": [
    "## Join IQID for inds so we can see the Ticker and the name \n",
    "\n",
    "ind_df = pd.read_csv('small_df.csv') \n",
    "\n",
    "ind_df = ind_df.merge(ids, on = ['IQID', 'IQ Name']) \n",
    "ind_df.drop(['Unnamed: 0', 'IQ Name', 'IQID', \n",
    "            'quarter'], axis = 1, inplace = True) \n",
    "\n",
    "## The data is quarterly, but we need to lok at it annually. \n",
    "## This means we have to take the mean of the data for all the quarters \n",
    "ind_df = ind_df.groupby(['year', 'ID']).mean().reset_index()\n",
    "                      \n",
    "ind_df.head() "
   ]
  },
  {
   "cell_type": "markdown",
   "id": "atlantic-aviation",
   "metadata": {},
   "source": [
    "### Join in the credit rating data\n",
    "\n",
    "We want an inner join so we only keep the companies that we have the credit rating for"
   ]
  },
  {
   "cell_type": "code",
   "execution_count": 4,
   "id": "running-monday",
   "metadata": {
    "ExecuteTime": {
     "end_time": "2021-03-13T19:39:15.047128Z",
     "start_time": "2021-03-13T19:39:15.001428Z"
    }
   },
   "outputs": [
    {
     "data": {
      "text/html": [
       "<div>\n",
       "<style scoped>\n",
       "    .dataframe tbody tr th:only-of-type {\n",
       "        vertical-align: middle;\n",
       "    }\n",
       "\n",
       "    .dataframe tbody tr th {\n",
       "        vertical-align: top;\n",
       "    }\n",
       "\n",
       "    .dataframe thead th {\n",
       "        text-align: right;\n",
       "    }\n",
       "</style>\n",
       "<table border=\"1\" class=\"dataframe\">\n",
       "  <thead>\n",
       "    <tr style=\"text-align: right;\">\n",
       "      <th></th>\n",
       "      <th>rating</th>\n",
       "      <th>year</th>\n",
       "      <th>ID</th>\n",
       "      <th>IQ_TOTAL_REV</th>\n",
       "      <th>IQ_NI_CF</th>\n",
       "      <th>IQ_AR</th>\n",
       "      <th>IQ_GP</th>\n",
       "      <th>IQ_TOTAL_ASSETS</th>\n",
       "      <th>IQ_AP</th>\n",
       "      <th>IQ_TOTAL_LIAB</th>\n",
       "      <th>IQ_TOTAL_DEBT</th>\n",
       "      <th>IQ_CASH_FINAN</th>\n",
       "      <th>IQ_TOTAL_EQUITY</th>\n",
       "      <th>IQ_CASH_EQUIV</th>\n",
       "    </tr>\n",
       "  </thead>\n",
       "  <tbody>\n",
       "    <tr>\n",
       "      <th>0</th>\n",
       "      <td>18.000000</td>\n",
       "      <td>2010</td>\n",
       "      <td>AAL</td>\n",
       "      <td>5586.00</td>\n",
       "      <td>-98.00</td>\n",
       "      <td>738.00</td>\n",
       "      <td>1286.00</td>\n",
       "      <td>25088.00</td>\n",
       "      <td>1156.00</td>\n",
       "      <td>29033.00</td>\n",
       "      <td>11136.0</td>\n",
       "      <td>349.00</td>\n",
       "      <td>-3945.00</td>\n",
       "      <td>168.00</td>\n",
       "    </tr>\n",
       "    <tr>\n",
       "      <th>1</th>\n",
       "      <td>19.500000</td>\n",
       "      <td>2011</td>\n",
       "      <td>AAL</td>\n",
       "      <td>5994.75</td>\n",
       "      <td>-494.75</td>\n",
       "      <td>923.50</td>\n",
       "      <td>1181.00</td>\n",
       "      <td>25366.75</td>\n",
       "      <td>1301.00</td>\n",
       "      <td>30467.25</td>\n",
       "      <td>11580.5</td>\n",
       "      <td>181.75</td>\n",
       "      <td>-5100.50</td>\n",
       "      <td>297.75</td>\n",
       "    </tr>\n",
       "    <tr>\n",
       "      <th>2</th>\n",
       "      <td>27.000000</td>\n",
       "      <td>2012</td>\n",
       "      <td>AAL</td>\n",
       "      <td>6213.75</td>\n",
       "      <td>-469.00</td>\n",
       "      <td>1117.25</td>\n",
       "      <td>1374.25</td>\n",
       "      <td>24168.50</td>\n",
       "      <td>1697.75</td>\n",
       "      <td>32422.50</td>\n",
       "      <td>10375.0</td>\n",
       "      <td>120.75</td>\n",
       "      <td>-8254.00</td>\n",
       "      <td>433.50</td>\n",
       "    </tr>\n",
       "    <tr>\n",
       "      <th>3</th>\n",
       "      <td>26.166667</td>\n",
       "      <td>2013</td>\n",
       "      <td>AAL</td>\n",
       "      <td>6678.00</td>\n",
       "      <td>-458.50</td>\n",
       "      <td>1379.75</td>\n",
       "      <td>1729.50</td>\n",
       "      <td>29781.50</td>\n",
       "      <td>1703.25</td>\n",
       "      <td>36592.75</td>\n",
       "      <td>13172.5</td>\n",
       "      <td>949.75</td>\n",
       "      <td>-6811.25</td>\n",
       "      <td>766.75</td>\n",
       "    </tr>\n",
       "    <tr>\n",
       "      <th>4</th>\n",
       "      <td>16.833333</td>\n",
       "      <td>2014</td>\n",
       "      <td>AAL</td>\n",
       "      <td>10662.25</td>\n",
       "      <td>720.50</td>\n",
       "      <td>1930.25</td>\n",
       "      <td>3009.50</td>\n",
       "      <td>43986.50</td>\n",
       "      <td>1543.50</td>\n",
       "      <td>40943.25</td>\n",
       "      <td>17203.0</td>\n",
       "      <td>-78.75</td>\n",
       "      <td>3043.25</td>\n",
       "      <td>1160.25</td>\n",
       "    </tr>\n",
       "  </tbody>\n",
       "</table>\n",
       "</div>"
      ],
      "text/plain": [
       "      rating  year   ID  IQ_TOTAL_REV  IQ_NI_CF    IQ_AR   IQ_GP   \\\n",
       "0  18.000000  2010  AAL       5586.00    -98.00   738.00  1286.00   \n",
       "1  19.500000  2011  AAL       5994.75   -494.75   923.50  1181.00   \n",
       "2  27.000000  2012  AAL       6213.75   -469.00  1117.25  1374.25   \n",
       "3  26.166667  2013  AAL       6678.00   -458.50  1379.75  1729.50   \n",
       "4  16.833333  2014  AAL      10662.25    720.50  1930.25  3009.50   \n",
       "\n",
       "   IQ_TOTAL_ASSETS    IQ_AP  IQ_TOTAL_LIAB  IQ_TOTAL_DEBT  IQ_CASH_FINAN  \\\n",
       "0         25088.00  1156.00       29033.00        11136.0         349.00   \n",
       "1         25366.75  1301.00       30467.25        11580.5         181.75   \n",
       "2         24168.50  1697.75       32422.50        10375.0         120.75   \n",
       "3         29781.50  1703.25       36592.75        13172.5         949.75   \n",
       "4         43986.50  1543.50       40943.25        17203.0         -78.75   \n",
       "\n",
       "   IQ_TOTAL_EQUITY  IQ_CASH_EQUIV  \n",
       "0         -3945.00         168.00  \n",
       "1         -5100.50         297.75  \n",
       "2         -8254.00         433.50  \n",
       "3         -6811.25         766.75  \n",
       "4          3043.25        1160.25  "
      ]
     },
     "execution_count": 4,
     "metadata": {},
     "output_type": "execute_result"
    }
   ],
   "source": [
    "## Join in the credit Ratings Data\n",
    "credit_ratings = pd.read_csv('credit.csv')[['Year', 'TickerSymbol',\n",
    "                                            'DomesticLTICRSPMthlyAvg']]\n",
    "credit_ratings.rename({'DomesticLTICRSPMthlyAvg': 'rating'}, inplace = True, axis = 1)  \n",
    "\n",
    "## Add credit ratings to df  \n",
    "tot_df = credit_ratings.merge(ind_df, how = 'inner', \n",
    "                             left_on = ['Year', 'TickerSymbol'], \n",
    "                             right_on = ['year', 'ID'])\n",
    "tot_df.drop(['Year', 'TickerSymbol'], axis = 1, inplace = True) \n",
    "\n",
    "tot_df.head() "
   ]
  },
  {
   "cell_type": "code",
   "execution_count": 5,
   "id": "acknowledged-bolivia",
   "metadata": {
    "ExecuteTime": {
     "end_time": "2021-03-13T19:39:16.492222Z",
     "start_time": "2021-03-13T19:39:15.049021Z"
    }
   },
   "outputs": [
    {
     "name": "stderr",
     "output_type": "stream",
     "text": [
      "100%|██████████| 306/306 [00:01<00:00, 215.26it/s]\n"
     ]
    },
    {
     "data": {
      "text/plain": [
       "lead_rating        0\n",
       "rating             0\n",
       "IQ_TOTAL_REV       0\n",
       "IQ_NI_CF           0\n",
       "IQ_AR              0\n",
       "IQ_GP              0\n",
       "IQ_TOTAL_ASSETS    0\n",
       "IQ_AP              0\n",
       "IQ_TOTAL_LIAB      0\n",
       "IQ_TOTAL_DEBT      0\n",
       "IQ_CASH_FINAN      0\n",
       "IQ_TOTAL_EQUITY    0\n",
       "IQ_CASH_EQUIV      0\n",
       "dtype: int64"
      ]
     },
     "execution_count": 5,
     "metadata": {},
     "output_type": "execute_result"
    }
   ],
   "source": [
    "tot_df_clean = pd.DataFrame() \n",
    "\n",
    "\n",
    "\n",
    "for ticker in tqdm(tot_df['ID'].unique()): \n",
    "    \n",
    "    \n",
    "    ## small df is all the rows with the ticker, sort by year \n",
    "    small_df = tot_df[tot_df['ID'] == ticker].sort_values(by = 'year',\n",
    "                                                             ascending = True)\n",
    "    \n",
    "    \n",
    "    ## Insert a lead rating column. This is the predictor column, \n",
    "    ## as we are trying to predict the credit rating for the next year\n",
    "    small_df.insert(loc = 0, column = 'lead_rating', \n",
    "               value = small_df.rating.shift(1)) \n",
    "    \n",
    "    \n",
    "    ## Set the index as the year and the ticker. \n",
    "    small_df.set_index(['year', 'ID'], inplace = True) \n",
    "    \n",
    "    ## Take the difference between rows. We are looking to find \n",
    "    ## differences in credit rating, so we are going to compare it to \n",
    "    ## differences in dependent variables. \n",
    "    ## We can then drop the nulls. \n",
    "    small_df = small_df.diff().dropna()  \n",
    "    \n",
    "    tot_df_clean = pd.concat([tot_df_clean, small_df], axis = 0) \n",
    "\n",
    "tot_df_clean.isna().sum()  "
   ]
  },
  {
   "cell_type": "code",
   "execution_count": 6,
   "id": "sharp-correlation",
   "metadata": {
    "ExecuteTime": {
     "end_time": "2021-03-13T19:39:16.838986Z",
     "start_time": "2021-03-13T19:39:16.493969Z"
    }
   },
   "outputs": [],
   "source": [
    "from sklearn.model_selection import train_test_split \n",
    "\n",
    "train_x, test_x, train_y, test_y = train_test_split(\n",
    "    tot_df_clean.drop(['lead_rating'], axis = 1) ,\n",
    "    tot_df_clean['lead_rating']\n",
    ")\n",
    "\n"
   ]
  },
  {
   "cell_type": "code",
   "execution_count": 7,
   "id": "married-tactics",
   "metadata": {
    "ExecuteTime": {
     "end_time": "2021-03-13T19:39:16.908699Z",
     "start_time": "2021-03-13T19:39:16.841097Z"
    }
   },
   "outputs": [],
   "source": [
    "from sklearn.model_selection import RepeatedStratifiedKFold \n",
    "from sklearn.svm import SVR\n",
    "from sklearn.model_selection import GridSearchCV\n",
    "\n",
    "x = tot_df_clean.drop(['lead_rating'], axis = 1) \n",
    "y = tot_df_clean['lead_rating'] \n",
    "\n",
    "params = {'kernel':('linear', 'rbf'), 'C':[1, 10]}\n",
    "\n",
    "## define evaluation\n",
    "cv = RepeatedStratifiedKFold(n_splits = 10, \n",
    "                            n_repeats = 3)\n",
    "\n",
    "\n",
    "search = GridSearchCV(estimator = SVR(), \n",
    "                      param_grid = params, verbose = 1)\n"
   ]
  },
  {
   "cell_type": "code",
   "execution_count": null,
   "id": "spare-buying",
   "metadata": {
    "ExecuteTime": {
     "start_time": "2021-03-13T19:39:14.507Z"
    }
   },
   "outputs": [
    {
     "name": "stdout",
     "output_type": "stream",
     "text": [
      "Fitting 5 folds for each of 4 candidates, totalling 20 fits\n"
     ]
    }
   ],
   "source": [
    "search.fit(train_x, train_y)   "
   ]
  },
  {
   "cell_type": "code",
   "execution_count": null,
   "id": "altered-saskatchewan",
   "metadata": {
    "ExecuteTime": {
     "start_time": "2021-03-13T19:39:14.509Z"
    }
   },
   "outputs": [],
   "source": [
    "prediction = search.predict(test_x)\n",
    "from sklearn.metrics import accuracy_score \n",
    "score = accuracy_score(prediction, test_y) \n",
    "print(score) "
   ]
  }
 ],
 "metadata": {
  "hide_input": false,
  "kernelspec": {
   "display_name": "Python 3",
   "language": "python",
   "name": "python3"
  },
  "language_info": {
   "codemirror_mode": {
    "name": "ipython",
    "version": 3
   },
   "file_extension": ".py",
   "mimetype": "text/x-python",
   "name": "python",
   "nbconvert_exporter": "python",
   "pygments_lexer": "ipython3",
   "version": "3.8.2"
  },
  "latex_envs": {
   "LaTeX_envs_menu_present": true,
   "autoclose": false,
   "autocomplete": true,
   "bibliofile": "biblio.bib",
   "cite_by": "apalike",
   "current_citInitial": 1,
   "eqLabelWithNumbers": true,
   "eqNumInitial": 1,
   "hotkeys": {
    "equation": "Ctrl-E",
    "itemize": "Ctrl-I"
   },
   "labels_anchors": false,
   "latex_user_defs": false,
   "report_style_numbering": false,
   "user_envs_cfg": false
  },
  "toc": {
   "base_numbering": 1,
   "nav_menu": {},
   "number_sections": true,
   "sideBar": true,
   "skip_h1_title": true,
   "title_cell": "Table of Contents",
   "title_sidebar": "Contents",
   "toc_cell": true,
   "toc_position": {},
   "toc_section_display": true,
   "toc_window_display": true
  },
  "varInspector": {
   "cols": {
    "lenName": 16,
    "lenType": 16,
    "lenVar": 40
   },
   "kernels_config": {
    "python": {
     "delete_cmd_postfix": "",
     "delete_cmd_prefix": "del ",
     "library": "var_list.py",
     "varRefreshCmd": "print(var_dic_list())"
    },
    "r": {
     "delete_cmd_postfix": ") ",
     "delete_cmd_prefix": "rm(",
     "library": "var_list.r",
     "varRefreshCmd": "cat(var_dic_list()) "
    }
   },
   "types_to_exclude": [
    "module",
    "function",
    "builtin_function_or_method",
    "instance",
    "_Feature"
   ],
   "window_display": false
  }
 },
 "nbformat": 4,
 "nbformat_minor": 5
}
