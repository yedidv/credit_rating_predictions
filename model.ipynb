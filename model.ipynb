{
 "cells": [
  {
   "cell_type": "markdown",
   "id": "secret-effect",
   "metadata": {
    "toc": true
   },
   "source": [
    "<h1>Table of Contents<span class=\"tocSkip\"></span></h1>\n",
    "<div class=\"toc\"><ul class=\"toc-item\"><li><span><a href=\"#Read-in-Data\" data-toc-modified-id=\"Read-in-Data-1\"><span class=\"toc-item-num\">1&nbsp;&nbsp;</span>Read in Data</a></span><ul class=\"toc-item\"><li><span><a href=\"#Read-in-excel-files-combining-ticker-symbols-with-the-IQID\" data-toc-modified-id=\"Read-in-excel-files-combining-ticker-symbols-with-the-IQID-1.1\"><span class=\"toc-item-num\">1.1&nbsp;&nbsp;</span>Read in excel files combining ticker symbols with the IQID</a></span></li><li><span><a href=\"#Read-in-independent-variables,-join-tickers\" data-toc-modified-id=\"Read-in-independent-variables,-join-tickers-1.2\"><span class=\"toc-item-num\">1.2&nbsp;&nbsp;</span>Read in independent variables, join tickers</a></span></li><li><span><a href=\"#Join-in-the-credit-rating-data\" data-toc-modified-id=\"Join-in-the-credit-rating-data-1.3\"><span class=\"toc-item-num\">1.3&nbsp;&nbsp;</span>Join in the credit rating data</a></span></li></ul></li><li><span><a href=\"#Generate-Model-Data\" data-toc-modified-id=\"Generate-Model-Data-2\"><span class=\"toc-item-num\">2&nbsp;&nbsp;</span>Generate Model Data</a></span></li><li><span><a href=\"#Generate-Models\" data-toc-modified-id=\"Generate-Models-3\"><span class=\"toc-item-num\">3&nbsp;&nbsp;</span>Generate Models</a></span><ul class=\"toc-item\"><li><span><a href=\"#Support-Vector-Machines\" data-toc-modified-id=\"Support-Vector-Machines-3.1\"><span class=\"toc-item-num\">3.1&nbsp;&nbsp;</span>Support Vector Machines</a></span></li><li><span><a href=\"#Random-Forest-Classifier\" data-toc-modified-id=\"Random-Forest-Classifier-3.2\"><span class=\"toc-item-num\">3.2&nbsp;&nbsp;</span>Random Forest Classifier</a></span></li></ul></li><li><span><a href=\"#Prediction-Function\" data-toc-modified-id=\"Prediction-Function-4\"><span class=\"toc-item-num\">4&nbsp;&nbsp;</span>Prediction Function</a></span></li><li><span><a href=\"#Plot-Accuracy\" data-toc-modified-id=\"Plot-Accuracy-5\"><span class=\"toc-item-num\">5&nbsp;&nbsp;</span>Plot Accuracy</a></span></li></ul></div>"
   ]
  },
  {
   "cell_type": "code",
   "execution_count": 2,
   "id": "wooden-barcelona",
   "metadata": {
    "ExecuteTime": {
     "end_time": "2021-03-23T21:43:35.361405Z",
     "start_time": "2021-03-23T21:43:34.585358Z"
    }
   },
   "outputs": [],
   "source": [
    "import pandas as pd \n",
    "import numpy as np \n",
    "import plotly.graph_objects as go \n",
    "import seaborn as sns \n",
    "import matplotlib.pyplot as plt \n",
    "from tqdm import tqdm "
   ]
  },
  {
   "cell_type": "markdown",
   "id": "coral-mountain",
   "metadata": {
    "ExecuteTime": {
     "end_time": "2021-03-13T17:30:07.606588Z",
     "start_time": "2021-03-13T17:30:07.540321Z"
    }
   },
   "source": [
    "## Read in Data\n",
    "\n",
    "---\n",
    "### Read in excel files combining ticker symbols with the IQID "
   ]
  },
  {
   "cell_type": "code",
   "execution_count": 3,
   "id": "sporting-honey",
   "metadata": {
    "ExecuteTime": {
     "end_time": "2021-03-23T21:46:32.375891Z",
     "start_time": "2021-03-23T21:46:32.248764Z"
    }
   },
   "outputs": [
    {
     "name": "stdout",
     "output_type": "stream",
     "text": [
      "0\n",
      "ID         0\n",
      "IQID       0\n",
      "IQ Name    0\n",
      "dtype: int64\n"
     ]
    },
    {
     "data": {
      "text/html": [
       "<div>\n",
       "<style scoped>\n",
       "    .dataframe tbody tr th:only-of-type {\n",
       "        vertical-align: middle;\n",
       "    }\n",
       "\n",
       "    .dataframe tbody tr th {\n",
       "        vertical-align: top;\n",
       "    }\n",
       "\n",
       "    .dataframe thead th {\n",
       "        text-align: right;\n",
       "    }\n",
       "</style>\n",
       "<table border=\"1\" class=\"dataframe\">\n",
       "  <thead>\n",
       "    <tr style=\"text-align: right;\">\n",
       "      <th></th>\n",
       "      <th>ID</th>\n",
       "      <th>IQID</th>\n",
       "      <th>IQ Name</th>\n",
       "    </tr>\n",
       "  </thead>\n",
       "  <tbody>\n",
       "    <tr>\n",
       "      <th>0</th>\n",
       "      <td>MMM</td>\n",
       "      <td>IQ289194</td>\n",
       "      <td>3M Company</td>\n",
       "    </tr>\n",
       "    <tr>\n",
       "      <th>1</th>\n",
       "      <td>ABT</td>\n",
       "      <td>IQ247483</td>\n",
       "      <td>Abbott Laboratories</td>\n",
       "    </tr>\n",
       "    <tr>\n",
       "      <th>2</th>\n",
       "      <td>ABBV</td>\n",
       "      <td>IQ141885706</td>\n",
       "      <td>AbbVie Inc.</td>\n",
       "    </tr>\n",
       "    <tr>\n",
       "      <th>3</th>\n",
       "      <td>ABMD</td>\n",
       "      <td>IQ247589</td>\n",
       "      <td>Abiomed, Inc.</td>\n",
       "    </tr>\n",
       "    <tr>\n",
       "      <th>4</th>\n",
       "      <td>ACN</td>\n",
       "      <td>IQ972190</td>\n",
       "      <td>Accenture plc</td>\n",
       "    </tr>\n",
       "  </tbody>\n",
       "</table>\n",
       "</div>"
      ],
      "text/plain": [
       "     ID         IQID              IQ Name\n",
       "0   MMM     IQ289194           3M Company\n",
       "1   ABT     IQ247483  Abbott Laboratories\n",
       "2  ABBV  IQ141885706          AbbVie Inc.\n",
       "3  ABMD     IQ247589        Abiomed, Inc.\n",
       "4   ACN     IQ972190        Accenture plc"
      ]
     },
     "execution_count": 3,
     "metadata": {},
     "output_type": "execute_result"
    }
   ],
   "source": [
    "ids= pd.DataFrame() \n",
    "## Read in ticker symbols\n",
    "for i in range(1, 6): \n",
    "    df = pd.read_excel('capiq_data/in_process_ids/ids {}.xlsx'.format(i),\n",
    "                       engine='openpyxl')[['ID', 'IQID', 'IQ Name']]\n",
    "    ids = pd.concat([ids, df]) \n",
    "\n",
    "## See if there are any duplicates \n",
    "print(ids.duplicated().sum()) \n",
    "## See if there are any nulls \n",
    "print(ids.isna().sum()) \n",
    "ids.head() "
   ]
  },
  {
   "cell_type": "markdown",
   "id": "excessive-plumbing",
   "metadata": {},
   "source": [
    "### Read in independent variables, join tickers "
   ]
  },
  {
   "cell_type": "code",
   "execution_count": 4,
   "id": "present-attribute",
   "metadata": {
    "ExecuteTime": {
     "end_time": "2021-03-23T21:46:33.562373Z",
     "start_time": "2021-03-23T21:46:33.449150Z"
    }
   },
   "outputs": [
    {
     "data": {
      "text/html": [
       "<div>\n",
       "<style scoped>\n",
       "    .dataframe tbody tr th:only-of-type {\n",
       "        vertical-align: middle;\n",
       "    }\n",
       "\n",
       "    .dataframe tbody tr th {\n",
       "        vertical-align: top;\n",
       "    }\n",
       "\n",
       "    .dataframe thead th {\n",
       "        text-align: right;\n",
       "    }\n",
       "</style>\n",
       "<table border=\"1\" class=\"dataframe\">\n",
       "  <thead>\n",
       "    <tr style=\"text-align: right;\">\n",
       "      <th></th>\n",
       "      <th>year</th>\n",
       "      <th>ID</th>\n",
       "      <th>IQ_TOTAL_REV</th>\n",
       "      <th>IQ_NI_CF</th>\n",
       "      <th>IQ_AR</th>\n",
       "      <th>IQ_GP</th>\n",
       "      <th>IQ_TOTAL_ASSETS</th>\n",
       "      <th>IQ_AP</th>\n",
       "      <th>IQ_TOTAL_LIAB</th>\n",
       "      <th>IQ_TOTAL_DEBT</th>\n",
       "      <th>IQ_CASH_FINAN</th>\n",
       "      <th>IQ_TOTAL_EQUITY</th>\n",
       "      <th>IQ_CASH_EQUIV</th>\n",
       "    </tr>\n",
       "  </thead>\n",
       "  <tbody>\n",
       "    <tr>\n",
       "      <th>0</th>\n",
       "      <td>1995</td>\n",
       "      <td>CZR</td>\n",
       "      <td>36.380500</td>\n",
       "      <td>5.98350</td>\n",
       "      <td>0.962750</td>\n",
       "      <td>16.722000</td>\n",
       "      <td>53.898</td>\n",
       "      <td>0.819750</td>\n",
       "      <td>34.04225</td>\n",
       "      <td>30.907500</td>\n",
       "      <td>6.802000</td>\n",
       "      <td>19.85575</td>\n",
       "      <td>1.5305</td>\n",
       "    </tr>\n",
       "    <tr>\n",
       "      <th>1</th>\n",
       "      <td>1995</td>\n",
       "      <td>HII</td>\n",
       "      <td>455.500000</td>\n",
       "      <td>7.50000</td>\n",
       "      <td>165.000000</td>\n",
       "      <td>33.500000</td>\n",
       "      <td>690.000</td>\n",
       "      <td>83.000000</td>\n",
       "      <td>554.00000</td>\n",
       "      <td>180.000000</td>\n",
       "      <td>-13.500000</td>\n",
       "      <td>136.00000</td>\n",
       "      <td>1.0000</td>\n",
       "    </tr>\n",
       "    <tr>\n",
       "      <th>2</th>\n",
       "      <td>1996</td>\n",
       "      <td>CZR</td>\n",
       "      <td>37.662500</td>\n",
       "      <td>4.61575</td>\n",
       "      <td>3.078750</td>\n",
       "      <td>17.350750</td>\n",
       "      <td>171.045</td>\n",
       "      <td>2.952000</td>\n",
       "      <td>104.33325</td>\n",
       "      <td>124.623250</td>\n",
       "      <td>-2.300500</td>\n",
       "      <td>86.56750</td>\n",
       "      <td>4.1460</td>\n",
       "    </tr>\n",
       "    <tr>\n",
       "      <th>3</th>\n",
       "      <td>1996</td>\n",
       "      <td>HII</td>\n",
       "      <td>467.500000</td>\n",
       "      <td>13.75000</td>\n",
       "      <td>210.750000</td>\n",
       "      <td>35.250000</td>\n",
       "      <td>740.500</td>\n",
       "      <td>64.000000</td>\n",
       "      <td>599.00000</td>\n",
       "      <td>352.750000</td>\n",
       "      <td>43.250000</td>\n",
       "      <td>209.50000</td>\n",
       "      <td>0.5000</td>\n",
       "    </tr>\n",
       "    <tr>\n",
       "      <th>4</th>\n",
       "      <td>1996</td>\n",
       "      <td>HLT</td>\n",
       "      <td>994.333333</td>\n",
       "      <td>15.00000</td>\n",
       "      <td>133.333333</td>\n",
       "      <td>255.666667</td>\n",
       "      <td>4543.300</td>\n",
       "      <td>270.466667</td>\n",
       "      <td>2559.00000</td>\n",
       "      <td>1655.966667</td>\n",
       "      <td>65.333333</td>\n",
       "      <td>1984.30000</td>\n",
       "      <td>296.6000</td>\n",
       "    </tr>\n",
       "  </tbody>\n",
       "</table>\n",
       "</div>"
      ],
      "text/plain": [
       "   year   ID  IQ_TOTAL_REV  IQ_NI_CF       IQ_AR      IQ_GP   IQ_TOTAL_ASSETS  \\\n",
       "0  1995  CZR     36.380500   5.98350    0.962750   16.722000           53.898   \n",
       "1  1995  HII    455.500000   7.50000  165.000000   33.500000          690.000   \n",
       "2  1996  CZR     37.662500   4.61575    3.078750   17.350750          171.045   \n",
       "3  1996  HII    467.500000  13.75000  210.750000   35.250000          740.500   \n",
       "4  1996  HLT    994.333333  15.00000  133.333333  255.666667         4543.300   \n",
       "\n",
       "        IQ_AP  IQ_TOTAL_LIAB  IQ_TOTAL_DEBT  IQ_CASH_FINAN  IQ_TOTAL_EQUITY  \\\n",
       "0    0.819750       34.04225      30.907500       6.802000         19.85575   \n",
       "1   83.000000      554.00000     180.000000     -13.500000        136.00000   \n",
       "2    2.952000      104.33325     124.623250      -2.300500         86.56750   \n",
       "3   64.000000      599.00000     352.750000      43.250000        209.50000   \n",
       "4  270.466667     2559.00000    1655.966667      65.333333       1984.30000   \n",
       "\n",
       "   IQ_CASH_EQUIV  \n",
       "0         1.5305  \n",
       "1         1.0000  \n",
       "2         4.1460  \n",
       "3         0.5000  \n",
       "4       296.6000  "
      ]
     },
     "execution_count": 4,
     "metadata": {},
     "output_type": "execute_result"
    }
   ],
   "source": [
    "## Join IQID for inds so we can see the Ticker and the name \n",
    "\n",
    "ind_df = pd.read_csv('small_df.csv') \n",
    "\n",
    "ind_df = ind_df.merge(ids, on = ['IQID', 'IQ Name']) \n",
    "ind_df.drop(['Unnamed: 0', 'IQ Name', 'IQID', \n",
    "            'quarter'], axis = 1, inplace = True) \n",
    "\n",
    "## The data is quarterly, but we need to lok at it annually. \n",
    "## This means we have to take the mean of the data for all the quarters \n",
    "ind_df = ind_df.groupby(['year', 'ID']).mean().reset_index()\n",
    "                      \n",
    "ind_df.head() "
   ]
  },
  {
   "cell_type": "markdown",
   "id": "metropolitan-actor",
   "metadata": {},
   "source": [
    "### Join in the credit rating data\n",
    "\n",
    "We want an inner join so we only keep the companies that we have the credit rating for"
   ]
  },
  {
   "cell_type": "code",
   "execution_count": 5,
   "id": "unusual-hamilton",
   "metadata": {
    "ExecuteTime": {
     "end_time": "2021-03-23T21:46:34.604999Z",
     "start_time": "2021-03-23T21:46:34.554082Z"
    }
   },
   "outputs": [
    {
     "data": {
      "text/html": [
       "<div>\n",
       "<style scoped>\n",
       "    .dataframe tbody tr th:only-of-type {\n",
       "        vertical-align: middle;\n",
       "    }\n",
       "\n",
       "    .dataframe tbody tr th {\n",
       "        vertical-align: top;\n",
       "    }\n",
       "\n",
       "    .dataframe thead th {\n",
       "        text-align: right;\n",
       "    }\n",
       "</style>\n",
       "<table border=\"1\" class=\"dataframe\">\n",
       "  <thead>\n",
       "    <tr style=\"text-align: right;\">\n",
       "      <th></th>\n",
       "      <th>rating</th>\n",
       "      <th>year</th>\n",
       "      <th>ID</th>\n",
       "      <th>IQ_TOTAL_REV</th>\n",
       "      <th>IQ_NI_CF</th>\n",
       "      <th>IQ_AR</th>\n",
       "      <th>IQ_GP</th>\n",
       "      <th>IQ_TOTAL_ASSETS</th>\n",
       "      <th>IQ_AP</th>\n",
       "      <th>IQ_TOTAL_LIAB</th>\n",
       "      <th>IQ_TOTAL_DEBT</th>\n",
       "      <th>IQ_CASH_FINAN</th>\n",
       "      <th>IQ_TOTAL_EQUITY</th>\n",
       "      <th>IQ_CASH_EQUIV</th>\n",
       "    </tr>\n",
       "  </thead>\n",
       "  <tbody>\n",
       "    <tr>\n",
       "      <th>0</th>\n",
       "      <td>12.000000</td>\n",
       "      <td>2000</td>\n",
       "      <td>AAL</td>\n",
       "      <td>4859.00</td>\n",
       "      <td>47.00</td>\n",
       "      <td>1303.00</td>\n",
       "      <td>1489.00</td>\n",
       "      <td>26213.00</td>\n",
       "      <td>1267.00</td>\n",
       "      <td>19037.00</td>\n",
       "      <td>6270.00</td>\n",
       "      <td>385.00</td>\n",
       "      <td>7176.00</td>\n",
       "      <td>89.00</td>\n",
       "    </tr>\n",
       "    <tr>\n",
       "      <th>1</th>\n",
       "      <td>12.666667</td>\n",
       "      <td>2001</td>\n",
       "      <td>AAL</td>\n",
       "      <td>4740.75</td>\n",
       "      <td>-440.50</td>\n",
       "      <td>1511.00</td>\n",
       "      <td>1018.50</td>\n",
       "      <td>30054.25</td>\n",
       "      <td>1538.50</td>\n",
       "      <td>23660.00</td>\n",
       "      <td>8458.25</td>\n",
       "      <td>1052.75</td>\n",
       "      <td>6394.25</td>\n",
       "      <td>152.00</td>\n",
       "    </tr>\n",
       "    <tr>\n",
       "      <th>2</th>\n",
       "      <td>14.583333</td>\n",
       "      <td>2002</td>\n",
       "      <td>AAL</td>\n",
       "      <td>4355.00</td>\n",
       "      <td>-877.75</td>\n",
       "      <td>1471.50</td>\n",
       "      <td>1175.50</td>\n",
       "      <td>31230.25</td>\n",
       "      <td>1394.75</td>\n",
       "      <td>28539.00</td>\n",
       "      <td>11930.75</td>\n",
       "      <td>626.50</td>\n",
       "      <td>2691.25</td>\n",
       "      <td>139.00</td>\n",
       "    </tr>\n",
       "    <tr>\n",
       "      <th>3</th>\n",
       "      <td>18.250000</td>\n",
       "      <td>2003</td>\n",
       "      <td>AAL</td>\n",
       "      <td>4360.00</td>\n",
       "      <td>-307.00</td>\n",
       "      <td>856.75</td>\n",
       "      <td>1018.25</td>\n",
       "      <td>29394.75</td>\n",
       "      <td>1048.50</td>\n",
       "      <td>29664.50</td>\n",
       "      <td>13561.00</td>\n",
       "      <td>15.00</td>\n",
       "      <td>-269.75</td>\n",
       "      <td>148.00</td>\n",
       "    </tr>\n",
       "    <tr>\n",
       "      <th>4</th>\n",
       "      <td>18.000000</td>\n",
       "      <td>2004</td>\n",
       "      <td>AAL</td>\n",
       "      <td>4661.25</td>\n",
       "      <td>-190.25</td>\n",
       "      <td>905.75</td>\n",
       "      <td>1158.00</td>\n",
       "      <td>29496.25</td>\n",
       "      <td>1050.25</td>\n",
       "      <td>29784.25</td>\n",
       "      <td>14385.50</td>\n",
       "      <td>82.75</td>\n",
       "      <td>-288.00</td>\n",
       "      <td>146.25</td>\n",
       "    </tr>\n",
       "  </tbody>\n",
       "</table>\n",
       "</div>"
      ],
      "text/plain": [
       "      rating  year   ID  IQ_TOTAL_REV  IQ_NI_CF    IQ_AR   IQ_GP   \\\n",
       "0  12.000000  2000  AAL       4859.00     47.00  1303.00  1489.00   \n",
       "1  12.666667  2001  AAL       4740.75   -440.50  1511.00  1018.50   \n",
       "2  14.583333  2002  AAL       4355.00   -877.75  1471.50  1175.50   \n",
       "3  18.250000  2003  AAL       4360.00   -307.00   856.75  1018.25   \n",
       "4  18.000000  2004  AAL       4661.25   -190.25   905.75  1158.00   \n",
       "\n",
       "   IQ_TOTAL_ASSETS    IQ_AP  IQ_TOTAL_LIAB  IQ_TOTAL_DEBT  IQ_CASH_FINAN  \\\n",
       "0         26213.00  1267.00       19037.00        6270.00         385.00   \n",
       "1         30054.25  1538.50       23660.00        8458.25        1052.75   \n",
       "2         31230.25  1394.75       28539.00       11930.75         626.50   \n",
       "3         29394.75  1048.50       29664.50       13561.00          15.00   \n",
       "4         29496.25  1050.25       29784.25       14385.50          82.75   \n",
       "\n",
       "   IQ_TOTAL_EQUITY  IQ_CASH_EQUIV  \n",
       "0          7176.00          89.00  \n",
       "1          6394.25         152.00  \n",
       "2          2691.25         139.00  \n",
       "3          -269.75         148.00  \n",
       "4          -288.00         146.25  "
      ]
     },
     "execution_count": 5,
     "metadata": {},
     "output_type": "execute_result"
    }
   ],
   "source": [
    "## Join in the credit Ratings Data\n",
    "credit_ratings = pd.read_csv('credit.csv')[['Year', 'TickerSymbol',\n",
    "                                            'DomesticLTICRSPMthlyAvg']]\n",
    "credit_ratings.rename({'DomesticLTICRSPMthlyAvg': 'rating'}, inplace = True, axis = 1)  \n",
    "\n",
    "## Add credit ratings to df  \n",
    "tot_df = credit_ratings.merge(ind_df, how = 'inner', \n",
    "                             left_on = ['Year', 'TickerSymbol'], \n",
    "                             right_on = ['year', 'ID'])\n",
    "tot_df.drop(['Year', 'TickerSymbol'], axis = 1, inplace = True) \n",
    "\n",
    "tot_df.head() "
   ]
  },
  {
   "cell_type": "code",
   "execution_count": 6,
   "id": "ahead-tuner",
   "metadata": {
    "ExecuteTime": {
     "end_time": "2021-03-23T21:46:39.520024Z",
     "start_time": "2021-03-23T21:46:37.940602Z"
    }
   },
   "outputs": [
    {
     "name": "stderr",
     "output_type": "stream",
     "text": [
      "100%|██████████| 312/312 [00:01<00:00, 201.42it/s]\n"
     ]
    },
    {
     "data": {
      "text/html": [
       "<div>\n",
       "<style scoped>\n",
       "    .dataframe tbody tr th:only-of-type {\n",
       "        vertical-align: middle;\n",
       "    }\n",
       "\n",
       "    .dataframe tbody tr th {\n",
       "        vertical-align: top;\n",
       "    }\n",
       "\n",
       "    .dataframe thead th {\n",
       "        text-align: right;\n",
       "    }\n",
       "</style>\n",
       "<table border=\"1\" class=\"dataframe\">\n",
       "  <thead>\n",
       "    <tr style=\"text-align: right;\">\n",
       "      <th></th>\n",
       "      <th></th>\n",
       "      <th>lead_rating</th>\n",
       "      <th>rating</th>\n",
       "      <th>IQ_TOTAL_REV</th>\n",
       "      <th>IQ_NI_CF</th>\n",
       "      <th>IQ_AR</th>\n",
       "      <th>IQ_GP</th>\n",
       "      <th>IQ_TOTAL_ASSETS</th>\n",
       "      <th>IQ_AP</th>\n",
       "      <th>IQ_TOTAL_LIAB</th>\n",
       "      <th>IQ_TOTAL_DEBT</th>\n",
       "      <th>IQ_CASH_FINAN</th>\n",
       "      <th>IQ_TOTAL_EQUITY</th>\n",
       "      <th>IQ_CASH_EQUIV</th>\n",
       "    </tr>\n",
       "    <tr>\n",
       "      <th>year</th>\n",
       "      <th>ID</th>\n",
       "      <th></th>\n",
       "      <th></th>\n",
       "      <th></th>\n",
       "      <th></th>\n",
       "      <th></th>\n",
       "      <th></th>\n",
       "      <th></th>\n",
       "      <th></th>\n",
       "      <th></th>\n",
       "      <th></th>\n",
       "      <th></th>\n",
       "      <th></th>\n",
       "      <th></th>\n",
       "    </tr>\n",
       "  </thead>\n",
       "  <tbody>\n",
       "    <tr>\n",
       "      <th>2001</th>\n",
       "      <th>AAL</th>\n",
       "      <td>1.916667</td>\n",
       "      <td>0.666667</td>\n",
       "      <td>-118.25</td>\n",
       "      <td>-487.50</td>\n",
       "      <td>208.00</td>\n",
       "      <td>-470.50</td>\n",
       "      <td>3841.25</td>\n",
       "      <td>271.50</td>\n",
       "      <td>4623.00</td>\n",
       "      <td>2188.25</td>\n",
       "      <td>667.75</td>\n",
       "      <td>-781.75</td>\n",
       "      <td>63.00</td>\n",
       "    </tr>\n",
       "    <tr>\n",
       "      <th>2002</th>\n",
       "      <th>AAL</th>\n",
       "      <td>3.666667</td>\n",
       "      <td>1.916667</td>\n",
       "      <td>-385.75</td>\n",
       "      <td>-437.25</td>\n",
       "      <td>-39.50</td>\n",
       "      <td>157.00</td>\n",
       "      <td>1176.00</td>\n",
       "      <td>-143.75</td>\n",
       "      <td>4879.00</td>\n",
       "      <td>3472.50</td>\n",
       "      <td>-426.25</td>\n",
       "      <td>-3703.00</td>\n",
       "      <td>-13.00</td>\n",
       "    </tr>\n",
       "    <tr>\n",
       "      <th>2003</th>\n",
       "      <th>AAL</th>\n",
       "      <td>-0.250000</td>\n",
       "      <td>3.666667</td>\n",
       "      <td>5.00</td>\n",
       "      <td>570.75</td>\n",
       "      <td>-614.75</td>\n",
       "      <td>-157.25</td>\n",
       "      <td>-1835.50</td>\n",
       "      <td>-346.25</td>\n",
       "      <td>1125.50</td>\n",
       "      <td>1630.25</td>\n",
       "      <td>-611.50</td>\n",
       "      <td>-2961.00</td>\n",
       "      <td>9.00</td>\n",
       "    </tr>\n",
       "    <tr>\n",
       "      <th>2004</th>\n",
       "      <th>AAL</th>\n",
       "      <td>0.000000</td>\n",
       "      <td>-0.250000</td>\n",
       "      <td>301.25</td>\n",
       "      <td>116.75</td>\n",
       "      <td>49.00</td>\n",
       "      <td>139.75</td>\n",
       "      <td>101.50</td>\n",
       "      <td>1.75</td>\n",
       "      <td>119.75</td>\n",
       "      <td>824.50</td>\n",
       "      <td>67.75</td>\n",
       "      <td>-18.25</td>\n",
       "      <td>-1.75</td>\n",
       "    </tr>\n",
       "    <tr>\n",
       "      <th>2005</th>\n",
       "      <th>AAL</th>\n",
       "      <td>-0.583333</td>\n",
       "      <td>0.000000</td>\n",
       "      <td>516.75</td>\n",
       "      <td>-24.00</td>\n",
       "      <td>141.00</td>\n",
       "      <td>96.25</td>\n",
       "      <td>-98.25</td>\n",
       "      <td>77.75</td>\n",
       "      <td>481.50</td>\n",
       "      <td>-42.50</td>\n",
       "      <td>50.50</td>\n",
       "      <td>-579.75</td>\n",
       "      <td>-1.50</td>\n",
       "    </tr>\n",
       "  </tbody>\n",
       "</table>\n",
       "</div>"
      ],
      "text/plain": [
       "          lead_rating    rating  IQ_TOTAL_REV  IQ_NI_CF   IQ_AR  IQ_GP   \\\n",
       "year ID                                                                   \n",
       "2001 AAL     1.916667  0.666667       -118.25   -487.50  208.00 -470.50   \n",
       "2002 AAL     3.666667  1.916667       -385.75   -437.25  -39.50  157.00   \n",
       "2003 AAL    -0.250000  3.666667          5.00    570.75 -614.75 -157.25   \n",
       "2004 AAL     0.000000 -0.250000        301.25    116.75   49.00  139.75   \n",
       "2005 AAL    -0.583333  0.000000        516.75    -24.00  141.00   96.25   \n",
       "\n",
       "          IQ_TOTAL_ASSETS   IQ_AP  IQ_TOTAL_LIAB  IQ_TOTAL_DEBT  \\\n",
       "year ID                                                           \n",
       "2001 AAL          3841.25  271.50        4623.00        2188.25   \n",
       "2002 AAL          1176.00 -143.75        4879.00        3472.50   \n",
       "2003 AAL         -1835.50 -346.25        1125.50        1630.25   \n",
       "2004 AAL           101.50    1.75         119.75         824.50   \n",
       "2005 AAL           -98.25   77.75         481.50         -42.50   \n",
       "\n",
       "          IQ_CASH_FINAN  IQ_TOTAL_EQUITY  IQ_CASH_EQUIV  \n",
       "year ID                                                  \n",
       "2001 AAL         667.75          -781.75          63.00  \n",
       "2002 AAL        -426.25         -3703.00         -13.00  \n",
       "2003 AAL        -611.50         -2961.00           9.00  \n",
       "2004 AAL          67.75           -18.25          -1.75  \n",
       "2005 AAL          50.50          -579.75          -1.50  "
      ]
     },
     "execution_count": 6,
     "metadata": {},
     "output_type": "execute_result"
    }
   ],
   "source": [
    "tot_df_clean = pd.DataFrame() \n",
    "\n",
    "\n",
    "\n",
    "for ticker in tqdm(tot_df['ID'].unique()): \n",
    "    \n",
    "    \n",
    "    ## small df is all the rows with the ticker, sort by year \n",
    "    small_df = tot_df[tot_df['ID'] == ticker].sort_values(by = 'year',\n",
    "                                                             ascending = True)\n",
    "    \n",
    "    \n",
    "    ## Insert a lead rating column. This is the predictor column, \n",
    "    ## as we are trying to predict the credit rating for the next year\n",
    "    small_df.insert(loc = 0, column = 'lead_rating', \n",
    "               value = small_df.rating.shift(-1)) \n",
    "    \n",
    "    \n",
    "    ## Set the index as the year and the ticker. \n",
    "    small_df.set_index(['year', 'ID'], inplace = True) \n",
    "    \n",
    "    ## Take the difference between rows. We are looking to find \n",
    "    ## differences in credit rating, so we are going to compare it to \n",
    "    ## differences in dependent variables. \n",
    "    ## We can then drop the nulls. \n",
    "    small_df = small_df.diff().dropna()  \n",
    "    \n",
    "    tot_df_clean = pd.concat([tot_df_clean, small_df], axis = 0) \n",
    "\n",
    "tot_df_clean.head() "
   ]
  },
  {
   "cell_type": "markdown",
   "id": "diverse-posting",
   "metadata": {},
   "source": [
    "## Generate Model Data"
   ]
  },
  {
   "cell_type": "code",
   "execution_count": 7,
   "id": "english-england",
   "metadata": {
    "ExecuteTime": {
     "end_time": "2021-03-23T21:46:42.352848Z",
     "start_time": "2021-03-23T21:46:42.345784Z"
    }
   },
   "outputs": [],
   "source": [
    "lead_rating = tot_df_clean['lead_rating'].to_numpy()\n",
    "\n",
    "\n",
    "lead_rating[lead_rating == 0] = 0\n",
    "lead_rating[(lead_rating > 0) & (lead_rating <= 1)] = 1 \n",
    "lead_rating[(lead_rating < 0) & (lead_rating >= -1)] = -1 \n",
    "lead_rating[lead_rating > 1] = 2 \n",
    "lead_rating[lead_rating < -1] = -2\n",
    "tot_df_clean['rating'] = tot_df_clean['lead_rating']\n",
    "tot_df_clean['lead_rating'] = lead_rating\n",
    "\n",
    "full_df = tot_df_clean "
   ]
  },
  {
   "cell_type": "code",
   "execution_count": 8,
   "id": "parliamentary-funeral",
   "metadata": {
    "ExecuteTime": {
     "end_time": "2021-03-23T21:46:44.201737Z",
     "start_time": "2021-03-23T21:46:44.019629Z"
    }
   },
   "outputs": [
    {
     "data": {
      "text/html": [
       "<style  type=\"text/css\" >\n",
       "#T_9b344460_8c26_11eb_a4aa_acde48001122row0_col0{\n",
       "            width:  10em;\n",
       "             height:  80%;\n",
       "            background:  linear-gradient(90deg,#d65f5f 100.0%, transparent 100.0%);\n",
       "        }#T_9b344460_8c26_11eb_a4aa_acde48001122row1_col0{\n",
       "            width:  10em;\n",
       "             height:  80%;\n",
       "            background:  linear-gradient(90deg,#d65f5f 24.0%, transparent 24.0%);\n",
       "        }#T_9b344460_8c26_11eb_a4aa_acde48001122row2_col0{\n",
       "            width:  10em;\n",
       "             height:  80%;\n",
       "            background:  linear-gradient(90deg,#d65f5f 16.6%, transparent 16.6%);\n",
       "        }#T_9b344460_8c26_11eb_a4aa_acde48001122row3_col0{\n",
       "            width:  10em;\n",
       "             height:  80%;\n",
       "            background:  linear-gradient(90deg,#d65f5f 1.5%, transparent 1.5%);\n",
       "        }#T_9b344460_8c26_11eb_a4aa_acde48001122row4_col0{\n",
       "            width:  10em;\n",
       "             height:  80%;\n",
       "        }</style><table id=\"T_9b344460_8c26_11eb_a4aa_acde48001122\" ><thead>    <tr>        <th class=\"blank level0\" ></th>        <th class=\"col_heading level0 col0\" >lead_rating</th>    </tr></thead><tbody>\n",
       "                <tr>\n",
       "                        <th id=\"T_9b344460_8c26_11eb_a4aa_acde48001122level0_row0\" class=\"row_heading level0 row0\" >0.0</th>\n",
       "                        <td id=\"T_9b344460_8c26_11eb_a4aa_acde48001122row0_col0\" class=\"data row0 col0\" >2050</td>\n",
       "            </tr>\n",
       "            <tr>\n",
       "                        <th id=\"T_9b344460_8c26_11eb_a4aa_acde48001122level0_row1\" class=\"row_heading level0 row1\" >-1.0</th>\n",
       "                        <td id=\"T_9b344460_8c26_11eb_a4aa_acde48001122row1_col0\" class=\"data row1 col0\" >557</td>\n",
       "            </tr>\n",
       "            <tr>\n",
       "                        <th id=\"T_9b344460_8c26_11eb_a4aa_acde48001122level0_row2\" class=\"row_heading level0 row2\" >1.0</th>\n",
       "                        <td id=\"T_9b344460_8c26_11eb_a4aa_acde48001122row2_col0\" class=\"data row2 col0\" >411</td>\n",
       "            </tr>\n",
       "            <tr>\n",
       "                        <th id=\"T_9b344460_8c26_11eb_a4aa_acde48001122level0_row3\" class=\"row_heading level0 row3\" >2.0</th>\n",
       "                        <td id=\"T_9b344460_8c26_11eb_a4aa_acde48001122row3_col0\" class=\"data row3 col0\" >114</td>\n",
       "            </tr>\n",
       "            <tr>\n",
       "                        <th id=\"T_9b344460_8c26_11eb_a4aa_acde48001122level0_row4\" class=\"row_heading level0 row4\" >-2.0</th>\n",
       "                        <td id=\"T_9b344460_8c26_11eb_a4aa_acde48001122row4_col0\" class=\"data row4 col0\" >85</td>\n",
       "            </tr>\n",
       "    </tbody></table>"
      ],
      "text/plain": [
       "<pandas.io.formats.style.Styler at 0x7fa9e10d5cd0>"
      ]
     },
     "execution_count": 8,
     "metadata": {},
     "output_type": "execute_result"
    }
   ],
   "source": [
    "tot_df_clean.lead_rating.value_counts().to_frame().style.bar()"
   ]
  },
  {
   "cell_type": "code",
   "execution_count": 9,
   "id": "respective-traveler",
   "metadata": {
    "ExecuteTime": {
     "end_time": "2021-03-23T21:46:47.047254Z",
     "start_time": "2021-03-23T21:46:46.946042Z"
    }
   },
   "outputs": [],
   "source": [
    "from sklearn.utils import resample \n",
    "\n",
    "## Resample the data\n",
    "\n",
    "rating_0 = tot_df_clean[tot_df_clean.lead_rating ==0 ]\n",
    "tot_df_clean_sampled = tot_df_clean[tot_df_clean.lead_rating !=0 ]\n",
    "rating_0 = resample(rating_0, \n",
    "                   replace = True, \n",
    "                   n_samples = 150,\n",
    "                    random_state = 123) \n",
    "\n",
    "tot_df_clean = pd.concat([rating_0, \n",
    "                          tot_df_clean_sampled], axis = 0) "
   ]
  },
  {
   "cell_type": "code",
   "execution_count": 10,
   "id": "applicable-context",
   "metadata": {
    "ExecuteTime": {
     "end_time": "2021-03-23T21:46:47.804598Z",
     "start_time": "2021-03-23T21:46:47.640195Z"
    }
   },
   "outputs": [],
   "source": [
    "from sklearn.model_selection import train_test_split \n",
    "\n",
    "## Split into x and y\n",
    "x = tot_df_clean.drop(['lead_rating'], axis = 1) \n",
    "\n",
    "y_numeric = tot_df_clean['rating'] \n",
    "y = tot_df_clean['lead_rating'] \n",
    "\n",
    "\n",
    "## Normalize the data, but we don't need to normalize the \n",
    "## dependent variable\n",
    "x = (x - x.mean()) / (x.std())\n",
    "\n",
    "\n",
    "## We'll set aside 10% of the data for testing\n",
    "train_x, test_x, train_y, test_y = train_test_split(x, \n",
    "                                                    y, \n",
    "                                                    train_size = 0.9, \n",
    "                                                    random_state = 5)\n",
    "\n",
    "train_x_num, test_x_num, train_y_num, test_y_num = train_test_split(x, y_numeric, train_size = 0.9, random_state = 5) "
   ]
  },
  {
   "cell_type": "markdown",
   "id": "billion-manor",
   "metadata": {},
   "source": [
    "## Generate Models \n",
    "### Support Vector Machines"
   ]
  },
  {
   "cell_type": "code",
   "execution_count": 11,
   "id": "greenhouse-tunisia",
   "metadata": {
    "ExecuteTime": {
     "end_time": "2021-03-23T21:46:49.882171Z",
     "start_time": "2021-03-23T21:46:49.746793Z"
    }
   },
   "outputs": [],
   "source": [
    "from sklearn.model_selection import RepeatedStratifiedKFold \n",
    "from sklearn.svm import SVC\n",
    "from sklearn.model_selection import GridSearchCV\n",
    "from sklearn.metrics import accuracy_score\n",
    "\n",
    "\n",
    "def SVM_Fit(train_x, train_y, kernel,\n",
    "            params = [10**x for x in np.arange(-1,3,0.9)]): \n",
    "    '''Fit the SVM Machine given the kernel type, parameters, \n",
    "    data''' \n",
    "    \n",
    "    if kernel == 'linear': \n",
    "        parameters = {'C': params} \n",
    "    else: \n",
    "        parameters = {'C': params, \n",
    "                     'gamma': params} \n",
    "    \n",
    "    cv = RepeatedStratifiedKFold(n_splits = 5, \n",
    "                                n_repeats = 5) \n",
    "    \n",
    "    model = GridSearchCV(estimator = SVC(kernel = kernel), \n",
    "                        param_grid = parameters, \n",
    "                        cv = 2, \n",
    "                        verbose = 1) \n",
    "    \n",
    "    model.fit(x, y) \n",
    "    return model"
   ]
  },
  {
   "cell_type": "markdown",
   "id": "similar-photographer",
   "metadata": {},
   "source": [
    "### Random Forest Classifier"
   ]
  },
  {
   "cell_type": "code",
   "execution_count": 12,
   "id": "ordered-jonathan",
   "metadata": {
    "ExecuteTime": {
     "end_time": "2021-03-23T21:46:51.431876Z",
     "start_time": "2021-03-23T21:46:51.273830Z"
    }
   },
   "outputs": [],
   "source": [
    "from sklearn.ensemble import RandomForestClassifier\n",
    "from sklearn.model_selection import RandomizedSearchCV\n",
    "\n",
    "rf = RandomForestClassifier(random_state = 200) \n",
    "rf.get_params()\n",
    "\n",
    "\n",
    "# Number of trees in random forest\n",
    "n_estimators = [int(x) for x in np.linspace(start = 200, stop = 2000, num = 10)]\n",
    "# Number of features to consider at every split\n",
    "max_features = ['auto', 'sqrt']\n",
    "# Maximum number of levels in tree\n",
    "max_depth = [int(x) for x in np.linspace(10, 110, num = 11)]\n",
    "max_depth.append(None)\n",
    "# Minimum number of samples required to split a node\n",
    "min_samples_split = [2, 5, 10]\n",
    "# Minimum number of samples required at each leaf node\n",
    "min_samples_leaf = [1, 2, 4]\n",
    "# Method of selecting samples for training each tree\n",
    "bootstrap = [True, False]\n",
    "# Create the random grid\n",
    "random_grid = {'n_estimators': n_estimators,\n",
    "               'max_features': max_features,\n",
    "               'max_depth': max_depth,\n",
    "               'min_samples_split': min_samples_split,\n",
    "               'min_samples_leaf': min_samples_leaf,\n",
    "               'bootstrap': bootstrap}\n",
    "\n",
    "\n",
    "rf_random = RandomizedSearchCV(estimator = rf, \n",
    "                              param_distributions = random_grid, \n",
    "                              n_iter = 100, cv = 5, verbose = 2, \n",
    "                              random_state = 200, n_jobs = -1)\n"
   ]
  },
  {
   "cell_type": "markdown",
   "id": "durable-responsibility",
   "metadata": {},
   "source": [
    "## Prediction Function"
   ]
  },
  {
   "cell_type": "code",
   "execution_count": 13,
   "id": "binary-rebel",
   "metadata": {
    "ExecuteTime": {
     "end_time": "2021-03-23T21:46:52.556797Z",
     "start_time": "2021-03-23T21:46:52.551556Z"
    }
   },
   "outputs": [],
   "source": [
    "def Predict(fitted_model, test_x, test_y, name):\n",
    "    prediction = fitted_model.predict(test_x) \n",
    "    score = accuracy_score(prediction, test_y) \n",
    "    prediction = pd.DataFrame({'prediction_{}'.format(name): prediction})\n",
    "    print('The {} Model Score is: {}'.format(name, score)) \n",
    "    return prediction, score"
   ]
  },
  {
   "cell_type": "code",
   "execution_count": 14,
   "id": "formal-lindsay",
   "metadata": {
    "ExecuteTime": {
     "end_time": "2021-03-23T21:51:45.860899Z",
     "start_time": "2021-03-23T21:46:53.168866Z"
    }
   },
   "outputs": [
    {
     "name": "stdout",
     "output_type": "stream",
     "text": [
      "Fitting 2 folds for each of 25 candidates, totalling 50 fits\n",
      "[Parallel(n_jobs=1)]: Using backend SequentialBackend with 1 concurrent workers.\n",
      "[Parallel(n_jobs=1)]: Done  50 out of  50 | elapsed:    0.7s finished\n",
      "[Parallel(n_jobs=1)]: Using backend SequentialBackend with 1 concurrent workers.\n",
      "Fitting 2 folds for each of 25 candidates, totalling 50 fits\n",
      "[Parallel(n_jobs=1)]: Done  50 out of  50 | elapsed:    1.1s finished\n",
      "[Parallel(n_jobs=1)]: Using backend SequentialBackend with 1 concurrent workers.\n",
      "[Parallel(n_jobs=1)]: Done  10 out of  10 | elapsed:    0.1s finished\n",
      "Fitting 2 folds for each of 5 candidates, totalling 10 fits\n",
      "Fitting 5 folds for each of 100 candidates, totalling 500 fits\n",
      "[Parallel(n_jobs=-1)]: Using backend LokyBackend with 8 concurrent workers.\n",
      "[Parallel(n_jobs=-1)]: Done  25 tasks      | elapsed:   16.2s\n",
      "[Parallel(n_jobs=-1)]: Done 146 tasks      | elapsed:  1.4min\n",
      "[Parallel(n_jobs=-1)]: Done 349 tasks      | elapsed:  3.3min\n",
      "[Parallel(n_jobs=-1)]: Done 500 out of 500 | elapsed:  4.9min finished\n"
     ]
    },
    {
     "data": {
      "text/plain": [
       "RandomizedSearchCV(cv=5, estimator=RandomForestClassifier(random_state=200),\n",
       "                   n_iter=100, n_jobs=-1,\n",
       "                   param_distributions={'bootstrap': [True, False],\n",
       "                                        'max_depth': [10, 20, 30, 40, 50, 60,\n",
       "                                                      70, 80, 90, 100, 110,\n",
       "                                                      None],\n",
       "                                        'max_features': ['auto', 'sqrt'],\n",
       "                                        'min_samples_leaf': [1, 2, 4],\n",
       "                                        'min_samples_split': [2, 5, 10],\n",
       "                                        'n_estimators': [200, 400, 600, 800,\n",
       "                                                         1000, 1200, 1400, 1600,\n",
       "                                                         1800, 2000]},\n",
       "                   random_state=200, verbose=2)"
      ]
     },
     "execution_count": 14,
     "metadata": {},
     "output_type": "execute_result"
    }
   ],
   "source": [
    "## Make predictions\n",
    "sigmoid = SVM_Fit(train_x, train_y, 'sigmoid') \n",
    "rbf = SVM_Fit(train_x, train_y, 'rbf') \n",
    "linear = SVM_Fit(train_x, train_y,'linear')\n",
    "#poly = SVM_Fit(train_x, train_y, 'poly') \n",
    "poly = SVC(kernel = 'poly').fit(train_x, train_y)\n",
    "\n",
    "rf_random.fit(train_x, train_y)"
   ]
  },
  {
   "cell_type": "code",
   "execution_count": 15,
   "id": "hourly-ballot",
   "metadata": {
    "ExecuteTime": {
     "end_time": "2021-03-23T21:51:46.472190Z",
     "start_time": "2021-03-23T21:51:46.371387Z"
    }
   },
   "outputs": [
    {
     "name": "stdout",
     "output_type": "stream",
     "text": [
      "The sigmoid Model Score is: 0.8863636363636364\n",
      "The linear Model Score is: 1.0\n",
      "The poly Model Score is: 0.5606060606060606\n",
      "The radial Model Score is: 1.0\n",
      "The Random Forest Model Score is: 1.0\n"
     ]
    }
   ],
   "source": [
    "sigmoid_predict, sigmoid_score = Predict(sigmoid, test_x, test_y, 'sigmoid') \n",
    "lin_predict, lin_score = Predict(linear, test_x, test_y, 'linear') \n",
    "poly_predict, poly_score = Predict(poly, test_x, test_y, 'poly') \n",
    "rbf_predict, rbf_score = Predict(rbf, test_x, test_y, 'radial') \n",
    "\n",
    "\n",
    "random_predict, random_score = Predict(rf_random, test_x, test_y, \n",
    "                                      'Random Forest')"
   ]
  },
  {
   "cell_type": "markdown",
   "id": "based-huntington",
   "metadata": {},
   "source": [
    "## Plot Accuracy"
   ]
  },
  {
   "cell_type": "code",
   "execution_count": 16,
   "id": "sixth-perth",
   "metadata": {
    "ExecuteTime": {
     "end_time": "2021-03-23T21:51:47.143702Z",
     "start_time": "2021-03-23T21:51:47.014462Z"
    }
   },
   "outputs": [
    {
     "data": {
      "application/vnd.plotly.v1+json": {
       "config": {
        "plotlyServerURL": "https://plot.ly"
       },
       "data": [
        {
         "text": [
          "0.8863636363636364",
          "1.0",
          "1.0",
          "0.5606060606060606",
          "1.0"
         ],
         "textposition": "auto",
         "type": "bar",
         "x": [
          "Sigmoid SVC",
          "Radial SVC",
          "Linear SVC",
          "Polynomial SVC",
          "Random Forests"
         ],
         "y": [
          0.8863636363636364,
          1,
          1,
          0.5606060606060606,
          1
         ]
        }
       ],
       "layout": {
        "template": {
         "data": {
          "bar": [
           {
            "error_x": {
             "color": "#2a3f5f"
            },
            "error_y": {
             "color": "#2a3f5f"
            },
            "marker": {
             "line": {
              "color": "#E5ECF6",
              "width": 0.5
             }
            },
            "type": "bar"
           }
          ],
          "barpolar": [
           {
            "marker": {
             "line": {
              "color": "#E5ECF6",
              "width": 0.5
             }
            },
            "type": "barpolar"
           }
          ],
          "carpet": [
           {
            "aaxis": {
             "endlinecolor": "#2a3f5f",
             "gridcolor": "white",
             "linecolor": "white",
             "minorgridcolor": "white",
             "startlinecolor": "#2a3f5f"
            },
            "baxis": {
             "endlinecolor": "#2a3f5f",
             "gridcolor": "white",
             "linecolor": "white",
             "minorgridcolor": "white",
             "startlinecolor": "#2a3f5f"
            },
            "type": "carpet"
           }
          ],
          "choropleth": [
           {
            "colorbar": {
             "outlinewidth": 0,
             "ticks": ""
            },
            "type": "choropleth"
           }
          ],
          "contour": [
           {
            "colorbar": {
             "outlinewidth": 0,
             "ticks": ""
            },
            "colorscale": [
             [
              0,
              "#0d0887"
             ],
             [
              0.1111111111111111,
              "#46039f"
             ],
             [
              0.2222222222222222,
              "#7201a8"
             ],
             [
              0.3333333333333333,
              "#9c179e"
             ],
             [
              0.4444444444444444,
              "#bd3786"
             ],
             [
              0.5555555555555556,
              "#d8576b"
             ],
             [
              0.6666666666666666,
              "#ed7953"
             ],
             [
              0.7777777777777778,
              "#fb9f3a"
             ],
             [
              0.8888888888888888,
              "#fdca26"
             ],
             [
              1,
              "#f0f921"
             ]
            ],
            "type": "contour"
           }
          ],
          "contourcarpet": [
           {
            "colorbar": {
             "outlinewidth": 0,
             "ticks": ""
            },
            "type": "contourcarpet"
           }
          ],
          "heatmap": [
           {
            "colorbar": {
             "outlinewidth": 0,
             "ticks": ""
            },
            "colorscale": [
             [
              0,
              "#0d0887"
             ],
             [
              0.1111111111111111,
              "#46039f"
             ],
             [
              0.2222222222222222,
              "#7201a8"
             ],
             [
              0.3333333333333333,
              "#9c179e"
             ],
             [
              0.4444444444444444,
              "#bd3786"
             ],
             [
              0.5555555555555556,
              "#d8576b"
             ],
             [
              0.6666666666666666,
              "#ed7953"
             ],
             [
              0.7777777777777778,
              "#fb9f3a"
             ],
             [
              0.8888888888888888,
              "#fdca26"
             ],
             [
              1,
              "#f0f921"
             ]
            ],
            "type": "heatmap"
           }
          ],
          "heatmapgl": [
           {
            "colorbar": {
             "outlinewidth": 0,
             "ticks": ""
            },
            "colorscale": [
             [
              0,
              "#0d0887"
             ],
             [
              0.1111111111111111,
              "#46039f"
             ],
             [
              0.2222222222222222,
              "#7201a8"
             ],
             [
              0.3333333333333333,
              "#9c179e"
             ],
             [
              0.4444444444444444,
              "#bd3786"
             ],
             [
              0.5555555555555556,
              "#d8576b"
             ],
             [
              0.6666666666666666,
              "#ed7953"
             ],
             [
              0.7777777777777778,
              "#fb9f3a"
             ],
             [
              0.8888888888888888,
              "#fdca26"
             ],
             [
              1,
              "#f0f921"
             ]
            ],
            "type": "heatmapgl"
           }
          ],
          "histogram": [
           {
            "marker": {
             "colorbar": {
              "outlinewidth": 0,
              "ticks": ""
             }
            },
            "type": "histogram"
           }
          ],
          "histogram2d": [
           {
            "colorbar": {
             "outlinewidth": 0,
             "ticks": ""
            },
            "colorscale": [
             [
              0,
              "#0d0887"
             ],
             [
              0.1111111111111111,
              "#46039f"
             ],
             [
              0.2222222222222222,
              "#7201a8"
             ],
             [
              0.3333333333333333,
              "#9c179e"
             ],
             [
              0.4444444444444444,
              "#bd3786"
             ],
             [
              0.5555555555555556,
              "#d8576b"
             ],
             [
              0.6666666666666666,
              "#ed7953"
             ],
             [
              0.7777777777777778,
              "#fb9f3a"
             ],
             [
              0.8888888888888888,
              "#fdca26"
             ],
             [
              1,
              "#f0f921"
             ]
            ],
            "type": "histogram2d"
           }
          ],
          "histogram2dcontour": [
           {
            "colorbar": {
             "outlinewidth": 0,
             "ticks": ""
            },
            "colorscale": [
             [
              0,
              "#0d0887"
             ],
             [
              0.1111111111111111,
              "#46039f"
             ],
             [
              0.2222222222222222,
              "#7201a8"
             ],
             [
              0.3333333333333333,
              "#9c179e"
             ],
             [
              0.4444444444444444,
              "#bd3786"
             ],
             [
              0.5555555555555556,
              "#d8576b"
             ],
             [
              0.6666666666666666,
              "#ed7953"
             ],
             [
              0.7777777777777778,
              "#fb9f3a"
             ],
             [
              0.8888888888888888,
              "#fdca26"
             ],
             [
              1,
              "#f0f921"
             ]
            ],
            "type": "histogram2dcontour"
           }
          ],
          "mesh3d": [
           {
            "colorbar": {
             "outlinewidth": 0,
             "ticks": ""
            },
            "type": "mesh3d"
           }
          ],
          "parcoords": [
           {
            "line": {
             "colorbar": {
              "outlinewidth": 0,
              "ticks": ""
             }
            },
            "type": "parcoords"
           }
          ],
          "pie": [
           {
            "automargin": true,
            "type": "pie"
           }
          ],
          "scatter": [
           {
            "marker": {
             "colorbar": {
              "outlinewidth": 0,
              "ticks": ""
             }
            },
            "type": "scatter"
           }
          ],
          "scatter3d": [
           {
            "line": {
             "colorbar": {
              "outlinewidth": 0,
              "ticks": ""
             }
            },
            "marker": {
             "colorbar": {
              "outlinewidth": 0,
              "ticks": ""
             }
            },
            "type": "scatter3d"
           }
          ],
          "scattercarpet": [
           {
            "marker": {
             "colorbar": {
              "outlinewidth": 0,
              "ticks": ""
             }
            },
            "type": "scattercarpet"
           }
          ],
          "scattergeo": [
           {
            "marker": {
             "colorbar": {
              "outlinewidth": 0,
              "ticks": ""
             }
            },
            "type": "scattergeo"
           }
          ],
          "scattergl": [
           {
            "marker": {
             "colorbar": {
              "outlinewidth": 0,
              "ticks": ""
             }
            },
            "type": "scattergl"
           }
          ],
          "scattermapbox": [
           {
            "marker": {
             "colorbar": {
              "outlinewidth": 0,
              "ticks": ""
             }
            },
            "type": "scattermapbox"
           }
          ],
          "scatterpolar": [
           {
            "marker": {
             "colorbar": {
              "outlinewidth": 0,
              "ticks": ""
             }
            },
            "type": "scatterpolar"
           }
          ],
          "scatterpolargl": [
           {
            "marker": {
             "colorbar": {
              "outlinewidth": 0,
              "ticks": ""
             }
            },
            "type": "scatterpolargl"
           }
          ],
          "scatterternary": [
           {
            "marker": {
             "colorbar": {
              "outlinewidth": 0,
              "ticks": ""
             }
            },
            "type": "scatterternary"
           }
          ],
          "surface": [
           {
            "colorbar": {
             "outlinewidth": 0,
             "ticks": ""
            },
            "colorscale": [
             [
              0,
              "#0d0887"
             ],
             [
              0.1111111111111111,
              "#46039f"
             ],
             [
              0.2222222222222222,
              "#7201a8"
             ],
             [
              0.3333333333333333,
              "#9c179e"
             ],
             [
              0.4444444444444444,
              "#bd3786"
             ],
             [
              0.5555555555555556,
              "#d8576b"
             ],
             [
              0.6666666666666666,
              "#ed7953"
             ],
             [
              0.7777777777777778,
              "#fb9f3a"
             ],
             [
              0.8888888888888888,
              "#fdca26"
             ],
             [
              1,
              "#f0f921"
             ]
            ],
            "type": "surface"
           }
          ],
          "table": [
           {
            "cells": {
             "fill": {
              "color": "#EBF0F8"
             },
             "line": {
              "color": "white"
             }
            },
            "header": {
             "fill": {
              "color": "#C8D4E3"
             },
             "line": {
              "color": "white"
             }
            },
            "type": "table"
           }
          ]
         },
         "layout": {
          "annotationdefaults": {
           "arrowcolor": "#2a3f5f",
           "arrowhead": 0,
           "arrowwidth": 1
          },
          "autotypenumbers": "strict",
          "coloraxis": {
           "colorbar": {
            "outlinewidth": 0,
            "ticks": ""
           }
          },
          "colorscale": {
           "diverging": [
            [
             0,
             "#8e0152"
            ],
            [
             0.1,
             "#c51b7d"
            ],
            [
             0.2,
             "#de77ae"
            ],
            [
             0.3,
             "#f1b6da"
            ],
            [
             0.4,
             "#fde0ef"
            ],
            [
             0.5,
             "#f7f7f7"
            ],
            [
             0.6,
             "#e6f5d0"
            ],
            [
             0.7,
             "#b8e186"
            ],
            [
             0.8,
             "#7fbc41"
            ],
            [
             0.9,
             "#4d9221"
            ],
            [
             1,
             "#276419"
            ]
           ],
           "sequential": [
            [
             0,
             "#0d0887"
            ],
            [
             0.1111111111111111,
             "#46039f"
            ],
            [
             0.2222222222222222,
             "#7201a8"
            ],
            [
             0.3333333333333333,
             "#9c179e"
            ],
            [
             0.4444444444444444,
             "#bd3786"
            ],
            [
             0.5555555555555556,
             "#d8576b"
            ],
            [
             0.6666666666666666,
             "#ed7953"
            ],
            [
             0.7777777777777778,
             "#fb9f3a"
            ],
            [
             0.8888888888888888,
             "#fdca26"
            ],
            [
             1,
             "#f0f921"
            ]
           ],
           "sequentialminus": [
            [
             0,
             "#0d0887"
            ],
            [
             0.1111111111111111,
             "#46039f"
            ],
            [
             0.2222222222222222,
             "#7201a8"
            ],
            [
             0.3333333333333333,
             "#9c179e"
            ],
            [
             0.4444444444444444,
             "#bd3786"
            ],
            [
             0.5555555555555556,
             "#d8576b"
            ],
            [
             0.6666666666666666,
             "#ed7953"
            ],
            [
             0.7777777777777778,
             "#fb9f3a"
            ],
            [
             0.8888888888888888,
             "#fdca26"
            ],
            [
             1,
             "#f0f921"
            ]
           ]
          },
          "colorway": [
           "#636efa",
           "#EF553B",
           "#00cc96",
           "#ab63fa",
           "#FFA15A",
           "#19d3f3",
           "#FF6692",
           "#B6E880",
           "#FF97FF",
           "#FECB52"
          ],
          "font": {
           "color": "#2a3f5f"
          },
          "geo": {
           "bgcolor": "white",
           "lakecolor": "white",
           "landcolor": "#E5ECF6",
           "showlakes": true,
           "showland": true,
           "subunitcolor": "white"
          },
          "hoverlabel": {
           "align": "left"
          },
          "hovermode": "closest",
          "mapbox": {
           "style": "light"
          },
          "paper_bgcolor": "white",
          "plot_bgcolor": "#E5ECF6",
          "polar": {
           "angularaxis": {
            "gridcolor": "white",
            "linecolor": "white",
            "ticks": ""
           },
           "bgcolor": "#E5ECF6",
           "radialaxis": {
            "gridcolor": "white",
            "linecolor": "white",
            "ticks": ""
           }
          },
          "scene": {
           "xaxis": {
            "backgroundcolor": "#E5ECF6",
            "gridcolor": "white",
            "gridwidth": 2,
            "linecolor": "white",
            "showbackground": true,
            "ticks": "",
            "zerolinecolor": "white"
           },
           "yaxis": {
            "backgroundcolor": "#E5ECF6",
            "gridcolor": "white",
            "gridwidth": 2,
            "linecolor": "white",
            "showbackground": true,
            "ticks": "",
            "zerolinecolor": "white"
           },
           "zaxis": {
            "backgroundcolor": "#E5ECF6",
            "gridcolor": "white",
            "gridwidth": 2,
            "linecolor": "white",
            "showbackground": true,
            "ticks": "",
            "zerolinecolor": "white"
           }
          },
          "shapedefaults": {
           "line": {
            "color": "#2a3f5f"
           }
          },
          "ternary": {
           "aaxis": {
            "gridcolor": "white",
            "linecolor": "white",
            "ticks": ""
           },
           "baxis": {
            "gridcolor": "white",
            "linecolor": "white",
            "ticks": ""
           },
           "bgcolor": "#E5ECF6",
           "caxis": {
            "gridcolor": "white",
            "linecolor": "white",
            "ticks": ""
           }
          },
          "title": {
           "x": 0.05
          },
          "xaxis": {
           "automargin": true,
           "gridcolor": "white",
           "linecolor": "white",
           "ticks": "",
           "title": {
            "standoff": 15
           },
           "zerolinecolor": "white",
           "zerolinewidth": 2
          },
          "yaxis": {
           "automargin": true,
           "gridcolor": "white",
           "linecolor": "white",
           "ticks": "",
           "title": {
            "standoff": 15
           },
           "zerolinecolor": "white",
           "zerolinewidth": 2
          }
         }
        },
        "title": {
         "text": "Model Accuracy Scores"
        },
        "xaxis": {
         "title": {
          "text": "Model"
         }
        },
        "yaxis": {
         "title": {
          "text": "Accuracy Score"
         }
        }
       }
      }
     },
     "metadata": {},
     "output_type": "display_data"
    }
   ],
   "source": [
    "fig = go.Figure() \n",
    "model_names = ['Sigmoid SVC', 'Radial SVC', 'Linear SVC', 'Polynomial SVC',\n",
    " 'Random Forests']\n",
    "\n",
    "model_accuracy = [sigmoid_score, rbf_score, lin_score, poly_score, random_score]\n",
    "\n",
    "fig.add_trace(go.Bar(x = model_names, \n",
    "                    y = model_accuracy, \n",
    "                    text = model_accuracy, \n",
    "                    textposition = 'auto'))\n",
    "fig.update_layout(title = 'Model Accuracy Scores')\n",
    "\n",
    "fig.update_yaxes(title_text = 'Accuracy Score') \n",
    "fig.update_xaxes(title_text = \"Model\")\n",
    "fig.show()"
   ]
  },
  {
   "cell_type": "code",
   "execution_count": 17,
   "id": "common-ratio",
   "metadata": {
    "ExecuteTime": {
     "end_time": "2021-03-23T21:51:47.756569Z",
     "start_time": "2021-03-23T21:51:47.752457Z"
    }
   },
   "outputs": [],
   "source": [
    "from sklearn.svm import SVR\n",
    "\n",
    "\n",
    "def SVM_Fit_Num(train_x, train_y, kernel,\n",
    "            params = [10**x for x in np.arange(-1,3,0.9)]): \n",
    "    '''Fit the SVM Machine given the kernel type, parameters, \n",
    "    data''' \n",
    "    \n",
    "    if kernel == 'linear': \n",
    "        parameters = {'C': params} \n",
    "    else: \n",
    "        parameters = {'C': params, \n",
    "                     'gamma': params} \n",
    "    \n",
    "    cv = RepeatedStratifiedKFold(n_splits = 5, \n",
    "                                n_repeats = 5) \n",
    "    \n",
    "    model = GridSearchCV(estimator = SVR(kernel = kernel), \n",
    "                        param_grid = parameters, \n",
    "                        cv = 2, \n",
    "                        verbose = 1) \n",
    "    \n",
    "    model.fit(train_x, train_y) \n",
    "\n",
    "    return model\n",
    "\n",
    "def PredictNum(fitted_model, test_x, test_y, name):\n",
    "    prediction = fitted_model.predict(test_x) \n",
    "    score = mean_squared_error(test_y, prediction) \n",
    "    prediction = pd.DataFrame({'prediction_{}'.format(name): prediction})\n",
    "    print('The {} Model Score is: {}'.format(name, score)) \n",
    "    return prediction, score"
   ]
  },
  {
   "cell_type": "code",
   "execution_count": 18,
   "id": "muslim-showcase",
   "metadata": {
    "ExecuteTime": {
     "end_time": "2021-03-23T21:51:51.806450Z",
     "start_time": "2021-03-23T21:51:48.410260Z"
    }
   },
   "outputs": [
    {
     "name": "stdout",
     "output_type": "stream",
     "text": [
      "Fitting 2 folds for each of 5 candidates, totalling 10 fits\n",
      "Fitting 2 folds for each of 25 candidates, totalling 50 fits\n",
      "[Parallel(n_jobs=1)]: Using backend SequentialBackend with 1 concurrent workers.\n",
      "[Parallel(n_jobs=1)]: Done  10 out of  10 | elapsed:    0.1s finished\n",
      "[Parallel(n_jobs=1)]: Using backend SequentialBackend with 1 concurrent workers.\n",
      "[Parallel(n_jobs=1)]: Done  50 out of  50 | elapsed:    0.8s finished\n",
      "[Parallel(n_jobs=1)]: Using backend SequentialBackend with 1 concurrent workers.\n",
      "Fitting 2 folds for each of 25 candidates, totalling 50 fits\n",
      "[Parallel(n_jobs=1)]: Done  50 out of  50 | elapsed:    1.2s finished\n"
     ]
    }
   ],
   "source": [
    "linear_num = SVM_Fit_Num(train_x_num, train_y_num, 'linear') \n",
    "#poly_num, poly_predict_num, poly_score_num = SVM_Fit_Num(train_x_num, train_y_num, test_x_num, test_y_num, 'poly') \n",
    "poly_num = SVR().fit(train_x_num, train_y_num) \n",
    "rbf_num = SVM_Fit_Num(train_x_num, train_y_num, 'rbf') \n",
    "sigmoid_num = SVM_Fit_Num(train_x_num, train_y_num,'sigmoid') "
   ]
  },
  {
   "cell_type": "code",
   "execution_count": 19,
   "id": "legendary-excitement",
   "metadata": {
    "ExecuteTime": {
     "end_time": "2021-03-23T21:51:52.468060Z",
     "start_time": "2021-03-23T21:51:52.415529Z"
    }
   },
   "outputs": [
    {
     "ename": "NameError",
     "evalue": "name 'sigmoid_score_num' is not defined",
     "output_type": "error",
     "traceback": [
      "\u001b[0;31m---------------------------------------------------------------------------\u001b[0m",
      "\u001b[0;31mNameError\u001b[0m                                 Traceback (most recent call last)",
      "\u001b[0;32m<ipython-input-19-bad525cf087a>\u001b[0m in \u001b[0;36m<module>\u001b[0;34m\u001b[0m\n\u001b[1;32m      2\u001b[0m \u001b[0mmodel_names\u001b[0m \u001b[0;34m=\u001b[0m \u001b[0;34m[\u001b[0m\u001b[0;34m'Sigmoid SVM'\u001b[0m\u001b[0;34m,\u001b[0m \u001b[0;34m'Radial SVM'\u001b[0m\u001b[0;34m,\u001b[0m \u001b[0;34m'Linear SVM'\u001b[0m\u001b[0;34m,\u001b[0m \u001b[0;34m'Polynomial SVM'\u001b[0m\u001b[0;34m]\u001b[0m\u001b[0;34m\u001b[0m\u001b[0;34m\u001b[0m\u001b[0m\n\u001b[1;32m      3\u001b[0m \u001b[0;34m\u001b[0m\u001b[0m\n\u001b[0;32m----> 4\u001b[0;31m \u001b[0mmodel_accuracy\u001b[0m \u001b[0;34m=\u001b[0m \u001b[0;34m[\u001b[0m\u001b[0msigmoid_score_num\u001b[0m\u001b[0;34m,\u001b[0m \u001b[0mrbf_score_num\u001b[0m\u001b[0;34m,\u001b[0m \u001b[0mlin_score_num\u001b[0m\u001b[0;34m,\u001b[0m \u001b[0mpoly_score_num\u001b[0m\u001b[0;34m]\u001b[0m\u001b[0;34m\u001b[0m\u001b[0;34m\u001b[0m\u001b[0m\n\u001b[0m\u001b[1;32m      5\u001b[0m \u001b[0;34m\u001b[0m\u001b[0m\n\u001b[1;32m      6\u001b[0m fig.add_trace(go.Bar(x = model_names, \n",
      "\u001b[0;31mNameError\u001b[0m: name 'sigmoid_score_num' is not defined"
     ]
    }
   ],
   "source": [
    "fig = go.Figure() \n",
    "model_names = ['Sigmoid SVM', 'Radial SVM', 'Linear SVM', 'Polynomial SVM']\n",
    "\n",
    "model_accuracy = [sigmoid_score_num, rbf_score_num, lin_score_num, poly_score_num]\n",
    "\n",
    "fig.add_trace(go.Bar(x = model_names, \n",
    "                    y = model_accuracy, \n",
    "                    text = model_accuracy, \n",
    "                    textposition = 'auto'))\n",
    "fig.update_layout(title = 'Model Accuracy Scores Numeric Prediction')\n",
    "\n",
    "fig.update_yaxes(title_text = 'Mean Squared Error') \n",
    "fig.update_xaxes(title_text = \"Model\")\n",
    "fig.show()"
   ]
  },
  {
   "cell_type": "code",
   "execution_count": null,
   "id": "normal-wagon",
   "metadata": {},
   "outputs": [],
   "source": []
  }
 ],
 "metadata": {
  "hide_input": false,
  "kernelspec": {
   "display_name": "Python 3",
   "language": "python",
   "name": "python3"
  },
  "language_info": {
   "codemirror_mode": {
    "name": "ipython",
    "version": 3
   },
   "file_extension": ".py",
   "mimetype": "text/x-python",
   "name": "python",
   "nbconvert_exporter": "python",
   "pygments_lexer": "ipython3",
   "version": "3.8.2"
  },
  "latex_envs": {
   "LaTeX_envs_menu_present": true,
   "autoclose": false,
   "autocomplete": true,
   "bibliofile": "biblio.bib",
   "cite_by": "apalike",
   "current_citInitial": 1,
   "eqLabelWithNumbers": true,
   "eqNumInitial": 1,
   "hotkeys": {
    "equation": "Ctrl-E",
    "itemize": "Ctrl-I"
   },
   "labels_anchors": false,
   "latex_user_defs": false,
   "report_style_numbering": false,
   "user_envs_cfg": false
  },
  "toc": {
   "base_numbering": 1,
   "nav_menu": {},
   "number_sections": true,
   "sideBar": true,
   "skip_h1_title": true,
   "title_cell": "Table of Contents",
   "title_sidebar": "Contents",
   "toc_cell": true,
   "toc_position": {
    "height": "calc(100% - 180px)",
    "left": "10px",
    "top": "150px",
    "width": "191px"
   },
   "toc_section_display": true,
   "toc_window_display": true
  },
  "varInspector": {
   "cols": {
    "lenName": 16,
    "lenType": 16,
    "lenVar": 40
   },
   "kernels_config": {
    "python": {
     "delete_cmd_postfix": "",
     "delete_cmd_prefix": "del ",
     "library": "var_list.py",
     "varRefreshCmd": "print(var_dic_list())"
    },
    "r": {
     "delete_cmd_postfix": ") ",
     "delete_cmd_prefix": "rm(",
     "library": "var_list.r",
     "varRefreshCmd": "cat(var_dic_list()) "
    }
   },
   "types_to_exclude": [
    "module",
    "function",
    "builtin_function_or_method",
    "instance",
    "_Feature"
   ],
   "window_display": false
  }
 },
 "nbformat": 4,
 "nbformat_minor": 5
}
