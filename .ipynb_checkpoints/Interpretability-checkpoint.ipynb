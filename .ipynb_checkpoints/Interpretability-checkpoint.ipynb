{
 "cells": [
  {
   "cell_type": "code",
   "execution_count": 6,
   "id": "9db1d5ce-6185-4cb3-b73b-17aae31212c6",
   "metadata": {},
   "outputs": [],
   "source": [
    "import pandas as pd \n",
    "import numpy as np \n",
    "import pickle \n",
    "from sklearn.metrics import accuracy_score "
   ]
  },
  {
   "cell_type": "code",
   "execution_count": 8,
   "id": "4cb8f6f4-6c50-4cd8-a3af-5d64926c04e4",
   "metadata": {},
   "outputs": [
    {
     "name": "stdout",
     "output_type": "stream",
     "text": [
      "0.6906077348066298\n"
     ]
    }
   ],
   "source": [
    "## Load the sigmoid model \n",
    "sigmoid = pickle.load(open('sigmoid_model.sav', 'rb')) \n",
    "\n",
    "## Load in the data \n",
    "## Read in csv \n",
    "tot_df_clean_year = pd.read_csv('model_data.csv', \n",
    "                                index_col = ['year', 'ID']).dropna()\n",
    "\n",
    "## Test and train split for time series\n",
    "train = tot_df_clean_year.head(\n",
    "    int(tot_df_clean_year.shape[0] * 0.8 ) \n",
    ") \n",
    "\n",
    "test = tot_df_clean_year.tail(\n",
    "    int(tot_df_clean_year.shape[0] * 0.2) \n",
    ")\n",
    "\n",
    "## Split into x and y \n",
    "def SplitData(df): \n",
    "    y = df.lead_rating \n",
    "    x = df.drop('lead_rating', axis = 1) \n",
    "    \n",
    "    return x, y \n",
    "\n",
    "train_x, train_y = SplitData(train) \n",
    "test_x, test_y = SplitData(test) \n",
    "\n",
    "## Look at the initial model accuracy \n",
    "print(\n",
    "    accuracy_score(sigmoid.predict(test_x), test_y) \n",
    ")"
   ]
  },
  {
   "cell_type": "code",
   "execution_count": null,
   "id": "f690d7ee-2760-4f23-b1e8-746d910b2586",
   "metadata": {},
   "outputs": [],
   "source": []
  }
 ],
 "metadata": {
  "kernelspec": {
   "display_name": "Python 3",
   "language": "python",
   "name": "python3"
  },
  "language_info": {
   "codemirror_mode": {
    "name": "ipython",
    "version": 3
   },
   "file_extension": ".py",
   "mimetype": "text/x-python",
   "name": "python",
   "nbconvert_exporter": "python",
   "pygments_lexer": "ipython3",
   "version": "3.8.2"
  }
 },
 "nbformat": 4,
 "nbformat_minor": 5
}
